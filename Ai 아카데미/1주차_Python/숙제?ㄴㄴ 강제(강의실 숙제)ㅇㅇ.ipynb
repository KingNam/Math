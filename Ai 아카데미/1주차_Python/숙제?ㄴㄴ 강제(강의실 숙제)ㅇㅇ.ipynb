{
 "cells": [
  {
   "cell_type": "markdown",
   "id": "421174dd",
   "metadata": {},
   "source": [
    "## 과제 1\n",
    "\n",
    "소수 판단하는 함수 정의하기"
   ]
  },
  {
   "cell_type": "code",
   "execution_count": 15,
   "id": "4ceb2945",
   "metadata": {},
   "outputs": [],
   "source": [
    "def check_prime(num):\n",
    "    count = 0 # 나머지가 0이면 count +1\n",
    "    for i in range(1,num+1):\n",
    "        if num%i == 0:\n",
    "            count+=1\n",
    "        else:\n",
    "            continue\n",
    "\n",
    "    if count == 2:\n",
    "        return True\n",
    "    else:\n",
    "        return False\n",
    "\n",
    "def main():\n",
    "    a = 13\n",
    "    b = 15\n",
    "    if check_prime(a):\n",
    "        print(str(a)+'는 소수입니다.')\n",
    "    else:\n",
    "        print(str(a)+'는 소수가 아닙니다.')\n",
    "    if check_prime(b):\n",
    "        print(str(b)+'는 소수입니다.')\n",
    "    else:\n",
    "        print(str(b)+'는 소수가 아닙니다.')"
   ]
  },
  {
   "cell_type": "code",
   "execution_count": 16,
   "id": "bedfb9f9",
   "metadata": {},
   "outputs": [
    {
     "name": "stdout",
     "output_type": "stream",
     "text": [
      "13는 소수입니다.\n",
      "15는 소수가 아닙니다.\n"
     ]
    }
   ],
   "source": [
    "main()"
   ]
  },
  {
   "cell_type": "markdown",
   "id": "34a4c440",
   "metadata": {},
   "source": [
    "## 과제 2 - add_comma.py\n",
    "\n",
    "천 단위 마다 쉼표 추가하는 함수 정의하기 --> 수정하기"
   ]
  },
  {
   "cell_type": "code",
   "execution_count": 246,
   "id": "11335e2f",
   "metadata": {},
   "outputs": [
    {
     "name": "stdout",
     "output_type": "stream",
     "text": [
      "123,4\n",
      "123,456,78\n",
      "12\n"
     ]
    }
   ],
   "source": [
    "def add_comma(val):\n",
    "    ch = \"\"\n",
    "    ch_val = str(val)\n",
    "    ch_len = len(ch_val)\n",
    "    \n",
    "    for i in range(0,ch_len, 3):\n",
    "        if i == -3:\n",
    "            ch = ch +','+ ch_val[i:]\n",
    "        else:\n",
    "            ch = ch +','+ ch_val[i:i+3]\n",
    "            \n",
    "    return ch[1:]\n",
    "\n",
    "def main():\n",
    "    comma_added_1234 = add_comma(1234)\n",
    "    comma_added_12345678 = add_comma(12345678)\n",
    "    comma_added_12 = add_comma(12)\n",
    "    print(comma_added_1234) # '1,234'\n",
    "    print(comma_added_12345678) # '12,345,678'\n",
    "    print(comma_added_12) # '12'\n",
    "    \n",
    "main()"
   ]
  },
  {
   "cell_type": "markdown",
   "id": "e6af9f75",
   "metadata": {},
   "source": [
    "## 과제 3 tok.py\n",
    "\n",
    "전달받은 단어열의 n-gram을 구해주는 tokenize() 함수 정하기"
   ]
  },
  {
   "cell_type": "code",
   "execution_count": 230,
   "id": "43bcfba5",
   "metadata": {},
   "outputs": [],
   "source": [
    "def tokenize(trg, N=1):\n",
    "    token = trg.split()\n",
    "    new_token =[]\n",
    "    if N == 2:\n",
    "        for i in range(0,len(token)-1):\n",
    "            new_token.append(token[i] + \" \" + token[i+1])\n",
    "    else:\n",
    "        new_token = token\n",
    "            \n",
    "    return new_token\n",
    "\n",
    "def main():\n",
    "    a=\"There was a farmer who had a dog .\"\n",
    "    print(tokenize(a))\n",
    "    print(tokenize(a, 2))"
   ]
  },
  {
   "cell_type": "code",
   "execution_count": 231,
   "id": "8e96553b",
   "metadata": {},
   "outputs": [
    {
     "name": "stdout",
     "output_type": "stream",
     "text": [
      "['There', 'was', 'a', 'farmer', 'who', 'had', 'a', 'dog', '.']\n",
      "['There was', 'was a', 'a farmer', 'farmer who', 'who had', 'had a', 'a dog', 'dog .']\n"
     ]
    }
   ],
   "source": [
    "main()"
   ]
  },
  {
   "cell_type": "markdown",
   "id": "897aef47",
   "metadata": {},
   "source": [
    "## 과제 4 - mean_and_var.py\n",
    "\n",
    "여러 벡터를 전달받아, 평균과 분산을 구하는 함수 정의하기"
   ]
  },
  {
   "cell_type": "code",
   "execution_count": 248,
   "id": "6720ef94",
   "metadata": {},
   "outputs": [
    {
     "name": "stdout",
     "output_type": "stream",
     "text": [
      "평균:  [0.5, 0.5]\n",
      "분산:  [0.16666666666666666, 0.16666666666666666]\n"
     ]
    }
   ],
   "source": [
    "def mean_and_var(*val):\n",
    "    first_sum = 0\n",
    "    second_sum = 0\n",
    "    first_deri_sum = 0\n",
    "    second_deri_sum = 0\n",
    "    free = 0\n",
    "    for i in val:\n",
    "        first_sum += i[0]\n",
    "        second_sum += i[1]\n",
    "        free += 1\n",
    "    \n",
    "    first_mean = first_sum/free\n",
    "    second_mean = second_sum/free\n",
    "    \n",
    "    for a in val:\n",
    "        first_deri_sum = first_deri_sum + (a[0]-first_mean)**2\n",
    "        second_deri_sum = second_deri_sum + (a[1]-second_mean)**2\n",
    "        \n",
    "    first_var = first_deri_sum/free\n",
    "    second_var = second_deri_sum/free\n",
    "    \n",
    "    final_list = [[first_mean,second_mean], [first_var, second_var]] \n",
    "    return final_list\n",
    "\n",
    "\n",
    "def main():\n",
    "    v1=(0, 1)\n",
    "    v2=(0.5, 0.5)\n",
    "    v3=(1, 0)\n",
    "    m, var = mean_and_var(v1, v2, v3)\n",
    "    print('평균: ', m)\n",
    "    print('분산: ', var)\n",
    "    \n",
    "main()"
   ]
  }
 ],
 "metadata": {
  "kernelspec": {
   "display_name": "Python 3",
   "language": "python",
   "name": "python3"
  },
  "language_info": {
   "codemirror_mode": {
    "name": "ipython",
    "version": 3
   },
   "file_extension": ".py",
   "mimetype": "text/x-python",
   "name": "python",
   "nbconvert_exporter": "python",
   "pygments_lexer": "ipython3",
   "version": "3.8.8"
  }
 },
 "nbformat": 4,
 "nbformat_minor": 5
}
