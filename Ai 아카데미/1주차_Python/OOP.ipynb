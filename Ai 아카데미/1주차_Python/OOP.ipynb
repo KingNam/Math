{
 "cells": [
  {
   "cell_type": "markdown",
   "id": "d592d577",
   "metadata": {},
   "source": [
    "### 단일 은행 계좌 모델링\n",
    " - balance: 잔액을 나타내는 변수\n",
    " - deposit(amount): amount를 받아 잔액에 입금하는 함수\n",
    " - withdra(amount): amount를 받아 잔액에 출금하는 함수\n",
    " \n",
    " - 주의: 전역변수 수정시 global 사용"
   ]
  },
  {
   "cell_type": "code",
   "execution_count": 8,
   "id": "4c05ac59",
   "metadata": {},
   "outputs": [],
   "source": [
    "balance = 0\n",
    "\n",
    "def deposit(amount):\n",
    "    global balance\n",
    "    balance =  balance + amount\n",
    "    return balance\n",
    "\n",
    "def withdraw(amount):\n",
    "    global balance\n",
    "    balance = balance - amount\n",
    "    return balance"
   ]
  },
  {
   "cell_type": "code",
   "execution_count": 9,
   "id": "d4db83f8",
   "metadata": {},
   "outputs": [
    {
     "name": "stdout",
     "output_type": "stream",
     "text": [
      "0\n",
      "500\n",
      "500\n",
      "200\n",
      "200\n"
     ]
    }
   ],
   "source": [
    "print(balance)\n",
    "print(deposit(500))\n",
    "print(balance)\n",
    "print(withdraw(300))\n",
    "print(balance)"
   ]
  },
  {
   "cell_type": "code",
   "execution_count": 13,
   "id": "41c50661",
   "metadata": {},
   "outputs": [],
   "source": [
    "def make_account():\n",
    "    return {'balance':0}\n",
    "\n",
    "def deposit(account,amount):\n",
    "    account['balance'] += amount\n",
    "    return amount\n",
    "\n",
    "def withdraw(account,amount):\n",
    "    account['balance'] -= amount\n",
    "    return amount"
   ]
  },
  {
   "cell_type": "code",
   "execution_count": 17,
   "id": "0d002a4e",
   "metadata": {},
   "outputs": [
    {
     "name": "stdout",
     "output_type": "stream",
     "text": [
      "0\n",
      "0\n",
      "1000\n",
      "2000\n"
     ]
    }
   ],
   "source": [
    "a = make_account()\n",
    "b = make_account()\n",
    "print(a['balance'])\n",
    "print(b['balance'])\n",
    "print(deposit(a,1000))\n",
    "print(deposit(b,2000))\n"
   ]
  },
  {
   "cell_type": "code",
   "execution_count": 23,
   "id": "92f28df3",
   "metadata": {},
   "outputs": [],
   "source": [
    "class Dog:\n",
    "    \"\"\"A simple example class\"\"\"\n",
    "    name = 'MongJa'\n",
    "    age = 2\n",
    "    height = 100\n",
    "    \n",
    "    def bark(self):\n",
    "        return 'wal wal'"
   ]
  },
  {
   "cell_type": "code",
   "execution_count": 24,
   "id": "0cbbb536",
   "metadata": {},
   "outputs": [],
   "source": [
    "dog1 = Dog()"
   ]
  },
  {
   "cell_type": "code",
   "execution_count": 25,
   "id": "b016c9d4",
   "metadata": {},
   "outputs": [
    {
     "data": {
      "text/plain": [
       "'MongJa'"
      ]
     },
     "execution_count": 25,
     "metadata": {},
     "output_type": "execute_result"
    }
   ],
   "source": [
    "dog1.name"
   ]
  },
  {
   "cell_type": "code",
   "execution_count": 26,
   "id": "9e396d0b",
   "metadata": {},
   "outputs": [],
   "source": [
    "class Sample:\n",
    "    def __init__(self):\n",
    "        print(\"init 함수가 호출되었네요!\")"
   ]
  },
  {
   "cell_type": "code",
   "execution_count": 27,
   "id": "8b63b198",
   "metadata": {},
   "outputs": [
    {
     "name": "stdout",
     "output_type": "stream",
     "text": [
      "init 함수가 호출되었네요!\n"
     ]
    }
   ],
   "source": [
    "a = Sample()"
   ]
  },
  {
   "cell_type": "code",
   "execution_count": 31,
   "id": "70ab1dde",
   "metadata": {},
   "outputs": [],
   "source": [
    "class Building:\n",
    "    name = \"공학 1동\"\n",
    "    h = 3\n",
    "    elev = True\n",
    "    \n",
    "    def get_info(self):\n",
    "        print(\"건물이름 =\",self.name)\n",
    "        print(\"건물층수 =\",self.h)\n",
    "        print(\"건물이름 =\",self.elev)"
   ]
  },
  {
   "cell_type": "code",
   "execution_count": 32,
   "id": "de097116",
   "metadata": {},
   "outputs": [],
   "source": [
    "a = Building()"
   ]
  },
  {
   "cell_type": "markdown",
   "id": "846065a5",
   "metadata": {},
   "source": [
    "# a.get_info()"
   ]
  },
  {
   "cell_type": "markdown",
   "id": "8a28398f",
   "metadata": {},
   "source": [
    "클래스 객체 호출은 아래가 같다.\n"
   ]
  },
  {
   "cell_type": "code",
   "execution_count": 35,
   "id": "98efc6b8",
   "metadata": {},
   "outputs": [],
   "source": [
    "a = Building.__new__(Building)\n",
    "a.__init__()"
   ]
  },
  {
   "cell_type": "markdown",
   "id": "e4e35bb1",
   "metadata": {},
   "source": [
    "- __init__ 메서드의 역할은...\n",
    " - __new__ 에 의해 생성된 인스턴스에\n",
    " - __init__ 속에 있는 데이터 어트리뷰트를 추가해 준 것"
   ]
  },
  {
   "cell_type": "code",
   "execution_count": 36,
   "id": "0e163d9f",
   "metadata": {},
   "outputs": [],
   "source": [
    "class Builiding:\n",
    "    def __init__(self, name='공학 1동', h=3, elev=True):\n",
    "        self.name = name\n",
    "        self.h = h\n",
    "        self.elev = elev\n",
    "        \n",
    "    def get_info(self):\n",
    "        print(\"건물이름 =\",self.name)\n",
    "        print(\"건물층수 =\",self.h)\n",
    "        print(\"엘리베이터 유무 =\", self.elev)"
   ]
  },
  {
   "cell_type": "code",
   "execution_count": null,
   "id": "d9159844",
   "metadata": {},
   "outputs": [],
   "source": []
  }
 ],
 "metadata": {
  "kernelspec": {
   "display_name": "Python 3",
   "language": "python",
   "name": "python3"
  },
  "language_info": {
   "codemirror_mode": {
    "name": "ipython",
    "version": 3
   },
   "file_extension": ".py",
   "mimetype": "text/x-python",
   "name": "python",
   "nbconvert_exporter": "python",
   "pygments_lexer": "ipython3",
   "version": "3.8.8"
  }
 },
 "nbformat": 4,
 "nbformat_minor": 5
}
