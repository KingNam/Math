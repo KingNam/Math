{
 "cells": [
  {
   "cell_type": "markdown",
   "id": "a8b6bc6b",
   "metadata": {},
   "source": [
    "### 1. 조건문 (if) \n",
    "\n",
    "문제 1) 입력 받은 정수가 짝수인지 홀수인지 판별"
   ]
  },
  {
   "cell_type": "code",
   "execution_count": 3,
   "id": "cdbec812",
   "metadata": {},
   "outputs": [
    {
     "name": "stdout",
     "output_type": "stream",
     "text": [
      "Enter a number: 5\n",
      "5 is Odd number\n"
     ]
    }
   ],
   "source": [
    "num = int(input(\"Enter a number: \"))\n",
    "if num%2==1:\n",
    "    print(\"{} is Odd number\".format(num))\n",
    "else:\n",
    "    print(\"{} is Even number\".format(num))"
   ]
  },
  {
   "cell_type": "markdown",
   "id": "03794bbf",
   "metadata": {},
   "source": [
    "문제 2) 프로그래밍 과목의 중간고사와 기말고사 점수를 입\n",
    "력 받아 평균과 학점을 구하는 프로그램을 작성하시오."
   ]
  },
  {
   "cell_type": "code",
   "execution_count": 5,
   "id": "6a92b0af",
   "metadata": {},
   "outputs": [
    {
     "name": "stdout",
     "output_type": "stream",
     "text": [
      "Enter your midterm score:50\n",
      "Enter your final score:50\n",
      "Average: 50.0\n",
      "Grade: F\n"
     ]
    }
   ],
   "source": [
    "mid = int(input(\"Enter your midterm score: \"))\n",
    "final = int(input(\"Enter your final score: \"))\n",
    "mean = (mid+final)/2\n",
    "\n",
    "print(\"Average: {}\".format(mean))\n",
    "\n",
    "if mean >=90:\n",
    "    print(\"Grade: A\")\n",
    "elif mean >=80:\n",
    "    print(\"Grade: B\")\n",
    "elif mean >=70:\n",
    "    print(\"Grade: C\")\n",
    "elif mean >=60:\n",
    "    print(\"Grade: D\")\n",
    "else:\n",
    "    print(\"Grade: F\")"
   ]
  },
  {
   "cell_type": "markdown",
   "id": "124ebefd",
   "metadata": {},
   "source": [
    "문제 3)  학생수준평가 시험에서 영어 점수와 수학 점수가 합해서\n",
    "110점 이상이면 합격이다. 단, 각 점수가 40점 미만이면\n",
    "불합격이다. 영어(eng), 수학(math)점수를 입력 받아 합\n",
    "격여부를 출력하는 프로그램을 작성하시오.\n",
    "출력예시는 실습 PPT를 참고하시오."
   ]
  },
  {
   "cell_type": "code",
   "execution_count": 120,
   "id": "a221cffb",
   "metadata": {},
   "outputs": [
    {
     "name": "stdout",
     "output_type": "stream",
     "text": [
      "영어 점수 입력 100\n",
      "수학 점수 입력 50\n",
      "합격\n"
     ]
    }
   ],
   "source": [
    "    eng = int(input(\"영어 점수 입력 \"))\n",
    "    math = int(input(\"수학 점수 입력 \"))\n",
    "\n",
    "    if (eng+math)>=110:\n",
    "        if eng< 40:\n",
    "            print(\"불합격: 영어 점수 부족\")\n",
    "        elif math<40:\n",
    "            print(\"불합격: 수학 점수 부족\")\n",
    "        else:\n",
    "            print(\"합격\")\n",
    "    else:\n",
    "        print(\"불합격: 총합 점수 부족\")"
   ]
  },
  {
   "cell_type": "markdown",
   "id": "350a4332",
   "metadata": {},
   "source": [
    "문제 4) 세 개의 정수를 입력 받아, 가장 큰 수만을 출력하는 프로그램을 작성하시오. (max 사용 금지)"
   ]
  },
  {
   "cell_type": "code",
   "execution_count": 131,
   "id": "aa82afb3",
   "metadata": {},
   "outputs": [
    {
     "name": "stdout",
     "output_type": "stream",
     "text": [
      "세 개의 수를 입력하시오.30 50 22\n",
      "가장 큰 수는 50입니다.\n"
     ]
    }
   ],
   "source": [
    "num_list = input(\"세 개의 수를 입력하시오.\").split()\n",
    "a,b,c= list(map(int, num_list))\n",
    "max = 0\n",
    "\n",
    "if a>b and a>c:\n",
    "    max = a\n",
    "elif b>a :\n",
    "    max = b\n",
    "else:\n",
    "    max = c\n",
    "    \n",
    "print(\"가장 큰 수는 {}입니다.\".format(max))\n"
   ]
  },
  {
   "cell_type": "markdown",
   "id": "d7335aa0",
   "metadata": {},
   "source": [
    "## 2. 반복문"
   ]
  },
  {
   "cell_type": "markdown",
   "id": "41758960",
   "metadata": {},
   "source": [
    "문제 1) 문자열이 주어질 때, 아래와 같이 출력되도록 작성하시오.\n",
    "\n",
    "(1) while 문을 이용하여 작성"
   ]
  },
  {
   "cell_type": "code",
   "execution_count": 29,
   "id": "e221a528",
   "metadata": {},
   "outputs": [
    {
     "name": "stdout",
     "output_type": "stream",
     "text": [
      "P\n",
      "y\n",
      "t\n",
      "h\n",
      "o\n",
      "n\n"
     ]
    }
   ],
   "source": [
    "word = \"Python\"\n",
    "length = len(word)\n",
    "i = 0\n",
    "\n",
    "while (i<length):\n",
    "    print(word[i])\n",
    "    i += 1"
   ]
  },
  {
   "cell_type": "markdown",
   "id": "e636972e",
   "metadata": {},
   "source": [
    "(2) for 문을 이용하여 작성"
   ]
  },
  {
   "cell_type": "code",
   "execution_count": 31,
   "id": "0e252e5b",
   "metadata": {},
   "outputs": [
    {
     "name": "stdout",
     "output_type": "stream",
     "text": [
      "p\n",
      "y\n",
      "t\n",
      "h\n",
      "o\n",
      "n\n"
     ]
    }
   ],
   "source": [
    "for i in \"python\":\n",
    "    print(i)"
   ]
  },
  {
   "cell_type": "markdown",
   "id": "8502f493",
   "metadata": {},
   "source": [
    "문제 2) 아래와 같이 출력되는 프로그램을 작성하시오.\n",
    "\n",
    "10, 9, 8, 7, 6, 5, 4, 3, 2, 1, Happy new Year! "
   ]
  },
  {
   "cell_type": "code",
   "execution_count": 107,
   "id": "55168ade",
   "metadata": {},
   "outputs": [
    {
     "name": "stdout",
     "output_type": "stream",
     "text": [
      "10,9,8,7,6,5,4,3,2,1,Happy new year!!\n"
     ]
    }
   ],
   "source": [
    "for i in range(10,0,-1):\n",
    "    print(i,end=\",\")\n",
    "\n",
    "print(\"Happy new year!!\")"
   ]
  },
  {
   "cell_type": "markdown",
   "id": "b46ca84a",
   "metadata": {},
   "source": [
    "문제 3) 양의 두 정수 a,b 를 입력받아, a부터 b까지의 정수의 합을 구하여 출력하는 프로그램을 작성하시오. 단, a<=b를 만족하는 값만 고려한다."
   ]
  },
  {
   "cell_type": "code",
   "execution_count": 36,
   "id": "1a0b04a4",
   "metadata": {},
   "outputs": [
    {
     "name": "stdout",
     "output_type": "stream",
     "text": [
      "Enter tow integers: 5 10\n",
      "The sum from 5 to 10 is 45\n"
     ]
    }
   ],
   "source": [
    "nums = input(\"Enter tow integers: \").split()\n",
    "a,b= list(map(int, nums))\n",
    "total = 0\n",
    "\n",
    "for i in range (a,b+1):\n",
    "    total += i\n",
    "    \n",
    "print(\"The sum from {} to {} is {}\".format(a,b,total))\n"
   ]
  },
  {
   "cell_type": "markdown",
   "id": "a8e94876",
   "metadata": {},
   "source": [
    "문제4)주어진 문자열에 문자a가 몇 개 있는지 구하는 프\n",
    "로그램을 작성하시오."
   ]
  },
  {
   "cell_type": "code",
   "execution_count": 38,
   "id": "71bee4cd",
   "metadata": {},
   "outputs": [
    {
     "name": "stdout",
     "output_type": "stream",
     "text": [
      "3\n"
     ]
    }
   ],
   "source": [
    "word ='banana'\n",
    "wo = 0\n",
    "for i in word:\n",
    "    if i == 'a':\n",
    "        wo += 1\n",
    "    else:\n",
    "        continue\n",
    "\n",
    "print(wo)        "
   ]
  },
  {
   "cell_type": "markdown",
   "id": "789d798b",
   "metadata": {},
   "source": [
    "문제5) for 문과 range()함수를 이용하여 다음과 같이 출력되도록 작성하시오"
   ]
  },
  {
   "cell_type": "code",
   "execution_count": 105,
   "id": "2bc1699e",
   "metadata": {
    "scrolled": true
   },
   "outputs": [
    {
     "name": "stdout",
     "output_type": "stream",
     "text": [
      "0 1 2 3 4 5 6 7 8 9 \n",
      "0 5 10 15 20 25 30 35 40 45 \n",
      "10 9 8 7 6 5 4 3 2 1 "
     ]
    }
   ],
   "source": [
    "num_list = list(range(10))\n",
    "\n",
    "for i in range(10):\n",
    "    print(i,end=\" \")\n",
    "print()\n",
    "for j in range(10):\n",
    "    print(j*5, end=\" \")\n",
    "print()\n",
    "for k in range(10,0,-1):\n",
    "    print(k, end=\" \")"
   ]
  },
  {
   "cell_type": "markdown",
   "id": "0a2e8123",
   "metadata": {},
   "source": [
    "문제 6) for 문을 사용하여 리스트의 모든 내용을 출력하시오."
   ]
  },
  {
   "cell_type": "code",
   "execution_count": 57,
   "id": "6bedadae",
   "metadata": {},
   "outputs": [
    {
     "name": "stdout",
     "output_type": "stream",
     "text": [
      "red\n",
      "green\n",
      "red\n"
     ]
    }
   ],
   "source": [
    "colors = [\"red\",\"green\",\"red\"]\n",
    "for i in colors:\n",
    "    print(i)"
   ]
  },
  {
   "cell_type": "markdown",
   "id": "6aae1fe0",
   "metadata": {},
   "source": [
    "문제 7) 리스트 a 전체를 반복해서 방문하되, 짝수만 출력하시오.(for 문 사용)"
   ]
  },
  {
   "cell_type": "code",
   "execution_count": 58,
   "id": "14276768",
   "metadata": {},
   "outputs": [
    {
     "name": "stdout",
     "output_type": "stream",
     "text": [
      "4 6 8 10 12 "
     ]
    }
   ],
   "source": [
    "a = [1,3,4,5,6,7,8,9,10,11,12,13]\n",
    "\n",
    "for i in a:\n",
    "    if i%2 == 0:\n",
    "        print(i,end=\" \")\n",
    "    else:\n",
    "        continue"
   ]
  },
  {
   "cell_type": "markdown",
   "id": "bb8da9d4",
   "metadata": {},
   "source": [
    "문제8) 구구단 출력1"
   ]
  },
  {
   "cell_type": "code",
   "execution_count": 60,
   "id": "8d7c9349",
   "metadata": {},
   "outputs": [
    {
     "name": "stdout",
     "output_type": "stream",
     "text": [
      "출력하고 싶은 단을 입력하세요: 5\n",
      "5 * 1 =  5\n",
      "5 * 2 = 10\n",
      "5 * 3 = 15\n",
      "5 * 4 = 20\n",
      "5 * 5 = 25\n",
      "5 * 6 = 30\n",
      "5 * 7 = 35\n",
      "5 * 8 = 40\n",
      "5 * 9 = 45\n"
     ]
    }
   ],
   "source": [
    "dan = int(input(\"출력하고 싶은 단을 입력하세요: \"))\n",
    "for i in range(1,10):\n",
    "    print(\"%d * %d = %2d\" %(dan, i, dan*i))"
   ]
  },
  {
   "cell_type": "markdown",
   "id": "ad3d25c1",
   "metadata": {},
   "source": [
    "문제 9) 구구단 출력 2"
   ]
  },
  {
   "cell_type": "code",
   "execution_count": 66,
   "id": "8917d905",
   "metadata": {},
   "outputs": [
    {
     "name": "stdout",
     "output_type": "stream",
     "text": [
      "== 2단 ==\n",
      "2 * 1 =  2\n",
      "2 * 2 =  4\n",
      "2 * 3 =  6\n",
      "2 * 4 =  8\n",
      "2 * 5 = 10\n",
      "2 * 6 = 12\n",
      "2 * 7 = 14\n",
      "2 * 8 = 16\n",
      "2 * 9 = 18\n",
      "== 3단 ==\n",
      "3 * 1 =  3\n",
      "3 * 2 =  6\n",
      "3 * 3 =  9\n",
      "3 * 4 = 12\n",
      "3 * 5 = 15\n",
      "3 * 6 = 18\n",
      "3 * 7 = 21\n",
      "3 * 8 = 24\n",
      "3 * 9 = 27\n",
      "== 4단 ==\n",
      "4 * 1 =  4\n",
      "4 * 2 =  8\n",
      "4 * 3 = 12\n",
      "4 * 4 = 16\n",
      "4 * 5 = 20\n",
      "4 * 6 = 24\n",
      "4 * 7 = 28\n",
      "4 * 8 = 32\n",
      "4 * 9 = 36\n",
      "== 5단 ==\n",
      "5 * 1 =  5\n",
      "5 * 2 = 10\n",
      "5 * 3 = 15\n",
      "5 * 4 = 20\n",
      "5 * 5 = 25\n",
      "5 * 6 = 30\n",
      "5 * 7 = 35\n",
      "5 * 8 = 40\n",
      "5 * 9 = 45\n",
      "== 6단 ==\n",
      "6 * 1 =  6\n",
      "6 * 2 = 12\n",
      "6 * 3 = 18\n",
      "6 * 4 = 24\n",
      "6 * 5 = 30\n",
      "6 * 6 = 36\n",
      "6 * 7 = 42\n",
      "6 * 8 = 48\n",
      "6 * 9 = 54\n",
      "== 7단 ==\n",
      "7 * 1 =  7\n",
      "7 * 2 = 14\n",
      "7 * 3 = 21\n",
      "7 * 4 = 28\n",
      "7 * 5 = 35\n",
      "7 * 6 = 42\n",
      "7 * 7 = 49\n",
      "7 * 8 = 56\n",
      "7 * 9 = 63\n",
      "== 8단 ==\n",
      "8 * 1 =  8\n",
      "8 * 2 = 16\n",
      "8 * 3 = 24\n",
      "8 * 4 = 32\n",
      "8 * 5 = 40\n",
      "8 * 6 = 48\n",
      "8 * 7 = 56\n",
      "8 * 8 = 64\n",
      "8 * 9 = 72\n",
      "== 9단 ==\n",
      "9 * 1 =  9\n",
      "9 * 2 = 18\n",
      "9 * 3 = 27\n",
      "9 * 4 = 36\n",
      "9 * 5 = 45\n",
      "9 * 6 = 54\n",
      "9 * 7 = 63\n",
      "9 * 8 = 72\n",
      "9 * 9 = 81\n"
     ]
    }
   ],
   "source": [
    "for j in range(2,10):\n",
    "    print(\"== %d단 ==\" %j)\n",
    "    for i in range(1,10):\n",
    "        print(\"%d * %d = %2d\" %(j, i, j*i))"
   ]
  },
  {
   "cell_type": "markdown",
   "id": "5766da86",
   "metadata": {},
   "source": [
    "문제 10) 구구단 출력 2 "
   ]
  },
  {
   "cell_type": "code",
   "execution_count": 72,
   "id": "5d6dcb6a",
   "metadata": {},
   "outputs": [
    {
     "name": "stdout",
     "output_type": "stream",
     "text": [
      "2 * 1 =  2 3 * 1 =  3 4 * 1 =  4 5 * 1 =  5 6 * 1 =  6 7 * 1 =  7 8 * 1 =  8 9 * 1 =  9 \n",
      "2 * 2 =  4 3 * 2 =  6 4 * 2 =  8 5 * 2 = 10 6 * 2 = 12 7 * 2 = 14 8 * 2 = 16 9 * 2 = 18 \n",
      "2 * 3 =  6 3 * 3 =  9 4 * 3 = 12 5 * 3 = 15 6 * 3 = 18 7 * 3 = 21 8 * 3 = 24 9 * 3 = 27 \n",
      "2 * 4 =  8 3 * 4 = 12 4 * 4 = 16 5 * 4 = 20 6 * 4 = 24 7 * 4 = 28 8 * 4 = 32 9 * 4 = 36 \n",
      "2 * 5 = 10 3 * 5 = 15 4 * 5 = 20 5 * 5 = 25 6 * 5 = 30 7 * 5 = 35 8 * 5 = 40 9 * 5 = 45 \n",
      "2 * 6 = 12 3 * 6 = 18 4 * 6 = 24 5 * 6 = 30 6 * 6 = 36 7 * 6 = 42 8 * 6 = 48 9 * 6 = 54 \n",
      "2 * 7 = 14 3 * 7 = 21 4 * 7 = 28 5 * 7 = 35 6 * 7 = 42 7 * 7 = 49 8 * 7 = 56 9 * 7 = 63 \n",
      "2 * 8 = 16 3 * 8 = 24 4 * 8 = 32 5 * 8 = 40 6 * 8 = 48 7 * 8 = 56 8 * 8 = 64 9 * 8 = 72 \n",
      "2 * 9 = 18 3 * 9 = 27 4 * 9 = 36 5 * 9 = 45 6 * 9 = 54 7 * 9 = 63 8 * 9 = 72 9 * 9 = 81 \n"
     ]
    }
   ],
   "source": [
    "for j in range(1,10):\n",
    "    for i in range(2,10):\n",
    "        print(\"%d * %d = %2d\" %(i, j, j*i), end=\" \")\n",
    "    print()"
   ]
  },
  {
   "cell_type": "markdown",
   "id": "143f4e50",
   "metadata": {},
   "source": [
    "문제 11)\n",
    "★ 출력 프로그램\n",
    "\n",
    "input an integer: 311\n",
    "\n",
    "★★★\n",
    "\n",
    "★\n",
    "\n",
    "★"
   ]
  },
  {
   "cell_type": "code",
   "execution_count": 73,
   "id": "2a56341d",
   "metadata": {},
   "outputs": [
    {
     "name": "stdout",
     "output_type": "stream",
     "text": [
      "input an integer: 3515\n",
      "★★★\n",
      "★★★★★\n",
      "★\n",
      "★★★★★\n"
     ]
    }
   ],
   "source": [
    "chr_list = input(\"input an integer: \")\n",
    "for i in chr_list:\n",
    "    print(\"★\" * int(i))"
   ]
  },
  {
   "cell_type": "markdown",
   "id": "a7196189",
   "metadata": {},
   "source": [
    "문제 12) “done“을 입력할 때까지 사용자로부터 숫자를 입력 받아\n",
    "리스트에 저장하고, “done“을 입력하면, 리스트의 평균,\n",
    "최대값과 최소값을 출력하는 프로그램을 작성하시오."
   ]
  },
  {
   "cell_type": "code",
   "execution_count": 77,
   "id": "8bcc3d14",
   "metadata": {},
   "outputs": [
    {
     "name": "stdout",
     "output_type": "stream",
     "text": [
      "Enter a number: 5\n",
      "Enter a number: 7\n",
      "Enter a number: 8\n",
      "Enter a number: 9\n",
      "Enter a number: done\n",
      "[5.0, 7.0, 8.0, 9.0]\n",
      "Average: 7.2\n",
      "Maximun 9.0\n",
      "Minimum 5.0\n"
     ]
    }
   ],
   "source": [
    "data_list = []\n",
    "while True:\n",
    "    data = input(\"Enter a number: \")\n",
    "    if data == \"done\":\n",
    "        break\n",
    "    elif data.isalpha() :\n",
    "        print(\"it's not number. Try again\")\n",
    "    else:\n",
    "        data_list.append(float(data))\n",
    "    \n",
    "print(data_list)\n",
    "print(\"Average: %.1f\" %(sum(data_list)/len(data_list)))\n",
    "print(\"Maximun\",max(data_list))\n",
    "print(\"Minimum\",min(data_list))"
   ]
  },
  {
   "cell_type": "markdown",
   "id": "9ffe9a44",
   "metadata": {},
   "source": [
    "## 리스트 관련 함수 - 추가\n"
   ]
  },
  {
   "cell_type": "markdown",
   "id": "4527b04d",
   "metadata": {},
   "source": [
    "map(함수명, 리스트이름) : 리스트 값 하나하나를 함수명에 대입하여 결과를 얻고자 할 때 사용"
   ]
  },
  {
   "cell_type": "code",
   "execution_count": 78,
   "id": "a25179c9",
   "metadata": {},
   "outputs": [
    {
     "data": {
      "text/plain": [
       "[2021, 8, 18]"
      ]
     },
     "execution_count": 78,
     "metadata": {},
     "output_type": "execute_result"
    }
   ],
   "source": [
    "before = ['2021','08','18']\n",
    "after = list(map(int,before))\n",
    "after"
   ]
  },
  {
   "cell_type": "code",
   "execution_count": 21,
   "id": "60870817",
   "metadata": {},
   "outputs": [
    {
     "name": "stdout",
     "output_type": "stream",
     "text": [
      " 4\n",
      "16\n",
      "5.2\n"
     ]
    }
   ],
   "source": [
    "a = 4\n",
    "b = 5.2\n",
    "c = 16\n",
    "\n",
    "print(\"%2d\" %a)\n",
    "print(\"%2d\" %c)\n",
    "print(\"%03.1f\" %b)"
   ]
  },
  {
   "cell_type": "code",
   "execution_count": null,
   "id": "56a165ce",
   "metadata": {},
   "outputs": [],
   "source": []
  }
 ],
 "metadata": {
  "kernelspec": {
   "display_name": "Python 3",
   "language": "python",
   "name": "python3"
  },
  "language_info": {
   "codemirror_mode": {
    "name": "ipython",
    "version": 3
   },
   "file_extension": ".py",
   "mimetype": "text/x-python",
   "name": "python",
   "nbconvert_exporter": "python",
   "pygments_lexer": "ipython3",
   "version": "3.8.8"
  }
 },
 "nbformat": 4,
 "nbformat_minor": 5
}
