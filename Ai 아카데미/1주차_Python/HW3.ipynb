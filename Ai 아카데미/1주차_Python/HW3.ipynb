{
 "cells": [
  {
   "cell_type": "markdown",
   "id": "a575ecc8",
   "metadata": {},
   "source": [
    "##  1. 딕셔너리 (dict)\n",
    "\n",
    "중괄호 { }로 묶여 있으며, key 와 value의 쌍으로 이루어 짐.\n",
    "\n",
    "d = {key1:value1, key2:value2}\n",
    "\n",
    "실습1) for 문을 사용하여 딕셔너리 타입의 d의 모든\n",
    "value를 출력해 보시오."
   ]
  },
  {
   "cell_type": "code",
   "execution_count": 7,
   "id": "3a4de04e",
   "metadata": {},
   "outputs": [
    {
     "name": "stdout",
     "output_type": "stream",
     "text": [
      "1 2 10 "
     ]
    }
   ],
   "source": [
    "d = {'youn':1, 'park':2, 'kim':10}\n",
    "\n",
    "for i in d.keys():\n",
    "    print(d[i],end=\" \")"
   ]
  },
  {
   "cell_type": "markdown",
   "id": "9949d9d7",
   "metadata": {},
   "source": [
    "실습 2) 아래와 같은 딕셔너리가 있다. \n",
    "\n",
    "{'one':1,'two':2,'three':3,'four':4,'five':5}\n",
    "\n",
    "key의 알파벳을 기준으로 순서대로 아래와 같이 (key,value)로 출력하시오."
   ]
  },
  {
   "cell_type": "code",
   "execution_count": 8,
   "id": "55388240",
   "metadata": {},
   "outputs": [],
   "source": [
    "dict_a = {'one':1,'two':2,'three':3,'four':4,'five':5}"
   ]
  },
  {
   "cell_type": "code",
   "execution_count": 15,
   "id": "41a25518",
   "metadata": {},
   "outputs": [
    {
     "name": "stdout",
     "output_type": "stream",
     "text": [
      "five 5\n",
      "four 4\n",
      "one 1\n",
      "three 3\n",
      "two 2\n"
     ]
    }
   ],
   "source": [
    "for i in sorted(list(dict_a.keys())):\n",
    "    print(i, dict_a[i])"
   ]
  },
  {
   "cell_type": "markdown",
   "id": "c83402c6",
   "metadata": {},
   "source": [
    "실습 3) PPT 문제\n",
    "\n",
    "어떤 문장을 입력 받으면 해당 문장에서 각 알파벳이 몇 개씩 나오는지 저장하는 딕셔너리를 만든 후, 아래와 같이 출력하시오"
   ]
  },
  {
   "cell_type": "code",
   "execution_count": 57,
   "id": "d78ed953",
   "metadata": {},
   "outputs": [
    {
     "name": "stdout",
     "output_type": "stream",
     "text": [
      "Enter a sentence: Python is fun!\n",
      "{' ': 2, '!': 1, 'P': 1, 'f': 1, 'h': 1, 'i': 1, 'n': 2, 'o': 1, 's': 1, 't': 1, 'u': 1, 'y': 1}\n"
     ]
    }
   ],
   "source": [
    "sentence = input(\"Enter a sentence: \")\n",
    "dict_b ={}\n",
    "\n",
    "for a in sorted(sentence, reverse=False):\n",
    "    dict_b[a] = sentence.count(a) \n",
    "    \n",
    "print(dict_b)"
   ]
  },
  {
   "cell_type": "code",
   "execution_count": 19,
   "id": "ac82c4df",
   "metadata": {},
   "outputs": [
    {
     "name": "stdout",
     "output_type": "stream",
     "text": [
      "Enter a sentence: python is fun!\n",
      "{'p': 1, 'y': 1, 't': 1, 'h': 1, 'o': 1, 'n': 2, ' ': 2, 'i': 1, 's': 1, 'f': 1, 'u': 1, '!': 1}\n"
     ]
    }
   ],
   "source": [
    "sentence = input(\"Enter a sentence: \")\n",
    "dict_b ={}\n",
    "\n",
    "for a in sentence:\n",
    "    if a in dict_b:\n",
    "        dict_b[a] = dict_b[a] +1\n",
    "    else:\n",
    "        dict_b[a] = 1\n",
    "        \n",
    "print(dict_b)"
   ]
  },
  {
   "cell_type": "code",
   "execution_count": 1,
   "id": "39450ef1",
   "metadata": {},
   "outputs": [],
   "source": [
    "d = {'youn':1, 'park':2, 'kim':10}"
   ]
  },
  {
   "cell_type": "code",
   "execution_count": 14,
   "id": "56ae2312",
   "metadata": {},
   "outputs": [
    {
     "data": {
      "text/plain": [
       "[('youn', 1), ('park', 2), ('kim', 10)]"
      ]
     },
     "execution_count": 14,
     "metadata": {},
     "output_type": "execute_result"
    }
   ],
   "source": [
    "list(d.items())"
   ]
  },
  {
   "cell_type": "code",
   "execution_count": 13,
   "id": "f9536a13",
   "metadata": {},
   "outputs": [
    {
     "data": {
      "text/plain": [
       "['youn', 'park', 'kim']"
      ]
     },
     "execution_count": 13,
     "metadata": {},
     "output_type": "execute_result"
    }
   ],
   "source": [
    "list(d.keys())"
   ]
  },
  {
   "cell_type": "code",
   "execution_count": 6,
   "id": "fcc0fcbb",
   "metadata": {},
   "outputs": [
    {
     "data": {
      "text/plain": [
       "[1, 2, 10]"
      ]
     },
     "execution_count": 6,
     "metadata": {},
     "output_type": "execute_result"
    }
   ],
   "source": [
    "list(d.values())"
   ]
  },
  {
   "cell_type": "code",
   "execution_count": null,
   "id": "4d63898e",
   "metadata": {},
   "outputs": [],
   "source": []
  }
 ],
 "metadata": {
  "kernelspec": {
   "display_name": "Python 3",
   "language": "python",
   "name": "python3"
  },
  "language_info": {
   "codemirror_mode": {
    "name": "ipython",
    "version": 3
   },
   "file_extension": ".py",
   "mimetype": "text/x-python",
   "name": "python",
   "nbconvert_exporter": "python",
   "pygments_lexer": "ipython3",
   "version": "3.8.8"
  }
 },
 "nbformat": 4,
 "nbformat_minor": 5
}
