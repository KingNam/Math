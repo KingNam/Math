{
 "cells": [
  {
   "cell_type": "markdown",
   "id": "4c57d10f",
   "metadata": {},
   "source": [
    "## 자연어\n",
    " - 의사소통을 위한 수단으로 자연 발생한 언어"
   ]
  },
  {
   "cell_type": "markdown",
   "id": "a2e845d5",
   "metadata": {},
   "source": [
    "## 인공어\n",
    " - 사람의 의도나 목적에 따라 만든 언어\n"
   ]
  },
  {
   "cell_type": "markdown",
   "id": "eebcf437",
   "metadata": {},
   "source": [
    "### 자연어 - 한국어\n",
    "\n",
    " - 한국어의 구성요소\n",
    "  - 자음,모음 < 음절 < 형태소 < 어절 < 구 < 절 < 문장 < 문단\n",
    "  \n",
    " - 형태소는 최소한의 의미를  지니는 단위\n",
    " \n",
    " - 좀 더 복잡한 의미를 표현하기 위해\n",
    " \n",
    " - 약 50만개 정도의 형태소가 필요함"
   ]
  },
  {
   "cell_type": "markdown",
   "id": "cf220cf1",
   "metadata": {},
   "source": [
    "### 인공어 - Python\n",
    "\n",
    "- 파이썬에서 의미를 지니는 최소단위는 \"단어\"\n",
    "\n",
    "- 좀 더 복잡한 의미를 표현하기 위해 문법이 필요함\n",
    "\n",
    "- python에서는 35개의 Keywords, 69개의 Built-in Functions, 자료형이 가지는 어트리뷰트들, 연산자가 전부"
   ]
  },
  {
   "cell_type": "code",
   "execution_count": 6,
   "id": "11c740d2",
   "metadata": {},
   "outputs": [],
   "source": [
    "a  = [1,1,2,2,3]\n",
    "\n",
    "def length(list):\n",
    "    b=0\n",
    "    for i in list:\n",
    "        b+=1\n",
    "    return b"
   ]
  },
  {
   "cell_type": "code",
   "execution_count": 8,
   "id": "5c2d5664",
   "metadata": {},
   "outputs": [
    {
     "data": {
      "text/plain": [
       "11"
      ]
     },
     "execution_count": 8,
     "metadata": {},
     "output_type": "execute_result"
    }
   ],
   "source": [
    "length(\"wiehfiawehf\")"
   ]
  },
  {
   "cell_type": "code",
   "execution_count": 12,
   "id": "253776f7",
   "metadata": {},
   "outputs": [
    {
     "name": "stdout",
     "output_type": "stream",
     "text": [
      "<built-in function print>\n",
      "None\n",
      "None\n"
     ]
    }
   ],
   "source": [
    "print(print(print(print)))"
   ]
  },
  {
   "cell_type": "code",
   "execution_count": 1,
   "id": "cc99e980",
   "metadata": {},
   "outputs": [],
   "source": [
    "a = 1\n",
    "b = 2\n",
    "\n",
    "def add(a,b):\n",
    "    return a+b\n",
    "def sub(a,b):\n",
    "    return a-b\n",
    "def mul(a,b):\n",
    "    return a*b\n",
    "def div(a,b):\n",
    "    return a/b"
   ]
  },
  {
   "cell_type": "code",
   "execution_count": 3,
   "id": "2f779cf1",
   "metadata": {},
   "outputs": [],
   "source": [
    "c = add(1,2)\n",
    "d = sub(1,2)\n",
    "e = mul(1,2)\n",
    "f = div(1,2)"
   ]
  },
  {
   "cell_type": "code",
   "execution_count": 4,
   "id": "b561c888",
   "metadata": {},
   "outputs": [
    {
     "name": "stdout",
     "output_type": "stream",
     "text": [
      "3 -1 2 0.5\n"
     ]
    }
   ],
   "source": [
    "print(c, d, e, f)"
   ]
  },
  {
   "cell_type": "markdown",
   "id": "50f36349",
   "metadata": {},
   "source": [
    "지도학습\n",
    "/페이스 아이디\n",
    "/아스키코드\n",
    "/객체지향\n",
    "/뮤터블\n",
    "/쉘로우 카피\n",
    "/ADT\n",
    "/콜 바이 벨류\n",
    "/인스턴스\n",
    "/클래스\n",
    "/딥 카피\n",
    "/콜 바이 레퍼런스\n",
    "/리눅스\n",
    "/스트럭쳐\n",
    "/함수\n",
    "/추상화\n",
    "/주소\n",
    "/유닉스\n",
    "/ 모듈\n",
    "/ 케라스\n",
    "/ 링크드 리스트\n",
    "/ 메써드\n",
    "/ 변수\n",
    "/ 인공신경망\n",
    "/ 캡슐화\n",
    "/ \n"
   ]
  },
  {
   "cell_type": "markdown",
   "id": "8e12a684",
   "metadata": {},
   "source": [
    "사람을 입장에서 코딩해보자 해서 시작한게 객체 지향\n",
    "\n",
    "객체지향의 특징\n",
    "캡슐화 / 상속 / 다형성\n",
    "\n",
    "클래스로 생성한 것은 객체 or 인스턴스\n",
    "\n",
    "초기화가 필요할때는 생성자\n",
    "\n",
    "인스턴스 변수: 클래스가 가지는 특징이 아닌 인스턴스 별로 필요한 변수\n",
    "\n",
    "클래스 변수: 클래스 내에서 공통으로 공유할 수 있는 변수\n",
    "\n",
    "```{python}\n",
    "## 클래스 생성 예시\n",
    "class Car:\n",
    "    color =\"\" # 인스턴스 변수\n",
    "    speed = 0 # 인스턴스 변수 \n",
    "    count = 0 # 클래스 변수\n",
    "    \n",
    "    def __init__(self):\n",
    "        self.speed = 0\n",
    "        Car.count += 1\n",
    "```\n",
    "\n",
    "\n",
    "\n"
   ]
  },
  {
   "cell_type": "markdown",
   "id": "92596d85",
   "metadata": {},
   "source": [
    "### 상속\n",
    "\n",
    "기존 Class의 필드와 메소드를 그대로 물려받는 새로운 Class를 만드는 것.\n",
    "\n",
    "　\n",
    "\n",
    "처음부터 설계를 잘해야함,,,;;"
   ]
  },
  {
   "cell_type": "code",
   "execution_count": 1,
   "id": "0d152100",
   "metadata": {},
   "outputs": [],
   "source": [
    "import numpy as np"
   ]
  },
  {
   "cell_type": "code",
   "execution_count": 4,
   "id": "81e0d070",
   "metadata": {},
   "outputs": [],
   "source": [
    "a = np.array(range(1,5))"
   ]
  },
  {
   "cell_type": "code",
   "execution_count": 5,
   "id": "ddcc383b",
   "metadata": {},
   "outputs": [
    {
     "data": {
      "text/plain": [
       "array([1, 2, 3, 4])"
      ]
     },
     "execution_count": 5,
     "metadata": {},
     "output_type": "execute_result"
    }
   ],
   "source": [
    "a"
   ]
  },
  {
   "cell_type": "code",
   "execution_count": 6,
   "id": "6f05c4ab",
   "metadata": {},
   "outputs": [],
   "source": [
    "b = np.array(range(4,8))"
   ]
  },
  {
   "cell_type": "code",
   "execution_count": 7,
   "id": "c9ed07d8",
   "metadata": {},
   "outputs": [
    {
     "data": {
      "text/plain": [
       "array([ 4, 10, 18, 28])"
      ]
     },
     "execution_count": 7,
     "metadata": {},
     "output_type": "execute_result"
    }
   ],
   "source": [
    "a*b"
   ]
  },
  {
   "cell_type": "code",
   "execution_count": 8,
   "id": "a7bd2ec7",
   "metadata": {},
   "outputs": [],
   "source": [
    "a = [1,2,3,4]\n",
    "b = [4,5,6,7]"
   ]
  },
  {
   "cell_type": "code",
   "execution_count": 9,
   "id": "a753cd79",
   "metadata": {},
   "outputs": [
    {
     "ename": "TypeError",
     "evalue": "can't multiply sequence by non-int of type 'list'",
     "output_type": "error",
     "traceback": [
      "\u001b[0;31m---------------------------------------------------------------------------\u001b[0m",
      "\u001b[0;31mTypeError\u001b[0m                                 Traceback (most recent call last)",
      "\u001b[0;32m<ipython-input-9-8ce765dcfa30>\u001b[0m in \u001b[0;36m<module>\u001b[0;34m\u001b[0m\n\u001b[0;32m----> 1\u001b[0;31m \u001b[0ma\u001b[0m\u001b[0;34m*\u001b[0m\u001b[0mb\u001b[0m\u001b[0;34m\u001b[0m\u001b[0;34m\u001b[0m\u001b[0m\n\u001b[0m",
      "\u001b[0;31mTypeError\u001b[0m: can't multiply sequence by non-int of type 'list'"
     ]
    }
   ],
   "source": [
    "a*b"
   ]
  },
  {
   "cell_type": "markdown",
   "id": "adfcc4a6",
   "metadata": {},
   "source": [
    "### 지역변수, 전역변수\n",
    "\n",
    "지역변수: 함수 안에서 만들어져 함수 안에서만 사용하는 변수\n",
    "\n",
    "전역변수: 함수 밖에서 만들어져 아무데서나 사용할 수 있는 변수 단, 함수 안에서 전역변수 수정 불가"
   ]
  },
  {
   "cell_type": "code",
   "execution_count": 17,
   "id": "389f2bb4",
   "metadata": {},
   "outputs": [
    {
     "ename": "NameError",
     "evalue": "name 'add_res' is not defined",
     "output_type": "error",
     "traceback": [
      "\u001b[0;31m---------------------------------------------------------------------------\u001b[0m",
      "\u001b[0;31mNameError\u001b[0m                                 Traceback (most recent call last)",
      "\u001b[0;32m<ipython-input-17-ba2b97fb4b28>\u001b[0m in \u001b[0;36m<module>\u001b[0;34m\u001b[0m\n\u001b[1;32m      7\u001b[0m \u001b[0mx\u001b[0m\u001b[0;34m,\u001b[0m\u001b[0my\u001b[0m \u001b[0;34m=\u001b[0m \u001b[0;36m10\u001b[0m\u001b[0;34m,\u001b[0m\u001b[0;36m20\u001b[0m\u001b[0;34m\u001b[0m\u001b[0;34m\u001b[0m\u001b[0m\n\u001b[1;32m      8\u001b[0m \u001b[0mres\u001b[0m \u001b[0;34m=\u001b[0m \u001b[0madd_value\u001b[0m\u001b[0;34m(\u001b[0m\u001b[0mx\u001b[0m\u001b[0;34m,\u001b[0m\u001b[0my\u001b[0m\u001b[0;34m)\u001b[0m\u001b[0;34m\u001b[0m\u001b[0;34m\u001b[0m\u001b[0m\n\u001b[0;32m----> 9\u001b[0;31m \u001b[0mprint\u001b[0m\u001b[0;34m(\u001b[0m\u001b[0madd_res\u001b[0m\u001b[0;34m)\u001b[0m\u001b[0;34m\u001b[0m\u001b[0;34m\u001b[0m\u001b[0m\n\u001b[0m",
      "\u001b[0;31mNameError\u001b[0m: name 'add_res' is not defined"
     ]
    }
   ],
   "source": [
    "## 지역변수\n",
    "\n",
    "def add_value(a,b):\n",
    "    add_res = a+b\n",
    "    return add_res\n",
    "\n",
    "x,y = 10,20\n",
    "res = add_value(x,y)\n",
    "print(add_res)"
   ]
  },
  {
   "cell_type": "code",
   "execution_count": 18,
   "id": "f48d1e2c",
   "metadata": {},
   "outputs": [],
   "source": [
    "## 전역변수: 함수 밖에서 만들어져 아무데서나 사용할 수 있는 변수 단, 함수 안에서 전역변수 수정 불가"
   ]
  },
  {
   "cell_type": "code",
   "execution_count": 22,
   "id": "12e0ff04",
   "metadata": {},
   "outputs": [
    {
     "name": "stdout",
     "output_type": "stream",
     "text": [
      "40\n"
     ]
    }
   ],
   "source": [
    "## global variable은 아무데서나 사용 가능.\n",
    "\n",
    "def addX(_x):\n",
    "    return y+_x\n",
    "\n",
    "x=10\n",
    "y=20\n",
    "\n",
    "res = addX(y)\n",
    "print(res)"
   ]
  },
  {
   "cell_type": "markdown",
   "id": "b6f6ed05",
   "metadata": {},
   "source": [
    "### 파일에서 데이터 읽기\n",
    "\n",
    "1. 파일을 연다.\n",
    "\n",
    "2. 파일에서 데이터를 읽거나 쓴다.\n",
    "\n",
    "3. 파일을 닫는다.\n",
    "\n",
    "```{python}\n",
    "f = open(\"input.txt\",\"r\")\n",
    "...\n",
    "f.close()\n",
    "```"
   ]
  },
  {
   "cell_type": "code",
   "execution_count": 1,
   "id": "d8fd94e2",
   "metadata": {},
   "outputs": [],
   "source": [
    "# \"w\" : 쓰기모드 / \n",
    "\n",
    "f_w = open(\"input.txt\",\"w\")\n",
    "\n",
    "for i in range(1,6):\n",
    "    data = \"%d line \\n\" %i\n",
    "    f_w.write(data)\n",
    "\n",
    "f_w.close()"
   ]
  },
  {
   "cell_type": "code",
   "execution_count": 39,
   "id": "ab71bc2a",
   "metadata": {},
   "outputs": [],
   "source": [
    "# if, input 이라는 파일이 존재한다면 새로 지워지고 써짐\n",
    "f_w = open(\"input.txt\",\"w\")\n",
    "\n",
    "for i in range(1,5):\n",
    "    data = \"%d line\\n\" %i\n",
    "    f_w.write(data)\n",
    "\n",
    "f_w.close()"
   ]
  },
  {
   "cell_type": "code",
   "execution_count": 43,
   "id": "2b9cc408",
   "metadata": {},
   "outputs": [],
   "source": [
    "# \"r\" : 읽기모드\n",
    "f_r = open(\"input.txt\",\"r\")"
   ]
  },
  {
   "cell_type": "code",
   "execution_count": 41,
   "id": "6e76506f",
   "metadata": {},
   "outputs": [],
   "source": [
    "f_r.close()"
   ]
  },
  {
   "cell_type": "code",
   "execution_count": 44,
   "id": "e6ae598b",
   "metadata": {
    "scrolled": true
   },
   "outputs": [
    {
     "data": {
      "text/plain": [
       "0"
      ]
     },
     "execution_count": 44,
     "metadata": {},
     "output_type": "execute_result"
    }
   ],
   "source": [
    "# 포인터의 위치를 알려줌.\n",
    "f_r.tell()"
   ]
  },
  {
   "cell_type": "code",
   "execution_count": 45,
   "id": "4221670b",
   "metadata": {},
   "outputs": [],
   "source": [
    "# 한줄 읽어오기\n",
    "line = f_r.readline()"
   ]
  },
  {
   "cell_type": "code",
   "execution_count": 46,
   "id": "7b6b1df8",
   "metadata": {},
   "outputs": [
    {
     "data": {
      "text/plain": [
       "'1 line\\n'"
      ]
     },
     "execution_count": 46,
     "metadata": {},
     "output_type": "execute_result"
    }
   ],
   "source": [
    "line"
   ]
  },
  {
   "cell_type": "code",
   "execution_count": 49,
   "id": "4b11ae47",
   "metadata": {},
   "outputs": [
    {
     "name": "stdout",
     "output_type": "stream",
     "text": [
      "1 line\n",
      " \n",
      "\n",
      "2 line\n",
      " \n",
      "\n",
      "3 line\n",
      " \n",
      "\n",
      "4 line\n",
      " \n",
      "\n"
     ]
    }
   ],
   "source": [
    "# 여러줄 읽어오기\n",
    "f_r = open(\"input.txt\",\"r\")\n",
    "\n",
    "while 1:\n",
    "    line = f_r.readline()\n",
    "    if line == \"\":\n",
    "        break\n",
    "    print(line)"
   ]
  },
  {
   "cell_type": "code",
   "execution_count": 70,
   "id": "d97fa9c4",
   "metadata": {},
   "outputs": [],
   "source": [
    "# f.read() 파일 전체를 읽어옴.\n",
    "# \"a\" : append 모드"
   ]
  },
  {
   "cell_type": "code",
   "execution_count": 67,
   "id": "05fd8efc",
   "metadata": {},
   "outputs": [],
   "source": [
    "with open(\"quiz.txt\", \"r\") as f:\n",
    "    data = f.read()\n",
    "    data_ls = data.split()\n",
    "    data_di = {}\n",
    "    for i in data_ls:\n",
    "        if i in data_di:\n",
    "            data_di[i] = data_di[i] + 1\n",
    "        else:\n",
    "            data_di[i] = 1\n",
    "            \n",
    "    "
   ]
  },
  {
   "cell_type": "code",
   "execution_count": 69,
   "id": "adb93414",
   "metadata": {},
   "outputs": [
    {
     "name": "stdout",
     "output_type": "stream",
     "text": [
      "{'first': 1, 'line': 4, 'python': 1, 'is': 1, 'fun': 1, 'second': 1, 'hello': 1, 'world': 1, 'third': 1, 'fourth': 1}\n"
     ]
    }
   ],
   "source": []
  },
  {
   "cell_type": "code",
   "execution_count": null,
   "id": "bb0baf80",
   "metadata": {},
   "outputs": [],
   "source": [
    "file = input(\"give me: \")\n"
   ]
  },
  {
   "cell_type": "markdown",
   "id": "9f7638b9",
   "metadata": {},
   "source": [
    "## 함수 - 반환값\n"
   ]
  },
  {
   "cell_type": "markdown",
   "id": "b5e04e02",
   "metadata": {},
   "source": [
    "- 반환 값이 있는 경우"
   ]
  },
  {
   "cell_type": "code",
   "execution_count": 83,
   "id": "32317264",
   "metadata": {},
   "outputs": [],
   "source": [
    "def say1():\n",
    "    return \"hello\""
   ]
  },
  {
   "cell_type": "code",
   "execution_count": 84,
   "id": "d54f0af2",
   "metadata": {},
   "outputs": [],
   "source": [
    "a = say1()"
   ]
  },
  {
   "cell_type": "markdown",
   "id": "781cbf30",
   "metadata": {},
   "source": [
    "- 반환 값이 없는 경우"
   ]
  },
  {
   "cell_type": "code",
   "execution_count": 86,
   "id": "b50bb09d",
   "metadata": {},
   "outputs": [],
   "source": [
    "def say2():\n",
    "    print(\"hello\")"
   ]
  },
  {
   "cell_type": "code",
   "execution_count": 89,
   "id": "635f089c",
   "metadata": {},
   "outputs": [
    {
     "name": "stdout",
     "output_type": "stream",
     "text": [
      "hello\n"
     ]
    }
   ],
   "source": [
    "# ()는 함수의 내부를 호출\n",
    "a = say2()"
   ]
  },
  {
   "cell_type": "code",
   "execution_count": 88,
   "id": "bf63ace8",
   "metadata": {},
   "outputs": [
    {
     "name": "stdout",
     "output_type": "stream",
     "text": [
      "None\n"
     ]
    }
   ],
   "source": [
    "print(a)"
   ]
  },
  {
   "cell_type": "markdown",
   "id": "ed9faffa",
   "metadata": {},
   "source": [
    "### 함수 - 매개변수(Parameter)\n",
    "- 매개변수가 있는 경우"
   ]
  },
  {
   "cell_type": "code",
   "execution_count": 91,
   "id": "e3280a38",
   "metadata": {},
   "outputs": [],
   "source": [
    "def add1(a,b):\n",
    "    result = a+b\n",
    "    return result"
   ]
  },
  {
   "cell_type": "code",
   "execution_count": 92,
   "id": "6f0e3869",
   "metadata": {},
   "outputs": [],
   "source": [
    "def add2():\n",
    "    return 1+2"
   ]
  },
  {
   "cell_type": "code",
   "execution_count": 95,
   "id": "ef9e82da",
   "metadata": {},
   "outputs": [],
   "source": [
    "a = add1(2,3)\n",
    "b = add1(4,5)"
   ]
  },
  {
   "cell_type": "code",
   "execution_count": 96,
   "id": "5e7ad0e4",
   "metadata": {},
   "outputs": [
    {
     "data": {
      "text/plain": [
       "5"
      ]
     },
     "execution_count": 96,
     "metadata": {},
     "output_type": "execute_result"
    }
   ],
   "source": [
    "a"
   ]
  },
  {
   "cell_type": "code",
   "execution_count": 97,
   "id": "38652bc8",
   "metadata": {},
   "outputs": [
    {
     "data": {
      "text/plain": [
       "9"
      ]
     },
     "execution_count": 97,
     "metadata": {},
     "output_type": "execute_result"
    }
   ],
   "source": [
    "b"
   ]
  },
  {
   "cell_type": "code",
   "execution_count": 98,
   "id": "a2a3c90f",
   "metadata": {},
   "outputs": [
    {
     "data": {
      "text/plain": [
       "3"
      ]
     },
     "execution_count": 98,
     "metadata": {},
     "output_type": "execute_result"
    }
   ],
   "source": [
    "add2()"
   ]
  },
  {
   "cell_type": "code",
   "execution_count": 99,
   "id": "1a549b6a",
   "metadata": {},
   "outputs": [
    {
     "data": {
      "text/plain": [
       "<function __main__.add2()>"
      ]
     },
     "execution_count": 99,
     "metadata": {},
     "output_type": "execute_result"
    }
   ],
   "source": [
    "add2"
   ]
  },
  {
   "cell_type": "markdown",
   "id": "de706a64",
   "metadata": {},
   "source": [
    "### 가변 매개변수\n",
    "\n",
    "매개변수 앞에다 \\*를 붙이면 된다\n",
    "\n",
    "ex) \\*n"
   ]
  },
  {
   "cell_type": "code",
   "execution_count": 100,
   "id": "ada79303",
   "metadata": {},
   "outputs": [],
   "source": [
    "def count_even(*n):\n",
    "    cnt = 0\n",
    "    for v in n:\n",
    "        if v%2 ==0:\n",
    "            cnt += 1\n",
    "    return cnt"
   ]
  },
  {
   "cell_type": "code",
   "execution_count": 101,
   "id": "87ed95f3",
   "metadata": {},
   "outputs": [
    {
     "data": {
      "text/plain": [
       "2"
      ]
     },
     "execution_count": 101,
     "metadata": {},
     "output_type": "execute_result"
    }
   ],
   "source": [
    "count_even(1,2,3,4)"
   ]
  },
  {
   "cell_type": "code",
   "execution_count": 118,
   "id": "0e5508ff",
   "metadata": {},
   "outputs": [],
   "source": [
    "def add(*nums):\n",
    "    result = 333\n",
    "    print(nums)\n",
    "    return result"
   ]
  },
  {
   "cell_type": "code",
   "execution_count": 119,
   "id": "1de15a2a",
   "metadata": {},
   "outputs": [
    {
     "name": "stdout",
     "output_type": "stream",
     "text": [
      "()\n"
     ]
    },
    {
     "data": {
      "text/plain": [
       "333"
      ]
     },
     "execution_count": 119,
     "metadata": {},
     "output_type": "execute_result"
    }
   ],
   "source": [
    "add()"
   ]
  },
  {
   "cell_type": "code",
   "execution_count": 120,
   "id": "c4b9d287",
   "metadata": {},
   "outputs": [
    {
     "name": "stdout",
     "output_type": "stream",
     "text": [
      "(12431115, 12321321, 5, 5, 3)\n"
     ]
    }
   ],
   "source": [
    "b = add(12431115,12321321,5,5,3)"
   ]
  },
  {
   "cell_type": "code",
   "execution_count": 122,
   "id": "eea68d34",
   "metadata": {},
   "outputs": [
    {
     "data": {
      "text/plain": [
       "333"
      ]
     },
     "execution_count": 122,
     "metadata": {},
     "output_type": "execute_result"
    }
   ],
   "source": [
    "b"
   ]
  },
  {
   "cell_type": "code",
   "execution_count": 111,
   "id": "08cee185",
   "metadata": {},
   "outputs": [],
   "source": [
    "b2 = (1,2,3)"
   ]
  },
  {
   "cell_type": "code",
   "execution_count": 112,
   "id": "b7a785ff",
   "metadata": {},
   "outputs": [
    {
     "data": {
      "text/plain": [
       "tuple"
      ]
     },
     "execution_count": 112,
     "metadata": {},
     "output_type": "execute_result"
    }
   ],
   "source": [
    "type(b2)"
   ]
  },
  {
   "cell_type": "code",
   "execution_count": 113,
   "id": "6edd99e7",
   "metadata": {},
   "outputs": [
    {
     "data": {
      "text/plain": [
       "2"
      ]
     },
     "execution_count": 113,
     "metadata": {},
     "output_type": "execute_result"
    }
   ],
   "source": [
    "b2[1]"
   ]
  },
  {
   "cell_type": "code",
   "execution_count": 130,
   "id": "0881e60a",
   "metadata": {},
   "outputs": [
    {
     "ename": "UnboundLocalError",
     "evalue": "local variable 'x' referenced before assignment",
     "output_type": "error",
     "traceback": [
      "\u001b[0;31m---------------------------------------------------------------------------\u001b[0m",
      "\u001b[0;31mUnboundLocalError\u001b[0m                         Traceback (most recent call last)",
      "\u001b[0;32m<ipython-input-130-78828f6bb940>\u001b[0m in \u001b[0;36m<module>\u001b[0;34m\u001b[0m\n\u001b[1;32m      5\u001b[0m \u001b[0my\u001b[0m \u001b[0;34m=\u001b[0m \u001b[0;36m20\u001b[0m\u001b[0;34m\u001b[0m\u001b[0;34m\u001b[0m\u001b[0m\n\u001b[1;32m      6\u001b[0m \u001b[0mx\u001b[0m \u001b[0;34m=\u001b[0m \u001b[0;36m10\u001b[0m\u001b[0;34m\u001b[0m\u001b[0;34m\u001b[0m\u001b[0m\n\u001b[0;32m----> 7\u001b[0;31m \u001b[0maddX\u001b[0m\u001b[0;34m(\u001b[0m\u001b[0mx\u001b[0m\u001b[0;34m)\u001b[0m\u001b[0;34m\u001b[0m\u001b[0;34m\u001b[0m\u001b[0m\n\u001b[0m\u001b[1;32m      8\u001b[0m \u001b[0mprint\u001b[0m\u001b[0;34m(\u001b[0m\u001b[0mx\u001b[0m\u001b[0;34m)\u001b[0m\u001b[0;34m\u001b[0m\u001b[0;34m\u001b[0m\u001b[0m\n",
      "\u001b[0;32m<ipython-input-130-78828f6bb940>\u001b[0m in \u001b[0;36maddX\u001b[0;34m(_x)\u001b[0m\n\u001b[1;32m      1\u001b[0m \u001b[0;32mdef\u001b[0m \u001b[0maddX\u001b[0m\u001b[0;34m(\u001b[0m\u001b[0m_x\u001b[0m\u001b[0;34m)\u001b[0m \u001b[0;34m:\u001b[0m\u001b[0;34m\u001b[0m\u001b[0;34m\u001b[0m\u001b[0m\n\u001b[0;32m----> 2\u001b[0;31m     \u001b[0mx\u001b[0m \u001b[0;34m=\u001b[0m \u001b[0mx\u001b[0m \u001b[0;34m+\u001b[0m \u001b[0m_x\u001b[0m \u001b[0;31m# 에러 발생: 함수 내에서 전역변수의 수정이 불가\u001b[0m\u001b[0;34m\u001b[0m\u001b[0;34m\u001b[0m\u001b[0m\n\u001b[0m\u001b[1;32m      3\u001b[0m                \u001b[0;31m# 함수 내에서는 지역변수를 우선시 한다.\u001b[0m\u001b[0;34m\u001b[0m\u001b[0;34m\u001b[0m\u001b[0;34m\u001b[0m\u001b[0m\n\u001b[1;32m      4\u001b[0m \u001b[0;34m\u001b[0m\u001b[0m\n\u001b[1;32m      5\u001b[0m \u001b[0my\u001b[0m \u001b[0;34m=\u001b[0m \u001b[0;36m20\u001b[0m\u001b[0;34m\u001b[0m\u001b[0;34m\u001b[0m\u001b[0m\n",
      "\u001b[0;31mUnboundLocalError\u001b[0m: local variable 'x' referenced before assignment"
     ]
    }
   ],
   "source": [
    "def addX(_x) :\n",
    "    x = x + _x # 에러 발생: 함수 내에서 전역변수의 수정이 불가\n",
    "               # 함수 내에서는 지역변수를 우선시 한다.\n",
    "\n",
    "y = 20\n",
    "x = 10\n",
    "addX(x)\n",
    "print(x)"
   ]
  },
  {
   "cell_type": "code",
   "execution_count": 131,
   "id": "f86f2548",
   "metadata": {},
   "outputs": [
    {
     "name": "stdout",
     "output_type": "stream",
     "text": [
      "20\n"
     ]
    }
   ],
   "source": [
    "def addX(_x) :\n",
    "    global x\n",
    "    x = x + _x \n",
    "\n",
    "y = 20\n",
    "x = 10\n",
    "addX(x)\n",
    "print(x)"
   ]
  },
  {
   "cell_type": "markdown",
   "id": "70f9a1e6",
   "metadata": {},
   "source": [
    "### 디폴트 매개변수\n",
    "\n",
    "자주 변경되는 파라미터는 디폴트로 지정해준다\n",
    "\n",
    "앞 매개변수가 default 값을 가지면, 뒤에 오는 매개변수는 반드시 값을 가져야 함."
   ]
  },
  {
   "cell_type": "code",
   "execution_count": 132,
   "id": "8a9a8576",
   "metadata": {},
   "outputs": [],
   "source": [
    "def printName(first,second=\"Kim\"):\n",
    "    print('My name is', first, second+'.')"
   ]
  },
  {
   "cell_type": "code",
   "execution_count": 134,
   "id": "d3537c2a",
   "metadata": {},
   "outputs": [
    {
     "name": "stdout",
     "output_type": "stream",
     "text": [
      "My name is Gildong Hong.\n",
      "My name is Gildong Kim.\n"
     ]
    }
   ],
   "source": [
    "printName('Gildong', 'Hong')\n",
    "printName('Gildong') # second 변수에 대응되는 값을 주지 않았으므로\n",
    "                     # 정의할 때 지정한 'Kim'을 가짐\n"
   ]
  },
  {
   "cell_type": "markdown",
   "id": "3990b202",
   "metadata": {},
   "source": [
    "### 키워드 매개변수\n",
    "\n",
    "함수호출 시, 해당 매개변수 이름을 명시적으로 지정해서 전달"
   ]
  },
  {
   "cell_type": "code",
   "execution_count": 136,
   "id": "f4432440",
   "metadata": {},
   "outputs": [
    {
     "name": "stdout",
     "output_type": "stream",
     "text": [
      "60\n"
     ]
    }
   ],
   "source": [
    "def calc(x, y, z) :\n",
    "    return x+y+z\n",
    "result = calc(y=20, x=10, z=30) # 매개변수 순서 상관 없음\n",
    "print(result)"
   ]
  },
  {
   "cell_type": "code",
   "execution_count": 137,
   "id": "2b91191d",
   "metadata": {},
   "outputs": [
    {
     "ename": "TypeError",
     "evalue": "calc() got multiple values for argument 'y'",
     "output_type": "error",
     "traceback": [
      "\u001b[0;31m---------------------------------------------------------------------------\u001b[0m",
      "\u001b[0;31mTypeError\u001b[0m                                 Traceback (most recent call last)",
      "\u001b[0;32m<ipython-input-137-85dc727c25e4>\u001b[0m in \u001b[0;36m<module>\u001b[0;34m\u001b[0m\n\u001b[1;32m      3\u001b[0m \u001b[0mcalc\u001b[0m\u001b[0;34m(\u001b[0m\u001b[0my\u001b[0m\u001b[0;34m=\u001b[0m\u001b[0;36m20\u001b[0m\u001b[0;34m,\u001b[0m \u001b[0mx\u001b[0m\u001b[0;34m=\u001b[0m\u001b[0;36m10\u001b[0m\u001b[0;34m)\u001b[0m \u001b[0;31m# 정상\u001b[0m\u001b[0;34m\u001b[0m\u001b[0;34m\u001b[0m\u001b[0m\n\u001b[1;32m      4\u001b[0m \u001b[0mcalc\u001b[0m\u001b[0;34m(\u001b[0m\u001b[0;36m10\u001b[0m\u001b[0;34m,\u001b[0m \u001b[0my\u001b[0m\u001b[0;34m=\u001b[0m\u001b[0;36m30\u001b[0m\u001b[0;34m,\u001b[0m \u001b[0mz\u001b[0m\u001b[0;34m=\u001b[0m\u001b[0;36m20\u001b[0m\u001b[0;34m)\u001b[0m \u001b[0;31m# 정상\u001b[0m\u001b[0;34m\u001b[0m\u001b[0;34m\u001b[0m\u001b[0m\n\u001b[0;32m----> 5\u001b[0;31m \u001b[0mcalc\u001b[0m\u001b[0;34m(\u001b[0m\u001b[0;36m10\u001b[0m\u001b[0;34m,\u001b[0m \u001b[0;36m30\u001b[0m\u001b[0;34m,\u001b[0m \u001b[0my\u001b[0m\u001b[0;34m=\u001b[0m\u001b[0;36m20\u001b[0m\u001b[0;34m)\u001b[0m \u001b[0;31m# 에러 발생\u001b[0m\u001b[0;34m\u001b[0m\u001b[0;34m\u001b[0m\u001b[0m\n\u001b[0m",
      "\u001b[0;31mTypeError\u001b[0m: calc() got multiple values for argument 'y'"
     ]
    }
   ],
   "source": [
    "def calc(x, y=0, z=0) :\n",
    "    return x+y+z\n",
    "calc(y=20, x=10) # 정상\n",
    "calc(10, y=30, z=20) # 정상\n",
    "calc(10, 30, y=20) # 에러 발생"
   ]
  },
  {
   "cell_type": "markdown",
   "id": "a96380e6",
   "metadata": {},
   "source": [
    "### 반환 값이 여러 개인 함수\n",
    "\n",
    "튜플이나 리스트를 이용해 여러 개의 값을 반환할 수 있음"
   ]
  },
  {
   "cell_type": "code",
   "execution_count": 142,
   "id": "5af0d665",
   "metadata": {},
   "outputs": [],
   "source": [
    "# 파이썬은 , 로 연결하면 기본적으로 튜플로 인식함\n",
    "def add_and_mul(a,b):\n",
    "    return(a+b, a*b)\n",
    "\n",
    "add_res, mul_res = add_and_mul(3,4)"
   ]
  },
  {
   "cell_type": "code",
   "execution_count": 143,
   "id": "6de55ea6",
   "metadata": {},
   "outputs": [
    {
     "data": {
      "text/plain": [
       "7"
      ]
     },
     "execution_count": 143,
     "metadata": {},
     "output_type": "execute_result"
    }
   ],
   "source": [
    "add_res"
   ]
  },
  {
   "cell_type": "code",
   "execution_count": 141,
   "id": "566b2489",
   "metadata": {},
   "outputs": [
    {
     "data": {
      "text/plain": [
       "12"
      ]
     },
     "execution_count": 141,
     "metadata": {},
     "output_type": "execute_result"
    }
   ],
   "source": [
    "mul_res"
   ]
  },
  {
   "cell_type": "markdown",
   "id": "32fbb546",
   "metadata": {},
   "source": [
    "### 매개변수 종류\n",
    "\n",
    "- Mutable 타입의 매개변수\n",
    " - Call by Reference 방식과 동일\n",
    " \n",
    "- 리스트, 딕셔너리, 집합"
   ]
  },
  {
   "cell_type": "code",
   "execution_count": 146,
   "id": "94b91a23",
   "metadata": {},
   "outputs": [
    {
     "name": "stdout",
     "output_type": "stream",
     "text": [
      "10\n"
     ]
    }
   ],
   "source": [
    "# Mytable\n",
    "# 지역변수 / 전역변수 차이를 알고 함수 이해하기\n",
    "def test(a):\n",
    "    x = a\n",
    "\n",
    "x = 10\n",
    "test(1000)\n",
    "print(x)"
   ]
  },
  {
   "cell_type": "code",
   "execution_count": 153,
   "id": "70289906",
   "metadata": {},
   "outputs": [
    {
     "name": "stdout",
     "output_type": "stream",
     "text": [
      "10\n",
      "94664142425696\n",
      "94664142425696\n"
     ]
    }
   ],
   "source": [
    "def test(a):\n",
    "    x = a\n",
    "\n",
    "\n",
    "x = 10\n",
    "print(x)\n",
    "print(id(x))\n",
    "test(1000)\n",
    "print(id(x))"
   ]
  },
  {
   "cell_type": "code",
   "execution_count": 156,
   "id": "867b5d63",
   "metadata": {
    "scrolled": true
   },
   "outputs": [
    {
     "name": "stdout",
     "output_type": "stream",
     "text": [
      "[1, 2, 3]\n",
      "94664142425408\n",
      "94664142425440\n",
      "94664142425472\n",
      "140263838574016\n",
      "[1, 20, 3]\n",
      "94664142425408\n",
      "94664142426016\n",
      "94664142425472\n",
      "140263838574016\n"
     ]
    }
   ],
   "source": [
    "def test(a):\n",
    "    a[1] = 20\n",
    "    \n",
    "t = [1,2,3]\n",
    "\n",
    "print(t)\n",
    "print(id(t[0]))\n",
    "print(id(t[1]))\n",
    "print(id(t[2]))\n",
    "print(id(t))\n",
    "test(t)\n",
    "print(t)\n",
    "print(id(t[0]))\n",
    "print(id(t[1]))\n",
    "print(id(t[2]))\n",
    "print(id(t))"
   ]
  },
  {
   "cell_type": "code",
   "execution_count": 148,
   "id": "321eee90",
   "metadata": {},
   "outputs": [
    {
     "name": "stdout",
     "output_type": "stream",
     "text": [
      "{'c': 1, 'b': 3}\n"
     ]
    }
   ],
   "source": [
    "def test2(a):\n",
    "    a['b']=3\n",
    "    \n",
    "t = {'c':1}\n",
    "\n",
    "test2(t)\n",
    "print(t)"
   ]
  },
  {
   "cell_type": "markdown",
   "id": "81eac2a0",
   "metadata": {},
   "source": [
    "- Immutable 타입의 매개변수\n",
    " - Call by Value 방식과 동일"
   ]
  },
  {
   "cell_type": "code",
   "execution_count": 177,
   "id": "4459e580",
   "metadata": {},
   "outputs": [
    {
     "name": "stdout",
     "output_type": "stream",
     "text": [
      "(1, 2, 3, 4, 5, 6)\n",
      "(1, 2, 3)\n"
     ]
    }
   ],
   "source": [
    "def test(a):\n",
    "    a += (4, 5, 6)\n",
    "    print(a)\n",
    "    return a\n",
    "\n",
    "t = (1, 2, 3)\n",
    "test(t)\n",
    "print(t)"
   ]
  },
  {
   "cell_type": "code",
   "execution_count": 178,
   "id": "20b7f62c",
   "metadata": {},
   "outputs": [
    {
     "name": "stdout",
     "output_type": "stream",
     "text": [
      "1\n"
     ]
    }
   ],
   "source": [
    "def test(a):\n",
    "    a += 1\n",
    "    \n",
    "t = 1\n",
    "\n",
    "test(t)\n",
    "print(t)"
   ]
  },
  {
   "cell_type": "code",
   "execution_count": 180,
   "id": "f50402bb",
   "metadata": {},
   "outputs": [
    {
     "name": "stdout",
     "output_type": "stream",
     "text": [
      "(1, 2, 3)\n",
      "(1, 2, 3)\n"
     ]
    }
   ],
   "source": [
    "def test(a):\n",
    "    t = a\n",
    "    print(t)\n",
    "\n",
    "t = (1, 2, 3)\n",
    "test(t)\n",
    "print(t)"
   ]
  },
  {
   "cell_type": "code",
   "execution_count": 182,
   "id": "5fb6e83a",
   "metadata": {},
   "outputs": [
    {
     "ename": "TypeError",
     "evalue": "'tuple' object does not support item assignment",
     "output_type": "error",
     "traceback": [
      "\u001b[0;31m---------------------------------------------------------------------------\u001b[0m",
      "\u001b[0;31mTypeError\u001b[0m                                 Traceback (most recent call last)",
      "\u001b[0;32m<ipython-input-182-8f568a337ae0>\u001b[0m in \u001b[0;36m<module>\u001b[0;34m\u001b[0m\n\u001b[0;32m----> 1\u001b[0;31m \u001b[0mt\u001b[0m\u001b[0;34m[\u001b[0m\u001b[0;36m2\u001b[0m\u001b[0;34m]\u001b[0m \u001b[0;34m=\u001b[0m \u001b[0;36m3\u001b[0m\u001b[0;34m\u001b[0m\u001b[0;34m\u001b[0m\u001b[0m\n\u001b[0m",
      "\u001b[0;31mTypeError\u001b[0m: 'tuple' object does not support item assignment"
     ]
    }
   ],
   "source": [
    "t[2] = 3"
   ]
  },
  {
   "cell_type": "markdown",
   "id": "2d9a64f2",
   "metadata": {},
   "source": [
    "#### 실습문제 5\n",
    " "
   ]
  },
  {
   "cell_type": "code",
   "execution_count": 186,
   "id": "d2ea8260",
   "metadata": {},
   "outputs": [],
   "source": [
    "def get_min_max(l):\n",
    "    min_val = min(l)\n",
    "    max_val = max(l)\n",
    "    l.remove(min_val)\n",
    "    l.remove(max_val)\n",
    "    return min_val, max_val"
   ]
  },
  {
   "cell_type": "code",
   "execution_count": 187,
   "id": "b32bb8c7",
   "metadata": {},
   "outputs": [
    {
     "name": "stdout",
     "output_type": "stream",
     "text": [
      "1\n",
      "9\n",
      "[3, 5, 2]\n"
     ]
    }
   ],
   "source": [
    "l = [3,5,9,1,2]\n",
    "min_val, max_val = get_min_max(l)\n",
    "print(min_val)\n",
    "print(max_val)\n",
    "print(l)"
   ]
  },
  {
   "cell_type": "markdown",
   "id": "c667a4fd",
   "metadata": {},
   "source": [
    "## 외장함수\n",
    "\n",
    "### 난수 (Random Number) 생성\n",
    "\n",
    " - 난수는 random 모듈을 이용하여 생성"
   ]
  },
  {
   "cell_type": "code",
   "execution_count": 188,
   "id": "f54fa460",
   "metadata": {},
   "outputs": [],
   "source": [
    "import random"
   ]
  },
  {
   "cell_type": "markdown",
   "id": "1a64eace",
   "metadata": {},
   "source": [
    "- 리스트에서 랜덤하게 선택"
   ]
  },
  {
   "cell_type": "code",
   "execution_count": 189,
   "id": "4999bb5c",
   "metadata": {},
   "outputs": [
    {
     "data": {
      "text/plain": [
       "'d'"
      ]
     },
     "execution_count": 189,
     "metadata": {},
     "output_type": "execute_result"
    }
   ],
   "source": [
    "random.choice('abcdefg')"
   ]
  },
  {
   "cell_type": "markdown",
   "id": "2513f61a",
   "metadata": {},
   "source": [
    "- a 이상 b 이하인 임의의 정수 뽑기 (a,b: int 타입)"
   ]
  },
  {
   "cell_type": "code",
   "execution_count": 190,
   "id": "7b2c2961",
   "metadata": {},
   "outputs": [
    {
     "data": {
      "text/plain": [
       "300"
      ]
     },
     "execution_count": 190,
     "metadata": {},
     "output_type": "execute_result"
    }
   ],
   "source": [
    "random.randint(a,b)"
   ]
  },
  {
   "cell_type": "code",
   "execution_count": 191,
   "id": "6bb4db07",
   "metadata": {},
   "outputs": [
    {
     "data": {
      "text/plain": [
       "31"
      ]
     },
     "execution_count": 191,
     "metadata": {},
     "output_type": "execute_result"
    }
   ],
   "source": [
    "random.randrange(a,b+1)"
   ]
  },
  {
   "cell_type": "markdown",
   "id": "31ed9a60",
   "metadata": {},
   "source": [
    "### 실습문제 6\n",
    "\n",
    "로또 추첨 프로그램\n",
    "\n",
    " - 1~45 숫자 중 6개를 임의로 선택 후 출력\n",
    " - 단, 중복된 번호를 가질 수 없음"
   ]
  },
  {
   "cell_type": "code",
   "execution_count": 203,
   "id": "565b2b52",
   "metadata": {},
   "outputs": [
    {
     "name": "stdout",
     "output_type": "stream",
     "text": [
      "**로또 추첨을 시작합니다.**\n",
      "추첨된 로또 번호 == > [1, 6, 7, 17, 33, 46]\n"
     ]
    }
   ],
   "source": [
    "print(\"**로또 추첨을 시작합니다.**\")\n",
    "num_list = sorted(random.sample(range(47),6))\n",
    "print(\"추첨된 로또 번호 == >\", num_list)"
   ]
  },
  {
   "cell_type": "code",
   "execution_count": 201,
   "id": "0aa0af9e",
   "metadata": {},
   "outputs": [
    {
     "data": {
      "text/plain": [
       "[4, 7, 12, 19, 31, 37]"
      ]
     },
     "execution_count": 201,
     "metadata": {},
     "output_type": "execute_result"
    }
   ],
   "source": [
    "num_list"
   ]
  },
  {
   "cell_type": "markdown",
   "id": "6cd3e508",
   "metadata": {},
   "source": [
    "### 실습문제 8"
   ]
  },
  {
   "cell_type": "code",
   "execution_count": 297,
   "id": "2fb33737",
   "metadata": {},
   "outputs": [
    {
     "name": "stdout",
     "output_type": "stream",
     "text": [
      "{'r': 1, 'p': 2, 'e': 2, 'l': 1, 'd': 1, 'a': 1, ' ': 1}\n",
      "p\n"
     ]
    }
   ],
   "source": [
    "def letter_dict(sen):\n",
    "    dict_a = {}\n",
    "    for i in set(sen):\n",
    "        dict_a[i] = sen.count(i)\n",
    "        \n",
    "    return dict_a\n",
    "\n",
    "def max_letter(dict_a):\n",
    "    list_a = list(dict_a.items())\n",
    "    max_val = max(dict_a.values())\n",
    "    for k, v in list_a:\n",
    "        if v == max_val:\n",
    "            max_k = k\n",
    "            break    \n",
    "    return max_k\n",
    "        \n",
    "\n",
    "a = letter_dict('red apple')\n",
    "print(a)\n",
    "print(max_letter(a))"
   ]
  },
  {
   "cell_type": "markdown",
   "id": "739965d6",
   "metadata": {},
   "source": [
    "### 실습문제 9"
   ]
  },
  {
   "cell_type": "code",
   "execution_count": 329,
   "id": "80cff2f8",
   "metadata": {},
   "outputs": [
    {
     "name": "stdout",
     "output_type": "stream",
     "text": [
      "{'r': 1, 'p': 2, 'e': 3, 'l': 3, 'd': 1, 'a': 4, ' ': 2, 'y': 1, 'w': 1, 'o': 1, 'b': 1, 'n': 2}\n",
      "a\n"
     ]
    }
   ],
   "source": [
    "def comb_dict(dict1,dict2):\n",
    "    new_dict = {}\n",
    "    max_dict = {}\n",
    "    new_dict.update(dict1)\n",
    "    new_dict.update(dict2)\n",
    "    \n",
    "    for k_1,v_1 in dict1.items():\n",
    "        if k_1 in dict2.keys():\n",
    "            max_dict[k_1] = v_1 + dict2[k_1]\n",
    "        else:\n",
    "            max_dict[k_1] = v_1\n",
    "    \n",
    "    new_dict.update(max_dict)  \n",
    "    \n",
    "    return new_dict\n",
    "\n",
    "\n",
    "a = letter_dict('red apple')\n",
    "b = letter_dict('yellow banana')\n",
    "c = comb_dict(a,b)\n",
    "print(c)\n",
    "print(max_letter(c))"
   ]
  },
  {
   "cell_type": "code",
   "execution_count": 324,
   "id": "8c3d0cee",
   "metadata": {},
   "outputs": [
    {
     "data": {
      "text/plain": [
       "dict_items([('y', 1), ('w', 1), ('e', 1), ('l', 2), ('a', 3), ('o', 1), ('b', 1), ('n', 2), (' ', 1)])"
      ]
     },
     "execution_count": 324,
     "metadata": {},
     "output_type": "execute_result"
    }
   ],
   "source": [
    "b.items()"
   ]
  },
  {
   "cell_type": "code",
   "execution_count": 302,
   "id": "db9ae87a",
   "metadata": {},
   "outputs": [
    {
     "data": {
      "text/plain": [
       "{'y': 1, 'w': 1, 'e': 1, 'l': 2, 'a': 3, 'o': 1, 'b': 1, 'n': 2, ' ': 1}"
      ]
     },
     "execution_count": 302,
     "metadata": {},
     "output_type": "execute_result"
    }
   ],
   "source": [
    "b"
   ]
  },
  {
   "cell_type": "code",
   "execution_count": 315,
   "id": "9bba2c23",
   "metadata": {
    "collapsed": true
   },
   "outputs": [
    {
     "name": "stdout",
     "output_type": "stream",
     "text": [
      "2\n",
      "1\n",
      "1\n",
      "2\n",
      "1\n",
      "3\n",
      "1\n",
      "1\n"
     ]
    }
   ],
   "source": [
    "c ={}\n",
    "\n",
    "for k_1,v_1 in a.items():\n",
    "    for k_2, v_2 in b.items():\n",
    "        if k_1 == k_2:\n",
    "#             print(v_1)\n",
    "#             print(v_2)\n",
    "            c[k_1] = v_1 + v_2\n",
    "        else:\n",
    "            c[k_2] = v_2"
   ]
  },
  {
   "cell_type": "code",
   "execution_count": 326,
   "id": "27bda0ef",
   "metadata": {},
   "outputs": [],
   "source": [
    "c ={'r':1, 'e':3, 'd':1, ' ':2,\n",
    "'a':4, 'p':2, 'l':3, 'y':1,\n",
    "'o':1, 'w':1 , 'b':1, 'n':2}"
   ]
  },
  {
   "cell_type": "code",
   "execution_count": 327,
   "id": "c4c90c2f",
   "metadata": {},
   "outputs": [],
   "source": [
    "c.update(b)"
   ]
  },
  {
   "cell_type": "code",
   "execution_count": 328,
   "id": "75e83cf6",
   "metadata": {},
   "outputs": [
    {
     "data": {
      "text/plain": [
       "{'r': 1,\n",
       " 'e': 1,\n",
       " 'd': 1,\n",
       " ' ': 1,\n",
       " 'a': 3,\n",
       " 'p': 2,\n",
       " 'l': 2,\n",
       " 'y': 1,\n",
       " 'o': 1,\n",
       " 'w': 1,\n",
       " 'b': 1,\n",
       " 'n': 2}"
      ]
     },
     "execution_count": 328,
     "metadata": {},
     "output_type": "execute_result"
    }
   ],
   "source": [
    "c"
   ]
  },
  {
   "cell_type": "code",
   "execution_count": null,
   "id": "6e696e9b",
   "metadata": {},
   "outputs": [],
   "source": [
    "stu_list "
   ]
  }
 ],
 "metadata": {
  "kernelspec": {
   "display_name": "Python 3",
   "language": "python",
   "name": "python3"
  },
  "language_info": {
   "codemirror_mode": {
    "name": "ipython",
    "version": 3
   },
   "file_extension": ".py",
   "mimetype": "text/x-python",
   "name": "python",
   "nbconvert_exporter": "python",
   "pygments_lexer": "ipython3",
   "version": "3.8.8"
  }
 },
 "nbformat": 4,
 "nbformat_minor": 5
}
