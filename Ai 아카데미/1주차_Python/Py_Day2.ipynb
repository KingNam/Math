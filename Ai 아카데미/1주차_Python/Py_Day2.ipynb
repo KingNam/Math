{
 "cells": [
  {
   "cell_type": "markdown",
   "id": "ff5f3a07",
   "metadata": {},
   "source": [
    "## 실습문제 4 풀이\n",
    "\n",
    "map 함수를 활용하여 한번에 정수형으로 변환"
   ]
  },
  {
   "cell_type": "code",
   "execution_count": 3,
   "id": "db9d3001",
   "metadata": {},
   "outputs": [
    {
     "name": "stdout",
     "output_type": "stream",
     "text": [
      "연/월/일: 2/2/2\n"
     ]
    }
   ],
   "source": [
    "date = input(\"연/월/일: \")\n",
    "date_list = date.split('/')\n",
    "\n",
    "date_list = list(map(int, date_list))"
   ]
  },
  {
   "cell_type": "code",
   "execution_count": 4,
   "id": "7218b220",
   "metadata": {},
   "outputs": [
    {
     "data": {
      "text/plain": [
       "int"
      ]
     },
     "execution_count": 4,
     "metadata": {},
     "output_type": "execute_result"
    }
   ],
   "source": [
    "type(date_list[0])"
   ]
  },
  {
   "cell_type": "markdown",
   "id": "b306f0a4",
   "metadata": {},
   "source": [
    "# 조건문 / 반복문"
   ]
  },
  {
   "cell_type": "markdown",
   "id": "6b4b015e",
   "metadata": {},
   "source": [
    "## bool 자료형\n",
    " - True와 False의 두 가지 값을 나타내는 자료"
   ]
  },
  {
   "cell_type": "code",
   "execution_count": 5,
   "id": "6b5dc243",
   "metadata": {},
   "outputs": [
    {
     "name": "stdout",
     "output_type": "stream",
     "text": [
      "True\n"
     ]
    }
   ],
   "source": [
    "result = 3>2\n",
    "print(result)"
   ]
  },
  {
   "cell_type": "code",
   "execution_count": 6,
   "id": "6719e13b",
   "metadata": {},
   "outputs": [
    {
     "data": {
      "text/plain": [
       "bool"
      ]
     },
     "execution_count": 6,
     "metadata": {},
     "output_type": "execute_result"
    }
   ],
   "source": [
    "type(result)"
   ]
  },
  {
   "cell_type": "code",
   "execution_count": 7,
   "id": "e406c502",
   "metadata": {},
   "outputs": [
    {
     "data": {
      "text/plain": [
       "False"
      ]
     },
     "execution_count": 7,
     "metadata": {},
     "output_type": "execute_result"
    }
   ],
   "source": [
    "bool(0)"
   ]
  },
  {
   "cell_type": "code",
   "execution_count": 9,
   "id": "d89ad122",
   "metadata": {},
   "outputs": [
    {
     "data": {
      "text/plain": [
       "True"
      ]
     },
     "execution_count": 9,
     "metadata": {},
     "output_type": "execute_result"
    }
   ],
   "source": [
    "bool('adfasf')"
   ]
  },
  {
   "cell_type": "code",
   "execution_count": 10,
   "id": "0c437627",
   "metadata": {},
   "outputs": [],
   "source": [
    "a= 99"
   ]
  },
  {
   "cell_type": "code",
   "execution_count": 11,
   "id": "0c5d90cf",
   "metadata": {},
   "outputs": [
    {
     "data": {
      "text/plain": [
       "False"
      ]
     },
     "execution_count": 11,
     "metadata": {},
     "output_type": "execute_result"
    }
   ],
   "source": [
    "(a>100) and (a<200)"
   ]
  },
  {
   "cell_type": "markdown",
   "id": "4ddb59e4",
   "metadata": {},
   "source": [
    "#### 논리 연산자\n",
    "\n",
    "연산의 결과는 항상 참 또는 거짓"
   ]
  },
  {
   "cell_type": "code",
   "execution_count": 13,
   "id": "2e4e1ba3",
   "metadata": {},
   "outputs": [],
   "source": [
    "# (30<=x) & (70>=x)"
   ]
  },
  {
   "cell_type": "code",
   "execution_count": 14,
   "id": "de89667a",
   "metadata": {},
   "outputs": [],
   "source": [
    "# 파이썬은 30 <= x <= 70 으로 써도 상관없음"
   ]
  },
  {
   "cell_type": "code",
   "execution_count": 15,
   "id": "01e3252f",
   "metadata": {},
   "outputs": [],
   "source": [
    "# a = 200\n",
    "\n",
    "# if a<100:\n",
    "#     print(\"참\")\n",
    "#     print(\"100보다 작다\")"
   ]
  },
  {
   "cell_type": "code",
   "execution_count": 16,
   "id": "80274627",
   "metadata": {},
   "outputs": [
    {
     "ename": "KeyboardInterrupt",
     "evalue": "Interrupted by user",
     "output_type": "error",
     "traceback": [
      "\u001b[0;31m---------------------------------------------------------------------------\u001b[0m",
      "\u001b[0;31mKeyboardInterrupt\u001b[0m                         Traceback (most recent call last)",
      "\u001b[0;32m<ipython-input-16-23387df6e9e1>\u001b[0m in \u001b[0;36m<module>\u001b[0;34m\u001b[0m\n\u001b[0;32m----> 1\u001b[0;31m \u001b[0men\u001b[0m \u001b[0;34m=\u001b[0m \u001b[0mint\u001b[0m\u001b[0;34m(\u001b[0m\u001b[0minput\u001b[0m\u001b[0;34m(\u001b[0m\u001b[0;34m\"영어 점수 입력: \"\u001b[0m\u001b[0;34m)\u001b[0m\u001b[0;34m)\u001b[0m\u001b[0;34m\u001b[0m\u001b[0;34m\u001b[0m\u001b[0m\n\u001b[0m\u001b[1;32m      2\u001b[0m \u001b[0mmt\u001b[0m \u001b[0;34m=\u001b[0m \u001b[0mint\u001b[0m\u001b[0;34m(\u001b[0m\u001b[0minput\u001b[0m\u001b[0;34m(\u001b[0m\u001b[0;34m\"수학 점수 입력: \"\u001b[0m\u001b[0;34m)\u001b[0m\u001b[0;34m)\u001b[0m\u001b[0;34m\u001b[0m\u001b[0;34m\u001b[0m\u001b[0m\n\u001b[1;32m      3\u001b[0m \u001b[0;34m\u001b[0m\u001b[0m\n\u001b[1;32m      4\u001b[0m \u001b[0mtotal\u001b[0m \u001b[0;34m=\u001b[0m \u001b[0men\u001b[0m \u001b[0;34m+\u001b[0m \u001b[0mmt\u001b[0m\u001b[0;34m\u001b[0m\u001b[0;34m\u001b[0m\u001b[0m\n",
      "\u001b[0;32m~/anaconda3/lib/python3.8/site-packages/ipykernel/kernelbase.py\u001b[0m in \u001b[0;36mraw_input\u001b[0;34m(self, prompt)\u001b[0m\n\u001b[1;32m    858\u001b[0m                 \u001b[0;34m\"raw_input was called, but this frontend does not support input requests.\"\u001b[0m\u001b[0;34m\u001b[0m\u001b[0;34m\u001b[0m\u001b[0m\n\u001b[1;32m    859\u001b[0m             )\n\u001b[0;32m--> 860\u001b[0;31m         return self._input_request(str(prompt),\n\u001b[0m\u001b[1;32m    861\u001b[0m             \u001b[0mself\u001b[0m\u001b[0;34m.\u001b[0m\u001b[0m_parent_ident\u001b[0m\u001b[0;34m,\u001b[0m\u001b[0;34m\u001b[0m\u001b[0;34m\u001b[0m\u001b[0m\n\u001b[1;32m    862\u001b[0m             \u001b[0mself\u001b[0m\u001b[0;34m.\u001b[0m\u001b[0m_parent_header\u001b[0m\u001b[0;34m,\u001b[0m\u001b[0;34m\u001b[0m\u001b[0;34m\u001b[0m\u001b[0m\n",
      "\u001b[0;32m~/anaconda3/lib/python3.8/site-packages/ipykernel/kernelbase.py\u001b[0m in \u001b[0;36m_input_request\u001b[0;34m(self, prompt, ident, parent, password)\u001b[0m\n\u001b[1;32m    902\u001b[0m             \u001b[0;32mexcept\u001b[0m \u001b[0mKeyboardInterrupt\u001b[0m\u001b[0;34m:\u001b[0m\u001b[0;34m\u001b[0m\u001b[0;34m\u001b[0m\u001b[0m\n\u001b[1;32m    903\u001b[0m                 \u001b[0;31m# re-raise KeyboardInterrupt, to truncate traceback\u001b[0m\u001b[0;34m\u001b[0m\u001b[0;34m\u001b[0m\u001b[0;34m\u001b[0m\u001b[0m\n\u001b[0;32m--> 904\u001b[0;31m                 \u001b[0;32mraise\u001b[0m \u001b[0mKeyboardInterrupt\u001b[0m\u001b[0;34m(\u001b[0m\u001b[0;34m\"Interrupted by user\"\u001b[0m\u001b[0;34m)\u001b[0m \u001b[0;32mfrom\u001b[0m \u001b[0;32mNone\u001b[0m\u001b[0;34m\u001b[0m\u001b[0;34m\u001b[0m\u001b[0m\n\u001b[0m\u001b[1;32m    905\u001b[0m             \u001b[0;32mexcept\u001b[0m \u001b[0mException\u001b[0m \u001b[0;32mas\u001b[0m \u001b[0me\u001b[0m\u001b[0;34m:\u001b[0m\u001b[0;34m\u001b[0m\u001b[0;34m\u001b[0m\u001b[0m\n\u001b[1;32m    906\u001b[0m                 \u001b[0mself\u001b[0m\u001b[0;34m.\u001b[0m\u001b[0mlog\u001b[0m\u001b[0;34m.\u001b[0m\u001b[0mwarning\u001b[0m\u001b[0;34m(\u001b[0m\u001b[0;34m\"Invalid Message:\"\u001b[0m\u001b[0;34m,\u001b[0m \u001b[0mexc_info\u001b[0m\u001b[0;34m=\u001b[0m\u001b[0;32mTrue\u001b[0m\u001b[0;34m)\u001b[0m\u001b[0;34m\u001b[0m\u001b[0;34m\u001b[0m\u001b[0m\n",
      "\u001b[0;31mKeyboardInterrupt\u001b[0m: Interrupted by user"
     ]
    }
   ],
   "source": [
    "en = int(input(\"영어 점수 입력: \"))\n",
    "mt = int(input(\"수학 점수 입력: \"))\n",
    "\n",
    "total = en + mt"
   ]
  },
  {
   "cell_type": "markdown",
   "id": "35acbf37",
   "metadata": {},
   "source": [
    "### 조건문 실습 2\n",
    "\n",
    "map 함수 사용하여 int로 처리하기"
   ]
  },
  {
   "cell_type": "markdown",
   "id": "cf014812",
   "metadata": {},
   "source": [
    "#### while 문"
   ]
  },
  {
   "cell_type": "code",
   "execution_count": 17,
   "id": "5aecbf04",
   "metadata": {},
   "outputs": [
    {
     "name": "stdout",
     "output_type": "stream",
     "text": [
      "1\n",
      "2\n",
      "3\n",
      "4\n",
      "5\n"
     ]
    }
   ],
   "source": [
    "number = 1\n",
    "while number <=5:\n",
    "    print(number)\n",
    "    number += 1"
   ]
  },
  {
   "cell_type": "markdown",
   "id": "0183463c",
   "metadata": {},
   "source": [
    "실행결과를 한 줄에 이어서 출력하려면?"
   ]
  },
  {
   "cell_type": "code",
   "execution_count": 32,
   "id": "0635fa81",
   "metadata": {},
   "outputs": [
    {
     "name": "stdout",
     "output_type": "stream",
     "text": [
      "1->2->3->4->5->"
     ]
    }
   ],
   "source": [
    "number = 1\n",
    "while number <=5:\n",
    "    print(number, end= '->')\n",
    "    number += 1"
   ]
  },
  {
   "cell_type": "markdown",
   "id": "2386cbd3",
   "metadata": {},
   "source": [
    "#### while 문 \n",
    "\n",
    "1 부터 10까지의 합"
   ]
  },
  {
   "cell_type": "code",
   "execution_count": 31,
   "id": "c81a995a",
   "metadata": {},
   "outputs": [
    {
     "name": "stdout",
     "output_type": "stream",
     "text": [
      "1\n",
      "3\n",
      "6\n",
      "10\n",
      "15\n",
      "21\n",
      "28\n",
      "36\n",
      "45\n",
      "55\n"
     ]
    }
   ],
   "source": [
    "total = 0\n",
    "num = 0\n",
    "while num <= 9:\n",
    "    num += 1\n",
    "    total += num\n",
    "    print(total)\n",
    "    \n"
   ]
  },
  {
   "cell_type": "markdown",
   "id": "983feab1",
   "metadata": {},
   "source": [
    "## for 문"
   ]
  },
  {
   "cell_type": "code",
   "execution_count": 33,
   "id": "632a545f",
   "metadata": {},
   "outputs": [
    {
     "name": "stdout",
     "output_type": "stream",
     "text": [
      "Hello world!\n",
      "Hello world!\n",
      "Hello world!\n",
      "Hello world!\n",
      "Hello world!\n"
     ]
    }
   ],
   "source": [
    "for x in range(5):\n",
    "    print(\"Hello world!\")"
   ]
  },
  {
   "cell_type": "code",
   "execution_count": 34,
   "id": "740d8770",
   "metadata": {},
   "outputs": [
    {
     "name": "stdout",
     "output_type": "stream",
     "text": [
      "1\n",
      "5\n",
      "36\n",
      "4\n"
     ]
    }
   ],
   "source": [
    "for x in [1,5,36,4]:\n",
    "    print(x)"
   ]
  },
  {
   "cell_type": "markdown",
   "id": "7dc6caa3",
   "metadata": {},
   "source": [
    "### range() 함수\n",
    "\n",
    "range(start, stop, step)"
   ]
  },
  {
   "cell_type": "markdown",
   "id": "1909630b",
   "metadata": {},
   "source": [
    "### break\n",
    "\n",
    "반복문 순회 도중 break 문을 만나면 내부 블록 벗어남"
   ]
  },
  {
   "cell_type": "markdown",
   "id": "5d7d1e5c",
   "metadata": {},
   "source": [
    "### continue\n",
    "\n",
    "반복문 순회 도중 continue 문을 만나면 그 아래의 문장은 해당 반복에 한해서 건너뛴다."
   ]
  },
  {
   "cell_type": "code",
   "execution_count": 41,
   "id": "39040da9",
   "metadata": {},
   "outputs": [
    {
     "name": "stdout",
     "output_type": "stream",
     "text": [
      "1\n",
      "2\n",
      "3\n",
      "4\n",
      "5\n",
      "1\n",
      "2\n",
      "3\n",
      "4\n",
      "5\n",
      "1\n",
      "2\n",
      "3\n",
      "4\n",
      "5\n",
      "1\n",
      "2\n",
      "3\n",
      "4\n",
      "5\n"
     ]
    }
   ],
   "source": [
    "for j in range(1,5):\n",
    "    for i in range(1,11):\n",
    "        if i > 5:\n",
    "            break\n",
    "        print(i)"
   ]
  },
  {
   "cell_type": "code",
   "execution_count": 39,
   "id": "15d6c58c",
   "metadata": {},
   "outputs": [
    {
     "name": "stdout",
     "output_type": "stream",
     "text": [
      "1\n",
      "3\n",
      "5\n",
      "7\n",
      "9\n"
     ]
    }
   ],
   "source": [
    "for i in range(1,11):\n",
    "    if i%2 == 0: continue\n",
    "    print(i)"
   ]
  },
  {
   "cell_type": "markdown",
   "id": "ab22b405",
   "metadata": {},
   "source": [
    "### 리스트 관련 함수"
   ]
  },
  {
   "cell_type": "code",
   "execution_count": 44,
   "id": "b4e8500d",
   "metadata": {},
   "outputs": [],
   "source": [
    "# 생성\n",
    "\n",
    "colors = list()"
   ]
  },
  {
   "cell_type": "code",
   "execution_count": 50,
   "id": "43275da9",
   "metadata": {},
   "outputs": [],
   "source": [
    "# 리스트 이름.append(x)\n",
    "\n",
    "colors.append(\"red\")\n",
    "colors.append(\"yellow\")\n",
    "colors.append(\"green\")\n",
    "colors.append(\"blue\")\n"
   ]
  },
  {
   "cell_type": "code",
   "execution_count": 51,
   "id": "8032ae1b",
   "metadata": {},
   "outputs": [
    {
     "data": {
      "text/plain": [
       "['yellow', 'green', 'blue', 'red', 'yellow', 'green', 'blue']"
      ]
     },
     "execution_count": 51,
     "metadata": {},
     "output_type": "execute_result"
    }
   ],
   "source": [
    "colors"
   ]
  },
  {
   "cell_type": "code",
   "execution_count": 54,
   "id": "0946b54d",
   "metadata": {},
   "outputs": [
    {
     "ename": "ValueError",
     "evalue": "list.remove(x): x not in list",
     "output_type": "error",
     "traceback": [
      "\u001b[0;31m---------------------------------------------------------------------------\u001b[0m",
      "\u001b[0;31mValueError\u001b[0m                                Traceback (most recent call last)",
      "\u001b[0;32m<ipython-input-54-5fc42b1a398f>\u001b[0m in \u001b[0;36m<module>\u001b[0;34m\u001b[0m\n\u001b[1;32m      2\u001b[0m \u001b[0;31m# 항목 삭제시 에러나면 \"in\" 키워드 사용하기\u001b[0m\u001b[0;34m\u001b[0m\u001b[0;34m\u001b[0m\u001b[0;34m\u001b[0m\u001b[0m\n\u001b[1;32m      3\u001b[0m \u001b[0;34m\u001b[0m\u001b[0m\n\u001b[0;32m----> 4\u001b[0;31m \u001b[0mcolors\u001b[0m\u001b[0;34m.\u001b[0m\u001b[0mremove\u001b[0m\u001b[0;34m(\u001b[0m\u001b[0;34m\"red\"\u001b[0m\u001b[0;34m)\u001b[0m\u001b[0;34m\u001b[0m\u001b[0;34m\u001b[0m\u001b[0m\n\u001b[0m",
      "\u001b[0;31mValueError\u001b[0m: list.remove(x): x not in list"
     ]
    }
   ],
   "source": [
    "# 리스트 항목 삭제\n",
    "# 항목 삭제시 에러나면 \"in\" 키워드 사용하기\n",
    "\n",
    "colors.remove(\"red\")"
   ]
  },
  {
   "cell_type": "code",
   "execution_count": 53,
   "id": "a00a0ba6",
   "metadata": {},
   "outputs": [
    {
     "data": {
      "text/plain": [
       "['yellow', 'green', 'blue', 'yellow', 'green', 'blue']"
      ]
     },
     "execution_count": 53,
     "metadata": {},
     "output_type": "execute_result"
    }
   ],
   "source": [
    "colors"
   ]
  },
  {
   "cell_type": "code",
   "execution_count": 55,
   "id": "4ccc7f63",
   "metadata": {},
   "outputs": [
    {
     "name": "stdout",
     "output_type": "stream",
     "text": [
      "없다\n"
     ]
    }
   ],
   "source": [
    "if \"orange\" in colors:\n",
    "    colors.remove(\"red\")\n",
    "else:\n",
    "    print(\"없다\")"
   ]
  },
  {
   "cell_type": "markdown",
   "id": "9fe29ce0",
   "metadata": {},
   "source": [
    "### 리스트 정렬\n",
    "\n",
    "리스트이름.sort(): 리스트의 항목을 오름차순으로 정렬 / 리턴값이 없음\n",
    "\n",
    "sorted(리스트이름): 리턴값이 있음.\n",
    "\n",
    "리스트이름.reverse(): 리스트 항목을 뒤집어줌"
   ]
  },
  {
   "cell_type": "code",
   "execution_count": 56,
   "id": "1d637de7",
   "metadata": {},
   "outputs": [
    {
     "data": {
      "text/plain": [
       "[1, 2, 4, 5, 6, 8]"
      ]
     },
     "execution_count": 56,
     "metadata": {},
     "output_type": "execute_result"
    }
   ],
   "source": [
    "a = [1,5,6,8,4,2]\n",
    "\n",
    "sorted(a)"
   ]
  },
  {
   "cell_type": "code",
   "execution_count": 57,
   "id": "12cf9e7c",
   "metadata": {},
   "outputs": [
    {
     "data": {
      "text/plain": [
       "[1, 5, 6, 8, 4, 2]"
      ]
     },
     "execution_count": 57,
     "metadata": {},
     "output_type": "execute_result"
    }
   ],
   "source": [
    "a"
   ]
  },
  {
   "cell_type": "code",
   "execution_count": 58,
   "id": "7618fe8f",
   "metadata": {},
   "outputs": [],
   "source": [
    "a.sort()"
   ]
  },
  {
   "cell_type": "code",
   "execution_count": 59,
   "id": "e255dfd6",
   "metadata": {},
   "outputs": [
    {
     "data": {
      "text/plain": [
       "[1, 2, 4, 5, 6, 8]"
      ]
     },
     "execution_count": 59,
     "metadata": {},
     "output_type": "execute_result"
    }
   ],
   "source": [
    "a"
   ]
  },
  {
   "cell_type": "code",
   "execution_count": 60,
   "id": "9f6d902f",
   "metadata": {},
   "outputs": [],
   "source": [
    "a1 = a.sort()"
   ]
  },
  {
   "cell_type": "code",
   "execution_count": 61,
   "id": "c50165a7",
   "metadata": {},
   "outputs": [
    {
     "name": "stdout",
     "output_type": "stream",
     "text": [
      "None\n"
     ]
    }
   ],
   "source": [
    "print(a1)"
   ]
  },
  {
   "cell_type": "code",
   "execution_count": 64,
   "id": "f05b51c7",
   "metadata": {},
   "outputs": [],
   "source": [
    "num_list = list(range(1,11))"
   ]
  },
  {
   "cell_type": "code",
   "execution_count": 65,
   "id": "368af232",
   "metadata": {},
   "outputs": [
    {
     "data": {
      "text/plain": [
       "[1, 2, 3, 4, 5, 6, 7, 8, 9, 10]"
      ]
     },
     "execution_count": 65,
     "metadata": {},
     "output_type": "execute_result"
    }
   ],
   "source": [
    "num_list"
   ]
  },
  {
   "cell_type": "code",
   "execution_count": 66,
   "id": "847bd9d1",
   "metadata": {},
   "outputs": [
    {
     "data": {
      "text/plain": [
       "10"
      ]
     },
     "execution_count": 66,
     "metadata": {},
     "output_type": "execute_result"
    }
   ],
   "source": [
    "max(num_list)"
   ]
  },
  {
   "cell_type": "code",
   "execution_count": 67,
   "id": "259c11c2",
   "metadata": {},
   "outputs": [
    {
     "data": {
      "text/plain": [
       "1"
      ]
     },
     "execution_count": 67,
     "metadata": {},
     "output_type": "execute_result"
    }
   ],
   "source": [
    "min(num_list)"
   ]
  },
  {
   "cell_type": "code",
   "execution_count": 68,
   "id": "93e2712d",
   "metadata": {},
   "outputs": [
    {
     "data": {
      "text/plain": [
       "10"
      ]
     },
     "execution_count": 68,
     "metadata": {},
     "output_type": "execute_result"
    }
   ],
   "source": [
    "len(num_list)"
   ]
  },
  {
   "cell_type": "code",
   "execution_count": 74,
   "id": "3d23409d",
   "metadata": {},
   "outputs": [
    {
     "data": {
      "text/plain": [
       "55"
      ]
     },
     "execution_count": 74,
     "metadata": {},
     "output_type": "execute_result"
    }
   ],
   "source": [
    "del sum\n",
    "\n",
    "sum(num_list)"
   ]
  },
  {
   "cell_type": "code",
   "execution_count": 72,
   "id": "90c5d5a1",
   "metadata": {},
   "outputs": [
    {
     "ename": "TypeError",
     "evalue": "'int' object is not callable",
     "output_type": "error",
     "traceback": [
      "\u001b[0;31m---------------------------------------------------------------------------\u001b[0m",
      "\u001b[0;31mTypeError\u001b[0m                                 Traceback (most recent call last)",
      "\u001b[0;32m<ipython-input-72-1b251a95404d>\u001b[0m in \u001b[0;36m<module>\u001b[0;34m\u001b[0m\n\u001b[1;32m      1\u001b[0m \u001b[0msum\u001b[0m \u001b[0;34m=\u001b[0m \u001b[0;36m10\u001b[0m\u001b[0;34m\u001b[0m\u001b[0;34m\u001b[0m\u001b[0m\n\u001b[0;32m----> 2\u001b[0;31m \u001b[0msum\u001b[0m\u001b[0;34m(\u001b[0m\u001b[0mnum_list\u001b[0m\u001b[0;34m)\u001b[0m\u001b[0;34m\u001b[0m\u001b[0;34m\u001b[0m\u001b[0m\n\u001b[0m\u001b[1;32m      3\u001b[0m \u001b[0;32mdel\u001b[0m \u001b[0msum\u001b[0m\u001b[0;34m\u001b[0m\u001b[0;34m\u001b[0m\u001b[0m\n",
      "\u001b[0;31mTypeError\u001b[0m: 'int' object is not callable"
     ]
    }
   ],
   "source": [
    "sum = 10\n",
    "sum(num_list)"
   ]
  },
  {
   "cell_type": "markdown",
   "id": "f8efe06e",
   "metadata": {},
   "source": [
    "### 리스트 실습1\n",
    "\n",
    "\"done\"을 입력할 때까지 사용자로부터 숫자를 입력 받아 리스트에 저장하고, \"done\"을 입력하면, \n",
    "\n",
    "리스트의 평균, 최대값, 최소값을 출력하는 프로그램을 작성하시오. (sum / max / min 사용)"
   ]
  },
  {
   "cell_type": "code",
   "execution_count": 96,
   "id": "469b379e",
   "metadata": {},
   "outputs": [
    {
     "name": "stdout",
     "output_type": "stream",
     "text": [
      "Enter a number: 5\n",
      "Enter a number: 7\n",
      "Enter a number: 8\n",
      "Enter a number: d\n",
      "it's not number. Try again\n",
      "Enter a number: done\n",
      "[5.0, 7.0, 8.0]\n",
      "8.0\n",
      "5.0\n",
      "6.7\n"
     ]
    }
   ],
   "source": [
    "data_list = []\n",
    "while True:\n",
    "    data = input(\"Enter a number: \")\n",
    "    if data == \"done\":\n",
    "        break\n",
    "    elif data.isalpha() :\n",
    "        print(\"it's not number. Try again\")\n",
    "    else:\n",
    "        data_list.append(float(data))\n",
    "    \n",
    "print(data_list)\n",
    "print(max(data_list))\n",
    "print(min(data_list))\n",
    "print(\"%.1f\" %(sum(data_list)/len(data_list)))\n",
    "\n",
    "    \n",
    "    \n",
    "\n",
    "\n"
   ]
  },
  {
   "cell_type": "markdown",
   "id": "b7389d2a",
   "metadata": {},
   "source": [
    "### 실습 2: ★ 출력하기\n",
    "\n",
    "1) Nested loop 로도 처리해보기\n",
    "\n",
    "2) 몫을 이용해서 해보기\n",
    "\n",
    "input an integer: 311\n",
    "\n",
    "★★★\n",
    "\n",
    "★\n",
    "\n",
    "★"
   ]
  },
  {
   "cell_type": "code",
   "execution_count": 97,
   "id": "93a83044",
   "metadata": {},
   "outputs": [
    {
     "name": "stdout",
     "output_type": "stream",
     "text": [
      "input an integer: 948421357\n",
      "★★★★★★★★★\n",
      "★★★★\n",
      "★★★★★★★★\n",
      "★★★★\n",
      "★★\n",
      "★\n",
      "★★★\n",
      "★★★★★\n",
      "★★★★★★★\n"
     ]
    }
   ],
   "source": [
    "chr_list = input(\"input an integer: \")\n",
    "for i in chr_list:\n",
    "    print(\"★\" * int(i))"
   ]
  },
  {
   "cell_type": "code",
   "execution_count": 91,
   "id": "e4c0e8e4",
   "metadata": {},
   "outputs": [
    {
     "data": {
      "text/plain": [
       "True"
      ]
     },
     "execution_count": 91,
     "metadata": {},
     "output_type": "execute_result"
    }
   ],
   "source": [
    "a = 1\n",
    "\"A\".isalpha()"
   ]
  },
  {
   "cell_type": "markdown",
   "id": "f045c5d4",
   "metadata": {},
   "source": [
    "### 튜플, 집합, 딕셔너리\n",
    "\n"
   ]
  },
  {
   "cell_type": "code",
   "execution_count": 99,
   "id": "289a7b32",
   "metadata": {},
   "outputs": [],
   "source": [
    "# 튜플\n",
    "# 중요한 자료는 튜플로 묶어놓으면 좋음\n",
    "# 리스트와 유사하지만 값을 수정할 수 없으며, 읽기만 가능\n",
    "\n",
    "# 튜플은 ( ) 로 생성"
   ]
  },
  {
   "cell_type": "code",
   "execution_count": 100,
   "id": "dae560b4",
   "metadata": {},
   "outputs": [],
   "source": [
    "t = (1,2,3,4)"
   ]
  },
  {
   "cell_type": "code",
   "execution_count": 101,
   "id": "613808e6",
   "metadata": {},
   "outputs": [
    {
     "data": {
      "text/plain": [
       "(1, 2, 3, 4)"
      ]
     },
     "execution_count": 101,
     "metadata": {},
     "output_type": "execute_result"
    }
   ],
   "source": [
    "t"
   ]
  },
  {
   "cell_type": "code",
   "execution_count": 102,
   "id": "b1ccf99f",
   "metadata": {},
   "outputs": [],
   "source": [
    "t = ()"
   ]
  },
  {
   "cell_type": "code",
   "execution_count": 103,
   "id": "b06b1169",
   "metadata": {},
   "outputs": [],
   "source": [
    "a,b,c = 1,2,3"
   ]
  },
  {
   "cell_type": "code",
   "execution_count": 104,
   "id": "dbb8ac86",
   "metadata": {},
   "outputs": [],
   "source": [
    "a1,b1,c1 = [1,2,3]"
   ]
  },
  {
   "cell_type": "code",
   "execution_count": 106,
   "id": "e4651f2d",
   "metadata": {},
   "outputs": [],
   "source": [
    "t = 1,2,3"
   ]
  },
  {
   "cell_type": "code",
   "execution_count": 107,
   "id": "47d9ad68",
   "metadata": {},
   "outputs": [
    {
     "data": {
      "text/plain": [
       "(1, 2, 3)"
      ]
     },
     "execution_count": 107,
     "metadata": {},
     "output_type": "execute_result"
    }
   ],
   "source": [
    "t"
   ]
  },
  {
   "cell_type": "code",
   "execution_count": 108,
   "id": "63906033",
   "metadata": {},
   "outputs": [
    {
     "data": {
      "text/plain": [
       "(1, 2, 3)"
      ]
     },
     "execution_count": 108,
     "metadata": {},
     "output_type": "execute_result"
    }
   ],
   "source": [
    "t = (1,2,3,4,5)\n",
    "t[0]\n",
    "t[:3]"
   ]
  },
  {
   "cell_type": "code",
   "execution_count": 109,
   "id": "b6b093ec",
   "metadata": {},
   "outputs": [
    {
     "ename": "TypeError",
     "evalue": "'tuple' object does not support item assignment",
     "output_type": "error",
     "traceback": [
      "\u001b[0;31m---------------------------------------------------------------------------\u001b[0m",
      "\u001b[0;31mTypeError\u001b[0m                                 Traceback (most recent call last)",
      "\u001b[0;32m<ipython-input-109-e136e09d0915>\u001b[0m in \u001b[0;36m<module>\u001b[0;34m\u001b[0m\n\u001b[0;32m----> 1\u001b[0;31m \u001b[0mt\u001b[0m\u001b[0;34m[\u001b[0m\u001b[0;36m0\u001b[0m\u001b[0;34m]\u001b[0m\u001b[0;34m=\u001b[0m\u001b[0;36m8\u001b[0m\u001b[0;34m\u001b[0m\u001b[0;34m\u001b[0m\u001b[0m\n\u001b[0m",
      "\u001b[0;31mTypeError\u001b[0m: 'tuple' object does not support item assignment"
     ]
    }
   ],
   "source": [
    "t[0]=8"
   ]
  },
  {
   "cell_type": "code",
   "execution_count": 110,
   "id": "d54d1149",
   "metadata": {},
   "outputs": [
    {
     "data": {
      "text/plain": [
       "(1, 2, 3, 4, 5, 1, 2, 3, 4, 5)"
      ]
     },
     "execution_count": 110,
     "metadata": {},
     "output_type": "execute_result"
    }
   ],
   "source": [
    "t + t"
   ]
  },
  {
   "cell_type": "markdown",
   "id": "293f8451",
   "metadata": {},
   "source": [
    "### 집합\n",
    "\n",
    "합집합, 교집합, 차집합 문제 나온다.\n",
    "\n",
    "순서 없이 항목을 저장, 항목이 중복 될 수 없음\n",
    "\n",
    "자료형의 중복을 없애기 위한 방법으로 사용됨\n",
    "\n",
    "set은 숫자는 정렬해주지만 문자는 정렬해주지 않음"
   ]
  },
  {
   "cell_type": "code",
   "execution_count": 112,
   "id": "7476a999",
   "metadata": {},
   "outputs": [],
   "source": [
    "t = (\"Hello\")"
   ]
  },
  {
   "cell_type": "code",
   "execution_count": 113,
   "id": "f2eadbe5",
   "metadata": {},
   "outputs": [
    {
     "data": {
      "text/plain": [
       "{'H', 'e', 'l', 'o'}"
      ]
     },
     "execution_count": 113,
     "metadata": {},
     "output_type": "execute_result"
    }
   ],
   "source": [
    "set(t)"
   ]
  },
  {
   "cell_type": "code",
   "execution_count": 114,
   "id": "43cf003d",
   "metadata": {},
   "outputs": [
    {
     "data": {
      "text/plain": [
       "{1, 2, 5}"
      ]
     },
     "execution_count": 114,
     "metadata": {},
     "output_type": "execute_result"
    }
   ],
   "source": [
    "t = (5,5,5,1,1,2,2,1,1,5,5)\n",
    "set(t)"
   ]
  },
  {
   "cell_type": "code",
   "execution_count": 115,
   "id": "eb891160",
   "metadata": {},
   "outputs": [
    {
     "data": {
      "text/plain": [
       "{1, 2, 3, 4, 5}"
      ]
     },
     "execution_count": 115,
     "metadata": {},
     "output_type": "execute_result"
    }
   ],
   "source": [
    "s = {1,2,3,4,5,2,1}\n",
    "\n",
    "s"
   ]
  },
  {
   "cell_type": "code",
   "execution_count": 116,
   "id": "71961acc",
   "metadata": {},
   "outputs": [],
   "source": [
    "s.add(10)"
   ]
  },
  {
   "cell_type": "markdown",
   "id": "48e5aec4",
   "metadata": {},
   "source": [
    "### 딕셔너리\n",
    "\n",
    "중괄호 { } 로 묶여 있으며, key와 value의 쌍으로 이루어짐\n",
    "\n",
    "d = {key1:value1, key2:value2}\n",
    "\n",
    "- key로 value를 관리 (key는 중복될 수 없음)\n",
    "\n",
    "- 항목들 사이에 순서가 없음"
   ]
  },
  {
   "cell_type": "code",
   "execution_count": 117,
   "id": "97088a49",
   "metadata": {},
   "outputs": [],
   "source": [
    "d = {}\n",
    "d['kim'] =1\n",
    "d['song'] =3\n"
   ]
  },
  {
   "cell_type": "code",
   "execution_count": 119,
   "id": "22670040",
   "metadata": {},
   "outputs": [],
   "source": [
    "d['kim'] =10"
   ]
  },
  {
   "cell_type": "code",
   "execution_count": 121,
   "id": "4f8c9f37",
   "metadata": {},
   "outputs": [],
   "source": [
    "d['윤']= 5"
   ]
  },
  {
   "cell_type": "code",
   "execution_count": 123,
   "id": "97678e08",
   "metadata": {},
   "outputs": [
    {
     "data": {
      "text/plain": [
       "{'kim': 10, 'song': 3, '윤': 5}"
      ]
     },
     "execution_count": 123,
     "metadata": {},
     "output_type": "execute_result"
    }
   ],
   "source": [
    "d"
   ]
  },
  {
   "cell_type": "code",
   "execution_count": 124,
   "id": "13268aa7",
   "metadata": {},
   "outputs": [],
   "source": [
    "ㅇ = {}"
   ]
  },
  {
   "cell_type": "code",
   "execution_count": 125,
   "id": "e7a93718",
   "metadata": {},
   "outputs": [
    {
     "data": {
      "text/plain": [
       "{}"
      ]
     },
     "execution_count": 125,
     "metadata": {},
     "output_type": "execute_result"
    }
   ],
   "source": [
    "ㅇ"
   ]
  },
  {
   "cell_type": "code",
   "execution_count": 126,
   "id": "a4790578",
   "metadata": {},
   "outputs": [
    {
     "data": {
      "text/plain": [
       "dict_items([('kim', 10), ('song', 3), ('윤', 5)])"
      ]
     },
     "execution_count": 126,
     "metadata": {},
     "output_type": "execute_result"
    }
   ],
   "source": [
    "d.items()"
   ]
  },
  {
   "cell_type": "code",
   "execution_count": 127,
   "id": "fab7d824",
   "metadata": {},
   "outputs": [
    {
     "ename": "NameError",
     "evalue": "name 'song' is not defined",
     "output_type": "error",
     "traceback": [
      "\u001b[0;31m---------------------------------------------------------------------------\u001b[0m",
      "\u001b[0;31mNameError\u001b[0m                                 Traceback (most recent call last)",
      "\u001b[0;32m<ipython-input-127-9566e85f0616>\u001b[0m in \u001b[0;36m<module>\u001b[0;34m\u001b[0m\n\u001b[0;32m----> 1\u001b[0;31m \u001b[0md\u001b[0m \u001b[0;32min\u001b[0m \u001b[0msong\u001b[0m\u001b[0;34m\u001b[0m\u001b[0;34m\u001b[0m\u001b[0m\n\u001b[0m",
      "\u001b[0;31mNameError\u001b[0m: name 'song' is not defined"
     ]
    }
   ],
   "source": [
    "d in song"
   ]
  },
  {
   "cell_type": "code",
   "execution_count": 129,
   "id": "4e479fe3",
   "metadata": {},
   "outputs": [
    {
     "data": {
      "text/plain": [
       "True"
      ]
     },
     "execution_count": 129,
     "metadata": {},
     "output_type": "execute_result"
    }
   ],
   "source": [
    "\"song\" in d"
   ]
  },
  {
   "cell_type": "markdown",
   "id": "a7534462",
   "metadata": {},
   "source": [
    "동적 타이핑 : 런타임에 구문을 통해 Data Type을 설정"
   ]
  },
  {
   "cell_type": "code",
   "execution_count": 130,
   "id": "49148d3d",
   "metadata": {},
   "outputs": [
    {
     "data": {
      "text/plain": [
       "94733048708416"
      ]
     },
     "execution_count": 130,
     "metadata": {},
     "output_type": "execute_result"
    }
   ],
   "source": [
    "a= 1; id(a)"
   ]
  },
  {
   "cell_type": "markdown",
   "id": "5971a721",
   "metadata": {},
   "source": [
    "immutable vs mutable (변할 수 있는 vs 변할 수 없는)"
   ]
  },
  {
   "cell_type": "code",
   "execution_count": null,
   "id": "f1dd3f64",
   "metadata": {},
   "outputs": [],
   "source": []
  }
 ],
 "metadata": {
  "kernelspec": {
   "display_name": "Python 3",
   "language": "python",
   "name": "python3"
  },
  "language_info": {
   "codemirror_mode": {
    "name": "ipython",
    "version": 3
   },
   "file_extension": ".py",
   "mimetype": "text/x-python",
   "name": "python",
   "nbconvert_exporter": "python",
   "pygments_lexer": "ipython3",
   "version": "3.8.8"
  }
 },
 "nbformat": 4,
 "nbformat_minor": 5
}
