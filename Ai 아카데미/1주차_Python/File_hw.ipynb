{
 "cells": [
  {
   "cell_type": "markdown",
   "id": "99a61db4",
   "metadata": {},
   "source": [
    "### 실습 1"
   ]
  },
  {
   "cell_type": "code",
   "execution_count": 9,
   "id": "598b517b",
   "metadata": {},
   "outputs": [
    {
     "name": "stdout",
     "output_type": "stream",
     "text": [
      "first 1\n",
      "line 3\n",
      "second 1\n",
      "third 1\n"
     ]
    }
   ],
   "source": [
    "with open(\"test1.txt\",\"r\") as t1:\n",
    "    data = t1.read()\n",
    "    list_data = data.split()\n",
    "    dict_data = {}\n",
    "    for i in list_data:\n",
    "        if i in dict_data:\n",
    "            dict_data[i] = dict_data[i] + 1\n",
    "        else:\n",
    "            dict_data[i] = 1\n",
    "    \n",
    "    for k,v in dict_data.items():\n",
    "        print (k,v)"
   ]
  },
  {
   "cell_type": "markdown",
   "id": "5653e76c",
   "metadata": {},
   "source": [
    "### 실습 2"
   ]
  },
  {
   "cell_type": "code",
   "execution_count": 20,
   "id": "d631520d",
   "metadata": {},
   "outputs": [
    {
     "name": "stdout",
     "output_type": "stream",
     "text": [
      "FIRST LINE\n",
      "SECOND LINE\n",
      "THIRD LINE\n"
     ]
    }
   ],
   "source": [
    "import os\n",
    "\n",
    "if os.path.exists(\"test1.txt\"):\n",
    "    with open(\"test1.txt\",\"r\") as t2:\n",
    "        for line in t2.readlines():\n",
    "            print(line.strip().upper())  \n",
    "else:\n",
    "    print(\"파일이 존재하지 않습니다.\")\n",
    "    \n",
    "  "
   ]
  },
  {
   "cell_type": "markdown",
   "id": "1423d84e",
   "metadata": {},
   "source": [
    "### 실습 4"
   ]
  },
  {
   "cell_type": "code",
   "execution_count": 1,
   "id": "0adfb3a4",
   "metadata": {
    "scrolled": false
   },
   "outputs": [],
   "source": [
    "with open(\"score.txt\",\"r\") as t4:\n",
    "    report = open(\"report.txt\",\"w\")\n",
    "    while 1:\n",
    "        data = t4.readline()\n",
    "        if data == \"\":\n",
    "            break\n",
    "        else:\n",
    "            data = data[:].strip()\n",
    "            date, mid, final = list(map(int,data.split()))\n",
    "            mean = mid*0.6 + final*0.4\n",
    "            if mean >=90:\n",
    "                grade = \"(A)\"\n",
    "            elif mean >=80:\n",
    "                grade = \"(B)\"\n",
    "            elif mean >=70:\n",
    "                grade = \"(C)\"\n",
    "            elif mean >=60:\n",
    "                grade = \"(D)\"\n",
    "            else:\n",
    "                grade = \"(F)\"\n",
    "\n",
    "            finish = \"{}{}\".format(mean,grade)\n",
    "\n",
    "            new_line = \"{} {} {} {}\\n\".format(date, mid, final, finish)\n",
    "            report.write(new_line)\n",
    "    report.close()        "
   ]
  },
  {
   "cell_type": "code",
   "execution_count": null,
   "id": "f1d356f5",
   "metadata": {},
   "outputs": [],
   "source": []
  }
 ],
 "metadata": {
  "kernelspec": {
   "display_name": "Python 3",
   "language": "python",
   "name": "python3"
  },
  "language_info": {
   "codemirror_mode": {
    "name": "ipython",
    "version": 3
   },
   "file_extension": ".py",
   "mimetype": "text/x-python",
   "name": "python",
   "nbconvert_exporter": "python",
   "pygments_lexer": "ipython3",
   "version": "3.8.8"
  }
 },
 "nbformat": 4,
 "nbformat_minor": 5
}
