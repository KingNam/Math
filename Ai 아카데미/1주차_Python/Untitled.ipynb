{
 "cells": [
  {
   "cell_type": "markdown",
   "id": "99ff907b",
   "metadata": {},
   "source": [
    "# 성적 관리 프로그램\n",
    "\n",
    "### (주의사항)\n",
    " - 7 개의 명령어 (show, search, changescore, searchgrade, add, remove, quit)\n",
    " - 제출파일 이름 \"project.py\" / 보고서 파일 \"project.docx\" (or .pdf)\n",
    " - 명시되지 않은 처리방법에 대해선 보고서에 기록\n",
    " \n",
    " \n",
    "### (설명)\n",
    " - 각 항목은 tab으로 구분\n",
    " - 학생과 학생 사이는 개항분자로 구분 \n",
    "  - ex) [Student number][\\t][Name][\\t][Midterm][\\t][Final][\\n]\n",
    " - 전체 목록을 평균 점수를 기준으로 내림차순 정렬\n",
    " "
   ]
  },
  {
   "cell_type": "code",
   "execution_count": 3,
   "id": "1d407db7",
   "metadata": {},
   "outputs": [
    {
     "name": "stdout",
     "output_type": "stream",
     "text": [
      "#:show\n",
      "show\n",
      "#:search\n",
      "search\n",
      "#:quit\n"
     ]
    }
   ],
   "source": [
    "def show_fun():\n",
    "    print(\"show\")\n",
    "    \n",
    "def search_fun():\n",
    "    print(\"search\")\n",
    "    \n",
    "def main():\n",
    "    while 1:\n",
    "        command = input(\"#:\")\n",
    "        if command == \"show\":\n",
    "            show_fun()\n",
    "        elif command == \"search\":\n",
    "            search_fun()\n",
    "        elif command == \"quit\":\n",
    "            break\n",
    "            \n",
    "main()\n",
    "        "
   ]
  },
  {
   "cell_type": "code",
   "execution_count": 24,
   "id": "99cb3f2d",
   "metadata": {
    "scrolled": true
   },
   "outputs": [
    {
     "name": "stdout",
     "output_type": "stream",
     "text": [
      "20180001\tHong Gildong\t84\t73\n",
      "\n",
      "20180002\tLee Jieun\t92\t89\n",
      "\n",
      "20180007\tKim Cheolsu\t57\t62\n",
      "\n",
      "20180009\tLee Yeonghee\t81\t84\n",
      "\n",
      "20180011\tHa Donghun\t58\t68\n",
      "\n"
     ]
    }
   ],
   "source": [
    "with open(\"students.txt\",\"r\") as st:\n",
    "    st2 = open(\"students2.txt\",\"w\")\n",
    "    while 1:\n",
    "        data = st.readline()\n",
    "        if data == \"\":\n",
    "            break\n",
    "        else:\n",
    "            data = data[:].strip()\n",
    "            data = list(data.split(\"\\t\"))\n",
    "            # 데이터를 먼저 나눠서 정렬을 하기 보다는\n",
    "            # readline 으로 읽어오고 난 후,\n",
    "            # 중첩 리스트로 넣어서\n",
    "            # 람다로 정렬 후\n",
    "            # 출력하기\n",
    "            s_id, name, mid, final = data \n",
    "            mean = int(mid)*0.5 + int(final)*0.5\n",
    "            if mean >=90:\n",
    "                grade = \"(A)\"\n",
    "            elif mean >=80:\n",
    "                grade = \"(B)\"\n",
    "            elif mean >=70:\n",
    "                grade = \"(C)\"\n",
    "            elif mean >=60:\n",
    "                grade = \"(D)\"\n",
    "            else:\n",
    "                grade = \"(F)\"\n",
    "                \n",
    "\n",
    "            new_line = \"{}\\t{}\\t{}\\t{}\\t{}\\t{}\\n\".format(s_id,name, mid, final, mean, grade)\n",
    "            st2.write(new_line)\n",
    "    st2.close() "
   ]
  },
  {
   "cell_type": "code",
   "execution_count": null,
   "id": "4a05232d",
   "metadata": {},
   "outputs": [],
   "source": []
  }
 ],
 "metadata": {
  "kernelspec": {
   "display_name": "Python 3",
   "language": "python",
   "name": "python3"
  },
  "language_info": {
   "codemirror_mode": {
    "name": "ipython",
    "version": 3
   },
   "file_extension": ".py",
   "mimetype": "text/x-python",
   "name": "python",
   "nbconvert_exporter": "python",
   "pygments_lexer": "ipython3",
   "version": "3.8.8"
  }
 },
 "nbformat": 4,
 "nbformat_minor": 5
}
