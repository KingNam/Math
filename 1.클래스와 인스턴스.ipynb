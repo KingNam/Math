{
 "cells": [
  {
   "cell_type": "markdown",
   "id": "bc95e6ab",
   "metadata": {},
   "source": [
    "> class와 object 이해하기\n",
    "\n",
    " - '인간' 이라는 타입 (class)\n",
    " - 영남, 유진 등 실제로 존재하는 객체 (object)\n",
    " \n",
    " \n",
    " - List 라는 타입 (class)\n",
    " - 실제로 존재하는 객체 (object) ex) [1,2,3] / ['A','B','C']"
   ]
  },
  {
   "cell_type": "markdown",
   "id": "2f443273",
   "metadata": {},
   "source": [
    "####  class 란?\n",
    "\n",
    "- 실세계의 것을 모델링하여 속성(attribute)와 동작(method)를 갖는 데이터 타입\n",
    "- 다루고자 하는 데이터와 다루는 연산을 하나로 캡슐화하여 클래스로 표현\n",
    "- 모델링에서 중요시 하는 속성에 따라 클래스의 속성과 해동이 각각 달라짐"
   ]
  },
  {
   "cell_type": "markdown",
   "id": "10833bbd",
   "metadata": {},
   "source": [
    "####  object란?\n",
    "- 클래스로 생성되어 구체화된 객체 (instance)\n",
    "- 파이썬의 모든것은 객체\n",
    "- 실제로 class 가 인스턴스화 되어 메모르에 상주하는 상태"
   ]
  },
  {
   "cell_type": "markdown",
   "id": "3bcdd1b8",
   "metadata": {},
   "source": [
    "#### class 선언하기"
   ]
  },
  {
   "cell_type": "code",
   "execution_count": 1,
   "id": "9582d428",
   "metadata": {},
   "outputs": [],
   "source": [
    "# pass 키워드를 통해 빈 객체를 만들 수 있음\n",
    "\n",
    "class Person:\n",
    "    pass"
   ]
  },
  {
   "cell_type": "code",
   "execution_count": 2,
   "id": "862d6432",
   "metadata": {},
   "outputs": [],
   "source": [
    "bob = Person()\n",
    "cathy = Person()\n",
    "\n",
    "a = list()\n",
    "b = list()"
   ]
  },
  {
   "cell_type": "code",
   "execution_count": 3,
   "id": "e55f9cec",
   "metadata": {},
   "outputs": [
    {
     "name": "stdout",
     "output_type": "stream",
     "text": [
      "<class '__main__.Person'>\n"
     ]
    }
   ],
   "source": [
    "print(type(bob))"
   ]
  },
  {
   "cell_type": "markdown",
   "id": "8d40ca27",
   "metadata": {},
   "source": [
    "#### init(self)\n",
    " - 생성자, 클래스 인스턴스 생성될 때 호출됨\n",
    " - self인자는 항상 첫번째에 오며 자기 자신을 가리킴\n",
    " - 이름이 꼭 self일 필요는 없지만, 관례적으로 self 사용\n",
    " - 생성자에서는 해당 클래스가 다루는 데이터를 정의\n",
    "  - 이 데이터를 멤버변수 or 속성 이라고 함"
   ]
  },
  {
   "cell_type": "code",
   "execution_count": 9,
   "id": "83aac4cc",
   "metadata": {},
   "outputs": [
    {
     "name": "stdout",
     "output_type": "stream",
     "text": [
      "<__main__.Person object at 0x0000011DF392A460>  is generated\n",
      "<__main__.Person object at 0x0000011DF392ADF0>  is generated\n"
     ]
    },
    {
     "data": {
      "text/plain": [
       "'aaron'"
      ]
     },
     "execution_count": 9,
     "metadata": {},
     "output_type": "execute_result"
    }
   ],
   "source": [
    "class Person:\n",
    "    def __init__(self):\n",
    "        print(self, ' is generated')\n",
    "        self. name = 'Kate'\n",
    "        self. age = 10\n",
    "        \n",
    "p1 = Person()\n",
    "p2 = Person()\n",
    "\n",
    "\n",
    "p1.name = 'aaron'\n",
    "p1.age = 20\n",
    "p1.name"
   ]
  },
  {
   "cell_type": "code",
   "execution_count": 12,
   "id": "45fb7da1",
   "metadata": {},
   "outputs": [
    {
     "name": "stdout",
     "output_type": "stream",
     "text": [
      "<__main__.Person object at 0x0000011DF392A8B0>  is generated\n"
     ]
    }
   ],
   "source": [
    "# 클래스 동적 생성 방법\n",
    "# 속성 값에 디폴트 값 지정 가능\n",
    "class Person:\n",
    "    def __init__(self, name, age= 10):\n",
    "        print(self, ' is generated')\n",
    "        self. name = name\n",
    "        self. age = age\n",
    "        \n",
    "p1 = Person('Bob', '123')"
   ]
  },
  {
   "cell_type": "markdown",
   "id": "5ce8cea9",
   "metadata": {},
   "source": [
    "####  self \n",
    " - 파이썬의 method는 항상 첫번째 인자로 self를 전달\n",
    " - self는 현재 해당 메써드가 호출되는 객체 자신을 가리킴"
   ]
  },
  {
   "cell_type": "code",
   "execution_count": 19,
   "id": "28bd6164",
   "metadata": {},
   "outputs": [],
   "source": [
    "class Person:\n",
    "    def __init__(self, name, age= 10):\n",
    "        self. name = name\n",
    "        self. age = age\n",
    "        \n",
    "    def sleep(self):\n",
    "        print('self :', self)\n",
    "        print(self.name, '잠을 잡니다')"
   ]
  },
  {
   "cell_type": "code",
   "execution_count": 20,
   "id": "54c0d492",
   "metadata": {},
   "outputs": [],
   "source": [
    "a = Person('gg',55)"
   ]
  },
  {
   "cell_type": "code",
   "execution_count": 22,
   "id": "3fae4800",
   "metadata": {},
   "outputs": [
    {
     "name": "stdout",
     "output_type": "stream",
     "text": [
      "<__main__.Person object at 0x0000011DF38E9370>\n",
      "self : <__main__.Person object at 0x0000011DF38E9370>\n",
      "gg 잠을 잡니다\n"
     ]
    }
   ],
   "source": [
    "print(a)\n",
    "a.sleep()"
   ]
  },
  {
   "cell_type": "markdown",
   "id": "385fc240",
   "metadata": {},
   "source": [
    "####  method 정의\n",
    " - 멤버 함수라고도 하며, 해당 클래스의 object에서만 호출가능\n",
    " - 메쏘드는 객체 레벨에서 호출되며, 해당 객체의 속성에 대한 연산을 행함\n",
    " - {obj}.{method}()형태로 호출됨"
   ]
  },
  {
   "cell_type": "code",
   "execution_count": 31,
   "id": "3f8b3521",
   "metadata": {},
   "outputs": [
    {
     "name": "stdout",
     "output_type": "stream",
     "text": [
      "현재값은: 0\n",
      "현재값은: 3\n",
      "현재값은: 0\n"
     ]
    }
   ],
   "source": [
    "# 1. 숫자를 하나 증가\n",
    "# 2. 숫자를 0으로 초기화\n",
    "\n",
    "class Counter:\n",
    "    def __init__ (self):\n",
    "        self.num = 0\n",
    "    \n",
    "    def increment(self):\n",
    "        self.num += 1\n",
    "    \n",
    "    def reset(self):\n",
    "        self.num = 0\n",
    "    \n",
    "    def print_current_value(self):\n",
    "        print('현재값은:', self.num)\n",
    "        \n",
    "c1 = Counter()\n",
    "c1.print_current_value()\n",
    "c1.increment()\n",
    "c1.increment()\n",
    "c1.increment()\n",
    "c1.print_current_value()\n",
    "c1.reset()\n",
    "c1.print_current_value()"
   ]
  },
  {
   "cell_type": "markdown",
   "id": "effea6fb",
   "metadata": {},
   "source": [
    "####  method type\n",
    " - instance method: 객체로 호출\n",
    "  - 메써드는 객체 레벨로 호출되기 때문에, 해당 메써드를 호출한 객체에만 영향을 미침\n",
    "  \n",
    "  \n",
    " - class method(staic method): class로 호출\n",
    "  - 클래스 메서드의 경우, 클래스 레벨로 호출되기 때문에 클래스 멤버 변수만 변경 가능"
   ]
  },
  {
   "cell_type": "code",
   "execution_count": 32,
   "id": "361402d6",
   "metadata": {},
   "outputs": [],
   "source": [
    "class Math:\n",
    "    @staticmethod\n",
    "    def add(a, b):\n",
    "        return a+b\n",
    "    \n",
    "    @staticmethod\n",
    "    def multiply(self,a,b):\n",
    "        return a*b"
   ]
  },
  {
   "cell_type": "code",
   "execution_count": 34,
   "id": "541ee580",
   "metadata": {},
   "outputs": [
    {
     "data": {
      "text/plain": [
       "30"
      ]
     },
     "execution_count": 34,
     "metadata": {},
     "output_type": "execute_result"
    }
   ],
   "source": [
    "# 객체의 instance 메서드는 객체 생성 후 사용해야 하지만\n",
    "# static method 는 바로 꺼내서 사용 가능\n",
    "\n",
    "Math.add(10,20)"
   ]
  },
  {
   "cell_type": "code",
   "execution_count": null,
   "id": "b39484eb",
   "metadata": {},
   "outputs": [],
   "source": []
  }
 ],
 "metadata": {
  "kernelspec": {
   "display_name": "Python 3",
   "language": "python",
   "name": "python3"
  },
  "language_info": {
   "codemirror_mode": {
    "name": "ipython",
    "version": 3
   },
   "file_extension": ".py",
   "mimetype": "text/x-python",
   "name": "python",
   "nbconvert_exporter": "python",
   "pygments_lexer": "ipython3",
   "version": "3.8.8"
  }
 },
 "nbformat": 4,
 "nbformat_minor": 5
}
