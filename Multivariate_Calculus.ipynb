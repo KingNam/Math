{
  "nbformat": 4,
  "nbformat_minor": 0,
  "metadata": {
    "colab": {
      "name": "Multivariate_Calculus",
      "provenance": [],
      "collapsed_sections": [],
      "authorship_tag": "ABX9TyN4DeAncX7X66dm4VcIxhE8",
      "include_colab_link": true
    },
    "kernelspec": {
      "name": "python3",
      "display_name": "Python 3"
    },
    "language_info": {
      "name": "python"
    }
  },
  "cells": [
    {
      "cell_type": "markdown",
      "metadata": {
        "id": "view-in-github",
        "colab_type": "text"
      },
      "source": [
        "<a href=\"https://colab.research.google.com/github/KingNam/Math/blob/main/Multivariate_Calculus.ipynb\" target=\"_parent\"><img src=\"https://colab.research.google.com/assets/colab-badge.svg\" alt=\"Open In Colab\"/></a>"
      ]
    },
    {
      "cell_type": "markdown",
      "metadata": {
        "id": "GRKIMkB1HGCR"
      },
      "source": [
        "[LaTex Grammer](https://ko.wikipedia.org/wiki/%EC%9C%84%ED%82%A4%EB%B0%B1%EA%B3%BC:TeX_%EB%AC%B8%EB%B2%95)"
      ]
    },
    {
      "cell_type": "markdown",
      "metadata": {
        "id": "M1QYHZTwJ3RM"
      },
      "source": [
        "# Unit: Thinking about multivariate functions"
      ]
    },
    {
      "cell_type": "markdown",
      "metadata": {
        "id": "FhbIYkGgIURr"
      },
      "source": [
        "## 1. Introduction to multivariate calculus\n",
        "\n",
        "### 1) Multivariable functions\n",
        "\n",
        "What is the Murtivariable functions?\n",
        "\n",
        "$f(x) = x^2$ it's called a single variable functions. That's why it have single variable\n",
        "\n",
        "This is multivariate variable functions. \n",
        "$f(x,y) = x^2 + y$ \n",
        "\n",
        "Other case, The outputs can be vectors\n",
        "$ f(x,y) =\\begin{Bmatrix} 3x \\\\ 2y \\end{Bmatrix} $ \n",
        "\n",
        "Two numbers or vectors moved on the plane or space independently.\n",
        "\n",
        "\n",
        "\n"
      ]
    },
    {
      "cell_type": "markdown",
      "metadata": {
        "id": "sDDj8GKzKA2X"
      },
      "source": [
        "## 2. Vectors and matrices\n",
        "\n",
        "### 1) Vectors ans notation\n",
        "\n"
      ]
    },
    {
      "cell_type": "markdown",
      "metadata": {
        "id": "verllVPNPuhZ"
      },
      "source": [
        "#### What is a vector?\n",
        "\n",
        "Most generally, a vector is a list of things. In multivariable calculus, \"thing\" typically ends up \"number\", but not always.\n",
        "\n",
        "For example, derivate operator vector\n",
        "$$ \\begin{pmatrix} x & y \\\\ \\partial z & \\partial v \\end{pmatrix}$$\n",
        "\n",
        "\n",
        "\n",
        "\n",
        "\n"
      ]
    },
    {
      "cell_type": "markdown",
      "metadata": {
        "id": "PkG4g5kQPwRY"
      },
      "source": [
        "#### Vectors and points in space\n",
        "\n",
        "When a vector is just a list of numbers, we can visualize it as an arrow in space.\n",
        "\n",
        "For example, we visualize the vector $(4,2)$ as an arrow whose tail is the origin and shose tip is at the point $(4,2)$"
      ]
    },
    {
      "cell_type": "code",
      "metadata": {
        "colab": {
          "base_uri": "https://localhost:8080/",
          "height": 360
        },
        "id": "_Fi9cAiZUNb8",
        "outputId": "110d6ebe-801a-41c6-92b6-bb160fe25dd5"
      },
      "source": [
        "import math\n",
        "import matplotlib.pyplot as plt\n",
        "import numpy as np\n",
        "\n",
        "a = [4,2]\n",
        "\n",
        "\n",
        "plt.figure(figsize=(5,5))\n",
        "plt.xlim(0, 5)          \n",
        "plt.ylim(0, 5)\n",
        "plt.xticks(ticks=np.arange(-2, 5, step=1))\n",
        "plt.yticks(ticks=np.arange(-2, 5, step=1))\n",
        "\n",
        "plt.arrow(0, 0, a[0], a[1], head_width = .2, head_length = .2, color = 'red')\n",
        "\n",
        "plt.axhline(0, color='gray', alpha = 0.3)\n",
        "plt.axvline(0, color='gray', alpha = 0.3)\n",
        "plt.axhline(0, color='black', alpha = 1)\n",
        "plt.axvline(0, color='black', alpha=1)\n",
        "plt.xlabel(\"$x$\",fontsize=18)\n",
        "plt.ylabel(\"$y$\",fontsize=15)\n",
        "plt.title(\"Vector\",fontsize=15)\n",
        "plt.text(4.1,2.2,'(4,2)',fontsize=12)\n",
        "plt.text(0.1,-0.3,'O')\n",
        "plt.grid()\n",
        "plt.show()"
      ],
      "execution_count": null,
      "outputs": [
        {
          "output_type": "display_data",
          "data": {
            "image/png": "[encoded data removed]",
            "text/plain": [
              "<Figure size 360x360 with 1 Axes>"
            ]
          },
          "metadata": {
            "needs_background": "light"
          }
        }
      ]
    },
    {
      "cell_type": "markdown",
      "metadata": {
        "id": "HoBsiTlSUTKb"
      },
      "source": [
        "However, somtimes we draw a vector with the tail away from the origin. This changes nothing about the vector, only where we draw it.\n",
        "\n",
        "Example is below"
      ]
    },
    {
      "cell_type": "code",
      "metadata": {
        "colab": {
          "base_uri": "https://localhost:8080/",
          "height": 360
        },
        "id": "Y_A9U7zLm8kD",
        "outputId": "fd000d95-7e06-4ce1-baef-1bf7f2c49a18"
      },
      "source": [
        "import math\n",
        "import matplotlib.pyplot as plt\n",
        "import numpy as np\n",
        "\n",
        "a = [4,2]\n",
        "\n",
        "\n",
        "\n",
        "plt.figure(figsize=(5,5))\n",
        "plt.xlim(0, 5)          \n",
        "plt.ylim(0, 5)\n",
        "plt.xticks(ticks=np.arange(-2, 5, step=1))\n",
        "plt.yticks(ticks=np.arange(-2, 5, step=1))\n",
        "\n",
        "plt.arrow(0, 0, a[0], a[1], head_width = .2, head_length = .2, color = 'red')\n",
        "plt.arrow(0, 2, a[0], a[1], head_width = .2, head_length = .2, color = 'red')\n",
        "\n",
        "plt.axhline(0, color='gray', alpha = 0.3)\n",
        "plt.axvline(0, color='gray', alpha = 0.3)\n",
        "plt.axhline(0, color='black', alpha = 1)\n",
        "plt.axvline(0, color='black', alpha=1)\n",
        "plt.xlabel(\"$x$\",fontsize=18)\n",
        "plt.ylabel(\"$y$\",fontsize=15)\n",
        "plt.title(\"Vector\",fontsize=15)\n",
        "plt.text(0.1,-0.3,'O')\n",
        "plt.grid()\n",
        "plt.show()"
      ],
      "execution_count": null,
      "outputs": [
        {
          "output_type": "display_data",
          "data": {
            "image/png": "[encoded data removed]",
            "text/plain": [
              "<Figure size 360x360 with 1 Axes>"
            ]
          },
          "metadata": {
            "needs_background": "light"
          }
        }
      ]
    },
    {
      "cell_type": "markdown",
      "metadata": {
        "id": "r6HVWLN8pbkd"
      },
      "source": [
        "#### Notation \n",
        "\n",
        "There are lots of ways to write vectors.\n",
        "Here are the three we'll use most in this course. The little arrow on top of $\\vec{v}$ is a convention that indicates that $\\vec{v}$ refers to a vector.\n",
        "\n",
        "$ \\vec{v} = (1,2,3) = \\begin{bmatrix} 1 \n",
        "\\\\ 2 \\\\ 3 \\\\ \\end{bmatrix} = 1 {\\color{Blue}{\\text{$\\hat{i}$}}} + 2{\\color{Red}{\\text{$\\hat{j}$}}} + 3{\\color{Green}{\\text{$\\hat{k}$}}}$\n",
        "\n",
        "1) The first notation is what we discussed earlier. Technically it refers to a point, but we use it interchangeably to refer to a vector. This notation extends to any number of dimensions.\n",
        "\n",
        "2) The second notation is matrix notation, which we can also extend to as many dimensions as we want. Matrix notation is particularly useful when we think about vectors interacting with matrices. We'll discuss matrices and how to visualize them in coming articles.\n",
        "\n"
      ]
    },
    {
      "cell_type": "code",
      "metadata": {
        "id": "fmY1DXGRvHhP"
      },
      "source": [
        ""
      ],
      "execution_count": null,
      "outputs": []
    }
  ]
}