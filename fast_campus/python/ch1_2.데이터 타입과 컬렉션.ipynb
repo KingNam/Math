{
 "cells": [
  {
   "cell_type": "markdown",
   "id": "0a38f9d1",
   "metadata": {},
   "source": [
    "> 변수 (Variable) 이해하기\n",
    "\n",
    "- 데이터를 저장하는 공간\n",
    "- 저장관간에 값을 생성하고 이름을 지정"
   ]
  },
  {
   "cell_type": "markdown",
   "id": "96b546a2",
   "metadata": {},
   "source": [
    "### = 대입 연산자, == 비교 연산자\n"
   ]
  },
  {
   "cell_type": "code",
   "execution_count": 7,
   "id": "816b55cb",
   "metadata": {},
   "outputs": [],
   "source": [
    "a =10\n",
    "b= 5"
   ]
  },
  {
   "cell_type": "markdown",
   "id": "e942a012",
   "metadata": {},
   "source": [
    " ###  comment(주석) \n",
    " \n",
    "  - \\# 뒤에 부연 설명 달기"
   ]
  },
  {
   "cell_type": "code",
   "execution_count": 2,
   "id": "5218947b",
   "metadata": {},
   "outputs": [],
   "source": [
    "# python start "
   ]
  },
  {
   "cell_type": "markdown",
   "id": "411e3a56",
   "metadata": {},
   "source": [
    "### print 함수\n",
    "\n",
    "- 해당 변수의 값을 출력\n",
    "- print 함수 설정\n",
    " - sep: 구분자, 각 출력할 변수 사잉에ㅓㅅ 구별하는 역할\n",
    " - end: 마지막에 출력할 문자열"
   ]
  },
  {
   "cell_type": "code",
   "execution_count": 3,
   "id": "5e34c052",
   "metadata": {},
   "outputs": [
    {
     "name": "stdout",
     "output_type": "stream",
     "text": [
      "10\n"
     ]
    }
   ],
   "source": [
    "print (a)"
   ]
  },
  {
   "cell_type": "code",
   "execution_count": 5,
   "id": "899cb902",
   "metadata": {},
   "outputs": [
    {
     "name": "stdout",
     "output_type": "stream",
     "text": [
      "\n"
     ]
    }
   ],
   "source": [
    "# Shift + TAb 을 이용해서 함수 설명을 볼 수 있음\n",
    "print()"
   ]
  },
  {
   "cell_type": "code",
   "execution_count": 8,
   "id": "f9635ef0",
   "metadata": {},
   "outputs": [
    {
     "name": "stdout",
     "output_type": "stream",
     "text": [
      "10*5*10*100!!"
     ]
    }
   ],
   "source": [
    "print(a, b, 10, 100, sep='*', end= '!!')"
   ]
  },
  {
   "cell_type": "markdown",
   "id": "d704889e",
   "metadata": {},
   "source": [
    "프린트 함수는 텍스트로 출력 하고 그냥 변수명만 적으면 ouptut 으로 나온다"
   ]
  },
  {
   "cell_type": "markdown",
   "id": "361d36e9",
   "metadata": {},
   "source": [
    "### variable 명명 규칙\n",
    " - 숫자로 시작하면 안됌\n",
    " - 예약어(python에서 선점한 용어) 사용 안됨 / 노트북에 초록색 글씨로 뜬다\n",
    " - 변수의 특징을 잘 설명할 수 있는 단어를 사용"
   ]
  },
  {
   "cell_type": "markdown",
   "id": "38921d6c",
   "metadata": {},
   "source": [
    "###  None\n",
    " - 아무런 값을 갖지 않을 때 사용\n",
    " - 변수는 생성했는데, 아직 뭘 넣을지 모를때 사용하기"
   ]
  },
  {
   "cell_type": "markdown",
   "id": "4cc038f3",
   "metadata": {},
   "source": [
    "###  변수 값 비교하기"
   ]
  },
  {
   "cell_type": "code",
   "execution_count": 10,
   "id": "9e171423",
   "metadata": {},
   "outputs": [
    {
     "name": "stdout",
     "output_type": "stream",
     "text": [
      "False\n",
      "True\n",
      "True\n",
      "False\n",
      "False\n",
      "True\n"
     ]
    },
    {
     "data": {
      "text/plain": [
       "bool"
      ]
     },
     "execution_count": 10,
     "metadata": {},
     "output_type": "execute_result"
    }
   ],
   "source": [
    "a=5\n",
    "b=4\n",
    "\n",
    "print(a<b)\n",
    "print(a>b)\n",
    "print(a>=b)\n",
    "print(a<=b)\n",
    "print(a==b)\n",
    "print(a!=b)\n",
    "\n",
    "c = a>b\n",
    "c\n",
    "type(c)"
   ]
  },
  {
   "cell_type": "code",
   "execution_count": 11,
   "id": "5c572c30",
   "metadata": {},
   "outputs": [
    {
     "name": "stdout",
     "output_type": "stream",
     "text": [
      "9\n",
      "20\n",
      "1\n",
      "1.25\n",
      "1\n",
      "625\n"
     ]
    }
   ],
   "source": [
    "print( a +b)\n",
    "print(a*b)\n",
    "print(a-b)\n",
    "print(a/b)\n",
    "print(a%b)\n",
    "print(a**b)"
   ]
  },
  {
   "cell_type": "markdown",
   "id": "830db78f",
   "metadata": {},
   "source": [
    "- **연습문제** 다음의 a값을 출력 했을 때 결과는?\n"
   ]
  },
  {
   "cell_type": "code",
   "execution_count": 12,
   "id": "b44b8ee6",
   "metadata": {},
   "outputs": [
    {
     "name": "stdout",
     "output_type": "stream",
     "text": [
      "9\n",
      "6\n",
      "9\n"
     ]
    }
   ],
   "source": [
    "a = 9\n",
    "print(a)\n",
    "print(a-3)\n",
    "print(a)"
   ]
  },
  {
   "cell_type": "markdown",
   "id": "2d2b8f9b",
   "metadata": {},
   "source": [
    "### 문자열 (String)"
   ]
  },
  {
   "cell_type": "markdown",
   "id": "f904ab49",
   "metadata": {},
   "source": [
    "1. 따옴표 사용하여 생성\n",
    "- 따옴표 별 차이점\n",
    " - '',\"\" -> 문자열을 한줄에 표현\n",
    " - ''' ''' -> 여러줄에 걸쳐 문자열 표현 가능"
   ]
  },
  {
   "cell_type": "code",
   "execution_count": 16,
   "id": "2854756c",
   "metadata": {},
   "outputs": [
    {
     "name": "stdout",
     "output_type": "stream",
     "text": [
      "Hello world Hello world\n"
     ]
    }
   ],
   "source": [
    "a = 'Hello world' # 문자열에 \" 사용하고 싶을떄 사용 가능\n",
    "b = \"Hello world\" # 문자열에 ' 사용하고 실을떄 사용 가능\n",
    "print(a,b)"
   ]
  },
  {
   "cell_type": "code",
   "execution_count": 17,
   "id": "da402bc0",
   "metadata": {},
   "outputs": [
    {
     "name": "stdout",
     "output_type": "stream",
     "text": [
      "Hello \n",
      "\n",
      "\n",
      "world\n",
      "Hello \n",
      "\n",
      "\n",
      "world\n"
     ]
    }
   ],
   "source": [
    "c = '''Hello \n",
    "\n",
    "\n",
    "world'''\n",
    "d = \"\"\"Hello \n",
    "\n",
    "\n",
    "world\"\"\"\n",
    "print(c)\n",
    "print(d)"
   ]
  },
  {
   "cell_type": "markdown",
   "id": "4784fa72",
   "metadata": {},
   "source": [
    "### escape string (이스케이프 문자)\n",
    " - 문자열 내의 일부 문자의 의미를 달리하여 ```특정한 효과```를 주는것\n",
    " - ```\\n```: new line ```\\t```: tab등"
   ]
  },
  {
   "cell_type": "code",
   "execution_count": 20,
   "id": "0fcfcac1",
   "metadata": {},
   "outputs": [
    {
     "name": "stdout",
     "output_type": "stream",
     "text": [
      "Hello world \n",
      "\n",
      "\n",
      "ha \t \t haha\n"
     ]
    }
   ],
   "source": [
    "print('Hello world \\n\\n')\n",
    "print('ha \\t \\t haha')"
   ]
  },
  {
   "cell_type": "markdown",
   "id": "6567d0ed",
   "metadata": {},
   "source": [
    "###  Indexing & slicing string (문자열 인덱스 및 추출)\n",
    "- **인덱스**: 각 문자열의 순서\n",
    "- 첫번째 문자는 0번째 문자임\n",
    "- 범위를 넘어갈 경우 에러 발생"
   ]
  },
  {
   "cell_type": "code",
   "execution_count": 21,
   "id": "7e9f5c40",
   "metadata": {},
   "outputs": [
    {
     "name": "stdout",
     "output_type": "stream",
     "text": [
      "Y\n"
     ]
    }
   ],
   "source": [
    "a = 'Song Yeong Nam' \n",
    "print(a[5])"
   ]
  },
  {
   "cell_type": "markdown",
   "id": "dab00ae8",
   "metadata": {},
   "source": [
    "###  '-' 인덱스"
   ]
  },
  {
   "cell_type": "code",
   "execution_count": 24,
   "id": "3152bc4b",
   "metadata": {},
   "outputs": [
    {
     "name": "stdout",
     "output_type": "stream",
     "text": [
      "g\n",
      "N\n"
     ]
    }
   ],
   "source": [
    "print(a[-5])\n",
    "print(a[-3])"
   ]
  },
  {
   "cell_type": "markdown",
   "id": "86001a33",
   "metadata": {},
   "source": [
    "- **슬라이싱**: 문자열을 지정 범위에서 잘라서 가져옴\n",
    "- 마지막 숫자는 포함하지 않음"
   ]
  },
  {
   "cell_type": "code",
   "execution_count": 25,
   "id": "d05d713c",
   "metadata": {},
   "outputs": [
    {
     "name": "stdout",
     "output_type": "stream",
     "text": [
      " Yeon\n"
     ]
    }
   ],
   "source": [
    "print(a[4:9])"
   ]
  },
  {
   "cell_type": "markdown",
   "id": "1b62196f",
   "metadata": {},
   "source": [
    "### 문자열 함수"
   ]
  },
  {
   "cell_type": "code",
   "execution_count": 26,
   "id": "12992142",
   "metadata": {},
   "outputs": [
    {
     "data": {
      "text/plain": [
       "'SONG YEONG NAM'"
      ]
     },
     "execution_count": 26,
     "metadata": {},
     "output_type": "execute_result"
    }
   ],
   "source": [
    "a.upper()"
   ]
  },
  {
   "cell_type": "markdown",
   "id": "2f3e2ce5",
   "metadata": {},
   "source": [
    "replace 함수\n",
    "- 문자열 내의 특정 문자를 치환"
   ]
  },
  {
   "cell_type": "code",
   "execution_count": 27,
   "id": "63b961da",
   "metadata": {},
   "outputs": [
    {
     "data": {
      "text/plain": [
       "'Sang Yeang Nam'"
      ]
     },
     "execution_count": 27,
     "metadata": {},
     "output_type": "execute_result"
    }
   ],
   "source": [
    "a.replace('o', 'a')"
   ]
  },
  {
   "cell_type": "markdown",
   "id": "9a3da0a1",
   "metadata": {},
   "source": [
    "format함수\n",
    "- 문자열 내의 특정한 값을 변수로 부터 초기화하여 동적으로 문자열 생성"
   ]
  },
  {
   "cell_type": "code",
   "execution_count": 28,
   "id": "985b4286",
   "metadata": {},
   "outputs": [
    {
     "name": "stdout",
     "output_type": "stream",
     "text": [
      "오늘 기온 26이고, 비올 확률은 80% 입니다\n"
     ]
    }
   ],
   "source": [
    "temp = 26\n",
    "prob = 80\n",
    "\n",
    "a = '오늘 기온 {}이고, 비올 확률은 {}% 입니다'.format(temp, prob)\n",
    "print(a)"
   ]
  },
  {
   "cell_type": "markdown",
   "id": "f092a81f",
   "metadata": {},
   "source": [
    "split \n",
    "- 문자열을 특정한 문자 구분하여 문자열의 리스트로 치환\n"
   ]
  },
  {
   "cell_type": "code",
   "execution_count": 31,
   "id": "c5f326b8",
   "metadata": {},
   "outputs": [
    {
     "data": {
      "text/plain": [
       "['오늘', '기온', '26이고,', '비올', '확률은', '80%', '입니다']"
      ]
     },
     "execution_count": 31,
     "metadata": {},
     "output_type": "execute_result"
    }
   ],
   "source": [
    "a.split()"
   ]
  },
  {
   "cell_type": "markdown",
   "id": "15a00ccc",
   "metadata": {},
   "source": [
    "###  리스트 & 튜플\n",
    " - 복수개의 값을 담을 수 있는 데이터 구조\n",
    " - list - mutable (생성된 후에 변경 가능\n",
    " - tuple - immutable"
   ]
  },
  {
   "cell_type": "markdown",
   "id": "479ca227",
   "metadata": {},
   "source": [
    "####  리스트 초기화\n",
    "- []안에 값을 담아서 생성\n",
    "- list()함수로 생성\n",
    "- str.split() 함수로 생성"
   ]
  },
  {
   "cell_type": "code",
   "execution_count": 33,
   "id": "16268799",
   "metadata": {},
   "outputs": [
    {
     "name": "stdout",
     "output_type": "stream",
     "text": [
      "[]\n"
     ]
    },
    {
     "data": {
      "text/plain": [
       "[]"
      ]
     },
     "execution_count": 33,
     "metadata": {},
     "output_type": "execute_result"
    }
   ],
   "source": [
    "a = []\n",
    "print(a)\n",
    "a"
   ]
  },
  {
   "cell_type": "code",
   "execution_count": 35,
   "id": "e9f866bb",
   "metadata": {},
   "outputs": [],
   "source": [
    "a = [1,44,5,6,6,7]"
   ]
  },
  {
   "cell_type": "code",
   "execution_count": 37,
   "id": "37e8aff2",
   "metadata": {},
   "outputs": [
    {
     "name": "stdout",
     "output_type": "stream",
     "text": [
      "['H', 'e', 'l', 'l', 'o', ' ', 'w', 'o', 'r', 'l', 'd']\n"
     ]
    }
   ],
   "source": [
    "a = 'Hello world'\n",
    "b = list(a)\n",
    "# 공백도 하나의 문자로 취급\n",
    "print(b)"
   ]
  },
  {
   "cell_type": "code",
   "execution_count": 41,
   "id": "9d1e2867",
   "metadata": {},
   "outputs": [
    {
     "name": "stdout",
     "output_type": "stream",
     "text": [
      "['hello world nice weather']\n"
     ]
    }
   ],
   "source": [
    "a = 'hello world nice weather'\n",
    "# 뭘로 구분할지 지정가능함\n",
    "b = a.split('\\t')\n",
    "print(b)"
   ]
  },
  {
   "cell_type": "markdown",
   "id": "c50601fd",
   "metadata": {},
   "source": [
    "####  리스트 indexing\n",
    " - 문자열의 인덱싱과 동일하게 동작"
   ]
  },
  {
   "cell_type": "code",
   "execution_count": 43,
   "id": "d7f00d13",
   "metadata": {},
   "outputs": [
    {
     "name": "stdout",
     "output_type": "stream",
     "text": [
      "h\n",
      "jello world\n",
      "jello world\n"
     ]
    }
   ],
   "source": [
    "# 튜플은 불변 (immutable)\n",
    "a = 'hello world'\n",
    "print(a[0])\n",
    "\n",
    "# 불변이기 때문에 불가능\n",
    "# a[0] = j\n",
    "\n",
    "b = 'j' + a[1:]\n",
    "\n",
    "c = a.replace('h','j')\n",
    "print(b)\n",
    "print(c)\n"
   ]
  },
  {
   "cell_type": "code",
   "execution_count": 45,
   "id": "57889a73",
   "metadata": {},
   "outputs": [
    {
     "name": "stdout",
     "output_type": "stream",
     "text": [
      "[100, 2, 3, 4, 5]\n",
      "[100, 2, 3, 4, 50]\n"
     ]
    }
   ],
   "source": [
    "# 리스트는 변경가능 (mutable)\n",
    "\n",
    "a = [1,2,3,4,5]\n",
    "a[0] = 100\n",
    "print(a)\n",
    "a[-1] = 50\n",
    "print(a)"
   ]
  },
  {
   "cell_type": "markdown",
   "id": "f31fab79",
   "metadata": {},
   "source": [
    "####  리스트 Slicing"
   ]
  },
  {
   "cell_type": "code",
   "execution_count": 52,
   "id": "e2239fd3",
   "metadata": {},
   "outputs": [
    {
     "name": "stdout",
     "output_type": "stream",
     "text": [
      "[5, 6, 7]\n",
      "[1, 2, 3, 4, 5, 6, 7]\n",
      "[2, 4, 6]\n",
      "[]\n",
      "[]\n",
      "[]\n"
     ]
    }
   ],
   "source": [
    "a = [1,2,3,4,5,6,7,8]\n",
    "print(a[4:7])\n",
    "print(a[:7])\n",
    "\n",
    "# slicing\n",
    "# start:end:increment\n",
    "\n",
    "print(a[1:7:2])\n",
    "print(a[1:7:-2])\n",
    "print(a[0:7:-2])\n",
    "print(a[0:7:-3])"
   ]
  },
  {
   "cell_type": "code",
   "execution_count": 65,
   "id": "772fdb84",
   "metadata": {},
   "outputs": [
    {
     "name": "stdout",
     "output_type": "stream",
     "text": [
      "[8, 6, 4, 2]\n",
      "[7, 5, 3]\n",
      "[7, 5, 3]\n"
     ]
    }
   ],
   "source": [
    "a = [1,2,3,4,5,6,7,8]\n",
    "print(a[::-2])\n",
    "print(a[6:0:-2])\n",
    "print(a[-2:-7:-2])"
   ]
  },
  {
   "cell_type": "markdown",
   "id": "cb1d48e1",
   "metadata": {},
   "source": [
    "####  리스트 멤버 함수\n",
    "\n",
    "- 생성된 리스트 객체에 동작하는 함수\n",
    "- 향후, 클래스와 멤버 함수 개념을 이해\n",
    "\n",
    "\n",
    "\n",
    " "
   ]
  },
  {
   "cell_type": "markdown",
   "id": "6426b75a",
   "metadata": {},
   "source": [
    "- append()\n",
    " - 리스트의 끝에 항목을 추가함"
   ]
  },
  {
   "cell_type": "markdown",
   "id": "d4c82497",
   "metadata": {},
   "source": [
    "- extend()\n",
    " - 리스트를 연장\n",
    " - += 로도 가능함\n"
   ]
  },
  {
   "cell_type": "code",
   "execution_count": 60,
   "id": "66c9898e",
   "metadata": {},
   "outputs": [
    {
     "name": "stdout",
     "output_type": "stream",
     "text": [
      "[1, 2, 3, [4, 5, 6]]\n",
      "<class 'list'>\n",
      "[1, 2, 3, [4, 5, 6], 4, 5, 6]\n"
     ]
    }
   ],
   "source": [
    "a = [1,2,3]\n",
    "b = [4,5,6]\n",
    "\n",
    "a.append(b)\n",
    "print(a)\n",
    "print(type(a))\n",
    "# print(a.extend(b)) 는 오류 남.\n",
    "a.extend(b)\n",
    "print(a)\n"
   ]
  },
  {
   "cell_type": "markdown",
   "id": "9a7ebd23",
   "metadata": {},
   "source": [
    "- insert()로 항목추가\n",
    " - 리스트의 원하는 위치에 추가 가능\n",
    " - 앞에 인덱스, 뒤에 아이템을 명시"
   ]
  },
  {
   "cell_type": "markdown",
   "id": "97602d8e",
   "metadata": {},
   "source": [
    "- remove()\n",
    " - 값으로 항목 삭제\n"
   ]
  },
  {
   "cell_type": "code",
   "execution_count": 66,
   "id": "afe32910",
   "metadata": {},
   "outputs": [
    {
     "name": "stdout",
     "output_type": "stream",
     "text": [
      "[1, 2, 3, 4, 5]\n"
     ]
    }
   ],
   "source": [
    "a = [1,2,3,3,4,5]\n",
    "a.remove(3)\n",
    "\n",
    "print(a)"
   ]
  },
  {
   "cell_type": "markdown",
   "id": "ddb58c6e",
   "metadata": {},
   "source": [
    "- pop()\n",
    " - 지우고자 하는 아이템을 반환 후, 삭제"
   ]
  },
  {
   "cell_type": "code",
   "execution_count": 68,
   "id": "d6c4ba5d",
   "metadata": {},
   "outputs": [
    {
     "name": "stdout",
     "output_type": "stream",
     "text": [
      "[1, 2, 4, 5]\n",
      "3\n"
     ]
    }
   ],
   "source": [
    "a = [1,2,3,4,5]\n",
    "# 제거의 역할을 하지만 튀어나오게 해서 담는 역할도 함\n",
    "b = a.pop(2)\n",
    "\n",
    "print(a)\n",
    "print(b)"
   ]
  },
  {
   "cell_type": "markdown",
   "id": "34be0c48",
   "metadata": {},
   "source": [
    "- index()\n",
    " - 찾고자 하는 값의 인덱스 반환"
   ]
  },
  {
   "cell_type": "markdown",
   "id": "ace6b5e1",
   "metadata": {},
   "source": [
    "- in 키워드\n",
    " - 리스트 내에 해당 값이 존재하는지 확인\n",
    " - value in [list]\n",
    " - True, False 중 한가지로 반환"
   ]
  },
  {
   "cell_type": "code",
   "execution_count": 69,
   "id": "2fa79632",
   "metadata": {},
   "outputs": [
    {
     "name": "stdout",
     "output_type": "stream",
     "text": [
      "False\n"
     ]
    }
   ],
   "source": [
    "a = [1,2,3,4,5]\n",
    "b = 10\n",
    "\n",
    "c = b in a\n",
    "\n",
    "print(c)"
   ]
  },
  {
   "cell_type": "markdown",
   "id": "2f55214b",
   "metadata": {},
   "source": [
    "- list 정렬\n",
    " - sort() : 리스트 자체를 내부적으로 정렬\n",
    " - sorted(): 리스트의 정렬된 복사본을 반환"
   ]
  },
  {
   "cell_type": "code",
   "execution_count": 87,
   "id": "852fe642",
   "metadata": {},
   "outputs": [
    {
     "name": "stdout",
     "output_type": "stream",
     "text": [
      "[1, 2, 2, 2, 4, 5, 5, 6, 6, 7, 8, 9, 10, 13, 23, 25]\n",
      "[25, 23, 13, 10, 9, 8, 7, 6, 6, 5, 5, 4, 2, 2, 2, 1]\n",
      "[1, 2, 2, 2, 4, 5, 5, 6, 6, 7, 8, 9, 10, 13, 23, 25]\n",
      "[25, 23, 13, 10, 9, 8, 7, 6, 6, 5, 5, 4, 2, 2, 2, 1]\n"
     ]
    }
   ],
   "source": [
    "a = [6,2,4,7,9,13,5,6,8,1,2,5,10,2,23,25]\n",
    "\n",
    "# 반환값이 없어서 변수로 지정 불가능\n",
    "a.sort()\n",
    "print(a)\n",
    "a.sort(reverse=True)\n",
    "print(a)\n",
    "\n",
    "# sorted 복사본을 반환하므로 변수로 지정 가능\n",
    "b1 = sorted(a)\n",
    "b2 = sorted(a, reverse=True)\n",
    "print(b1)\n",
    "print(b2)"
   ]
  },
  {
   "cell_type": "markdown",
   "id": "94347d7d",
   "metadata": {},
   "source": [
    "### tuple\n",
    " - 리스트와 같이 복수개의 값을 갖는 컬렉션 타입\n",
    " - immutable"
   ]
  },
  {
   "cell_type": "code",
   "execution_count": 88,
   "id": "81ee2c6d",
   "metadata": {},
   "outputs": [
    {
     "name": "stdout",
     "output_type": "stream",
     "text": [
      "<class 'tuple'>\n",
      "<class 'int'>\n"
     ]
    },
    {
     "ename": "TypeError",
     "evalue": "'tuple' object does not support item assignment",
     "output_type": "error",
     "traceback": [
      "\u001b[1;31m---------------------------------------------------------------------------\u001b[0m",
      "\u001b[1;31mTypeError\u001b[0m                                 Traceback (most recent call last)",
      "\u001b[1;32m<ipython-input-88-6fbbc1bf1240>\u001b[0m in \u001b[0;36m<module>\u001b[1;34m\u001b[0m\n\u001b[0;32m      5\u001b[0m \u001b[0mprint\u001b[0m\u001b[1;33m(\u001b[0m\u001b[0mtype\u001b[0m\u001b[1;33m(\u001b[0m\u001b[0mb\u001b[0m\u001b[1;33m)\u001b[0m\u001b[1;33m)\u001b[0m\u001b[1;33m\u001b[0m\u001b[1;33m\u001b[0m\u001b[0m\n\u001b[0;32m      6\u001b[0m \u001b[1;33m\u001b[0m\u001b[0m\n\u001b[1;32m----> 7\u001b[1;33m \u001b[0ma\u001b[0m\u001b[1;33m[\u001b[0m\u001b[1;36m0\u001b[0m\u001b[1;33m]\u001b[0m \u001b[1;33m=\u001b[0m \u001b[1;36m100\u001b[0m\u001b[1;33m\u001b[0m\u001b[1;33m\u001b[0m\u001b[0m\n\u001b[0m\u001b[0;32m      8\u001b[0m \u001b[0mprint\u001b[0m\u001b[1;33m(\u001b[0m\u001b[0ma\u001b[0m\u001b[1;33m)\u001b[0m\u001b[1;33m\u001b[0m\u001b[1;33m\u001b[0m\u001b[0m\n",
      "\u001b[1;31mTypeError\u001b[0m: 'tuple' object does not support item assignment"
     ]
    }
   ],
   "source": [
    "a = [1,2,3]\n",
    "a = (1,2,3)\n",
    "\n",
    "print(type(a))\n",
    "print(type(b))\n",
    "\n",
    "a[0] = 100\n",
    "print(a)"
   ]
  },
  {
   "cell_type": "markdown",
   "id": "8944f80a",
   "metadata": {},
   "source": [
    "tuple unpacking"
   ]
  },
  {
   "cell_type": "code",
   "execution_count": 89,
   "id": "40066615",
   "metadata": {},
   "outputs": [
    {
     "name": "stdout",
     "output_type": "stream",
     "text": [
      "300\n"
     ]
    }
   ],
   "source": [
    "a,b,c,d = 100,200,300,4\n",
    "print(c)"
   ]
  },
  {
   "cell_type": "markdown",
   "id": "bd9b0b2b",
   "metadata": {},
   "source": [
    "- **연습문제** a와 b 값을 교환하시오.\n"
   ]
  },
  {
   "cell_type": "code",
   "execution_count": 90,
   "id": "19df986e",
   "metadata": {},
   "outputs": [
    {
     "name": "stdout",
     "output_type": "stream",
     "text": [
      "5\n",
      "10\n"
     ]
    }
   ],
   "source": [
    "a = 10\n",
    "b = 5\n",
    "\n",
    "a,b = b,a\n",
    "print(a)\n",
    "print(b)"
   ]
  },
  {
   "cell_type": "code",
   "execution_count": 91,
   "id": "8ac3a13e",
   "metadata": {},
   "outputs": [
    {
     "name": "stdout",
     "output_type": "stream",
     "text": [
      "5\n",
      "10\n"
     ]
    }
   ],
   "source": [
    "a = 10\n",
    "b = 5\n",
    "c = ()\n",
    "\n",
    "c = a\n",
    "a = b\n",
    "b = c\n",
    "\n",
    "print(a)\n",
    "print(b)\n",
    "\n"
   ]
  },
  {
   "cell_type": "markdown",
   "id": "864a6b6b",
   "metadata": {},
   "source": [
    "### dictionary\n",
    "\n",
    " - 키와 값을 갖는 데이터 구조\n",
    " - 키는 내부적으로 hash 값으로 저장\n",
    " - 순서를 따지지 않음"
   ]
  },
  {
   "cell_type": "code",
   "execution_count": 92,
   "id": "009a7863",
   "metadata": {},
   "outputs": [],
   "source": [
    "a = [0,1,2,3,4,5,6,7,8,100,200,300]"
   ]
  },
  {
   "cell_type": "code",
   "execution_count": 104,
   "id": "0141f9e5",
   "metadata": {},
   "outputs": [],
   "source": [
    "a = {'Korea':'Seoul',\n",
    "     'Canada':'Ottawa',\n",
    "     'USA':'Washingtaon D.C'}\n",
    "\n",
    "# dict 는 hash 값으로 위치를 저장하기 때문에\n",
    "# 중복된 key값을 가지지 않음\n",
    "b={0:1,5:2,5:3,5:4,6:2}"
   ]
  },
  {
   "cell_type": "code",
   "execution_count": 105,
   "id": "67ef72c3",
   "metadata": {},
   "outputs": [
    {
     "name": "stdout",
     "output_type": "stream",
     "text": [
      "Seoul\n",
      "4\n",
      "{0: 1, 5: 4, 6: 2}\n"
     ]
    }
   ],
   "source": [
    "print(a['Korea'])\n",
    "print(b[5])\n",
    "print(b)"
   ]
  },
  {
   "cell_type": "markdown",
   "id": "c5eefd0a",
   "metadata": {},
   "source": [
    "- 항목 추가 및 변경\n",
    " - 기존에 키가 존재 하면, 새로운 값으로 업데이트\n",
    " "
   ]
  },
  {
   "cell_type": "code",
   "execution_count": 106,
   "id": "572b5620",
   "metadata": {},
   "outputs": [
    {
     "name": "stdout",
     "output_type": "stream",
     "text": [
      "{'Korea': 'Seoul', 'Canada': 'Ottawa', 'USA': 'Washingtaon D.C', 'Japan': 'Tokyo'}\n"
     ]
    }
   ],
   "source": [
    "a['Japan'] = 'Tokyo'\n",
    "print(a)"
   ]
  },
  {
   "cell_type": "markdown",
   "id": "b12f2d9d",
   "metadata": {},
   "source": [
    "- update()\n",
    " - 두 딕셔너리를 병합함\n",
    " - 겹치는 키가 있다면 parameter로 전달되는 키 값이 overwrite된다.\n",
    " \n"
   ]
  },
  {
   "cell_type": "code",
   "execution_count": 113,
   "id": "696566f9",
   "metadata": {},
   "outputs": [
    {
     "name": "stdout",
     "output_type": "stream",
     "text": [
      "{'a': 1, 'b': 2, 'c': 3, 'd': 4, 'e': 5}\n"
     ]
    }
   ],
   "source": [
    "# 작은 따옴표, 큰 따옴표 혼용가능\n",
    "a = {'a':1,'b':2,'c':3}\n",
    "b = {'a':1,'d':4,\"e\":5}\n",
    "\n",
    "a.update(b)\n",
    "print(a)"
   ]
  },
  {
   "cell_type": "markdown",
   "id": "4440597b",
   "metadata": {},
   "source": [
    "- key 삭제\n",
    " - del 키워드 사용\n",
    " - pop 함수 사용"
   ]
  },
  {
   "cell_type": "code",
   "execution_count": 117,
   "id": "78c3aab8",
   "metadata": {},
   "outputs": [
    {
     "name": "stdout",
     "output_type": "stream",
     "text": [
      "{'a': 1, 'b': 2, 'c': 3, 'd': 4, 'e': 5}\n",
      "{'a': 1, 'c': 3, 'd': 4, 'e': 5}\n",
      "2\n"
     ]
    }
   ],
   "source": [
    "a = {'a': 1, 'b': 2, 'c': 3, 'd': 4, 'e': 5}\n",
    "print(a)\n",
    "# b 라는 key를 가지는 value 값을 가져옴\n",
    "b1 = a.pop('b')\n",
    "print(a)\n",
    "print(b1)"
   ]
  },
  {
   "cell_type": "code",
   "execution_count": 121,
   "id": "b0896324",
   "metadata": {},
   "outputs": [
    {
     "name": "stdout",
     "output_type": "stream",
     "text": [
      "{'a': 1, 'b': 2, 'c': 3, 'd': 4, 'e': 5}\n",
      "{'a': 1, 'c': 3, 'd': 4, 'e': 5}\n",
      "{'a': 1, 'e': 5}\n"
     ]
    }
   ],
   "source": [
    "a = {'a': 1, 'b': 2, 'c': 3, 'd': 4, 'e': 5}\n",
    "print(a)\n",
    "del a['b']\n",
    "print(a)\n",
    "del a['c'], a['d']\n",
    "print(a)"
   ]
  },
  {
   "cell_type": "markdown",
   "id": "8b3d5039",
   "metadata": {},
   "source": [
    "- in\n",
    " - key 값 존재 확인\n",
    " - O(1) 연산 - dict의 크기와 관계없이 연산의 속도가 일정함"
   ]
  },
  {
   "cell_type": "code",
   "execution_count": 124,
   "id": "c550782c",
   "metadata": {},
   "outputs": [
    {
     "name": "stdout",
     "output_type": "stream",
     "text": [
      "True\n",
      "True\n",
      "False\n"
     ]
    }
   ],
   "source": [
    "a = {'a': 1, 'b': 2, 'c': 3, 'd': 4, 'e': 5}\n",
    "b = [1,2,3,4,5,6,7,8,9,100,1,3,4,5]\n",
    "\n",
    "print(100 in b)\n",
    "print('b' in a)\n",
    "print(2 in a)"
   ]
  },
  {
   "cell_type": "markdown",
   "id": "4e2ba1a0",
   "metadata": {},
   "source": [
    "- value access\n",
    " - dict[key]로 접근, 키가 없는 경우 에러 발생\n",
    " - .get() 함수로 접근, 키가 없는 경우 None 반환\n"
   ]
  },
  {
   "cell_type": "code",
   "execution_count": 126,
   "id": "420f8adb",
   "metadata": {},
   "outputs": [
    {
     "name": "stdout",
     "output_type": "stream",
     "text": [
      "None\n"
     ]
    },
    {
     "ename": "KeyError",
     "evalue": "'f'",
     "output_type": "error",
     "traceback": [
      "\u001b[1;31m---------------------------------------------------------------------------\u001b[0m",
      "\u001b[1;31mKeyError\u001b[0m                                  Traceback (most recent call last)",
      "\u001b[1;32m<ipython-input-126-b000bcff9797>\u001b[0m in \u001b[0;36m<module>\u001b[1;34m\u001b[0m\n\u001b[0;32m      1\u001b[0m \u001b[0ma\u001b[0m \u001b[1;33m=\u001b[0m \u001b[1;33m{\u001b[0m\u001b[1;34m'a'\u001b[0m\u001b[1;33m:\u001b[0m \u001b[1;36m1\u001b[0m\u001b[1;33m,\u001b[0m \u001b[1;34m'b'\u001b[0m\u001b[1;33m:\u001b[0m \u001b[1;36m2\u001b[0m\u001b[1;33m,\u001b[0m \u001b[1;34m'c'\u001b[0m\u001b[1;33m:\u001b[0m \u001b[1;36m3\u001b[0m\u001b[1;33m,\u001b[0m \u001b[1;34m'd'\u001b[0m\u001b[1;33m:\u001b[0m \u001b[1;36m4\u001b[0m\u001b[1;33m,\u001b[0m \u001b[1;34m'e'\u001b[0m\u001b[1;33m:\u001b[0m \u001b[1;36m5\u001b[0m\u001b[1;33m}\u001b[0m\u001b[1;33m\u001b[0m\u001b[1;33m\u001b[0m\u001b[0m\n\u001b[0;32m      2\u001b[0m \u001b[0mprint\u001b[0m\u001b[1;33m(\u001b[0m\u001b[0ma\u001b[0m\u001b[1;33m.\u001b[0m\u001b[0mget\u001b[0m\u001b[1;33m(\u001b[0m\u001b[1;34m'f'\u001b[0m\u001b[1;33m)\u001b[0m\u001b[1;33m)\u001b[0m\u001b[1;33m\u001b[0m\u001b[1;33m\u001b[0m\u001b[0m\n\u001b[1;32m----> 3\u001b[1;33m \u001b[0mprint\u001b[0m\u001b[1;33m(\u001b[0m\u001b[0ma\u001b[0m\u001b[1;33m[\u001b[0m\u001b[1;34m'f'\u001b[0m\u001b[1;33m]\u001b[0m\u001b[1;33m)\u001b[0m\u001b[1;33m\u001b[0m\u001b[1;33m\u001b[0m\u001b[0m\n\u001b[0m",
      "\u001b[1;31mKeyError\u001b[0m: 'f'"
     ]
    }
   ],
   "source": [
    "a = {'a': 1, 'b': 2, 'c': 3, 'd': 4, 'e': 5}\n",
    "print(a.get('f'))\n",
    "print(a['f'])"
   ]
  },
  {
   "cell_type": "markdown",
   "id": "2b47605f",
   "metadata": {},
   "source": [
    "#### 모든 keys, values 접근\n",
    " - keys(): 키 값만 반환\n",
    " - values(): 값만 반환\n",
    " - items(): 키, 값의 튜플을 반환\n"
   ]
  },
  {
   "cell_type": "code",
   "execution_count": 130,
   "id": "d1688482",
   "metadata": {},
   "outputs": [
    {
     "name": "stdout",
     "output_type": "stream",
     "text": [
      "{'a': 1, 'b': 2, 'c': 3, 'd': 4, 'e': 5}\n",
      "dict_keys(['a', 'b', 'c', 'd', 'e'])\n",
      "['a', 'b', 'c', 'd', 'e']\n",
      "dict_values([1, 2, 3, 4, 5])\n",
      "[1, 2, 3, 4, 5]\n",
      "dict_items([('a', 1), ('b', 2), ('c', 3), ('d', 4), ('e', 5)])\n",
      "[('a', 1), ('b', 2), ('c', 3), ('d', 4), ('e', 5)]\n"
     ]
    }
   ],
   "source": [
    "a = {'a': 1, 'b': 2, 'c': 3, 'd': 4, 'e': 5}\n",
    "\n",
    "print(a)\n",
    "print(a.keys())\n",
    "print(list(a.keys()))\n",
    "print(a.values())\n",
    "print(list(a.values()))\n",
    "print(a.items())\n",
    "print(list(a.items()))"
   ]
  },
  {
   "cell_type": "markdown",
   "id": "7a25d786",
   "metadata": {},
   "source": [
    "###  set\n",
    " - dict 에서 key 만 활용하는 데이터 구조로 이해\n",
    " - 수학에서 집합과 동일한 개념"
   ]
  },
  {
   "cell_type": "code",
   "execution_count": 132,
   "id": "0a8d854c",
   "metadata": {},
   "outputs": [
    {
     "name": "stdout",
     "output_type": "stream",
     "text": [
      "{1, 2, 3, 4, 5}\n"
     ]
    },
    {
     "ename": "TypeError",
     "evalue": "'set' object is not subscriptable",
     "output_type": "error",
     "traceback": [
      "\u001b[1;31m---------------------------------------------------------------------------\u001b[0m",
      "\u001b[1;31mTypeError\u001b[0m                                 Traceback (most recent call last)",
      "\u001b[1;32m<ipython-input-132-b647758f7382>\u001b[0m in \u001b[0;36m<module>\u001b[1;34m\u001b[0m\n\u001b[0;32m      1\u001b[0m \u001b[0ma\u001b[0m \u001b[1;33m=\u001b[0m \u001b[1;33m{\u001b[0m\u001b[1;36m1\u001b[0m\u001b[1;33m,\u001b[0m\u001b[1;36m1\u001b[0m\u001b[1;33m,\u001b[0m\u001b[1;36m3\u001b[0m\u001b[1;33m,\u001b[0m\u001b[1;36m2\u001b[0m\u001b[1;33m,\u001b[0m\u001b[1;36m2\u001b[0m\u001b[1;33m,\u001b[0m\u001b[1;36m4\u001b[0m\u001b[1;33m,\u001b[0m\u001b[1;36m4\u001b[0m\u001b[1;33m,\u001b[0m\u001b[1;36m5\u001b[0m\u001b[1;33m}\u001b[0m\u001b[1;33m\u001b[0m\u001b[1;33m\u001b[0m\u001b[0m\n\u001b[0;32m      2\u001b[0m \u001b[0mprint\u001b[0m\u001b[1;33m(\u001b[0m\u001b[0ma\u001b[0m\u001b[1;33m)\u001b[0m\u001b[1;33m\u001b[0m\u001b[1;33m\u001b[0m\u001b[0m\n\u001b[1;32m----> 3\u001b[1;33m \u001b[0mprint\u001b[0m\u001b[1;33m(\u001b[0m\u001b[0ma\u001b[0m\u001b[1;33m[\u001b[0m\u001b[1;36m0\u001b[0m\u001b[1;33m]\u001b[0m\u001b[1;33m)\u001b[0m\u001b[1;33m\u001b[0m\u001b[1;33m\u001b[0m\u001b[0m\n\u001b[0m",
      "\u001b[1;31mTypeError\u001b[0m: 'set' object is not subscriptable"
     ]
    }
   ],
   "source": [
    "a = {1,1,3,2,2,4,4,5}\n",
    "print(a)\n",
    "print(a[0])"
   ]
  },
  {
   "cell_type": "markdown",
   "id": "3d014dd4",
   "metadata": {},
   "source": [
    "- set()을 통해 집합으로 변환"
   ]
  },
  {
   "cell_type": "code",
   "execution_count": 133,
   "id": "d704b4f3",
   "metadata": {},
   "outputs": [
    {
     "name": "stdout",
     "output_type": "stream",
     "text": [
      "[1, 1, 3, 2, 2, 4, 4, 5]\n",
      "{1, 2, 3, 4, 5}\n"
     ]
    }
   ],
   "source": [
    "a = [1,1,3,2,2,4,4,5]\n",
    "print(a)\n",
    "\n",
    "b = set(a)\n",
    "print(b)"
   ]
  },
  {
   "cell_type": "code",
   "execution_count": 135,
   "id": "e20dce59",
   "metadata": {},
   "outputs": [
    {
     "name": "stdout",
     "output_type": "stream",
     "text": [
      "<class 'dict'>\n",
      "<class 'set'>\n"
     ]
    }
   ],
   "source": [
    "# dict 생성 vs set 생성\n",
    "a= {}\n",
    "b= set()\n",
    "print(type(a))\n",
    "print(type(b))"
   ]
  },
  {
   "cell_type": "code",
   "execution_count": 142,
   "id": "28af1dd9",
   "metadata": {},
   "outputs": [
    {
     "name": "stdout",
     "output_type": "stream",
     "text": [
      "{1, 2, 3, 4}\n",
      "{2, 3}\n",
      "{1}\n",
      "False\n",
      "True\n"
     ]
    }
   ],
   "source": [
    "a = {1,2,3}\n",
    "b = {2,3,4}\n",
    "c = set({1,2})\n",
    "\n",
    "print(a.union(b))\n",
    "print(a.intersection(b))\n",
    "print(a.difference(b))\n",
    "print(a.issubset(b))\n",
    "print(c.issubset(a))"
   ]
  },
  {
   "cell_type": "code",
   "execution_count": null,
   "id": "50d5e6f6",
   "metadata": {},
   "outputs": [],
   "source": []
  }
 ],
 "metadata": {
  "kernelspec": {
   "display_name": "Python 3",
   "language": "python",
   "name": "python3"
  },
  "language_info": {
   "codemirror_mode": {
    "name": "ipython",
    "version": 3
   },
   "file_extension": ".py",
   "mimetype": "text/x-python",
   "name": "python",
   "nbconvert_exporter": "python",
   "pygments_lexer": "ipython3",
   "version": "3.8.8"
  }
 },
 "nbformat": 4,
 "nbformat_minor": 5
}
