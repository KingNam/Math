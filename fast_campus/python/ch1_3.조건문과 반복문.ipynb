{
 "cells": [
  {
   "cell_type": "markdown",
   "id": "df028df3",
   "metadata": {},
   "source": [
    "- 조건 우선순위\n",
    " - NOT > AND > OR"
   ]
  },
  {
   "cell_type": "code",
   "execution_count": 3,
   "id": "f14663e8",
   "metadata": {},
   "outputs": [
    {
     "name": "stdout",
     "output_type": "stream",
     "text": [
      "False\n"
     ]
    }
   ],
   "source": [
    "a,b,c = 10, 8, 11\n",
    "\n",
    "if a == 9 or b == 8 and c ==10:\n",
    "    print(\"True\")\n",
    "else:\n",
    "    print(\"False\")"
   ]
  },
  {
   "cell_type": "code",
   "execution_count": 4,
   "id": "af6376fa",
   "metadata": {},
   "outputs": [
    {
     "name": "stdout",
     "output_type": "stream",
     "text": [
      "True\n"
     ]
    }
   ],
   "source": [
    "if a == 9 and b == 8 or c ==11:\n",
    "    print(\"True\")\n",
    "else:\n",
    "    print(\"False\")"
   ]
  },
  {
   "cell_type": "markdown",
   "id": "46bd7d95",
   "metadata": {},
   "source": [
    "#### if의 조건이 False로 간주되는 값\n",
    " - None\n",
    " - 0 \n",
    " - 0.0\n",
    " - ''\n",
    " - []\n",
    " - ()\n",
    " - {}\n",
    " - set()\n",
    " "
   ]
  },
  {
   "cell_type": "code",
   "execution_count": 5,
   "id": "a4eed4fc",
   "metadata": {},
   "outputs": [
    {
     "name": "stdout",
     "output_type": "stream",
     "text": [
      "555\n"
     ]
    }
   ],
   "source": [
    "if 3:\n",
    "    print('555')"
   ]
  },
  {
   "cell_type": "markdown",
   "id": "4ebd0d82",
   "metadata": {},
   "source": [
    "#### 중첩 조건문 (nested condition)\n",
    " - 조건문의 경우 중첩하여 작성 가능\n",
    " - depth 의 제한은 없음\n",
    " "
   ]
  },
  {
   "cell_type": "code",
   "execution_count": 7,
   "id": "18a780d3",
   "metadata": {},
   "outputs": [
    {
     "name": "stdout",
     "output_type": "stream",
     "text": [
      "No~ No~\n"
     ]
    }
   ],
   "source": [
    "a,b,c = 10,9,8\n",
    "\n",
    "if a==10:\n",
    "    if c==8:\n",
    "        if b==8:\n",
    "            print('Yaho')\n",
    "        else:\n",
    "            print('No~ No~')"
   ]
  },
  {
   "cell_type": "markdown",
   "id": "4ff0d3d2",
   "metadata": {},
   "source": [
    "#### while 키워드 이용하여 리스트 출력하기"
   ]
  },
  {
   "cell_type": "code",
   "execution_count": 9,
   "id": "c847a05a",
   "metadata": {},
   "outputs": [
    {
     "ename": "IndentationError",
     "evalue": "unexpected indent (<ipython-input-9-6698d01e0365>, line 6)",
     "output_type": "error",
     "traceback": [
      "\u001b[1;36m  File \u001b[1;32m\"<ipython-input-9-6698d01e0365>\"\u001b[1;36m, line \u001b[1;32m6\u001b[0m\n\u001b[1;33m    print(a[i])\u001b[0m\n\u001b[1;37m    ^\u001b[0m\n\u001b[1;31mIndentationError\u001b[0m\u001b[1;31m:\u001b[0m unexpected indent\n"
     ]
    }
   ],
   "source": [
    "a = [5,7,8,3,5,1,7,45,15,35,48,358]\n",
    "\n",
    "# 무한루프\n",
    "# i = 0 \n",
    "# while i < len(a):\n",
    "#    print(a[i])"
   ]
  },
  {
   "cell_type": "code",
   "execution_count": 12,
   "id": "514a4062",
   "metadata": {},
   "outputs": [
    {
     "name": "stdout",
     "output_type": "stream",
     "text": [
      "value:  5 index:  0\n",
      "value:  7 index:  1\n",
      "value:  8 index:  2\n",
      "value:  3 index:  3\n",
      "value:  5 index:  4\n",
      "value:  1 index:  5\n",
      "value:  7 index:  6\n",
      "value:  45 index:  7\n",
      "value:  15 index:  8\n",
      "value:  35 index:  9\n",
      "value:  48 index:  10\n",
      "value:  358 index:  11\n"
     ]
    }
   ],
   "source": [
    "i = 0\n",
    "while i < len(a):\n",
    "    print('value: ' ,a[i], 'index: ', i)\n",
    "    i += 1"
   ]
  },
  {
   "cell_type": "code",
   "execution_count": 15,
   "id": "bcab9861",
   "metadata": {
    "scrolled": true
   },
   "outputs": [
    {
     "name": "stdout",
     "output_type": "stream",
     "text": [
      "value: 45 index: 7\n",
      "value: 35 index: 9\n",
      "value: 48 index: 10\n",
      "value: 358 index: 11\n"
     ]
    }
   ],
   "source": [
    "# 리스트 값이 20보다 크면 출력\n",
    "i = 0\n",
    "a = [5,7,8,3,5,1,7,45,15,35,48,358]\n",
    "while i < len(a):\n",
    "    if a[i]> 20:\n",
    "        print('value:',a[i],'index:', i)\n",
    "    i+=1"
   ]
  },
  {
   "cell_type": "code",
   "execution_count": 21,
   "id": "e55d7a49",
   "metadata": {},
   "outputs": [
    {
     "name": "stdout",
     "output_type": "stream",
     "text": [
      "value: 5 index: 0\n",
      "value: 7 index: 1\n",
      "value: 3 index: 3\n",
      "value: 5 index: 4\n",
      "value: 1 index: 5\n",
      "value: 7 index: 6\n",
      "value: 45 index: 7\n",
      "value: 15 index: 8\n",
      "value: 35 index: 9\n"
     ]
    }
   ],
   "source": [
    "# 홀수인 경우만 출력\n",
    "i = 0\n",
    "a = [5,7,8,3,5,1,7,45,15,35,48,358]\n",
    "while i < len(a):\n",
    "    if a[i]%2 == 1:\n",
    "        print('value:',a[i],'index:', i)\n",
    "    i+=1"
   ]
  },
  {
   "cell_type": "markdown",
   "id": "a28d3f52",
   "metadata": {},
   "source": [
    "####  break\n",
    "- loop를 중단할때 사용\n",
    "- 보통 조건문 안에서 수행되며, 조건을 만족하는 경우 loop를 탈출하기 위해 사용 "
   ]
  },
  {
   "cell_type": "code",
   "execution_count": 24,
   "id": "56588d09",
   "metadata": {},
   "outputs": [
    {
     "name": "stdout",
     "output_type": "stream",
     "text": [
      "value: 5 index: 0\n",
      "value: 7 index: 1\n",
      "value: 8 index: 2\n",
      "value: 3 index: 3\n",
      "value: 5 index: 4\n",
      "value: 1 index: 5\n",
      "value: 7 index: 6\n",
      "value: 45 index: 7\n",
      "7\n"
     ]
    }
   ],
   "source": [
    "i = 0\n",
    "a = [5,7,8,3,5,1,7,45,15,35,48,358]\n",
    "while i < len(a):\n",
    "    print('value:',a[i],'index:', i)\n",
    "    if a[i] > 40:\n",
    "        break\n",
    "    i+=1\n",
    "    \n",
    "print(i)"
   ]
  },
  {
   "cell_type": "code",
   "execution_count": 25,
   "id": "cdfae3c5",
   "metadata": {},
   "outputs": [
    {
     "name": "stdout",
     "output_type": "stream",
     "text": [
      "value: 5 index: 0\n",
      "value: 7 index: 1\n",
      "value: 8 index: 2\n",
      "value: 3 index: 3\n",
      "value: 5 index: 4\n",
      "value: 1 index: 5\n",
      "value: 7 index: 6\n",
      "7\n"
     ]
    }
   ],
   "source": [
    "i = 0\n",
    "a = [5,7,8,3,5,1,7,45,15,35,48,358]\n",
    "while i < len(a):\n",
    "    print('value:',a[i],'index:', i)\n",
    "    i+=1\n",
    "    if a[i] > 40:\n",
    "        break\n",
    "\n",
    "    \n",
    "print(i)"
   ]
  },
  {
   "cell_type": "code",
   "execution_count": 27,
   "id": "491308cb",
   "metadata": {},
   "outputs": [
    {
     "name": "stdout",
     "output_type": "stream",
     "text": [
      "value: 5 index: 0\n",
      "value: 7 index: 1\n",
      "value: 8 index: 2\n",
      "value: 3 index: 3\n",
      "value: 5 index: 4\n",
      "value: 1 index: 5\n",
      "value: 7 index: 6\n",
      "7\n"
     ]
    }
   ],
   "source": [
    "i = 0\n",
    "a = [5,7,8,3,5,1,7,45,15,35,48,358]\n",
    "while i < len(a):\n",
    "    if a[i] > 40:\n",
    "        break\n",
    "    print('value:',a[i],'index:', i)\n",
    "    i+=1\n",
    "\n",
    "    \n",
    "print(i)"
   ]
  },
  {
   "cell_type": "markdown",
   "id": "73214671",
   "metadata": {},
   "source": [
    "#### continue\n",
    "- break처럼 반복을 중단하여 빠져나오지 않고, 다시 while 조건으로 점프\n",
    "- 특정한 경우에는 코드를 수행하지 않고 다음으로 건너 뛰기 위해 사용"
   ]
  },
  {
   "cell_type": "code",
   "execution_count": 29,
   "id": "564001e9",
   "metadata": {},
   "outputs": [
    {
     "name": "stdout",
     "output_type": "stream",
     "text": [
      "6\n",
      "5\n"
     ]
    }
   ],
   "source": [
    "a = 7\n",
    "while a>0:\n",
    "    a -=1\n",
    "    if a ==4:\n",
    "        break\n",
    "    print(a)"
   ]
  },
  {
   "cell_type": "code",
   "execution_count": 31,
   "id": "30cd66e5",
   "metadata": {
    "scrolled": true
   },
   "outputs": [
    {
     "name": "stdout",
     "output_type": "stream",
     "text": [
      "6\n",
      "5\n",
      "3\n",
      "2\n",
      "1\n",
      "0\n"
     ]
    }
   ],
   "source": [
    "a = 7\n",
    "while a>0:\n",
    "    a -=1\n",
    "    if a ==4:\n",
    "        continue\n",
    "    print(a)"
   ]
  },
  {
   "cell_type": "markdown",
   "id": "bcef756d",
   "metadata": {},
   "source": [
    "#### 1 부터 100까지 더하기\n"
   ]
  },
  {
   "cell_type": "code",
   "execution_count": 32,
   "id": "6b64183b",
   "metadata": {},
   "outputs": [],
   "source": [
    "a = 0\n",
    "sum = 0\n",
    "while a <=100:\n",
    "    sum += a\n",
    "    a+=1"
   ]
  },
  {
   "cell_type": "code",
   "execution_count": 33,
   "id": "28ad8212",
   "metadata": {},
   "outputs": [
    {
     "name": "stdout",
     "output_type": "stream",
     "text": [
      "5050\n"
     ]
    }
   ],
   "source": [
    "print(sum)"
   ]
  },
  {
   "cell_type": "markdown",
   "id": "2acd5661",
   "metadata": {},
   "source": [
    "####  for 반복문"
   ]
  },
  {
   "cell_type": "code",
   "execution_count": 34,
   "id": "273ea7e2",
   "metadata": {},
   "outputs": [
    {
     "name": "stdout",
     "output_type": "stream",
     "text": [
      "1 2\n",
      "2 4\n",
      "3 6\n",
      "4 8\n",
      "5 10\n"
     ]
    }
   ],
   "source": [
    "a = [1,2,3,4,5]\n",
    "for i in a:\n",
    "    print(i, i*2)\n",
    "    "
   ]
  },
  {
   "cell_type": "markdown",
   "id": "8e3f0db5",
   "metadata": {},
   "source": [
    "####  문자열 출력하기"
   ]
  },
  {
   "cell_type": "code",
   "execution_count": 36,
   "id": "c90239e3",
   "metadata": {},
   "outputs": [
    {
     "name": "stdout",
     "output_type": "stream",
     "text": [
      "a\n",
      "s\n",
      "d\n",
      "f\n",
      "a\n",
      "s\n",
      "d\n",
      "f\n",
      "a\n",
      "w\n",
      "e\n",
      "f\n",
      "a\n",
      "f\n"
     ]
    }
   ],
   "source": [
    "a = 'asdfasdfawefaf'\n",
    "for i in a:\n",
    "    print(i)"
   ]
  },
  {
   "cell_type": "code",
   "execution_count": 37,
   "id": "32797023",
   "metadata": {},
   "outputs": [
    {
     "name": "stdout",
     "output_type": "stream",
     "text": [
      "1\n",
      "2\n",
      "3\n",
      "1\n",
      "2\n",
      "3\n",
      "1\n",
      "2\n",
      "3\n"
     ]
    }
   ],
   "source": [
    "for a in '123123123':\n",
    "    print(a)"
   ]
  },
  {
   "cell_type": "markdown",
   "id": "d2c11793",
   "metadata": {},
   "source": [
    "####  dict의 아이템 출력하기"
   ]
  },
  {
   "cell_type": "code",
   "execution_count": 45,
   "id": "8c21786b",
   "metadata": {},
   "outputs": [
    {
     "name": "stdout",
     "output_type": "stream",
     "text": [
      "korea\n",
      "japan\n",
      "canada\n"
     ]
    }
   ],
   "source": [
    "a = {'korea':'seoul','japan':'tokyo','canada':'ottawa'}\n",
    "for i in a:\n",
    "    print(i)"
   ]
  },
  {
   "cell_type": "code",
   "execution_count": 39,
   "id": "b6fc4b18",
   "metadata": {},
   "outputs": [
    {
     "name": "stdout",
     "output_type": "stream",
     "text": [
      "seoul\n",
      "tokyo\n",
      "ottawa\n"
     ]
    }
   ],
   "source": [
    "for i in a:\n",
    "    print(a[i])"
   ]
  },
  {
   "cell_type": "code",
   "execution_count": 47,
   "id": "eea9193b",
   "metadata": {
    "scrolled": true
   },
   "outputs": [
    {
     "name": "stdout",
     "output_type": "stream",
     "text": [
      "나라이름: korea  수도명:  seoul\n",
      "나라이름: japan  수도명:  tokyo\n",
      "나라이름: canada  수도명:  ottawa\n"
     ]
    }
   ],
   "source": [
    "for a,b in a.items():\n",
    "    print('나라이름:',a,' 수도명: ',b)"
   ]
  },
  {
   "cell_type": "markdown",
   "id": "73bd162d",
   "metadata": {},
   "source": [
    "####  for 에서 index 사용하기\n",
    "- 기본적으로 for에 리스트를 순회하는 경우, 값만 추출\n",
    "- 아래와 같은 코드로 인덱스와 값 모두 사용 가능(enumerate함수 사용)"
   ]
  },
  {
   "cell_type": "code",
   "execution_count": 48,
   "id": "f28680f4",
   "metadata": {},
   "outputs": [
    {
     "name": "stdout",
     "output_type": "stream",
     "text": [
      "0 1\n",
      "1 2\n",
      "2 3\n",
      "3 4\n",
      "4 5\n"
     ]
    }
   ],
   "source": [
    "a = [1,2,3,4,5]\n",
    "for i,j in enumerate(a):\n",
    "    print (i,j)"
   ]
  },
  {
   "cell_type": "markdown",
   "id": "5ecdf9f4",
   "metadata": {},
   "source": [
    "####  break\n",
    "- for 의 경우에도 특정 조건일 때, loop 종료 가능"
   ]
  },
  {
   "cell_type": "markdown",
   "id": "0b64fb50",
   "metadata": {},
   "source": [
    "#### 구구단 출력하기 (1-9단)"
   ]
  },
  {
   "cell_type": "code",
   "execution_count": 55,
   "id": "1a445c92",
   "metadata": {
    "collapsed": true
   },
   "outputs": [
    {
     "name": "stdout",
     "output_type": "stream",
     "text": [
      "1 x 1 = 1\n",
      "2 x 1 = 2\n",
      "3 x 1 = 3\n",
      "4 x 1 = 4\n",
      "5 x 1 = 5\n",
      "6 x 1 = 6\n",
      "7 x 1 = 7\n",
      "8 x 1 = 8\n",
      "9 x 1 = 9\n",
      "1 x 2 = 2\n",
      "2 x 2 = 4\n",
      "3 x 2 = 6\n",
      "4 x 2 = 8\n",
      "5 x 2 = 10\n",
      "6 x 2 = 12\n",
      "7 x 2 = 14\n",
      "8 x 2 = 16\n",
      "9 x 2 = 18\n",
      "1 x 3 = 3\n",
      "2 x 3 = 6\n",
      "3 x 3 = 9\n",
      "4 x 3 = 12\n",
      "5 x 3 = 15\n",
      "6 x 3 = 18\n",
      "7 x 3 = 21\n",
      "8 x 3 = 24\n",
      "9 x 3 = 27\n",
      "1 x 4 = 4\n",
      "2 x 4 = 8\n",
      "3 x 4 = 12\n",
      "4 x 4 = 16\n",
      "5 x 4 = 20\n",
      "6 x 4 = 24\n",
      "7 x 4 = 28\n",
      "8 x 4 = 32\n",
      "9 x 4 = 36\n",
      "1 x 5 = 5\n",
      "2 x 5 = 10\n",
      "3 x 5 = 15\n",
      "4 x 5 = 20\n",
      "5 x 5 = 25\n",
      "6 x 5 = 30\n",
      "7 x 5 = 35\n",
      "8 x 5 = 40\n",
      "9 x 5 = 45\n",
      "1 x 6 = 6\n",
      "2 x 6 = 12\n",
      "3 x 6 = 18\n",
      "4 x 6 = 24\n",
      "5 x 6 = 30\n",
      "6 x 6 = 36\n",
      "7 x 6 = 42\n",
      "8 x 6 = 48\n",
      "9 x 6 = 54\n",
      "1 x 7 = 7\n",
      "2 x 7 = 14\n",
      "3 x 7 = 21\n",
      "4 x 7 = 28\n",
      "5 x 7 = 35\n",
      "6 x 7 = 42\n",
      "7 x 7 = 49\n",
      "8 x 7 = 56\n",
      "9 x 7 = 63\n",
      "1 x 8 = 8\n",
      "2 x 8 = 16\n",
      "3 x 8 = 24\n",
      "4 x 8 = 32\n",
      "5 x 8 = 40\n",
      "6 x 8 = 48\n",
      "7 x 8 = 56\n",
      "8 x 8 = 64\n",
      "9 x 8 = 72\n",
      "1 x 9 = 9\n",
      "2 x 9 = 18\n",
      "3 x 9 = 27\n",
      "4 x 9 = 36\n",
      "5 x 9 = 45\n",
      "6 x 9 = 54\n",
      "7 x 9 = 63\n",
      "8 x 9 = 72\n",
      "9 x 9 = 81\n"
     ]
    }
   ],
   "source": [
    "for j in range(1,10):\n",
    "    for i in range(1,10):\n",
    "        print(i,'x' ,j, '=' , i*j)"
   ]
  },
  {
   "cell_type": "markdown",
   "id": "898b57ac",
   "metadata": {},
   "source": [
    "####  range 이용하여 리스트 생성하기"
   ]
  },
  {
   "cell_type": "code",
   "execution_count": 59,
   "id": "6c368b79",
   "metadata": {},
   "outputs": [
    {
     "name": "stdout",
     "output_type": "stream",
     "text": [
      "51\n"
     ]
    }
   ],
   "source": [
    "# 1~100 리스트 생성하기\n",
    "a = range(1,100)\n",
    "print(a[50])"
   ]
  },
  {
   "cell_type": "markdown",
   "id": "eb7bb968",
   "metadata": {},
   "source": [
    "####  if & for 연습문제\n",
    " 1. 구구단 2-9단까지 출력하시오\n",
    " 2. 1-100 까지 정수 중 2의 배수 또는 11의 배수를 모두 출력하시오.\n",
    " 3. a = [22,1,3,4,7,98,55,86,22,66,34] 에서 최대값과 최소값을 찾으시오.\n",
    " 4. 리스트 a 의 평균을 구하시오."
   ]
  },
  {
   "cell_type": "code",
   "execution_count": 61,
   "id": "db7eb71a",
   "metadata": {
    "collapsed": true
   },
   "outputs": [
    {
     "name": "stdout",
     "output_type": "stream",
     "text": [
      "2 x 2 = 4\n",
      "2 x 3 = 6\n",
      "2 x 4 = 8\n",
      "2 x 5 = 10\n",
      "2 x 6 = 12\n",
      "2 x 7 = 14\n",
      "2 x 8 = 16\n",
      "2 x 9 = 18\n",
      "3 x 2 = 6\n",
      "3 x 3 = 9\n",
      "3 x 4 = 12\n",
      "3 x 5 = 15\n",
      "3 x 6 = 18\n",
      "3 x 7 = 21\n",
      "3 x 8 = 24\n",
      "3 x 9 = 27\n",
      "4 x 2 = 8\n",
      "4 x 3 = 12\n",
      "4 x 4 = 16\n",
      "4 x 5 = 20\n",
      "4 x 6 = 24\n",
      "4 x 7 = 28\n",
      "4 x 8 = 32\n",
      "4 x 9 = 36\n",
      "5 x 2 = 10\n",
      "5 x 3 = 15\n",
      "5 x 4 = 20\n",
      "5 x 5 = 25\n",
      "5 x 6 = 30\n",
      "5 x 7 = 35\n",
      "5 x 8 = 40\n",
      "5 x 9 = 45\n",
      "6 x 2 = 12\n",
      "6 x 3 = 18\n",
      "6 x 4 = 24\n",
      "6 x 5 = 30\n",
      "6 x 6 = 36\n",
      "6 x 7 = 42\n",
      "6 x 8 = 48\n",
      "6 x 9 = 54\n",
      "7 x 2 = 14\n",
      "7 x 3 = 21\n",
      "7 x 4 = 28\n",
      "7 x 5 = 35\n",
      "7 x 6 = 42\n",
      "7 x 7 = 49\n",
      "7 x 8 = 56\n",
      "7 x 9 = 63\n",
      "8 x 2 = 16\n",
      "8 x 3 = 24\n",
      "8 x 4 = 32\n",
      "8 x 5 = 40\n",
      "8 x 6 = 48\n",
      "8 x 7 = 56\n",
      "8 x 8 = 64\n",
      "8 x 9 = 72\n",
      "9 x 2 = 18\n",
      "9 x 3 = 27\n",
      "9 x 4 = 36\n",
      "9 x 5 = 45\n",
      "9 x 6 = 54\n",
      "9 x 7 = 63\n",
      "9 x 8 = 72\n",
      "9 x 9 = 81\n"
     ]
    }
   ],
   "source": [
    "# 1번문제\n",
    "for i in range(2,10):\n",
    "    for j in range(2,10):\n",
    "        print (i,'x',j,'=',i*j)"
   ]
  },
  {
   "cell_type": "code",
   "execution_count": 63,
   "id": "71fd1bee",
   "metadata": {},
   "outputs": [
    {
     "name": "stdout",
     "output_type": "stream",
     "text": [
      "[2, 4, 6, 8, 10, 11, 12, 14, 16, 18, 20, 22, 24, 26, 28, 30, 32, 33, 34, 36, 38, 40, 42, 44, 46, 48, 50, 52, 54, 55, 56, 58, 60, 62, 64, 66, 68, 70, 72, 74, 76, 77, 78, 80, 82, 84, 86, 88, 90, 92, 94, 96, 98, 99, 100]\n"
     ]
    }
   ],
   "source": [
    "# 2번\n",
    "a = []\n",
    "for i in range(1,101):\n",
    "    if i%2 == 0 or i%11 == 0:\n",
    "        a.append(i)\n",
    "        \n",
    "print(a)"
   ]
  },
  {
   "cell_type": "code",
   "execution_count": 66,
   "id": "59369c41",
   "metadata": {},
   "outputs": [
    {
     "name": "stdout",
     "output_type": "stream",
     "text": [
      "98\n",
      "1\n"
     ]
    }
   ],
   "source": [
    "# 3번 문제\n",
    "\n",
    "a = [22,1,3,4,7,98,55,86,22,66,34]\n",
    "max = a[0]\n",
    "min = a[0]\n",
    "for i in a:\n",
    "    if i > max:\n",
    "        max = i\n",
    "    if i < min:\n",
    "        min = i\n",
    "\n",
    "print(max)\n",
    "print(min)"
   ]
  },
  {
   "cell_type": "code",
   "execution_count": 65,
   "id": "207fb175",
   "metadata": {},
   "outputs": [
    {
     "name": "stdout",
     "output_type": "stream",
     "text": [
      "36.18181818181818\n"
     ]
    }
   ],
   "source": [
    "# 4번 문제\n",
    "\n",
    "a = [22,1,3,4,7,98,55,86,22,66,34]\n",
    "sum = 0\n",
    "for i in a:\n",
    "    sum += i\n",
    "\n",
    "print(sum/len(a))"
   ]
  },
  {
   "cell_type": "code",
   "execution_count": null,
   "id": "f5dd103e",
   "metadata": {},
   "outputs": [],
   "source": []
  }
 ],
 "metadata": {
  "kernelspec": {
   "display_name": "Python 3",
   "language": "python",
   "name": "python3"
  },
  "language_info": {
   "codemirror_mode": {
    "name": "ipython",
    "version": 3
   },
   "file_extension": ".py",
   "mimetype": "text/x-python",
   "name": "python",
   "nbconvert_exporter": "python",
   "pygments_lexer": "ipython3",
   "version": "3.8.8"
  }
 },
 "nbformat": 4,
 "nbformat_minor": 5
}
