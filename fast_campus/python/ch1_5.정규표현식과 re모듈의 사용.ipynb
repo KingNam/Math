{
 "cells": [
  {
   "cell_type": "markdown",
   "id": "566ce1c5",
   "metadata": {},
   "source": [
    "####  정규표현식\n",
    " - regular expression\n",
    " - 특정한 패턴과 일치하는 문자열을 '검색','치환','제거' 하는 기능을 지원\n",
    " - 정규표현식의 도움없이 패턴을 찾는 작업은 불완전 하거나, 작업 cost가 높음"
   ]
  },
  {
   "cell_type": "markdown",
   "id": "990ada52",
   "metadata": {},
   "source": [
    "####  raw string\n",
    " - 문자열 앞에 r이 붙으면 문자열이 구성된 그대로 문자열로 변환"
   ]
  },
  {
   "cell_type": "code",
   "execution_count": 1,
   "id": "e6cced3b",
   "metadata": {},
   "outputs": [
    {
     "name": "stdout",
     "output_type": "stream",
     "text": [
      "abcdef\n",
      "\n",
      "abcdef\\n\n"
     ]
    }
   ],
   "source": [
    "a = 'abcdef\\n'\n",
    "print(a)\n",
    "\n",
    "b = r'abcdef\\n'\n",
    "print(b)"
   ]
  },
  {
   "cell_type": "markdown",
   "id": "74658288",
   "metadata": {},
   "source": [
    "####  기본 패턴\n",
    " - a, X, 9 등등 문자 하나하나의 char 들은 정확히 해당 문자와 일치\n",
    "  - 패턴 test는 test문자열과 일치\n",
    "  - 대소문자의 경우 기본적으로 구별하나, 구별하지 않도록 설정 가능\n",
    " - 몇몇 문자들에 대해서는 예외가 존재하는데, 이들은 특별한 의미로 사용됨\n",
    "  - \\. \\^ \\$ \\* \\? \\{ \\} \\[ \\] \\\\ \\| \\( \\)\n",
    " - .(마침표) - 어떤 한개의 character와 일치 \n",
    " - \\w: 문자 character와 일치\n",
    " - \\s: 공백문자와 일치\n",
    " - \\t, \\n, \\r - tab ,newline, return\n",
    " - \\d: 숫자 character와 일치[0-9]\n",
    " - ^ = 시작 / $ = 끝  각각 문자열의 시작과 끝을 의미\n",
    " - 자세한 내용은 링크 참조 https://docs.python.org/3/library/re.html"
   ]
  },
  {
   "cell_type": "markdown",
   "id": "879d699f",
   "metadata": {},
   "source": [
    "####  search method\n",
    " - 첫번째로 패턴을 찾으면 match 객체를 반환 \n",
    " - 패턴을 찾지 못하면 None 반환"
   ]
  },
  {
   "cell_type": "code",
   "execution_count": 2,
   "id": "019e9147",
   "metadata": {},
   "outputs": [
    {
     "data": {
      "text/plain": [
       "<re.Match object; span=(0, 3), match='abc'>"
      ]
     },
     "execution_count": 2,
     "metadata": {},
     "output_type": "execute_result"
    }
   ],
   "source": [
    "import re\n",
    "\n"
   ]
  },
  {
   "cell_type": "code",
   "execution_count": 7,
   "id": "456d85c2",
   "metadata": {},
   "outputs": [
    {
     "name": "stdout",
     "output_type": "stream",
     "text": [
      "3\n",
      "6\n",
      "abc\n"
     ]
    },
    {
     "data": {
      "text/plain": [
       "NoneType"
      ]
     },
     "execution_count": 7,
     "metadata": {},
     "output_type": "execute_result"
    }
   ],
   "source": [
    "m = re.search(r'abc','123abcdefg')\n",
    "m2 = re.search(r'abc','123bcdefg') \n",
    "type(m)\n",
    "print(m.start())\n",
    "print(m.end())\n",
    "print(m.group())\n",
    "type(m2)"
   ]
  },
  {
   "cell_type": "code",
   "execution_count": 16,
   "id": "bfa53545",
   "metadata": {},
   "outputs": [
    {
     "name": "stdout",
     "output_type": "stream",
     "text": [
      "123\n",
      "123a\n"
     ]
    }
   ],
   "source": [
    "m3 = re.search(r'\\d\\d\\d','123adfa1242')\n",
    "m4 = re.search(r'\\d\\d\\w\\w','123adfa1242')\n",
    "print(m3.group())\n",
    "print(m4.group())\n"
   ]
  },
  {
   "cell_type": "markdown",
   "id": "15516fcf",
   "metadata": {},
   "source": [
    "####  metacharacters(메타 캐릭터)\n",
    " - \\[ \\] : 문자들의 범위를 나타내기 위해 사용\n",
    " - 대괄호 안에 들어가는건 or 로 생각하면 된다.\n",
    " - [abcd] : a or b or c or d\n",
    " - [abc.^]: a or b or c or \\. or \\^\n",
    " - [^abc]:abc를 제외한 문자 아무거나 (문자 앞에 ^가 들어가면 Not 으로 생각)"
   ]
  },
  {
   "cell_type": "code",
   "execution_count": 17,
   "id": "785ab44a",
   "metadata": {},
   "outputs": [
    {
     "data": {
      "text/plain": [
       "<re.Match object; span=(3, 7), match='@%AB'>"
      ]
     },
     "execution_count": 17,
     "metadata": {},
     "output_type": "execute_result"
    }
   ],
   "source": [
    "m = re.search(r'..\\w\\w','@#$@%ABCDabcd')\n",
    "m"
   ]
  },
  {
   "cell_type": "code",
   "execution_count": 25,
   "id": "88731b63",
   "metadata": {},
   "outputs": [
    {
     "name": "stdout",
     "output_type": "stream",
     "text": [
      "aro\n"
     ]
    }
   ],
   "source": [
    "m1 = re.search(r'[cbm]at','cat')\n",
    "m2 = re.search(r'[cbm]at','mat')\n",
    "m3 = re.search(r'[0-9]haha', '1hahah')\n",
    "m4 = re.search(r'[abc.^]ro','caron')\n",
    "\n",
    "print(m4.group())"
   ]
  },
  {
   "cell_type": "code",
   "execution_count": 26,
   "id": "733aa019",
   "metadata": {},
   "outputs": [],
   "source": [
    "re.search(r'[^abc]aron','aaron')"
   ]
  },
  {
   "cell_type": "code",
   "execution_count": 27,
   "id": "e5a1f74e",
   "metadata": {},
   "outputs": [
    {
     "data": {
      "text/plain": [
       "<re.Match object; span=(0, 5), match='daron'>"
      ]
     },
     "execution_count": 27,
     "metadata": {},
     "output_type": "execute_result"
    }
   ],
   "source": [
    "re.search(r'[^abc]aron','daron')"
   ]
  },
  {
   "cell_type": "code",
   "execution_count": 30,
   "id": "53c4f9f8",
   "metadata": {},
   "outputs": [
    {
     "data": {
      "text/plain": [
       "<re.Match object; span=(0, 4), match='caro'>"
      ]
     },
     "execution_count": 30,
     "metadata": {},
     "output_type": "execute_result"
    }
   ],
   "source": [
    "re.search(r'[abc]ro','caron')"
   ]
  },
  {
   "cell_type": "code",
   "execution_count": 33,
   "id": "58415af5",
   "metadata": {},
   "outputs": [
    {
     "data": {
      "text/plain": [
       "<re.Match object; span=(1, 4), match='aro'>"
      ]
     },
     "execution_count": 33,
     "metadata": {},
     "output_type": "execute_result"
    }
   ],
   "source": [
    "re.search(r'[a]ro','caron')"
   ]
  },
  {
   "cell_type": "code",
   "execution_count": 46,
   "id": "6d87096d",
   "metadata": {},
   "outputs": [],
   "source": [
    "re.search(r'[abc.^]aro','daron')"
   ]
  },
  {
   "cell_type": "code",
   "execution_count": 47,
   "id": "b52db833",
   "metadata": {},
   "outputs": [
    {
     "data": {
      "text/plain": [
       "<re.Match object; span=(1, 4), match='.ro'>"
      ]
     },
     "execution_count": 47,
     "metadata": {},
     "output_type": "execute_result"
    }
   ],
   "source": [
    "re.search(r'[abc.^]ro','c.ron')"
   ]
  },
  {
   "cell_type": "markdown",
   "id": "48f73463",
   "metadata": {},
   "source": [
    "####  \\\n",
    " 1. 다른 문자와 함께 사용되어 특수한 의미를 지님 (기본적으로 대문자는 Not의 의미\n",
    "  - \\d : 숫자 [0-9]와 동일\n",
    "  - \\D : 숫자가 아닌 문자 [^0-9]와 동일\n",
    "  - \\s : 공백문자 (띄어쓰기, 탭, 엔터 등)\n",
    "  - \\S : 공백이 아닌 문자\n",
    "  - \\w : 알파벳 대소문자 숫자 [a-zA-Z0-9]\n",
    "  - \\W : [^a-zA-Z0-9]\n",
    "  \n",
    " 2. 메타 캐릭터가 캐릭터 자체를 표현하도록 할 경우 사용\n",
    " - \\\\. , \\\\\\"
   ]
  },
  {
   "cell_type": "code",
   "execution_count": 48,
   "id": "220c6a4e",
   "metadata": {},
   "outputs": [
    {
     "data": {
      "text/plain": [
       "<re.Match object; span=(6, 10), match=' and'>"
      ]
     },
     "execution_count": 48,
     "metadata": {},
     "output_type": "execute_result"
    }
   ],
   "source": [
    "re.search(r'\\sand', ' apple and banana')"
   ]
  },
  {
   "cell_type": "code",
   "execution_count": 50,
   "id": "fd23fc94",
   "metadata": {},
   "outputs": [
    {
     "data": {
      "text/plain": [
       "<re.Match object; span=(7, 11), match='land'>"
      ]
     },
     "execution_count": 50,
     "metadata": {},
     "output_type": "execute_result"
    }
   ],
   "source": [
    "re.search(r'\\Sand', ' apple land banana')"
   ]
  },
  {
   "cell_type": "code",
   "execution_count": 51,
   "id": "07a4bbd6",
   "metadata": {},
   "outputs": [
    {
     "data": {
      "text/plain": [
       "<re.Match object; span=(1, 5), match='fand'>"
      ]
     },
     "execution_count": 51,
     "metadata": {},
     "output_type": "execute_result"
    }
   ],
   "source": [
    "re.search(r'.and','pfand')"
   ]
  },
  {
   "cell_type": "code",
   "execution_count": 53,
   "id": "eeaa88e5",
   "metadata": {},
   "outputs": [
    {
     "data": {
      "text/plain": [
       "<re.Match object; span=(2, 6), match='.and'>"
      ]
     },
     "execution_count": 53,
     "metadata": {},
     "output_type": "execute_result"
    }
   ],
   "source": [
    "re.search(r'\\.and','pf.and')"
   ]
  },
  {
   "cell_type": "markdown",
   "id": "d680e8f6",
   "metadata": {},
   "source": [
    "####  \\. \n",
    " - 모든 문자를 의미"
   ]
  },
  {
   "cell_type": "code",
   "execution_count": 54,
   "id": "a6b4378e",
   "metadata": {},
   "outputs": [
    {
     "data": {
      "text/plain": [
       "<re.Match object; span=(0, 3), match='pig'>"
      ]
     },
     "execution_count": 54,
     "metadata": {},
     "output_type": "execute_result"
    }
   ],
   "source": [
    "re.search(r'p.g','pig')"
   ]
  },
  {
   "cell_type": "code",
   "execution_count": 55,
   "id": "70834284",
   "metadata": {},
   "outputs": [
    {
     "data": {
      "text/plain": [
       "<re.Match object; span=(0, 3), match='pig'>"
      ]
     },
     "execution_count": 55,
     "metadata": {},
     "output_type": "execute_result"
    }
   ],
   "source": [
    "re.search(r'...','pig')"
   ]
  },
  {
   "cell_type": "markdown",
   "id": "3bd8ffda",
   "metadata": {},
   "source": [
    "####  반복패턴\n",
    " - 패턴 뒤에 위치하는 \\*, \\+, \\? 는 해당 패턴이 반복적으로 존재하는지 검사\n",
    "  - '+' -> 1번 이상의 패턴이 발생\n",
    "  - '\\*' -> 0번 이상의 패턴이 발생\n",
    "  - '?' -> 0번 혹은 1번의 패턴이 발생\n",
    "\n",
    " - 반복 패턴의 경우 greedy 하게 검색함 => 즉 가능한 많은 부분이 매칭되도록 함\n",
    "  - a[bcd]\\*b 패턴을 abcbdccb에서 검색하는 경우\n",
    "   - ab, abcb, abcbdccb 전부 가능하지만 최대한 많은 부분이 매칭된 abcbdccb가 검색됨"
   ]
  },
  {
   "cell_type": "code",
   "execution_count": 57,
   "id": "a1441c28",
   "metadata": {},
   "outputs": [
    {
     "data": {
      "text/plain": [
       "'abcbdccb'"
      ]
     },
     "execution_count": 57,
     "metadata": {},
     "output_type": "execute_result"
    }
   ],
   "source": [
    "m = re.search(r'a[bcd]*b','abcbdccb')\n",
    "m.group()"
   ]
  },
  {
   "cell_type": "code",
   "execution_count": 60,
   "id": "cf6dd3a9",
   "metadata": {},
   "outputs": [
    {
     "data": {
      "text/plain": [
       "<re.Match object; span=(0, 6), match='banana'>"
      ]
     },
     "execution_count": 60,
     "metadata": {},
     "output_type": "execute_result"
    }
   ],
   "source": [
    "# bana, banana 둘다 되지만 가장 많이 일치하는 banana 출력\n",
    "re.search(r'b\\w+a','banana')"
   ]
  },
  {
   "cell_type": "code",
   "execution_count": 61,
   "id": "3486b259",
   "metadata": {},
   "outputs": [
    {
     "data": {
      "text/plain": [
       "<re.Match object; span=(1, 3), match='ii'>"
      ]
     },
     "execution_count": 61,
     "metadata": {},
     "output_type": "execute_result"
    }
   ],
   "source": [
    "re.search(r'i+','piigiii')"
   ]
  },
  {
   "cell_type": "code",
   "execution_count": 62,
   "id": "a98c5e3e",
   "metadata": {},
   "outputs": [
    {
     "data": {
      "text/plain": [
       "<re.Match object; span=(0, 4), match='piig'>"
      ]
     },
     "execution_count": 62,
     "metadata": {},
     "output_type": "execute_result"
    }
   ],
   "source": [
    "re.search(r'pi+g','piig')"
   ]
  },
  {
   "cell_type": "code",
   "execution_count": 63,
   "id": "517cb361",
   "metadata": {},
   "outputs": [
    {
     "data": {
      "text/plain": [
       "<re.Match object; span=(0, 4), match='piig'>"
      ]
     },
     "execution_count": 63,
     "metadata": {},
     "output_type": "execute_result"
    }
   ],
   "source": [
    "re.search(r'pi*g', 'piig)')"
   ]
  },
  {
   "cell_type": "code",
   "execution_count": 64,
   "id": "9464d5d6",
   "metadata": {},
   "outputs": [
    {
     "data": {
      "text/plain": [
       "<re.Match object; span=(0, 3), match='pig'>"
      ]
     },
     "execution_count": 64,
     "metadata": {},
     "output_type": "execute_result"
    }
   ],
   "source": [
    "re.search(r'pi+g','pig')"
   ]
  },
  {
   "cell_type": "code",
   "execution_count": 65,
   "id": "5fcaf9a4",
   "metadata": {},
   "outputs": [
    {
     "data": {
      "text/plain": [
       "<re.Match object; span=(0, 3), match='pig'>"
      ]
     },
     "execution_count": 65,
     "metadata": {},
     "output_type": "execute_result"
    }
   ],
   "source": [
    "re.search(r'pi*g', 'pig)')"
   ]
  },
  {
   "cell_type": "code",
   "execution_count": 66,
   "id": "03fced1e",
   "metadata": {},
   "outputs": [],
   "source": [
    "re.search(r'pi+g','pg')"
   ]
  },
  {
   "cell_type": "code",
   "execution_count": 67,
   "id": "a6fe763e",
   "metadata": {},
   "outputs": [
    {
     "data": {
      "text/plain": [
       "<re.Match object; span=(0, 2), match='pg'>"
      ]
     },
     "execution_count": 67,
     "metadata": {},
     "output_type": "execute_result"
    }
   ],
   "source": [
    "re.search(r'pi*g', 'pg)')"
   ]
  },
  {
   "cell_type": "code",
   "execution_count": 68,
   "id": "44e322ee",
   "metadata": {},
   "outputs": [
    {
     "data": {
      "text/plain": [
       "<re.Match object; span=(0, 3), match='pig'>"
      ]
     },
     "execution_count": 68,
     "metadata": {},
     "output_type": "execute_result"
    }
   ],
   "source": [
    "re.search(r'pi*g', 'pigpiiig)')"
   ]
  },
  {
   "cell_type": "code",
   "execution_count": 71,
   "id": "6a2585a6",
   "metadata": {},
   "outputs": [
    {
     "data": {
      "text/plain": [
       "<re.Match object; span=(0, 5), match='https'>"
      ]
     },
     "execution_count": 71,
     "metadata": {},
     "output_type": "execute_result"
    }
   ],
   "source": [
    "# ? 가 s에 적용됨\n",
    "re.search(r'https?','https://www.naver.com')"
   ]
  },
  {
   "cell_type": "markdown",
   "id": "15605d2b",
   "metadata": {},
   "source": [
    "####  ^*, *$\n",
    " - \\^: 문자열의 맨 앞부터 일치하는 경우 검색\n",
    " - \\$ : 문자열의 맨 뒤부터 일치하는 경우 검색"
   ]
  },
  {
   "cell_type": "code",
   "execution_count": 73,
   "id": "3cea5279",
   "metadata": {},
   "outputs": [
    {
     "data": {
      "text/plain": [
       "<re.Match object; span=(2, 6), match='bana'>"
      ]
     },
     "execution_count": 73,
     "metadata": {},
     "output_type": "execute_result"
    }
   ],
   "source": [
    "re.search(r'b\\w+a','cabana')"
   ]
  },
  {
   "cell_type": "code",
   "execution_count": 75,
   "id": "122567bf",
   "metadata": {},
   "outputs": [],
   "source": [
    "# ^를 붙여서 무조건 앞에서 맞아야함\n",
    "re.search(r'^b\\w+a','cabana')"
   ]
  },
  {
   "cell_type": "code",
   "execution_count": 76,
   "id": "fd49b398",
   "metadata": {},
   "outputs": [
    {
     "data": {
      "text/plain": [
       "<re.Match object; span=(0, 6), match='cabana'>"
      ]
     },
     "execution_count": 76,
     "metadata": {},
     "output_type": "execute_result"
    }
   ],
   "source": [
    "re.search(r'c\\w+a','cabana')"
   ]
  },
  {
   "cell_type": "code",
   "execution_count": 77,
   "id": "4f18b362",
   "metadata": {},
   "outputs": [
    {
     "data": {
      "text/plain": [
       "<re.Match object; span=(2, 6), match='bana'>"
      ]
     },
     "execution_count": 77,
     "metadata": {},
     "output_type": "execute_result"
    }
   ],
   "source": [
    "re.search(r'b\\w+a$','cabana')"
   ]
  },
  {
   "cell_type": "code",
   "execution_count": 78,
   "id": "d16f39d5",
   "metadata": {},
   "outputs": [],
   "source": [
    "re.search(r'b\\w+a$','cabanap')"
   ]
  },
  {
   "cell_type": "markdown",
   "id": "12cb5bc6",
   "metadata": {},
   "source": [
    "####  grouping\n",
    " - \\(\\) 을 사용하여 그루핌\n",
    " - 매칭 결과를 각 그룹별로 분리 가능\n",
    " - 패턴 명시할 때, 각 그룹을 괄호 ()안에 넣어 분리하여 사용"
   ]
  },
  {
   "cell_type": "code",
   "execution_count": 83,
   "id": "27a50081",
   "metadata": {},
   "outputs": [
    {
     "name": "stdout",
     "output_type": "stream",
     "text": [
      "test\n",
      "gmail.com\n"
     ]
    }
   ],
   "source": [
    "m = re.search(r'(\\w+)@(.+)','test@gmail.com')\n",
    "print(m.group(1))\n",
    "print(m.group(2))"
   ]
  },
  {
   "cell_type": "markdown",
   "id": "4bd999b7",
   "metadata": {},
   "source": [
    "#### { }\n",
    " - \\*,+,?를 사용하여 반복적인 패턴을 찾는 것이 가능하나, 반복의 횟구 제한은 불가\n",
    " - 패턴 뒤에 위치하는 중괄호 { } 에 숫자를 명시하면 해당 숫자 만큼의 반복인 경우에만 매칭\n",
    " - {4}: 4번 반복\n",
    " - {3,4}: 3~4번 반복"
   ]
  },
  {
   "cell_type": "code",
   "execution_count": 85,
   "id": "07a378e2",
   "metadata": {},
   "outputs": [
    {
     "data": {
      "text/plain": [
       "<re.Match object; span=(0, 4), match='piig'>"
      ]
     },
     "execution_count": 85,
     "metadata": {},
     "output_type": "execute_result"
    }
   ],
   "source": [
    "re.search(r'pi+g','piigpiiiiiig')"
   ]
  },
  {
   "cell_type": "code",
   "execution_count": 87,
   "id": "5235477f",
   "metadata": {},
   "outputs": [
    {
     "data": {
      "text/plain": [
       "<re.Match object; span=(4, 9), match='piiig'>"
      ]
     },
     "execution_count": 87,
     "metadata": {},
     "output_type": "execute_result"
    }
   ],
   "source": [
    "re.search(r'pi{3}g','piigpiiig')"
   ]
  },
  {
   "cell_type": "code",
   "execution_count": 88,
   "id": "87de6f7a",
   "metadata": {},
   "outputs": [
    {
     "data": {
      "text/plain": [
       "<re.Match object; span=(4, 11), match='piiiiig'>"
      ]
     },
     "execution_count": 88,
     "metadata": {},
     "output_type": "execute_result"
    }
   ],
   "source": [
    "re.search(r'pi{3,6}g','piigpiiiiig')"
   ]
  },
  {
   "cell_type": "markdown",
   "id": "8271d310",
   "metadata": {},
   "source": [
    "####  미니멈 매칭(non-greedy way)\n",
    " - 기본적으로 \\*,+,? 를 사용하면 greedy 하게 동작함\n",
    " - \\*?, +?를 이용하여 해당 기능을 구현"
   ]
  },
  {
   "cell_type": "code",
   "execution_count": 3,
   "id": "3a6ce3b3",
   "metadata": {},
   "outputs": [
    {
     "data": {
      "text/plain": [
       "<re.Match object; span=(0, 17), match='<html>haha</html>'>"
      ]
     },
     "execution_count": 3,
     "metadata": {},
     "output_type": "execute_result"
    }
   ],
   "source": [
    "import re\n",
    "re.search(r'<.+>','<html>haha</html>')"
   ]
  },
  {
   "cell_type": "code",
   "execution_count": 5,
   "id": "10f106cd",
   "metadata": {},
   "outputs": [
    {
     "data": {
      "text/plain": [
       "<re.Match object; span=(0, 6), match='<html>'>"
      ]
     },
     "execution_count": 5,
     "metadata": {},
     "output_type": "execute_result"
    }
   ],
   "source": [
    "# ?를 사용하면 미니멈 매칭 함\n",
    "re.search(r'<.+?>','<html>haha</html>')"
   ]
  },
  {
   "cell_type": "markdown",
   "id": "683d21ab",
   "metadata": {},
   "source": [
    "#### {}?\n",
    " - {m,n}의 경우 m번에서 n번 반복하나 greedy 하게 동작\n",
    " - {m,n}? 로 사용하면 non-greedy하게 동작. 즉, 최소 m번만 매칭하면 만족"
   ]
  },
  {
   "cell_type": "code",
   "execution_count": 6,
   "id": "240577d5",
   "metadata": {},
   "outputs": [
    {
     "data": {
      "text/plain": [
       "<re.Match object; span=(0, 5), match='aaaaa'>"
      ]
     },
     "execution_count": 6,
     "metadata": {},
     "output_type": "execute_result"
    }
   ],
   "source": [
    "re.search(r'a{3,5}','aaaaa')"
   ]
  },
  {
   "cell_type": "code",
   "execution_count": 8,
   "id": "7564e71d",
   "metadata": {},
   "outputs": [
    {
     "data": {
      "text/plain": [
       "<re.Match object; span=(0, 3), match='aaa'>"
      ]
     },
     "execution_count": 8,
     "metadata": {},
     "output_type": "execute_result"
    }
   ],
   "source": [
    "# ?를 통해 최솟값만 탐색\n",
    "re.search(r'a{3,5}?','aaaaa')"
   ]
  },
  {
   "cell_type": "markdown",
   "id": "44f216e2",
   "metadata": {},
   "source": [
    "####  match\n",
    " - search와 유사하나, 주어진 문자열의 시작부터 비교하여 패턴이 있는지 확인\n",
    " - 시작부터 해당 패턴이 존재하지 않는다면 None 반환"
   ]
  },
  {
   "cell_type": "code",
   "execution_count": 9,
   "id": "d5994144",
   "metadata": {},
   "outputs": [],
   "source": [
    "re.match(r'\\d\\d\\d', 'my number is 123')"
   ]
  },
  {
   "cell_type": "code",
   "execution_count": 10,
   "id": "23c1a342",
   "metadata": {},
   "outputs": [
    {
     "data": {
      "text/plain": [
       "<re.Match object; span=(0, 3), match='123'>"
      ]
     },
     "execution_count": 10,
     "metadata": {},
     "output_type": "execute_result"
    }
   ],
   "source": [
    "re.match(r'\\d\\d\\d', '123 is my number')"
   ]
  },
  {
   "cell_type": "markdown",
   "id": "635eb0a6",
   "metadata": {},
   "source": [
    "####  findall\n",
    " - search가 최초로 매칭되는 패턴만 반환된다면, findall은 매칭되는 전체의 패턴을 반환\n",
    " - 매칭되는 모든 결과를 리스트 형태로 반환"
   ]
  },
  {
   "cell_type": "code",
   "execution_count": 14,
   "id": "c4afa121",
   "metadata": {},
   "outputs": [
    {
     "data": {
      "text/plain": [
       "['test@gmail.com', 'test2@gamil.com']"
      ]
     },
     "execution_count": 14,
     "metadata": {},
     "output_type": "execute_result"
    }
   ],
   "source": [
    "re.findall(r'[\\w-]+@[\\w.]+','test@gmail.com haha test2@gamil.com nice test test')"
   ]
  },
  {
   "cell_type": "markdown",
   "id": "8d138515",
   "metadata": {},
   "source": [
    "####  sub\n",
    " - 주어진 문자열에서 일치하는 모든 패턴을 replace\n",
    " - 그 결과를 문자열로 다시 반환함\n",
    " - 두 번째 인자는 특정 문자열이 될 수 도 있고, 함수가 될 수도 있음\n",
    " - count가 0인 경우는 전체를 ,1이상이면 해당 숫자만큼 치환 됨"
   ]
  },
  {
   "cell_type": "code",
   "execution_count": 16,
   "id": "07509950",
   "metadata": {},
   "outputs": [
    {
     "data": {
      "text/plain": [
       "'abc haha test2@gamil.com nice test test'"
      ]
     },
     "execution_count": 16,
     "metadata": {},
     "output_type": "execute_result"
    }
   ],
   "source": [
    "re.sub(r'[\\w-]+@[\\w.]+','abc','test@gmail.com haha test2@gamil.com nice test test',count=1)"
   ]
  },
  {
   "cell_type": "markdown",
   "id": "7fc5da0f",
   "metadata": {},
   "source": [
    "####  compile\n",
    " - 동일한 정규표현식을 다시 쓰기 번거로움을 해결\n",
    " - compile로 해당 표현식을 re.RegexObject 객체로 저장하여 사용가능"
   ]
  },
  {
   "cell_type": "code",
   "execution_count": 17,
   "id": "c422d410",
   "metadata": {},
   "outputs": [
    {
     "data": {
      "text/plain": [
       "<re.Match object; span=(0, 14), match='test@gmail.com'>"
      ]
     },
     "execution_count": 17,
     "metadata": {},
     "output_type": "execute_result"
    }
   ],
   "source": [
    "email_reg = re.compile(r'[\\w-]+@[\\w.]+')\n",
    "\n",
    "email_reg.search('test@gmail.com haha test2@gamil.com nice test test')"
   ]
  },
  {
   "cell_type": "markdown",
   "id": "eea800b0",
   "metadata": {},
   "source": [
    "#### 연습문제\n",
    " - 아래 뉴스에서 이메일 주소를 추출해 보세요\n",
    " - 다음중 올바른 (http, https) 웹페이지만 찾으시오."
   ]
  },
  {
   "cell_type": "code",
   "execution_count": 21,
   "id": "0ba6f21b",
   "metadata": {
    "collapsed": true
   },
   "outputs": [
    {
     "name": "stdout",
     "output_type": "stream",
     "text": [
      "Requirement already satisfied: requests in c:\\anaconda3\\lib\\site-packages (2.25.1)\n",
      "Collecting bs4\n",
      "  Downloading bs4-0.0.1.tar.gz (1.1 kB)\n",
      "Requirement already satisfied: beautifulsoup4 in c:\\anaconda3\\lib\\site-packages (from bs4) (4.9.3)\n",
      "Requirement already satisfied: idna<3,>=2.5 in c:\\anaconda3\\lib\\site-packages (from requests) (2.10)\n",
      "Note: you may need to restart the kernel to use updated packages.\n",
      "Requirement already satisfied: urllib3<1.27,>=1.21.1 in c:\\anaconda3\\lib\\site-packages (from requests) (1.26.4)\n",
      "Requirement already satisfied: chardet<5,>=3.0.2 in c:\\anaconda3\\lib\\site-packages (from requests) (4.0.0)\n",
      "Requirement already satisfied: certifi>=2017.4.17 in c:\\anaconda3\\lib\\site-packages (from requests) (2020.12.5)\n",
      "Requirement already satisfied: soupsieve>1.2 in c:\\anaconda3\\lib\\site-packages (from beautifulsoup4->bs4) (2.2.1)\n",
      "Building wheels for collected packages: bs4\n",
      "  Building wheel for bs4 (setup.py): started\n",
      "  Building wheel for bs4 (setup.py): finished with status 'done'\n",
      "  Created wheel for bs4: filename=bs4-0.0.1-py3-none-any.whl size=1273 sha256=cbf887244c065457257d8053450955821b250d9b6db04a7f9b0e57ce8dfd5923\n",
      "  Stored in directory: c:\\users\\송영남\\appdata\\local\\pip\\cache\\wheels\\75\\78\\21\\68b124549c9bdc94f822c02fb9aa3578a669843f9767776bca\n",
      "Successfully built bs4\n",
      "Installing collected packages: bs4\n",
      "Successfully installed bs4-0.0.1\n"
     ]
    }
   ],
   "source": [
    "pip install requests bs4"
   ]
  },
  {
   "cell_type": "code",
   "execution_count": 24,
   "id": "18e4a7f2",
   "metadata": {},
   "outputs": [
    {
     "name": "stdout",
     "output_type": "stream",
     "text": [
      "[아시아경제 구은모 기자] 구글코리아가 부적절한 영상이 추천되는 유튜브의 알고리즘을 개선해 나가겠다고 밝혔다.5일 국회 과학기술정보방송통신위원회(과방위) 국정감사에 증인으로 출석한 김경훈 구글코리아 대표는 유튜브 추천 알고리즘 논란에 대해 이같이 말했다.이날 주호영 국민의힘 의원은 \"청소년에게 19금 콘텐츠를 추천하고 혐오 영상을 반복적으로 보여주는 사례가 있는 등 필터링 문제가 많다\"고 지적했다. 앞서 유튜브는 2017년 인기를 끈 디즈니 애니메이션 '겨울왕국'의 인기 캐릭터 엘사와 관련해 소아성애 등 부적절한 내용의 콘텐츠가 알고리즘에 따라 분류되고 어린이용 유튜브 키즈를 통해 추천돼 논란을 빚었다.이에 대해 김 대표는 \"부적절한 콘텐츠를 완전히 통제할 수 없지만 예전에 비해 상당히 많이 통제하고 있다\"며 \"유튜브 추천 영상 알고리즘 개선을 위해 노력 중\"이라고 말했다. 그러면서 \"인공지능(AI)을 사용하고, 여러 인력이 투입돼 많은 콘텐츠도 검토하고 있지만 아직 일부 미진한 점이 있다\"며 \"이런 부분을 보완하기 위해 지속적으로 투자하고 있고, 말씀하신 콘텐츠에 대해 시민단체와 협업해 노력하고 있다\"고 말했다.구은모 기자 gooeunmo@asiae.co.kr<ⓒ경제를 보는 눈, 세계를 보는 창 아시아경제 무단전재 배포금지>\n"
     ]
    }
   ],
   "source": [
    "import requests\n",
    "from bs4 import BeautifulSoup\n",
    "\n",
    "\n",
    "def get_news_content(url):\n",
    "    response = requests.get(url)\n",
    "    content = response.text\n",
    "    \n",
    "    soup = BeautifulSoup(content, 'html5lib')\n",
    "    \n",
    "    div = soup.find('div',attrs = {'id':'harmonyContainer'})\n",
    "    \n",
    "    content = ''\n",
    "    for paragraph in div.find_all('p'):\n",
    "        content += paragraph.get_text()\n",
    "    \n",
    "    return content\n",
    "\n",
    "news1 = get_news_content('https://news.v.daum.net/v/20211005180535369')\n",
    "print(news1)"
   ]
  },
  {
   "cell_type": "code",
   "execution_count": 36,
   "id": "e0d533e6",
   "metadata": {},
   "outputs": [
    {
     "data": {
      "text/plain": [
       "<re.Match object; span=(582, 602), match='gooeunmo@asiae.co.kr'>"
      ]
     },
     "execution_count": 36,
     "metadata": {},
     "output_type": "execute_result"
    }
   ],
   "source": [
    "re.search(r'[\\w-]*@[\\w.]*',news1)"
   ]
  },
  {
   "cell_type": "code",
   "execution_count": 55,
   "id": "bfab7b7f",
   "metadata": {},
   "outputs": [],
   "source": [
    "# 2번 문제 아래 주소 중에서 httpd 와 https 주소만 건져내기\n",
    "webs = ['http://www.test.co.kr',\n",
    "       'https://www.test1.com',\n",
    "       'http://www.test.com',\n",
    "       'ftp://www.test.com',\n",
    "       'http:://www.test.com',\n",
    "       'htp://www.test.com',\n",
    "       'http://www.google.com',\n",
    "       'https://www.hompage.com.']"
   ]
  },
  {
   "cell_type": "code",
   "execution_count": 62,
   "id": "b423a7e6",
   "metadata": {},
   "outputs": [],
   "source": [
    "for i in webs:\n",
    "    if re.search(r'https?://[\\w.]\\w+$',i):\n",
    "        print(i)\n",
    "    "
   ]
  },
  {
   "cell_type": "code",
   "execution_count": 63,
   "id": "136e5cc9",
   "metadata": {},
   "outputs": [
    {
     "data": {
      "text/plain": [
       "[True, True, True, False, False, False, True, False]"
      ]
     },
     "execution_count": 63,
     "metadata": {},
     "output_type": "execute_result"
    }
   ],
   "source": [
    "web_reg = re.compile(r'https?://[\\w.]+\\w+$')\n",
    "list(map(lambda w:web_reg.search(w) != None, webs))"
   ]
  },
  {
   "cell_type": "markdown",
   "id": "6433f73f",
   "metadata": {},
   "source": [
    "### 정규식 연습문제 "
   ]
  },
  {
   "cell_type": "code",
   "execution_count": 74,
   "id": "f8059f67",
   "metadata": {},
   "outputs": [
    {
     "data": {
      "text/plain": [
       "<re.Match object; span=(1, 4), match='bbb'>"
      ]
     },
     "execution_count": 74,
     "metadata": {},
     "output_type": "execute_result"
    }
   ],
   "source": [
    "re.search(r'b*$','abbb')"
   ]
  },
  {
   "cell_type": "code",
   "execution_count": 81,
   "id": "4b0416b0",
   "metadata": {},
   "outputs": [
    {
     "data": {
      "text/plain": [
       "<re.Match object; span=(0, 3), match='bbb'>"
      ]
     },
     "execution_count": 81,
     "metadata": {},
     "output_type": "execute_result"
    }
   ],
   "source": [
    "re.search(r'^b*','bbbaabbbaabbb')"
   ]
  },
  {
   "cell_type": "code",
   "execution_count": 83,
   "id": "c97440c9",
   "metadata": {},
   "outputs": [
    {
     "data": {
      "text/plain": [
       "<re.Match object; span=(10, 13), match='bbb'>"
      ]
     },
     "execution_count": 83,
     "metadata": {},
     "output_type": "execute_result"
    }
   ],
   "source": [
    "re.search(r'b*$','bbbbaacccdbbb')"
   ]
  },
  {
   "cell_type": "code",
   "execution_count": 94,
   "id": "284c9b79",
   "metadata": {},
   "outputs": [
    {
     "data": {
      "text/plain": [
       "<re.Match object; span=(0, 9), match='bababdbdb'>"
      ]
     },
     "execution_count": 94,
     "metadata": {},
     "output_type": "execute_result"
    }
   ],
   "source": [
    "re.search(r'^b[\\w]{0,9}b','bababdbdbdaabbb')"
   ]
  },
  {
   "cell_type": "code",
   "execution_count": null,
   "id": "1836bb1d",
   "metadata": {},
   "outputs": [],
   "source": []
  }
 ],
 "metadata": {
  "kernelspec": {
   "display_name": "Python 3",
   "language": "python",
   "name": "python3"
  },
  "language_info": {
   "codemirror_mode": {
    "name": "ipython",
    "version": 3
   },
   "file_extension": ".py",
   "mimetype": "text/x-python",
   "name": "python",
   "nbconvert_exporter": "python",
   "pygments_lexer": "ipython3",
   "version": "3.8.8"
  }
 },
 "nbformat": 4,
 "nbformat_minor": 5
}
