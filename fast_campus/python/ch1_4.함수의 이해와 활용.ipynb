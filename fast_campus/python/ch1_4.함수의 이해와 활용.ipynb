{
 "cells": [
  {
   "cell_type": "markdown",
   "id": "e02deb0e",
   "metadata": {},
   "source": [
    "### 함수?\n",
    "\n",
    "- 주어진 입력에 대해 의도된 출력을 전달\n",
    "- def 를 사용하여 제작\n",
    "- 값을 명시하지 않으면, 기본값으로 사용"
   ]
  },
  {
   "cell_type": "code",
   "execution_count": 2,
   "id": "cb104018",
   "metadata": {},
   "outputs": [],
   "source": [
    "def add(a,b):\n",
    "    return a + b"
   ]
  },
  {
   "cell_type": "code",
   "execution_count": 3,
   "id": "d84423e2",
   "metadata": {},
   "outputs": [
    {
     "data": {
      "text/plain": [
       "8"
      ]
     },
     "execution_count": 3,
     "metadata": {},
     "output_type": "execute_result"
    }
   ],
   "source": [
    "add(3,5)"
   ]
  },
  {
   "cell_type": "code",
   "execution_count": 4,
   "id": "115123f5",
   "metadata": {},
   "outputs": [],
   "source": [
    "def add2 (a,b,c=4):\n",
    "    return a+b+c"
   ]
  },
  {
   "cell_type": "code",
   "execution_count": 5,
   "id": "e154c6ba",
   "metadata": {},
   "outputs": [
    {
     "data": {
      "text/plain": [
       "11"
      ]
     },
     "execution_count": 5,
     "metadata": {},
     "output_type": "execute_result"
    }
   ],
   "source": [
    "add2 (3,4)"
   ]
  },
  {
   "cell_type": "code",
   "execution_count": 6,
   "id": "800f155b",
   "metadata": {},
   "outputs": [
    {
     "data": {
      "text/plain": [
       "12"
      ]
     },
     "execution_count": 6,
     "metadata": {},
     "output_type": "execute_result"
    }
   ],
   "source": [
    "add2(3,4,5)"
   ]
  },
  {
   "cell_type": "markdown",
   "id": "f725c922",
   "metadata": {},
   "source": [
    "####  Default parameter 사용시 주의사항\n",
    " - 디폴트 파라미터 뒤에 일반 파라미터가 위치할 수 없음\n",
    " - ex) 올바른 예\n",
    "  > def test(a,b,c=1)\n",
    "  \n",
    "  > def test(a,b=2,c=4)\n",
    "  \n",
    " - ex) 올바르지 않은 예\n",
    "  > def test(a,b=1,c)\n",
    "  \n",
    "  > def test(a=3,b,c)"
   ]
  },
  {
   "cell_type": "markdown",
   "id": "fa3fdde4",
   "metadata": {},
   "source": [
    "#### keywrod paramter \n",
    " - 파라미터에 값을 전달할 때, 파라미터의 이름을 명시하여 전달 가능\n"
   ]
  },
  {
   "cell_type": "code",
   "execution_count": 12,
   "id": "2b6525c1",
   "metadata": {},
   "outputs": [],
   "source": [
    "def test(x,y=10,z=3):\n",
    "    return x + y + z"
   ]
  },
  {
   "cell_type": "code",
   "execution_count": 13,
   "id": "4ffee592",
   "metadata": {},
   "outputs": [
    {
     "data": {
      "text/plain": [
       "16"
      ]
     },
     "execution_count": 13,
     "metadata": {},
     "output_type": "execute_result"
    }
   ],
   "source": [
    "test(x=)"
   ]
  },
  {
   "cell_type": "markdown",
   "id": "8e5be6cc",
   "metadata": {},
   "source": [
    "#### return\n",
    "- 기본적으로 함수의 종료를 명시\n",
    " - return 만 존재하면 None 반환\n",
    " - return이 없는 경우, 기본적으로 코드 블록이 종료되면 종료로 간주, 이때도 None 반환"
   ]
  },
  {
   "cell_type": "code",
   "execution_count": 16,
   "id": "3af97e41",
   "metadata": {},
   "outputs": [
    {
     "name": "stdout",
     "output_type": "stream",
     "text": [
      "10\n",
      "48\n"
     ]
    }
   ],
   "source": [
    "def multiply(x,y):\n",
    "    if x>10:\n",
    "        return x*y\n",
    "    \n",
    "    return (x*2)*y\n",
    "    print(x+y)\n",
    "\n",
    "print(multiply(1,5))\n",
    "print(multiply(12,4))\n"
   ]
  },
  {
   "cell_type": "code",
   "execution_count": 21,
   "id": "97bab40e",
   "metadata": {},
   "outputs": [],
   "source": [
    "# retrun을 못 만나면 None 값 출력\n",
    "def func_None(x,y):\n",
    "    if x>10:\n",
    "        return x*y"
   ]
  },
  {
   "cell_type": "code",
   "execution_count": 20,
   "id": "11aa9cb6",
   "metadata": {},
   "outputs": [
    {
     "name": "stdout",
     "output_type": "stream",
     "text": [
      "None\n"
     ]
    }
   ],
   "source": [
    "print(func_None(5,2))"
   ]
  },
  {
   "cell_type": "markdown",
   "id": "b06f767c",
   "metadata": {},
   "source": [
    "####  multiple return (복수 값 반환)\n",
    " - tuple 반환을 하여 복수개의 값 리턴 가능"
   ]
  },
  {
   "cell_type": "code",
   "execution_count": 25,
   "id": "79a99f88",
   "metadata": {},
   "outputs": [
    {
     "name": "stdout",
     "output_type": "stream",
     "text": [
      "<class 'tuple'>\n",
      "(8, 15)\n"
     ]
    }
   ],
   "source": [
    "def add_mul(x,y):\n",
    "    a = x+y\n",
    "    m = x*y\n",
    "    \n",
    "    return a,m\n",
    "\n",
    "c = add_mul(5,3)\n",
    "print(type(c))\n",
    "print(c)"
   ]
  },
  {
   "cell_type": "markdown",
   "id": "da5e548d",
   "metadata": {},
   "source": [
    "####  변수의 범위\n",
    "- 변수가 참조 가능한 코드상의 범위를 명시\n",
    "- 함수내의 변수는 자신의 속한 코드 블록이 종료되면 소멸됨\n",
    "- 이렇게 특정 코드 블록에서 선언도니 변수를 **지역변수(local variable)** 이라고 함\n",
    "- 반대로 가장 상단에 정의되어 프로그램 종료 전까지 유지되는 변수를 **전역변수(global variable)** 이라고 함\n",
    "- 같은 이름의 지역변수와 전역변수가 존재할 경우, 지역변수의 우선순위가 더 높음"
   ]
  },
  {
   "cell_type": "code",
   "execution_count": 29,
   "id": "02dfcac5",
   "metadata": {},
   "outputs": [
    {
     "name": "stdout",
     "output_type": "stream",
     "text": [
      "14 25\n",
      "10 5\n"
     ]
    }
   ],
   "source": [
    "x = 10\n",
    "y = 5\n",
    "\n",
    "def test(x,y):\n",
    "    print(x,y)\n",
    "    return x+y\n",
    "    \n",
    "test(14,25)\n",
    "print(x,y)"
   ]
  },
  {
   "cell_type": "markdown",
   "id": "d093aaa4",
   "metadata": {},
   "source": [
    "####  variable length argument (가변길이 인자)\n",
    " - 전달되는 파라미터의 개수가 고정적이지 않은 경우 사용\n",
    " - e.g)\n",
    "  - print 함수\n",
    "  - format 함수\n",
    "  \n",
    "> \\*args: 파라미터를 튜플의 형태로 전달\n",
    "\n",
    "> \\**kwargs: 파라미터를 딕셔너리 형태로 전달 (네임드 파라미터)"
   ]
  },
  {
   "cell_type": "code",
   "execution_count": 36,
   "id": "61d41007",
   "metadata": {},
   "outputs": [],
   "source": [
    "def test(*x):\n",
    "    n = len(x)\n",
    "    print(x)\n",
    "    print(n)"
   ]
  },
  {
   "cell_type": "code",
   "execution_count": 37,
   "id": "520473fe",
   "metadata": {},
   "outputs": [
    {
     "name": "stdout",
     "output_type": "stream",
     "text": [
      "(2, 3, 4, 5)\n",
      "4\n"
     ]
    }
   ],
   "source": [
    "test(2,3,4,5)"
   ]
  },
  {
   "cell_type": "code",
   "execution_count": 39,
   "id": "4c31dbca",
   "metadata": {},
   "outputs": [
    {
     "name": "stdout",
     "output_type": "stream",
     "text": [
      "10\n",
      "230\n",
      "4\n",
      "50\n"
     ]
    }
   ],
   "source": [
    "def test(*x): # *args = arguments\n",
    "    for item in x:\n",
    "        print(item)\n",
    "        \n",
    "test(10,230,4,50)"
   ]
  },
  {
   "cell_type": "markdown",
   "id": "1fedd575",
   "metadata": {},
   "source": [
    "####  keywrod parameter (키워드 파라미터)\n",
    " - \\**가 붙은 경우에는 키워드 파라미터로 인식\n",
    " - 즉, 함수 호출 시, 파라미터의 이름과 값을 함께 전달 가능"
   ]
  },
  {
   "cell_type": "code",
   "execution_count": 45,
   "id": "028cabc3",
   "metadata": {},
   "outputs": [
    {
     "name": "stdout",
     "output_type": "stream",
     "text": [
      "<class 'dict'>\n",
      "key: a value: 2\n",
      "key: b value: 4\n",
      "key: c value: 5\n",
      "key: name value: Bob\n",
      "<class 'dict'>\n",
      "key: a value: 2\n"
     ]
    }
   ],
   "source": [
    "def test2 (**x):\n",
    "    print(type(x))\n",
    "    for key, value in x.items():\n",
    "        print('key:',key,'value:',value)\n",
    "    \n",
    "test2(a=2,b=4,c=5,name='Bob')\n",
    "test2(a=2)"
   ]
  },
  {
   "cell_type": "markdown",
   "id": "c534d6d4",
   "metadata": {},
   "source": [
    "- 가변길이 함수의 대표적인 예 -> **문자열 포맷 함수**\n",
    " - 여러가지 값과 포맷을 이용하여 문자열을 정의할 수 있는 함수\n",
    " - {} (placeholder)를 문자열 내에 위치 시킨 후, 해당 위치의 format함수로 전달된 값으로 대체하여 문자열 생성\n",
    " - 포맷 구성은 다음 링크를 참조: https://pyformat.info/"
   ]
  },
  {
   "cell_type": "code",
   "execution_count": 46,
   "id": "931c355b",
   "metadata": {},
   "outputs": [
    {
     "name": "stdout",
     "output_type": "stream",
     "text": [
      "오늘 온도: 30도, 감수확률은: 60%\n"
     ]
    }
   ],
   "source": [
    "a = '오늘 온도: 30도, 감수확률은: 60%'\n",
    "print(a)"
   ]
  },
  {
   "cell_type": "code",
   "execution_count": 50,
   "id": "5e18303d",
   "metadata": {},
   "outputs": [
    {
     "name": "stdout",
     "output_type": "stream",
     "text": [
      "오늘 온도: 72도, 강수확룔은: 592%, 내일온도: 15도\n"
     ]
    }
   ],
   "source": [
    "a2 = '오늘 온도: {today_temp}도, 강수확룔은: {today_prob}%, 내일온도: {tomorrow_temp}도'.format(today_temp = 72, tomorrow_temp=15, today_prob=592)\n",
    "print(a2)"
   ]
  },
  {
   "cell_type": "markdown",
   "id": "aca79d84",
   "metadata": {},
   "source": [
    "#### - Lambda 함수  \n",
    "\n",
    " - 단일문으로 표현되는 **익명**함수\n",
    " - body 부분만 존재함\n",
    " - 코드 상에 존재하는 **1회용** 함수\n",
    " - return 을 쓰면 안됨"
   ]
  },
  {
   "cell_type": "code",
   "execution_count": 56,
   "id": "fb904a88",
   "metadata": {},
   "outputs": [
    {
     "name": "stdout",
     "output_type": "stream",
     "text": [
      "<class 'function'>\n",
      "25\n"
     ]
    }
   ],
   "source": [
    "square = lambda x:x**2\n",
    "print(type(square))\n",
    "print(square(5))"
   ]
  },
  {
   "cell_type": "code",
   "execution_count": 58,
   "id": "74125433",
   "metadata": {},
   "outputs": [
    {
     "data": {
      "text/plain": [
       "8"
      ]
     },
     "execution_count": 58,
     "metadata": {},
     "output_type": "execute_result"
    }
   ],
   "source": [
    "add = lambda x,y: x+y\n",
    "add(6,2)"
   ]
  },
  {
   "cell_type": "code",
   "execution_count": 63,
   "id": "83ec298a",
   "metadata": {},
   "outputs": [
    {
     "name": "stdout",
     "output_type": "stream",
     "text": [
      "['abcfefefsf', 'bob', 'flex', 'john']\n"
     ]
    }
   ],
   "source": [
    "strings = ['bob','john','abcfefefsf','flex']\n",
    "strings.sort()\n",
    "\n",
    "print(strings)"
   ]
  },
  {
   "cell_type": "code",
   "execution_count": 64,
   "id": "ffc4415d",
   "metadata": {},
   "outputs": [
    {
     "name": "stdout",
     "output_type": "stream",
     "text": [
      "['bob', 'flex', 'john', 'abcfefefsf']\n"
     ]
    }
   ],
   "source": [
    "strings.sort(key=lambda s: len(s))\n",
    "print(strings)"
   ]
  },
  {
   "cell_type": "markdown",
   "id": "c48a3767",
   "metadata": {},
   "source": [
    "####  filter, map, reduce\n",
    "- lambda가 유용하게 사용되는 3가지 대표적 함수\n",
    "- 함수형 프로그래밍의 기본 요소\n",
    "- filter : 특정 조건을 만족하는 요소만 남기고 필터링\n",
    "- map: 각 원소를 주어진 수식에 다라 변형하여 새로운 리스트를 반환\n",
    "- reduce: 차례대로 앞 2개의 원소를 가지고 연산.연산의 결과가 도 다음 연산의 입력으로 진행됨. 다라서 마지막까지 진행되면 최종 출력은 한개의 값만 남게 됨"
   ]
  },
  {
   "cell_type": "code",
   "execution_count": 70,
   "id": "39867b63",
   "metadata": {},
   "outputs": [
    {
     "name": "stdout",
     "output_type": "stream",
     "text": [
      "[2, 4, 2, 6, 6, 4, 2, 46, 8, 52]\n",
      "[2, 4, 2, 6, 6, 4, 2, 46, 8, 52]\n"
     ]
    }
   ],
   "source": [
    "nums = [1,2,4,5,2,6,6,4,5,2,3,46,8,9,123,13,52]\n",
    "\n",
    "#filter(함수, nums)\n",
    "\n",
    "# 짝수인경우 0을 반환\n",
    "# 1번경우: even 함수를 만들어 filter에 적용\n",
    "def even(n):\n",
    "    return n%2 == 0\n",
    "even(3)\n",
    "\n",
    "print(list(filter(even,nums)))\n",
    "\n",
    "#2번: lambda 함수 만들어 사용\n",
    "print(list(filter(lambda n: n%2 == 0, nums)))"
   ]
  },
  {
   "cell_type": "code",
   "execution_count": 73,
   "id": "dfd4de4d",
   "metadata": {},
   "outputs": [
    {
     "data": {
      "text/plain": [
       "[1, 4, 16, 25, 4, 36, 36, 16, 25, 4, 9, 2116, 64, 81, 15129, 169, 2704]"
      ]
     },
     "execution_count": 73,
     "metadata": {},
     "output_type": "execute_result"
    }
   ],
   "source": [
    "# 주어진 리스트로 제곱 리스트를 만들기\n",
    "nums = [1,2,4,5,2,6,6,4,5,2,3,46,8,9,123,13,52]\n",
    "list(map(lambda n: n**2, nums))\n",
    "\n"
   ]
  },
  {
   "cell_type": "code",
   "execution_count": 75,
   "id": "5f53aa3b",
   "metadata": {
    "collapsed": true
   },
   "outputs": [
    {
     "data": {
      "text/plain": [
       "[False,\n",
       " True,\n",
       " True,\n",
       " False,\n",
       " True,\n",
       " True,\n",
       " True,\n",
       " True,\n",
       " False,\n",
       " True,\n",
       " False,\n",
       " True,\n",
       " True,\n",
       " False,\n",
       " False,\n",
       " False,\n",
       " True]"
      ]
     },
     "execution_count": 75,
     "metadata": {},
     "output_type": "execute_result"
    }
   ],
   "source": [
    "list(map(lambda n: n%2==0, nums))"
   ]
  },
  {
   "cell_type": "code",
   "execution_count": 76,
   "id": "aa052e4d",
   "metadata": {},
   "outputs": [],
   "source": [
    "import functools\n",
    "\n",
    "# functools.reduce(함수, 리스트)"
   ]
  },
  {
   "cell_type": "code",
   "execution_count": 80,
   "id": "624d27c7",
   "metadata": {},
   "outputs": [
    {
     "name": "stdout",
     "output_type": "stream",
     "text": [
      "3628800\n",
      "55\n"
     ]
    }
   ],
   "source": [
    "a = list(range(1,11))\n",
    "print(functools.reduce(lambda x,y: x*y, a))\n",
    "print(functools.reduce(lambda x,y: x+y,a ))"
   ]
  },
  {
   "cell_type": "markdown",
   "id": "c626ae63",
   "metadata": {},
   "source": [
    "####  함수 연습문제\n",
    "1. 주어진 숫자 리스트의 평균을 구하는 함수를 출력하시오.\n",
    "2. 해당 숫자가 소수인지 아닌지 판별하시오.\n",
    "3. 2부터 해당 숫자사이에 소수가 몇개인지 출력하시오."
   ]
  },
  {
   "cell_type": "code",
   "execution_count": 85,
   "id": "4a7e7994",
   "metadata": {},
   "outputs": [
    {
     "name": "stdout",
     "output_type": "stream",
     "text": [
      "45.7\n",
      "45.7\n"
     ]
    }
   ],
   "source": [
    "# 1-1. 함수 정의로 풀이\n",
    "a = [55,32,2,4,3,5,3,5,36,312]\n",
    "\n",
    "def mean(list):\n",
    "    return sum(list)/len(list)\n",
    "    \n",
    "print(mean(a))\n",
    "\n",
    "# 1-2 리듀스 함수로 정의\n",
    "print(functools.reduce(lambda x,y:x+y,a)/len(a))"
   ]
  },
  {
   "cell_type": "code",
   "execution_count": 3,
   "id": "e4ab9749",
   "metadata": {},
   "outputs": [],
   "source": [
    "# 2. 숫자 하나만 들어온 경우를 만들어보자\n",
    "a = 15\n",
    "\n",
    "def prime_1(a):\n",
    "    num = 0\n",
    "    for i in range(1,a+1):\n",
    "        if a%i == 0:\n",
    "            num +=1\n",
    "    if num == 2:\n",
    "        print('a is prime number')\n",
    "    else:\n",
    "        print('a is not prime number 약수의 개수는',num,' 입니다')\n",
    "        \n",
    "def prime_2(a):\n",
    "    for i in range(2,a):\n",
    "        if a%1 == 0:\n",
    "            return False\n",
    "        \n",
    "    return True"
   ]
  },
  {
   "cell_type": "code",
   "execution_count": 6,
   "id": "4ac997f1",
   "metadata": {},
   "outputs": [
    {
     "name": "stdout",
     "output_type": "stream",
     "text": [
      "a is prime number\n"
     ]
    }
   ],
   "source": [
    "prime_1(7)"
   ]
  },
  {
   "cell_type": "code",
   "execution_count": 57,
   "id": "abafe608",
   "metadata": {},
   "outputs": [],
   "source": [
    "# 3. 2부터 주어진 숫자 사이에 소수가 몇개 인지 출력하시오\n",
    "\n",
    "def prime_num_1(a):\n",
    "    prime_list=[]\n",
    "    for i in range(2,a+1):\n",
    "        num = 0\n",
    "        for j in range(1,i+1):\n",
    "            if i%j == 0:\n",
    "                num +=1\n",
    "        \n",
    "        if num == 2:\n",
    "            prime_list.append(j)\n",
    "            num=0\n",
    "            \n",
    "    print(a,'까지 소수는',prime_list, '이고 개수는 ', len(prime_list),'입니다')\n",
    "    \n",
    "def prime_num_2(a):\n",
    "    count = 0\n",
    "    for i in range(2,a+1):\n",
    "        if prime_2(i):\n",
    "            count += 1\n",
    "            \n",
    "    return count"
   ]
  },
  {
   "cell_type": "code",
   "execution_count": 61,
   "id": "c76e95bc",
   "metadata": {},
   "outputs": [
    {
     "data": {
      "text/plain": [
       "1"
      ]
     },
     "execution_count": 61,
     "metadata": {},
     "output_type": "execute_result"
    }
   ],
   "source": [
    "prime_num_2(5)"
   ]
  },
  {
   "cell_type": "code",
   "execution_count": 1,
   "id": "6d1fa84e",
   "metadata": {},
   "outputs": [],
   "source": [
    "def prime_2(a):\n",
    "    for i in range(2,a):\n",
    "        if a%1 ==0:\n",
    "            return False\n",
    "    return True\n",
    "\n",
    "def prime_num_2(a):\n",
    "    count = 0\n",
    "    for i in range(2,a+1):\n",
    "        if prime_2(i):\n",
    "            count += 1\n",
    "            \n",
    "    return count"
   ]
  },
  {
   "cell_type": "code",
   "execution_count": 63,
   "id": "9941792c",
   "metadata": {},
   "outputs": [
    {
     "data": {
      "text/plain": [
       "1"
      ]
     },
     "execution_count": 63,
     "metadata": {},
     "output_type": "execute_result"
    }
   ],
   "source": [
    "prime_num_2(60)"
   ]
  },
  {
   "cell_type": "markdown",
   "id": "a344cbc1",
   "metadata": {},
   "source": [
    "####  모듈 임포트\n",
    " - 다양한 기능들이 미리 함수로 구현되어 모듈 형태로 제공\n",
    " - requests: HTTP 요청 / 응답 모듈\n",
    " - numpy: 수치해석\n",
    " - pandas: 데이터 분석"
   ]
  },
  {
   "cell_type": "code",
   "execution_count": 7,
   "id": "bb5a0993",
   "metadata": {
    "collapsed": true
   },
   "outputs": [
    {
     "data": {
      "text/plain": [
       "'\\n<!doctype html>                          <html lang=\"ko\" data-dark=\"false\"> <head> <meta charset=\"utf-8\"> <title>NAVER</title> <meta http-equiv=\"X-UA-Compatible\" content=\"IE=edge\"> <meta name=\"viewport\" content=\"width=1190\"> <meta name=\"apple-mobile-web-app-title\" content=\"NAVER\"/> <meta name=\"robots\" content=\"index,nofollow\"/> <meta name=\"description\" content=\"네이버 메인에서 다양한 정보와 유용한 컨텐츠를 만나 보세요\"/> <meta property=\"og:title\" content=\"네이버\"> <meta property=\"og:url\" content=\"https://www.naver.com/\"> <meta property=\"og:image\" content=\"https://s.pstatic.net/static/www/mobile/edit/2016/0705/mobile_212852414260.png\"> <meta property=\"og:description\" content=\"네이버 메인에서 다양한 정보와 유용한 컨텐츠를 만나 보세요\"/> <meta name=\"twitter:card\" content=\"summary\"> <meta name=\"twitter:title\" content=\"\"> <meta name=\"twitter:url\" content=\"https://www.naver.com/\"> <meta name=\"twitter:image\" content=\"https://s.pstatic.net/static/www/mobile/edit/2016/0705/mobile_212852414260.png\"> <meta name=\"twitter:description\" content=\"네이버 메인에서 다양한 정보와 유용한 컨텐츠를 만나 보세요\"/>  <link rel=\"stylesheet\" href=\"https://pm.pstatic.net/dist/css/nmain.20210826.css\"> <link rel=\"stylesheet\" href=\"https://ssl.pstatic.net/sstatic/search/pc/css/sp_autocomplete_210318.css\"> <link rel=\"shortcut icon\" type=\"image/x-icon\" href=\"/favicon.ico?1\"/>  <link rel=\"apple-touch-icon\" sizes=\"114x114\" href=\"https://s.pstatic.net/static/www/u/2014/0328/mma_204243574.png\"/> <link rel=\"apple-touch-icon\" href=\"https://s.pstatic.net/static/www/u/2014/0328/mma_20432863.png\"/> <script>document.domain=\"naver.com\",window.nmain=window.nmain||{},window.nmain.supportFlicking=!1;var nsc=\"navertop.v4\",ua=navigator.userAgent;window.nmain.isIE=navigator.appName&&navigator.appName.indexOf(\"Explorer\")>0&&ua.toLocaleLowerCase().indexOf(\"msie 10.0\")<0,document.getElementsByTagName(\"html\")[0].setAttribute(\"data-useragent\",ua),window.nmain.isIE&&(Object.create=function(n){function a(){}return a.prototype=n,new a})</script> <script>var darkmode= false;window.naver_corp_da=window.naver_corp_da||{main:{}},window.naver_corp_da.main=window.naver_corp_da.main||{},window.naver_corp_da.main.darkmode=darkmode,window.gladsdk=window.gladsdk||{cmd:[]},window.gladsdk.cmd.push((function(){window.gladsdk.setHostMeta(\"theme\",darkmode?\"dark\":\"light\")}))</script> <script> window.nmain.gv = {  isLogin: false,\\nuseId: null,   daInfo: {\"ANIMAL\":{\"menu\":\"ANIMAL\",\"childMenu\":\"\",\"adType\":\"singleDom\",\"multiDomAdUrl\":\"\",\"multiDomUnit\":\"\",\"infoList\":[{\"adposId\":\"1000161\",\"singleDomAdUrl\":\"https://siape.veta.naver.com/fxshow\",\"param\":{\"da_dom_id\":\"p_main_animal_1\",\"tb\":\"ANIMAL_1\",\"unit\":\"SU10567\",\"calp\":\"-\"},\"type\":{\"position\":\"abs\",\"positionIndex\":4,\"subject\":\"contents\"},\"dom\":null},{\"adposId\":\"1000162\",\"singleDomAdUrl\":\"https://siape.veta.naver.com/fxshow\",\"param\":{\"da_dom_id\":\"p_main_animal_2\",\"tb\":\"ANIMAL_1\",\"unit\":\"SU10568\",\"calp\":\"-\"},\"type\":{\"position\":\"abs\",\"positionIndex\":8,\"subject\":\"contents\"},\"dom\":null}]},\"BEAUTY\":{\"menu\":\"BEAUTY\",\"childMenu\":\"\",\"adType\":\"singleDom\",\"multiDomAdUrl\":\"\",\"multiDomUnit\":\"\",\"infoList\":[{\"adposId\":\"1000163\",\"singleDomAdUrl\":\"https://siape.veta.naver.com/fxshow\",\"param\":{\"da_dom_id\":\"p_main_beauty_1\",\"tb\":\"BEAUTY_1\",\"unit\":\"SU10595\",\"calp\":\"-\"},\"type\":{\"position\":\"abs\",\"positionIndex\":4,\"subject\":\"contents\"},\"dom\":null},{\"adposId\":\"1000164\",\"singleDomAdUrl\":\"https://siape.veta.naver.com/fxshow\",\"param\":{\"da_dom_id\":\"p_main_beauty_2\",\"tb\":\"BEAUTY_1\",\"unit\":\"SU10596\",\"calp\":\"-\"},\"type\":{\"position\":\"abs\",\"positionIndex\":8,\"subject\":\"contents\"},\"dom\":null}]},\"BUSINESS\":{\"menu\":\"BUSINESS\",\"childMenu\":\"\",\"adType\":\"singleDom\",\"multiDomAdUrl\":\"\",\"multiDomUnit\":\"\",\"infoList\":[{\"adposId\":\"1000165\",\"singleDomAdUrl\":\"https://siape.veta.naver.com/fxshow\",\"param\":{\"da_dom_id\":\"p_main_business_1\",\"tb\":\"BUSINESS_1\",\"unit\":\"SU10577\",\"calp\":\"-\"},\"type\":{\"position\":\"abs\",\"positionIndex\":4,\"subject\":\"contents\"},\"dom\":null},{\"adposId\":\"1000166\",\"singleDomAdUrl\":\"https://siape.veta.naver.com/fxshow\",\"param\":{\"da_dom_id\":\"p_main_business_2\",\"tb\":\"BUSINESS_1\",\"unit\":\"SU10578\",\"calp\":\"-\"},\"type\":{\"position\":\"abs\",\"positionIndex\":8,\"subject\":\"contents\"},\"dom\":null}]},\"CARGAME\":{\"menu\":\"CARGAME\",\"childMenu\":\"\",\"adType\":\"singleDom\",\"multiDomAdUrl\":\"\",\"multiDomUnit\":\"\",\"infoList\":[{\"adposId\":\"1000167\",\"singleDomAdUrl\":\"https://siape.veta.naver.com/fxshow\",\"param\":{\"da_dom_id\":\"p_main_cargame_1\",\"tb\":\"CARGAME_1\",\"unit\":\"SU10587\",\"calp\":\"-\"},\"type\":{\"position\":\"abs\",\"positionIndex\":4,\"subject\":\"contents\"},\"dom\":null},{\"adposId\":\"1000168\",\"singleDomAdUrl\":\"https://siape.veta.naver.com/fxshow\",\"param\":{\"da_dom_id\":\"p_main_cargame_2\",\"tb\":\"CARGAME_1\",\"unit\":\"SU10588\",\"calp\":\"-\"},\"type\":{\"position\":\"abs\",\"positionIndex\":8,\"subject\":\"contents\"},\"dom\":null}]},\"CHINA\":{\"menu\":\"CHINA\",\"childMenu\":\"\",\"adType\":\"singleDom\",\"multiDomAdUrl\":\"\",\"multiDomUnit\":\"\",\"infoList\":[{\"adposId\":\"1000169\",\"singleDomAdUrl\":\"https://siape.veta.naver.com/fxshow\",\"param\":{\"da_dom_id\":\"p_main_china_1\",\"tb\":\"CHINA_1\",\"unit\":\"SU10591\",\"calp\":\"-\"},\"type\":{\"position\":\"abs\",\"positionIndex\":4,\"subject\":\"contents\"},\"dom\":null},{\"adposId\":\"1000170\",\"singleDomAdUrl\":\"https://siape.veta.naver.com/fxshow\",\"param\":{\"da_dom_id\":\"p_main_china_2\",\"tb\":\"CHINA_1\",\"unit\":\"SU10592\",\"calp\":\"-\"},\"type\":{\"position\":\"abs\",\"positionIndex\":8,\"subject\":\"contents\"},\"dom\":null}]},\"DESIGN\":{\"menu\":\"DESIGN\",\"childMenu\":\"\",\"adType\":\"singleDom\",\"multiDomAdUrl\":\"\",\"multiDomUnit\":\"\",\"infoList\":[{\"adposId\":\"1000171\",\"singleDomAdUrl\":\"https://siape.veta.naver.com/fxshow\",\"param\":{\"da_dom_id\":\"p_main_design_1\",\"tb\":\"DESIGN_1\",\"unit\":\"SU10569\",\"calp\":\"-\"},\"type\":{\"position\":\"abs\",\"positionIndex\":4,\"subject\":\"contents\"},\"dom\":null},{\"adposId\":\"1000172\",\"singleDomAdUrl\":\"https://siape.veta.naver.com/fxshow\",\"param\":{\"da_dom_id\":\"p_main_design_2\",\"tb\":\"DESIGN_1\",\"unit\":\"SU10570\",\"calp\":\"-\"},\"type\":{\"position\":\"abs\",\"positionIndex\":8,\"subject\":\"contents\"},\"dom\":null}]},\"FARM\":{\"menu\":\"FARM\",\"childMenu\":\"\",\"adType\":\"singleDom\",\"multiDomAdUrl\":\"\",\"multiDomUnit\":\"\",\"infoList\":[{\"adposId\":\"1000173\",\"singleDomAdUrl\":\"https://siape.veta.naver.com/fxshow\",\"param\":{\"da_dom_id\":\"p_main_farm_1\",\"tb\":\"FARM_1\",\"unit\":\"SU10561\",\"calp\":\"-\"},\"type\":{\"position\":\"abs\",\"positionIndex\":4,\"subject\":\"contents\"},\"dom\":null},{\"adposId\":\"1000174\",\"singleDomAdUrl\":\"https://siape.veta.naver.com/fxshow\",\"param\":{\"da_dom_id\":\"p_main_farm_2\",\"tb\":\"FARM_1\",\"unit\":\"SU10562\",\"calp\":\"-\"},\"type\":{\"position\":\"abs\",\"positionIndex\":8,\"subject\":\"contents\"},\"dom\":null}]},\"FINANCE\":{\"menu\":\"FINANCE\",\"childMenu\":\"\",\"adType\":\"singleDom\",\"multiDomAdUrl\":\"\",\"multiDomUnit\":\"\",\"infoList\":[{\"adposId\":\"1000175\",\"singleDomAdUrl\":\"https://siape.veta.naver.com/fxshow\",\"param\":{\"da_dom_id\":\"p_main_finance_1\",\"tb\":\"FINANCE_1\",\"unit\":\"SU10563\",\"calp\":\"-\"},\"type\":{\"position\":\"abs\",\"positionIndex\":4,\"subject\":\"contents\"},\"dom\":null},{\"adposId\":\"1000176\",\"singleDomAdUrl\":\"https://siape.veta.naver.com/fxshow\",\"param\":{\"da_dom_id\":\"p_main_finance_2\",\"tb\":\"FINANCE_1\",\"unit\":\"SU10564\",\"calp\":\"-\"},\"type\":{\"position\":\"abs\",\"positionIndex\":8,\"subject\":\"contents\"},\"dom\":null}]},\"ITTECH\":{\"menu\":\"ITTECH\",\"childMenu\":\"\",\"adType\":\"singleDom\",\"multiDomAdUrl\":\"\",\"multiDomUnit\":\"\",\"infoList\":[{\"adposId\":\"1000177\",\"singleDomAdUrl\":\"https://siape.veta.naver.com/fxshow\",\"param\":{\"da_dom_id\":\"p_main_ittech_1\",\"tb\":\"ITTECH_1\",\"unit\":\"SU10593\",\"calp\":\"-\"},\"type\":{\"position\":\"abs\",\"positionIndex\":4,\"subject\":\"contents\"},\"dom\":null},{\"adposId\":\"1000178\",\"singleDomAdUrl\":\"https://siape.veta.naver.com/fxshow\",\"param\":{\"da_dom_id\":\"p_main_ittech_2\",\"tb\":\"ITTECH_1\",\"unit\":\"SU10594\",\"calp\":\"-\"},\"type\":{\"position\":\"abs\",\"positionIndex\":8,\"subject\":\"contents\"},\"dom\":null}]},\"JOB\":{\"menu\":\"JOB\",\"childMenu\":\"\",\"adType\":\"singleDom\",\"multiDomAdUrl\":\"\",\"multiDomUnit\":\"\",\"infoList\":[{\"adposId\":\"1000179\",\"singleDomAdUrl\":\"https://siape.veta.naver.com/fxshow\",\"param\":{\"da_dom_id\":\"p_main_job_1\",\"tb\":\"JOB_1\",\"unit\":\"SU10589\",\"calp\":\"-\"},\"type\":{\"position\":\"abs\",\"positionIndex\":4,\"subject\":\"contents\"},\"dom\":null},{\"adposId\":\"1000180\",\"singleDomAdUrl\":\"https://siape.veta.naver.com/fxshow\",\"param\":{\"da_dom_id\":\"p_main_job_2\",\"tb\":\"JOB_1\",\"unit\":\"SU10590\",\"calp\":\"-\"},\"type\":{\"position\":\"abs\",\"positionIndex\":8,\"subject\":\"contents\"},\"dom\":null}]},\"LAW\":{\"menu\":\"LAW\",\"childMenu\":\"\",\"adType\":\"singleDom\",\"multiDomAdUrl\":\"\",\"multiDomUnit\":\"\",\"infoList\":[{\"adposId\":\"1000181\",\"singleDomAdUrl\":\"https://siape.veta.naver.com/fxshow\",\"param\":{\"da_dom_id\":\"p_main_law_1\",\"tb\":\"LAW_1\",\"unit\":\"SU10573\",\"calp\":\"-\"},\"type\":{\"position\":\"abs\",\"positionIndex\":4,\"subject\":\"contents\"},\"dom\":null},{\"adposId\":\"1000182\",\"singleDomAdUrl\":\"https://siape.veta.naver.com/fxshow\",\"param\":{\"da_dom_id\":\"p_main_law_2\",\"tb\":\"LAW_1\",\"unit\":\"SU10574\",\"calp\":\"-\"},\"type\":{\"position\":\"abs\",\"positionIndex\":8,\"subject\":\"contents\"},\"dom\":null}]},\"LIVING\":{\"menu\":\"LIVING\",\"childMenu\":\"\",\"adType\":\"singleDom\",\"multiDomAdUrl\":\"\",\"multiDomUnit\":\"\",\"infoList\":[{\"adposId\":\"1000183\",\"singleDomAdUrl\":\"https://siape.veta.naver.com/fxshow\",\"param\":{\"da_dom_id\":\"p_main_living_1\",\"tb\":\"LIVING_1\",\"unit\":\"SU10597\",\"calp\":\"-\"},\"type\":{\"position\":\"abs\",\"positionIndex\":4,\"subject\":\"contents\"},\"dom\":null},{\"adposId\":\"1000184\",\"singleDomAdUrl\":\"https://siape.veta.naver.com/fxshow\",\"param\":{\"da_dom_id\":\"p_main_living_2\",\"tb\":\"LIVING_1\",\"unit\":\"SU10606\",\"calp\":\"-\"},\"type\":{\"position\":\"abs\",\"positionIndex\":8,\"subject\":\"contents\"},\"dom\":null}]},\"LIVINGHOME\":{\"menu\":\"LIVINGHOME\",\"childMenu\":\"\",\"adType\":\"singleDom\",\"multiDomAdUrl\":\"\",\"multiDomUnit\":\"\",\"infoList\":[{\"adposId\":\"1000185\",\"singleDomAdUrl\":\"https://siape.veta.naver.com/fxshow\",\"param\":{\"da_dom_id\":\"p_main_livinghome_1\",\"tb\":\"LIVINGHOME_1\",\"unit\":\"SU10571\",\"calp\":\"-\"},\"type\":{\"position\":\"abs\",\"positionIndex\":4,\"subject\":\"contents\"},\"dom\":null},{\"adposId\":\"1000186\",\"singleDomAdUrl\":\"https://siape.veta.naver.com/fxshow\",\"param\":{\"da_dom_id\":\"p_main_livinghome_2\",\"tb\":\"LIVINGHOME_1\",\"unit\":\"SU10572\",\"calp\":\"-\"},\"type\":{\"position\":\"abs\",\"positionIndex\":8,\"subject\":\"contents\"},\"dom\":null}]},\"MOMKIDS\":{\"menu\":\"MOMKIDS\",\"childMenu\":\"\",\"adType\":\"singleDom\",\"multiDomAdUrl\":\"\",\"multiDomUnit\":\"\",\"infoList\":[{\"adposId\":\"1000187\",\"singleDomAdUrl\":\"https://siape.veta.naver.com/fxshow\",\"param\":{\"da_dom_id\":\"p_main_momkids_1\",\"tb\":\"MOMKIDS_1\",\"unit\":\"SU10575\",\"calp\":\"-\"},\"type\":{\"position\":\"abs\",\"positionIndex\":4,\"subject\":\"contents\"},\"dom\":null},{\"adposId\":\"1000188\",\"singleDomAdUrl\":\"https://siape.veta.naver.com/fxshow\",\"param\":{\"da_dom_id\":\"p_main_momkids_2\",\"tb\":\"MOMKIDS_1\",\"unit\":\"SU10576\",\"calp\":\"-\"},\"type\":{\"position\":\"abs\",\"positionIndex\":8,\"subject\":\"contents\"},\"dom\":null}]},\"MOVIE\":{\"menu\":\"MOVIE\",\"childMenu\":\"\",\"adType\":\"singleDom\",\"multiDomAdUrl\":\"\",\"multiDomUnit\":\"\",\"infoList\":[{\"adposId\":\"1000189\",\"singleDomAdUrl\":\"https://siape.veta.naver.com/fxshow\",\"param\":{\"da_dom_id\":\"p_main_movie_1\",\"tb\":\"MOVIE_1\",\"unit\":\"SU10585\",\"calp\":\"-\"},\"type\":{\"position\":\"abs\",\"positionIndex\":4,\"subject\":\"contents\"},\"dom\":null},{\"adposId\":\"1000190\",\"singleDomAdUrl\":\"https://siape.veta.naver.com/fxshow\",\"param\":{\"da_dom_id\":\"p_main_movie_2\",\"tb\":\"MOVIE_1\",\"unit\":\"SU10586\",\"calp\":\"-\"},\"type\":{\"position\":\"abs\",\"positionIndex\":8,\"subject\":\"contents\"},\"dom\":null}]},\"SCHOOL\":{\"menu\":\"SCHOOL\",\"childMenu\":\"\",\"adType\":\"singleDom\",\"multiDomAdUrl\":\"\",\"multiDomUnit\":\"\",\"infoList\":[{\"adposId\":\"1000191\",\"singleDomAdUrl\":\"https://siape.veta.naver.com/fxshow\",\"param\":{\"da_dom_id\":\"p_main_school_1\",\"tb\":\"SCHOOL_1\",\"unit\":\"SU10579\",\"calp\":\"-\"},\"type\":{\"position\":\"abs\",\"positionIndex\":4,\"subject\":\"contents\"},\"dom\":null},{\"adposId\":\"1000192\",\"singleDomAdUrl\":\"https://siape.veta.naver.com/fxshow\",\"param\":{\"da_dom_id\":\"p_main_school_2\",\"tb\":\"SCHOOL_1\",\"unit\":\"SU10580\",\"calp\":\"-\"},\"type\":{\"position\":\"abs\",\"positionIndex\":8,\"subject\":\"contents\"},\"dom\":null}]},\"SHOW\":{\"menu\":\"SHOW\",\"childMenu\":\"\",\"adType\":\"singleDom\",\"multiDomAdUrl\":\"\",\"multiDomUnit\":\"\",\"infoList\":[{\"adposId\":\"1000193\",\"singleDomAdUrl\":\"https://siape.veta.naver.com/fxshow\",\"param\":{\"da_dom_id\":\"p_main_show_1\",\"tb\":\"SHOW_1\",\"unit\":\"SU10565\",\"calp\":\"-\"},\"type\":{\"position\":\"abs\",\"positionIndex\":4,\"subject\":\"contents\"},\"dom\":null},{\"adposId\":\"1000194\",\"singleDomAdUrl\":\"https://siape.veta.naver.com/fxshow\",\"param\":{\"da_dom_id\":\"p_main_show_2\",\"tb\":\"SHOW_1\",\"unit\":\"SU10566\",\"calp\":\"-\"},\"type\":{\"position\":\"abs\",\"positionIndex\":8,\"subject\":\"contents\"},\"dom\":null}]},\"TRAVEL\":{\"menu\":\"TRAVEL\",\"childMenu\":\"\",\"adType\":\"singleDom\",\"multiDomAdUrl\":\"\",\"multiDomUnit\":\"\",\"infoList\":[{\"adposId\":\"1000195\",\"singleDomAdUrl\":\"https://siape.veta.naver.com/fxshow\",\"param\":{\"da_dom_id\":\"p_main_travel_1\",\"tb\":\"TRAVEL_1\",\"unit\":\"SU10581\",\"calp\":\"-\"},\"type\":{\"position\":\"abs\",\"positionIndex\":4,\"subject\":\"contents\"},\"dom\":null},{\"adposId\":\"1000196\",\"singleDomAdUrl\":\"https://siape.veta.naver.com/fxshow\",\"param\":{\"da_dom_id\":\"p_main_travel_2\",\"tb\":\"TRAVEL_1\",\"unit\":\"SU10582\",\"calp\":\"-\"},\"type\":{\"position\":\"abs\",\"positionIndex\":8,\"subject\":\"contents\"},\"dom\":null}]},\"WEDDING\":{\"menu\":\"WEDDING\",\"childMenu\":\"\",\"adType\":\"singleDom\",\"multiDomAdUrl\":\"\",\"multiDomUnit\":\"\",\"infoList\":[{\"adposId\":\"1000197\",\"singleDomAdUrl\":\"https://siape.veta.naver.com/fxshow\",\"param\":{\"da_dom_id\":\"p_main_wedding_1\",\"tb\":\"WEDDING_1\",\"unit\":\"SU10583\",\"calp\":\"-\"},\"type\":{\"position\":\"abs\",\"positionIndex\":4,\"subject\":\"contents\"},\"dom\":null},{\"adposId\":\"1000198\",\"singleDomAdUrl\":\"https://siape.veta.naver.com/fxshow\",\"param\":{\"da_dom_id\":\"p_main_wedding_2\",\"tb\":\"WEDDING_1\",\"unit\":\"SU10584\",\"calp\":\"-\"},\"type\":{\"position\":\"abs\",\"positionIndex\":8,\"subject\":\"contents\"},\"dom\":null}]}},\\nsvt: 20211005093046,\\n}; </script> <script> window.nmain.newsstand = {\\nrcode: \\'10140106\\',\\nnewsCastSubsInfo: \\'\\',\\nnewsStandSubsInfo: \\'\\'\\n};\\nwindow.etc = {  };\\nwindow.svr = \"<!--aweb209-->\"; </script> <script src=\"https://ssl.pstatic.net/tveta/libs/assets/js/pc/main/min/pc.veta.core.min.js\" defer=\"defer\"></script>  <script async src=\"https://ssl.pstatic.net/tveta/libs/glad/prod/gfp-core.js\"></script>    <script src=\"https://pm.pstatic.net/dist/js/external.5d9e21ac.js?o=www\" type=\"text/javascript\" crossorigin=\"anonymous\" defer=\"defer\"></script> <script src=\"https://pm.pstatic.net/dist/js/preload.59a14d58.js?o=www\" type=\"text/javascript\" crossorigin=\"anonymous\" defer=\"defer\"></script> <script src=\"https://pm.pstatic.net/dist/js/polyfill_async.942eb7d6.js?o=www\" type=\"text/javascript\" crossorigin=\"anonymous\" async></script>  <script src=\"https://pm.pstatic.net/dist/js/vendors~search.30b5d61b.js?o=www\" type=\"text/javascript\" crossorigin=\"anonymous\" defer=\"defer\"></script>   <script src=\"https://pm.pstatic.net/dist/js/search.6d032745.js?o=www\" type=\"text/javascript\" crossorigin=\"anonymous\" defer=\"defer\"></script>  <script src=\"https://pm.pstatic.net/dist/js/vendors~more~nmain~sidebar_notice.031bbbfd.js?o=www\" type=\"text/javascript\" crossorigin=\"anonymous\" defer=\"defer\"></script> <script src=\"https://pm.pstatic.net/dist/js/more~nmain~sidebar_notice.3987c2c7.js?o=www\" type=\"text/javascript\" crossorigin=\"anonymous\" defer=\"defer\"></script> <script src=\"https://pm.pstatic.net/dist/js/nmain.3aead730.js?o=www\" type=\"text/javascript\" crossorigin=\"anonymous\" defer=\"defer\"></script> <style>:root{color-scheme:light}#_nx_kbd .setkorhelp a{display:none}</style> </head> <body> <div id=\"u_skip\"> <a href=\"#newsstand\"><span>뉴스스탠드 바로가기</span></a> <a href=\"#themecast\"><span>주제별캐스트 바로가기</span></a> <a href=\"#timesquare\"><span>타임스퀘어 바로가기</span></a> <a href=\"#shopcast\"><span>쇼핑캐스트 바로가기</span></a> <a href=\"#account\"><span>로그인 바로가기</span></a> </div> <div id=\"wrap\"> <style type=\"text/css\">._1syGnXOL{padding-right:18px;font-size:14px;line-height:0;letter-spacing:-.25px;color:#000}._1syGnXOL span,._1syGnXOL strong{line-height:49px}._1syGnXOL:before{display:inline-block;content:\"\";vertical-align:top;background-image:url(https://static-whale.pstatic.net/main/sprite-20210713@2x.png);background-repeat:no-repeat;background-size:116px 112px;width:18px;height:18px;margin:16px 8px 0 0;background-position:-98px 0}[data-useragent*=\"MSIE 8\"] ._1syGnXOL:before{background-image:url(https://static-whale.pstatic.net/main/sprite-20210713.png)}._1syGnXOL._3dsvmZg2:before{background-position:-47px -85px}._1syGnXOL._1NBFx1WK:before{width:20px;height:20px;margin:15px 8px 0 0;background-position:-21px -89px}._1syGnXOL._2mcQEKCd:before{width:22px;height:22px;margin:14px 7px 0 0;background-position:-47px -63px}._1syGnXOL._36slsKuJ:before{width:21px;height:49px;margin:0 14px 0 0;background-position:0 -63px}._1syGnXOL._3di88A4c{padding-right:12px;font-size:17px}._1syGnXOL._3di88A4c:before{content:none}._1syGnXOL ._19K4X1CD{text-decoration:underline}._2aeXMlrb{display:inline-block;position:relative;font-size:12px;height:49px;width:78px;text-decoration:none;color:#fff;font-weight:700;letter-spacing:-.5px;vertical-align:top}._2aeXMlrb span{text-align:center;margin:9px 0;height:31px;display:block;line-height:31px;border-radius:15px}._2aeXMlrb span:before{display:inline-block;content:\"\";vertical-align:top;background-image:url(https://static-whale.pstatic.net/main/sprite-20210713@2x.png);background-repeat:no-repeat;background-size:116px 112px}[data-useragent*=\"MSIE 8\"] ._2aeXMlrb span:before{background-image:url(https://static-whale.pstatic.net/main/sprite-20210713.png)}._2aeXMlrb.BMgpjddw{font-size:11px;width:94px}._2aeXMlrb.BMgpjddw span:before{margin:9px 3px 0 0;width:17px;height:13px;background-position:-89px -63px}._3h-N8T9V{position:absolute;top:0;left:0;right:0;bottom:0;background:rgba(0,0,0,0)}._1KncATpM{display:inline-block;content:\"\";vertical-align:top;background-image:url(https://static-whale.pstatic.net/main/sprite-20210713@2x.png);background-repeat:no-repeat;background-size:116px 112px;margin-top:14px;float:left;width:98px;height:21px;background-position:0 -21px}[data-useragent*=\"MSIE 8\"] ._1KncATpM{background-image:url(https://static-whale.pstatic.net/main/sprite-20210713.png)}._1KncATpM._2v3uxv2x{background-position:0 0}._1KncATpM._1yl_Ow6o{background-position:0 -42px}._20PYt6lT{font-size:11px;height:49px;cursor:pointer;position:absolute;top:0;right:0;color:#666;opacity:.7}._20PYt6lT:after{width:15px;height:15px;margin-left:4px;background-position:-98px -33px;display:inline-block;content:\"\";vertical-align:top;background-image:url(https://static-whale.pstatic.net/main/sprite-20210713@2x.png);background-repeat:no-repeat;background-size:116px 112px}[data-useragent*=\"MSIE 8\"] ._20PYt6lT:after{background-image:url(https://static-whale.pstatic.net/main/sprite-20210713.png)}._20PYt6lT._39oMCV2N:after{background-position:-98px -18px}._20PYt6lT._3wm5EzmJ{color:#fff}._20PYt6lT._3wm5EzmJ:after{background-position:-65px -85px}._1hiMWemA{height:49px}._1hiMWemA .tY_u8r23{position:relative;width:1130px;margin:0 auto}._1hiMWemA .tY_u8r23 a{text-decoration:none}._1hiMWemA._23U_6TM_{position:relative}._1hiMWemA._23U_6TM_:after{position:absolute;z-index:1;content:\"\";display:block;width:100%;height:1px;bottom:0;background-color:rgba(0,0,0,.050980392156862744)}</style>         <div id=\"NM_TOP_BANNER\" data-clk-prefix=\"top\" class=\"_1hiMWemA\" style=\"background-color: #f3f1ff\">\\n<div class=\"tY_u8r23\">\\n<a class=\"_3h-N8T9V\" href=\\'https://whale.naver.com/banner/details/darkmode?=main&wpid=RydDy7\\'\\ndata-clk=\"dropbanner1a\"></a>\\n<i class=\"_1KncATpM\"><span class=\"blind\">NAVER whale</span></i>\\n<img src=\"https://static-whale.pstatic.net/main/img_darkmode@2x.png\" width=\"303\" height=\"49\" alt=\"\"\\nstyle=\"padding-left: 48px\"/>\\n<span class=\"_1syGnXOL _3di88A4c\" data-clk=\"dropbanner1a\" style=\"padding-right: 10px; color: black; padding-left: 8px\"><span>여러분의\\n눈은 소중하니까, </span><strong>지금 바로 다크 모드를 켜세요!</strong></span>\\n<a href=\\'https://installer-whale.pstatic.net/downloads/banner/RydDy7/WhaleSetup.exe\\' class=\"_2aeXMlrb\" id=\"NM_whale_download_btn\"\\ndata-clk=\"dropdownload1a\"><span style=\"background-color: #7c56d5\">다운로드</span></a>\\n<button type=\"button\" data-ui-cookie-exp-days=\"3\" data-ui-cookie-key=\"NM_TOP_PROMOTION\" data-ui-cookie-value=\"1\"\\ndata-ui-hide-target=\"#NM_TOP_BANNER\" data-clk=\"dropclose1a\" class=\"_20PYt6lT _39oMCV2N\"\\nstyle=\"display: none\">\\n3일 동안 보지 않기\\n</button>\\n</div>\\n</div>\\n  <div id=\"header\" role=\"banner\">\\n\\n\\n\\n\\n\\n\\n\\n\\n<div class=\"special_bg\">\\n<div class=\"group_flex\">\\n<div class=\"logo_area\">\\n<h1 class=\"logo_default\">\\n<a href=\"/\" class=\"logo_naver\" data-clk=\"top.logo\"\\n><span class=\"blind\">네이버</span></a\\n>\\n</h1>\\n</div>\\n<div class=\"service_area\">\\n<a id=\"NM_set_home_btn\" href=\"https://help.naver.com/support/welcomePage/guide.help\" class=\"link_set\" data-clk=\"top.mkhome\">네이버를 시작페이지로</a>\\n<i class=\"sa_bar\"></i>\\n<a href=\"https://jr.naver.com\" class=\"link_jrnaver\" data-clk=\"top.jrnaver\"><i class=\"ico_jrnaver\"></i><span class=\"blind\">쥬니어네이버</span></a>\\n<a href=\"https://happybean.naver.com\" class=\"link_happybin\" data-clk=\"top.happybean\"><i class=\"ico_happybin\"></i><span class=\"blind\">해피빈</span></a>\\n</div>\\n\\n<div id=\"search\" class=\"search_area\" data-clk-prefix=\"sch\">\\n<form id=\"sform\" name=\"sform\" action=\"https://search.naver.com/search.naver\" method=\"get\" role=\"search\">\\n<fieldset>\\n<legend class=\"blind\">검색</legend>\\n<select id=\"where\" name=\"where\" title=\"검색 범위 선택\" class=\"blind\">\\n<option value=\"nexearch\" selected=\"selected\">통합검색</option><option value=\"post\">블로그</option><option value=\"cafeblog\">카페</option><option value=\"cafe\">- 카페명</option><option value=\"article\">- 카페글</option><option value=\"kin\">지식iN</option><option value=\"news\">뉴스</option><option value=\"web\">사이트</option><option value=\"category\">- 카테고리</option><option value=\"site\">- 사이트</option><option value=\"movie\">영화</option><option value=\"webkr\">웹문서</option><option value=\"dic\">사전</option><option value=\"100\">- 백과사전</option><option value=\"endic\">- 영어사전</option><option value=\"eedic\">- 영영사전</option><option value=\"krdic\">- 국어사전</option><option value=\"jpdic\">- 일본어사전</option><option value=\"hanja\">- 한자사전</option><option value=\"terms\">- 용어사전</option><option value=\"book\">책</option><option value=\"music\">음악</option><option value=\"doc\">전문자료</option><option value=\"shop\">쇼핑</option><option value=\"local\">지역</option><option value=\"video\">동영상</option><option value=\"image\">이미지</option><option value=\"mypc\">내PC</option><optgroup label=\"스마트 파인더\"><option value=\"movie\">영화</option><option value=\"auto\">자동차</option><option value=\"game\">게임</option><option value=\"health\">건강</option><option value=\"people\">인물</option></optgroup><optgroup label=\"네이버 랩\"><option>긍정부정검색</option></optgroup>\\n</select>\\n<input type=\"hidden\" id=\"sm\" name=\"sm\" value=\"top_hty\" />\\n<input type=\"hidden\" id=\"fbm\" name=\"fbm\" value=\"0\" />\\n<input type=\"hidden\" id=\"acr\" name=\"acr\" value=\"\" disabled=\"disabled\" />\\n<input type=\"hidden\" id=\"acq\" name=\"acq\" value=\"\" disabled=\"disabled\" />\\n<input type=\"hidden\" id=\"qdt\" name=\"qdt\" value=\"\" disabled=\"disabled\" />\\n<input type=\"hidden\" id=\"ie\" name=\"ie\" value=\"utf8\" />\\n<input type=\"hidden\" id=\"acir\" name=\"acir\" value=\"\" disabled=\"disabled\" />\\n<input type=\"hidden\" id=\"os\" name=\"os\" value=\"\" disabled=\"disabled\" />\\n<input type=\"hidden\" id=\"bid\" name=\"bid\" value=\"\" disabled=\"disabled\" />\\n<input type=\"hidden\" id=\"pkid\" name=\"pkid\" value=\"\" disabled=\"disabled\" />\\n<input type=\"hidden\" id=\"eid\" name=\"eid\" value=\"\" disabled=\"disabled\" />\\n<input type=\"hidden\" id=\"mra\" name=\"mra\" value=\"\" disabled=\"disabled\" />\\n\\n\\n\\n<div class=\"green_window\" style=\\'\\'>\\n<!-- [AU] data-atcmp-element 에 해당하는 attribute를 추가해주세요. -->\\n<input id=\"query\" name=\"query\" type=\"text\" title=\"검색어 입력\" maxlength=\"255\" class=\"input_text\" tabindex=\"1\" accesskey=\"s\" style=\"ime-mode:active;\" autocomplete=\"off\"  placeholder=\"검색어를 입력해 주세요.\" onclick=\"document.getElementById(\\'fbm\\').value=1;\" value=\"\" data-atcmp-element>\\n</div>\\n<button id=\"search_btn\" type=\"submit\" title=\"검색\" tabindex=\"3\" class=\"btn_submit\" onclick=\"window.nclick(this,\\'sch.action\\',\\'\\',\\'\\',event);\" style=\\'\\'>\\n<span class=\"blind\">검색</span>\\n<span class=\"ico_search_submit\"></span>\\n</button>\\n</fieldset>\\n</form>\\n<!-- 한글입력기 -->\\n<a href=\"#\" id=\"ke_kbd_btn\" role=\"button\" class=\"btn_keyboard\" onclick=\"return false;\"><span class=\"blind\">한글 입력기</span><span class=\"ico_keyboard\"></span></a>\\n<div id=\"_nx_kbd\" style=\"display:none;\"></div>\\n<div class=\"autocomplete\">\\n<!-- 자동완성 열린 경우 fold 클래스 추가, 딤드인 경우 dim 추가 -->\\n<a href=\"#\" role=\"button\" id=\"nautocomplete\" tabindex=\"2\" class=\"btn_arw _btn_arw fold\" aria-pressed=\"false\" data-atcmp-element><span class=\"blind\">자동완성 레이어</span><span class=\"ico_arr\"></span></a>\\n</div>\\n<!-- 자동완성레이어 -->\\n<div id=\"autoFrame\" class=\"reatcmp\" style=\"display: none;\">\\n<!-- [AU] data-atcmp-element attribute를 추가해주세요. -->\\n<div class=\"ly_atcmp\" data-atcmp-element>\\n<div class=\"api_atcmp_wrap\">\\n<!-- 최근검색어 -->\\n<!-- [AU] _recent_layer 클래스를 추가해주세요. -->\\n<div class=\"atcmp_fixer _recent_layer\" style=\"display:none;\">\\n<!-- [AU] _recent_header 클래스를 추가해주세요. -->\\n<div class=\"atcmp_header _recent_header\">\\n<strong class=\"tit\">최근검색어</strong>\\n<div class=\"option\">\\n<!-- [AU] _delAll 클래스를 추가해주세요. -->\\n<a role=\"button\" href=\"#\" class=\"item _delAll\" aria-pressed=\"false\">전체삭제</a>\\n</div>\\n</div>\\n<div class=\"atcmp_container\">\\n<!-- [AU] _recent 클래스를 추가해주세요. -->\\n<ul class=\"kwd_lst _recent\">\\n<!-- 최근검색어 템플릿 -->\\n<!-- [AU] _item 클래스를 추가해주세요. -->\\n<!-- [AU] data-template-type=\"history\" data-keyword=\"@in_txt@\" attribute를 추가해주세요. -->\\n<li class=\"item _item\" data-rank=\"@rank@\" data-template-type=\"history\" data-keyword=\"@in_txt@\">\\n<a href=\"#\" class=\"kwd\">\\n<span class=\"fix\"><span class=\"common_ico_kwd\"><i class=\"imsc ico_search\"></i></span><span>@txt@</span></span>\\n</a>\\n<span class=\"etc\">\\n<em class=\"date\">@date@.</em>\\n<!-- [AU] _del 클래스를 추가해주세요. -->\\n<a href=\"#\" role=\"button\" class=\"bt_item _del\" aria-pressed=\"false\"><i class=\"imsc ico_del\">삭제</i></a>\\n</span>\\n</li>\\n</ul>\\n<!-- [D] 검색어 저장 꺼진 경우 atcmp_fixer에 type_off 추가 -->\\n<!-- [AU] _offMsg 클래스를 추가해주세요. -->\\n<div class=\"kwd_info kwd_off _offMsg\" style=\"display: none;\">검색어 저장 기능이 꺼져 있습니다.<br><span class=\"kwd_dsc\">설정이 초기화 된다면 <a href=\"https://help.naver.com/support/alias/search/word/word_29.naver\" class=\"kwd_help\" data-clk=\"sly.help\" target=\"_blank\">도움말</a>을 확인해주세요.</span></div>\\n<!-- [D] 검색어 내역 없는 경우 atcmp_fixer에 type_off 추가 -->\\n<!-- [AU] _recentNone 클래스를 추가해주세요. -->\\n<div class=\"kwd_info kwd_none _recentNone\" style=\"display: none;\">최근 검색어 내역이 없습니다.<br><span class=\"kwd_dsc\">설정이 초기화 된다면 <a href=\"https://help.naver.com/support/alias/search/word/word_29.naver\" class=\"kwd_help\" data-clk=\"sly.help\" target=\"_blank\">도움말</a>을 확인해주세요.</span></div>\\n</div>\\n<div class=\"atcmp_footer\">\\n<span class=\"side_opt_area\">\\n<span class=\"opt_item\"><a href=\"https://help.naver.com/support/service/main.help?serviceNo=605&amp;categoryNo=1991\" data-clk=\"sly.help\" target=\"_blank\">도움말</a></span>\\n</span>\\n<span class=\"rside_opt_area\">\\n<span class=\"opt_item\">\\n<!-- [AU] _keywordOnOff 클래스를 추가해주세요. -->\\n<a href=\"#\" class=\"close _keywordOnOff\">자동저장 끄기</a>\\n</span>\\n</span>\\n</div>\\n</div>\\n<!-- 자동완성 -->\\n<!-- [AU] _atcmp_layer 클래스를 추가해주세요. -->\\n<div class=\"atcmp_fixer _atcmp_layer\" style=\"display:none;\">\\n<!-- [AU] _words 클래스를 추가해주세요. -->\\n<div class=\"atcmp_container _words\">\\n<!-- 정답형 템플릿 : 로또당첨번호 -->\\n<!-- [AU] _answer 클래스를 추가해주세요. -->\\n<!-- [AU] data-template-type=\"answer_3\" data-code=\"@code@\" data-keyword=\"@1@\" attribute를 추가해주세요. -->\\n<div class=\"atcmp_correct type_lotto _answer\" data-template-type=\"answer_3\" data-code=\"@code@\" data-keyword=\"@1@\">\\n<a href=\"#\" class=\"link_item\">\\n<span class=\"common_ico_kwd\"><i class=\"imsc ico_search\"></i></span>\\n<div class=\"dsc_area\">\\n<span class=\"tit\">@5@회차 당첨번호</span>\\n<span class=\"dsc\">\\n<span class=\"item\">추첨 @13@.</span><span class=\"item\">지급기한 1년</span>\\n</span>\\n</div>\\n<span class=\"etc_area\">\\n<span class=\"etc lotto\">\\n<em class=\"n@6@\">@6@</em><em class=\"n@7@\">@7@</em><em class=\"n@8@\">@8@</em><em class=\"n@9@\">@9@</em><em class=\"n@10@\">@10@</em><em class=\"n@11@\">@11@</em><em class=\"imsc_bf bonus n@12@\">@12@</em>\\n</span>\\n</span>\\n</a>\\n</div>\\n<!-- 정답형 템플릿 : 환율 -->\\n<!-- [AU] _answer 클래스를 추가해주세요. -->\\n<!-- [AU] data-template-type=\"answer_9\" data-code=\"@code@\" data-keyword=\"@1@\" attribute를 추가해주세요. -->\\n<div class=\"atcmp_correct type_exchange _answer\" data-template-type=\"answer_9\" data-code=\"@code@\" data-keyword=\"@1@\">\\n<!-- [D] 상승 up, 하락 down 추가 -->\\n<a href=\"#\" class=\"link_item @11@\">\\n<!-- [D] 국가별 class 가나다순\\nZAR 남아프리카 공화국\\nNPR 네팔\\nNOK 노르웨이\\nNZD 뉴질랜드\\nTWD 대만\\nDKK 덴마크\\nRUB 러시아\\nMOP 마카오\\nMYR 말레이시아\\nMXN 멕시코\\nMNT 몽골\\nUSD 미국\\nBHD 바레인\\nBDT 방글라데시\\nVND 베트남\\nBRL 브라질\\nSAR 사우디아라비아\\nSEK 스웨덴\\nCHF 스위스\\nSGD 싱가포르\\nAED 아랍에미리트\\nGBP 영국\\nEUR 유럽연합\\nILS 이스라엘\\nEGP 이집트\\nINR 인도\\nIDR 인도네시아\\nJPY 일본\\nCNY 중국\\nCZK 체코\\nCLP 칠레\\nKZT 카자흐스탄\\nQAR 카타르\\nCAD 캐나다\\nKWD 쿠웨이트\\nTHB 태국\\nTRY 터키\\nPKR 파키스탄\\nPLN 폴란드\\nPHP 필리핀\\nHUF 헝가리\\nAUD 호주\\nHKD 홍콩\\n-->\\n<span class=\"common_ico_kwd\"><i class=\"imsc ico @12@\">@14@</i></span>\\n<div class=\"dsc_area\">\\n<span class=\"tit\">@txt@<span class=\"sub\">@currency@</span></span>\\n<span class=\"dsc\">\\n<span class=\"item\"><i class=\"imsc ico_arr\"></i>@8@(@9@%)</span>\\n</span>\\n</div>\\n<span class=\"etc_area\">\\n<span class=\"etc\"><em class=\"num\">@6@</em>원</span>\\n</span>\\n</a>\\n</div>\\n<!-- 정답형 템플릿 : 날씨(국내11, 해외12) -->\\n<!-- [AU] _answer 클래스를 추가해주세요. -->\\n<!-- [AU] data-template-type=\"answer_11\" data-code=\"@code@\" data-keyword=\"@1@\" attribute를 추가해주세요. -->\\n<div class=\"atcmp_correct type_weather _answer\" data-template-type=\"answer_11\" data-code=\"@code@\" data-keyword=\"@1@\">\\n<!-- [D] 상승 up, 하락 down 추가 -->\\n<a href=\"#\" class=\"link_item @12@\">\\n<span class=\"common_ico_kwd\"><i class=\"imsc ico_search\"></i></span>\\n<div class=\"dsc_area\">\\n<span class=\"tit\">@txt@</span>\\n<span class=\"dsc\">\\n<span class=\"item\">@7@, @message@</span>\\n</span>\\n</div>\\n<span class=\"etc_area\">\\n<span class=\"etc\">\\n<!-- [D] 날씨별 class\\nico1 맑음(낮)\\nico2 맑음(밤)\\nico3 구름조금(낮)\\nico4 구름조금(밤)\\nico5 구름많음(낮)\\nico6 구름많음(밤)\\nico7 흐림\\nico8 약한비\\nico9 비\\nico10 강한비\\nico11 약한눈\\nico12 눈\\nico13 강한눈\\nico14 진눈깨비\\nico15 소나기\\nico16 안개\\nico17 소낙눈\\nico18 번개뇌우\\nico19 우박\\nico20 황사\\nico21 비또는눈\\nico22 가끔비\\nico23 가끔눈\\nico24 가끔비또는눈\\nico25 흐린후갬\\nico26 뇌우후갬\\nico27 비후갬\\nico28 눈후갬\\nico29 흐려져비\\nico30 흐려져눈\\n-->\\n<span class=\"ico_weather\"><i class=\"imsc ico ico@iconNo@\">@7@</i></span>\\n<em class=\"degree\">@8@<sup class=\"celsius\">°</sup></em>\\n</span>\\n</span>\\n</a>\\n</div>\\n<!-- 정답형 템플릿 : 사이트 바로가기 -->\\n<!-- [AU] _answer 클래스를 추가해주세요. -->\\n<!-- [AU] data-template-type=\"answer_17\" data-code=\"@code@\" data-keyword=\"@1@\" attribute를 추가해주세요. -->\\n<div class=\"atcmp_correct type_site _answer\" data-template-type=\"answer_17\" data-code=\"@code@\" data-keyword=\"@1@\">\\n<a href=\"@5@\" class=\"link_item\" target=\"_blank\">\\n<span class=\"common_ico_kwd\"><i class=\"imsc ico_url\"></i></span>\\n<div class=\"dsc_area\">\\n<span class=\"tit\">@txt@</span>\\n<span class=\"dsc\">\\n<span class=\"item\">@5@</span>\\n</span>\\n</div>\\n<span class=\"etc_area\">\\n<span class=\"etc\">바로가기</span>\\n</span>\\n</a>\\n</div>\\n<!-- [AU] _kwd_list 클래스를 추가해주세요. -->\\n<ul class=\"kwd_lst _kwd_list\">\\n<!-- [AU] 자동완성 검색어 템플릿 -->\\n<!-- [AU] _item 클래스를 추가해주세요. -->\\n<!-- [AU] data-rank=\"@rank@\" data-template-type=\"suggestion\" data-keyword=\"@in_txt@\" attribute를 추가해주세요. -->\\n<li class=\"item _item\" data-rank=\"@rank@\" data-template-type=\"suggestion\" data-keyword=\"@in_txt@\">\\n<a href=\"#\" class=\"kwd\">\\n<span class=\"fix\"><span class=\"common_ico_kwd\"><i class=\"imsc ico_search\"></i></span>@txt@</span>\\n</a>\\n<span class=\"etc\">\\n<a href=\"#\" role=\"button\" class=\"bt_item _add\" aria-pressed=\"false\"><i class=\"imsc ico_insert\">추가</i></a>\\n</span>\\n</li>\\n<!-- [AU] 최근검색어 템플릿 -->\\n<!-- [AU] _item 클래스를 추가해주세요. -->\\n<!-- [AU] data-rank=\"@rank@\" data-template-type=\"history\" data-keyword=\"@in_txt@\" attribute를 추가해주세요. -->\\n<li class=\"item has_correct _item\" data-rank=\"@rank@\" data-template-type=\"history\" data-keyword=\"@in_txt@\">\\n<a href=\"#\" class=\"kwd\">\\n<span class=\"fix\"><span class=\"common_ico_kwd\"><i class=\"imsc ico_search\"></i></span>@txt@</span>\\n</a>\\n<span class=\"etc\">\\n<!-- 최근검색어 있으면 날짜 표시 -->\\n<em class=\"date\">@date@.</em>\\n<a href=\"#\" role=\"button\" class=\"bt_item _add\" aria-pressed=\"false\"><i class=\"imsc ico_insert\">추가</i></a>\\n</span>\\n</li>\\n</ul>\\n<!-- [AU] 문맥검색 템플릿 -->\\n<!-- [AU] _item 클래스를 추가해주세요. -->\\n<!-- [AU] data-rank=\"@rank@\" data-template-type=\"intend\" data-keyword=\"@transQuery@\" attribute를 추가해주세요. -->\\n<li class=\"item has_correct _item\" data-rank=\"@rank@\" data-intend-rank=\"@intendRank@\" data-template-type=\"intend\" data-keyword=\"@transQuery@\">\\n<a href=\"#\" class=\"kwd\">\\n<span class=\"fix\"><span class=\"common_ico_kwd\"><i class=\"imsc ico_search\"></i></span>@query@ <span class=\"context\">@intend@</span></span>\\n</a>\\n<span class=\"etc\">\\n<a href=\"#\" role=\"button\" class=\"bt_item _add\" aria-pressed=\"false\"><i class=\"imsc ico_insert\">추가</i></a>\\n</span>\\n</li>\\n<!-- [D] 선거안내문구 -->\\n<!-- [AU] _alert 클래스를 추가해주세요. -->\\n<div class=\"atcmp_alert _alert\">\\n<div class=\"dsc_election\">\\n<p class=\"dsc\">\\n<i class=\"imsc ico_election\"></i><span class=\"_alert_passage\"></span>\\n</p>\\n<span class=\"dsc_inner\">\\n<!-- [AU] _alert_passage2 클래스를 추가해주세요. -->\\n<span class=\"_alert_passage2\"></span>\\n<!-- [AU] _alert_link 클래스를 추가해주세요. -->\\n<a href=\"#\" class=\"link _alert_link\" target=\"_blank\">자세히보기</a>\\n</span>\\n</div>\\n</div>\\n<!-- [AU] _plus 클래스를 추가해주세요. -->\\n<div class=\"atcmp_plus _plus\">\\n<div class=\"dsc_plus\">\\n<a href=\"https://help.naver.com/support/alias/search/word/word_16.naver\" class=\"link_dsc\" data-clk=\"sug.cxhelp\" target=\"_blank\">관심사를 반영한 컨텍스트 자동완성<i class=\"imsc ico_help\">도움말</i></a>\\n</div>\\n<div class=\"switch\">\\n<!-- [D] 선택시 aria-pressed=\"ture/false\" -->\\n<!-- [AU] _plus_btn 클래스를 추가해주세요. -->\\n<a role=\"button\" href=\"#\" class=\"bt_switch active _plus_btn\" aria-pressed=\"false\"><i class=\"imsc ico_option\">컨텍스트 자동완성</i></a>\\n</div>\\n<!-- [AU] _plus_layer 클래스를 추가해주세요. -->\\n<div class=\"layer_plus _plus_layer\">\\n<strong class=\"tit\">컨텍스트 자동완성</strong>\\n<!-- [AU] _plus_layer_isloggedin 클래스를 추가해주세요. -->\\n<!-- [AU] style=\"display:none\" 추가해주세요. -->\\n<div class=\"_plus_layer_isloggedin\" style=\"display:none\">\\n<p class=\"dsc\">ON/OFF 설정은<br>해당기기(브라우저)에 저장됩니다.</p>\\n<div class=\"btn_area\">\\n<a href=\"https://help.naver.com/support/alias/search/word/word_16.naver\" class=\"btn btn_view\" data-clk=\"sug.cxlink\" target=\"_blank\">자세히</a>\\n</div>\\n</div>\\n<!-- [AU] _plus_layer_isnotloggedin 클래스를 추가해주세요. -->\\n<!-- [AU] style=\"display:none\" 추가해주세요. -->\\n<div class=\"_plus_layer_isnotloggedin\" style=\"display:none\">\\n<p class=\"dsc\"><em class=\"txt\">동일한 시간대/연령/남녀별</em> 사용자 그룹의<br>관심사에 맞춰 자동완성을 제공합니다.</p>\\n<div class=\"btn_area\">\\n<a href=\"https://nid.naver.com/nidlogin.login\" class=\"btn btn_login\" data-clk=\"sug.cxlogin\">로그인</a>\\n<a href=\"https://help.naver.com/support/alias/search/word/word_16.naver\" class=\"btn btn_view\" data-clk=\"sug.cxlink\" target=\"_blank\">자세히</a>\\n</div>\\n</div>\\n<!-- [AU] _plus_layer_close 클래스를 추가해주세요. -->\\n<a href=\"#\" role=\"button\" class=\"btn_close _plus_layer_close\"><i class=\"imsc ico_close\">컨텍스트 자동완성 레이어 닫기</i></a>\\n</div>\\n</div>\\n</div>\\n<div class=\"atcmp_footer\">\\n<span class=\"side_opt_area\">\\n<span class=\"opt_item\"><a href=\"https://help.naver.com/support/service/main.help?serviceNo=605&categoryNo=1987\" data-clk=\"sug.help\" target=\"_blank\">도움말</a></span>\\n<span class=\"opt_item\"><a href=\"https://help.naver.com/support/contents/contents.help?serviceNo=605&categoryNo=18215\" class=\"report\" data-clk=\"sug.report\" target=\"_blank\">신고</a></span>\\n</span>\\n<span class=\"rside_opt_area\">\\n<span class=\"opt_item\">\\n<!-- [AU] _suggestOnOff 클래스를 추가해주세요. -->\\n<a href=\"#\" class=\"close _suggestOnOff\">자동완성 끄기</a>\\n</span>\\n</span>\\n</div>\\n</div>\\n</div>\\n</div>\\n</div>\\n</div>\\n\\n</div>\\n</div>\\n\\n<!--EMPTY-->\\n<div id=\"gnb\">\\n<div id=\"NM_FAVORITE\" class=\"gnb_inner\">\\n<div class=\"group_nav\">\\n<ul class=\"list_nav type_fix\">\\n<li class=\"nav_item\">\\n<a href=\"https://mail.naver.com/\" class=\"nav\" data-clk=\"svc.mail\"><i class=\"ico_mail\"></i>메일</a>\\n</li>\\n<li class=\"nav_item\"><a href=\"https://section.cafe.naver.com/\" class=\"nav\" data-clk=\"svc.cafe\">카페</a></li>\\n<li class=\"nav_item\"><a href=\"https://section.blog.naver.com/\" class=\"nav\" data-clk=\"svc.blog\">블로그</a></li>\\n<li class=\"nav_item\"><a href=\"https://kin.naver.com/\" class=\"nav\" data-clk=\"svc.kin\">지식iN</a></li>\\n<li class=\"nav_item\"><a href=\"https://shopping.naver.com/\" class=\"nav shop\" data-clk=\"svc.shopping\"><span class=\"blind\">쇼핑</span></a></li>\\n<li class=\"nav_item\"><a href=\"https://shoppinglive.naver.com/home\" class=\"nav shoplive\"\\ndata-clk=\"svc.shoppinglive\"><span class=\"blind\">쇼핑LIVE</span></a></li>\\n<li class=\"nav_item\"><a href=\"https://order.pay.naver.com/home\" class=\"nav\" data-clk=\"svc.pay\">Pay</a></li>\\n<li class=\"nav_item\">\\n<a href=\"https://tv.naver.com/\" class=\"nav\" data-clk=\"svc.tvcast\"><i class=\"ico_tv\"></i>TV</a>\\n</li>\\n</ul>\\n<ul\\nclass=\"list_nav NM_FAVORITE_LIST\"\\n>\\n<li class=\"nav_item\"><a href=\"https://dict.naver.com/\" class=\"nav\" data-clk=\"svc.dic\">사전</a></li>\\n<li class=\"nav_item\"><a href=\"https://news.naver.com/\" class=\"nav\" data-clk=\"svc.news\">뉴스</a></li>\\n<li class=\"nav_item\"><a href=\"https://finance.naver.com/\" class=\"nav\" data-clk=\"svc.stock\">증권</a></li>\\n<li class=\"nav_item\"><a href=\"https://land.naver.com/\" class=\"nav\" data-clk=\"svc.land\">부동산</a></li>\\n<li class=\"nav_item\"><a href=\"https://map.naver.com/\" class=\"nav\" data-clk=\"svc.map\">지도</a></li>\\n<li class=\"nav_item\"><a href=\"https://vibe.naver.com/\" class=\"nav\" data-clk=\"svc.vibe\">VIBE</a></li>\\n<li class=\"nav_item\"><a href=\"https://book.naver.com/\" class=\"nav\" data-clk=\"svc.book\">책</a></li>\\n<li class=\"nav_item\"><a href=\"https://comic.naver.com/\" class=\"nav\" data-clk=\"svc.webtoon\">웹툰</a></li>\\n\\n</ul>\\n<ul class=\"list_nav type_empty\" style=\"display: none;\"></ul>\\n<a href=\"#\" role=\"button\" class=\"btn_more\" data-clk=\"svc.more\">더보기</a>\\n<div class=\"ly_btn_area\">\\n<a href=\"more.html\" class=\"btn NM_FAVORITE_ALL\" data-clk=\"map.svcmore\">서비스 전체보기</a>\\n<a href=\"#\" role=\"button\" class=\"btn btn_set\" data-clk=\"map.edit\">메뉴설정</a>\\n<a href=\"#\" role=\"button\" class=\"btn btn_reset\" data-clk=\"edt.reset\">초기화</a>\\n<a href=\"#\" role=\"button\" class=\"btn btn_save\" data-clk=\"edt.save\">저장</a>\\n</div>\\n</div>\\n<div id=\"NM_WEATHER\" class=\"group_weather\">\\n<div>\\n<a data-clk=\"squ.weat\" href=\"https://weather.naver.com/today/10140106\" class=\"weather_area ico_w01\">\\n<div class=\"current_box\">\\n<strong class=\"current\" aria-label=\"현재기온\">25.7°</strong><strong class=\"state\">맑음</strong>\\n</div>\\n<div class=\"degree_box\">\\n<span class=\"min\" aria-label=\"최저기온\">19.0°</span><span class=\"max\" aria-label=\"최고기온\">29.0°</span>\\n</div>\\n<span class=\"location\">삼산동</span>\\n</a>\\n</div>\\n<div>\\n<a data-clk=\"squ.dust\" href=\"https://weather.naver.com/today/10140106\" class=\"air_area\">\\n<ul class=\"list_air\">\\n<li class=\"air_item\">미세<strong class=\"state state_good\">좋음</strong></li>\\n<li class=\"air_item\">초미세<strong class=\"state state_good\">좋음</strong></li>\\n</ul>\\n<span class=\"location\">삼산동</span>\\n</a>\\n</div>\\n\\n</div>\\n</div>\\n<div class=\"ly_service\">\\n<div class=\"group_service NM_FAVORITE_ALL_LY\"></div>\\n<div class=\"group_service NM_FAVORITE_EDIT_LY\" style=\"display: none;\"></div>\\n</div>\\n</div>\\n</div>\\n <div id=\"container\" role=\"main\"> <div style=\"position:relative;width:1130px;margin:0 auto;z-index:11\"> <div id=\"da_top\"></div> <div id=\"da_expwide\"></div> </div> <div id=\"NM_INT_LEFT\" class=\"column_left\">  <div id=\"veta_top\"> <iframe id=\"da_iframe_time\" name=\"da_iframe_time\" data-iframe-src=\"https://siape.veta.naver.com/fxshow?su=SU10599&amp;nrefreshx=0\" data-veta-preview=\"main_time\" title=\"광고\" width=\"750\" height=\"135\" marginheight=\"0\" marginwidth=\"0\" scrolling=\"no\" frameborder=\"0\"> </iframe> <span class=\"veta_bd_t\"></span> <span class=\"veta_bd_b\"></span> <span class=\"veta_bd_l\"></span> <span class=\"veta_bd_r\"></span> </div> <div id=\"newsstand\" class=\"sc_newscast\"> <h2 class=\"blind\">뉴스스탠드</h2> <div id=\"NM_NEWSSTAND_HEADER\" class=\"group_issue\" data-clk-prefix=\"ncy\"> <div class=\"issue_area\"> <div class=\"link_media\">SBS Biz</div> <div id=\"yna_rolling\" class=\"list_issue\"> <div data-officename=\"SBS Biz\"><a href=\"https://news.naver.com/main/read.naver?mode=LSD&mid=shm&sid1=101&oid=374&aid=0000259667\" class=\"issue\" data-clk=\"quickarticle\">中 헝다 홍콩증시서 거래 정지…자회사 지분 매각</a></div>\\n<div data-officename=\"한겨레\"><a href=\"https://news.naver.com/main/read.naver?mode=LSD&mid=shm&sid1=102&oid=028&aid=0002562571\" class=\"issue\" data-clk=\"quickarticle\">[단독] 유동규팀 ‘대장동’ 공모지침안, 확정 하루 전에야 담당부서 넘겼다</a></div>\\n<div data-officename=\"조세일보\"><a href=\"https://news.naver.com/main/read.naver?mode=LSD&mid=shm&sid1=102&oid=123&aid=0002256124\" class=\"issue\" data-clk=\"quickarticle\">[백신 접종] 오늘부터 16~17세 접종 예약…“기저질환자 접종 적극 권고”</a></div>\\n<div data-officename=\"기자협회보\"><a href=\"https://news.naver.com/main/read.naver?mode=LSD&mid=shm&sid1=102&oid=127&aid=0000031617\" class=\"issue\" data-clk=\"quickarticle\">JTBC 대선 콘텐츠 강화한 \\'뉴스룸\\' 개편 5일 단행</a></div>\\n<div data-officename=\"한국일보\"><a href=\"https://news.naver.com/main/read.naver?mode=LSD&mid=shm&sid1=100&oid=469&aid=0000633129\" class=\"issue\" data-clk=\"quickarticle\">대선이 이상하다... 악재 터져도 이재명·윤석열 지지율은 \\'언터처블\\'</a></div>\\n<div data-officename=\"서울신문\"><a href=\"https://news.naver.com/main/read.naver?mode=LSD&mid=shm&sid1=102&oid=081&aid=0003220058\" class=\"issue\" data-clk=\"quickarticle\">[단독]  대장동 문화재 조사서 빠진 8000평… ‘곽상도 아빠찬스’ 있었나</a></div>\\n<div data-officename=\"머니투데이\"><a href=\"https://news.naver.com/main/read.naver?mode=LSD&mid=shm&sid1=101&oid=008&aid=0004652127\" class=\"issue\" data-clk=\"quickarticle\">[부꾸미]4년만에 30억 번 30대男…그가 \\'팔란티어\\'에 반한 이유</a></div>\\n<div data-officename=\"주간동아\"><a href=\"https://news.naver.com/main/read.naver?mode=LSD&mid=shm&sid1=101&oid=037&aid=0000029815\" class=\"issue\" data-clk=\"quickarticle\">“노동조합이 왜 한미훈련 반대?” 공기업 ‘MZ세대 노조’ 새바람</a></div>\\n<div data-officename=\"MBN\"><a href=\"https://news.naver.com/main/read.naver?mode=LSD&mid=shm&sid1=103&oid=057&aid=0001611972\" class=\"issue\" data-clk=\"quickarticle\">뉴스타파 \"이수만 해외재산 은닉 의혹\"…SM \"아버지가 적법하게 설립\"</a></div>\\n<div data-officename=\"디지털데일리\"><a href=\"https://news.naver.com/main/read.naver?mode=LSD&mid=shm&sid1=105&oid=138&aid=0002111127\" class=\"issue\" data-clk=\"quickarticle\">[국감2021] 편한 만큼 오류도 증가… 5년간 간편 송금으로 잘못 보낸 돈 130억원</a></div>\\n<div data-officename=\"매일경제\"><a href=\"https://news.naver.com/main/read.naver?mode=LSD&mid=shm&sid1=101&oid=009&aid=0004859982\" class=\"issue\" data-clk=\"quickarticle\">\"아파트 매물 10만개 쏟아지게 할 방법 있다\"…전문가 해법 들어보니</a></div>\\n<div data-officename=\"파이낸셜뉴스\"><a href=\"https://news.naver.com/main/read.naver?mode=LSD&mid=shm&sid1=101&oid=014&aid=0004718113\" class=\"issue\" data-clk=\"quickarticle\">[속보] 코스피 0.70% 하락한 2998.17 출발</a></div>\\n<div data-officename=\"한국경제TV\"><a href=\"https://news.naver.com/main/read.naver?mode=LSD&mid=shm&sid1=101&oid=215&aid=0000988228\" class=\"issue\" data-clk=\"quickarticle\">[속보] 코스피, 반년 만에 장중 3,000선 붕괴</a></div>\\n<div data-officename=\"JTBC\"><a href=\"https://news.naver.com/main/read.naver?mode=LSD&mid=shm&sid1=100&oid=437&aid=0000277524\" class=\"issue\" data-clk=\"quickarticle\">이재명, 대장동 의혹 유감 표명 \"살피고 살폈지만 부족했다\"</a></div>\\n<div data-officename=\"매경이코노미\"><a href=\"https://news.naver.com/main/read.naver?mode=LSD&mid=shm&sid1=101&oid=024&aid=0000070806\" class=\"issue\" data-clk=\"quickarticle\">요즘 뜨는 명품 플랫폼 업계, 불법·허위광고 놓고 논란</a></div>\\n<div data-officename=\"신동아\"><a href=\"https://news.naver.com/main/read.naver?mode=LSD&mid=shm&sid1=100&oid=262&aid=0000014833\" class=\"issue\" data-clk=\"quickarticle\">‘성남시장’ 이재명과 경기동부-한총련의 기막힌 연결고리</a></div>\\n<div data-officename=\"이코노미스트\"><a href=\"https://news.naver.com/main/read.naver?mode=LSD&mid=shm&sid1=101&oid=243&aid=0000016826\" class=\"issue\" data-clk=\"quickarticle\">‘신세계급’ 처우라던 스타벅스 직원들, 왜 ‘트럭시위’ 나서나</a></div>\\n<div data-officename=\"조선비즈\"><a href=\"https://news.naver.com/main/read.naver?mode=LSD&mid=shm&sid1=105&oid=366&aid=0000764580\" class=\"issue\" data-clk=\"quickarticle\">“이통사에 광고비 ‘갑질’ 애플, 법인세 최대 550억원 추징 가능”</a></div>\\n<div data-officename=\"미디어오늘\"><a href=\"https://news.naver.com/main/read.naver?mode=LSD&mid=shm&sid1=102&oid=006&aid=0000109947\" class=\"issue\" data-clk=\"quickarticle\">쏟아지는 \\'위드 코로나\\' 보도가 말하지 않는 것들</a></div>\\n<div data-officename=\"시사IN\"><a href=\"https://news.naver.com/main/read.naver?mode=LSD&mid=shm&sid1=103&oid=308&aid=0000029514\" class=\"issue\" data-clk=\"quickarticle\">난리난〈오징어게임〉, 한국 드라마 넷플릭스서 날아 오를까</a></div>\\n<div data-officename=\"한겨레21\"><a href=\"https://news.naver.com/main/read.naver?mode=LSD&mid=shm&sid1=103&oid=036&aid=0000045453\" class=\"issue\" data-clk=\"quickarticle\">여자라면 팀 스포츠</a></div>\\n<div data-officename=\"매일신문\"><a href=\"https://news.naver.com/main/read.naver?mode=LSD&mid=shm&sid1=101&oid=088&aid=0000724239\" class=\"issue\" data-clk=\"quickarticle\">文정부 5년 부동산 정책 실패…\"국민 재산세 폭증\"</a></div>\\n<div data-officename=\"뉴시스\"><a href=\"https://news.naver.com/main/read.naver?mode=LSD&mid=shm&sid1=101&oid=003&aid=0010750585\" class=\"issue\" data-clk=\"quickarticle\">반도체 시장, 겨울이 오고 있나…비관론 \\'일파만파\\'</a></div>\\n<div data-officename=\"뉴스1\"><a href=\"https://news.naver.com/main/read.naver?mode=LSD&mid=shm&sid1=101&oid=421&aid=0005636884\" class=\"issue\" data-clk=\"quickarticle\">코스피, 6개월만에 3000선 무너져…1% 하락 2980선(2보)</a></div>\\n<div data-officename=\"일다\"><a href=\"https://news.naver.com/main/read.naver?mode=LSD&mid=shm&sid1=102&oid=007&aid=0000006908\" class=\"issue\" data-clk=\"quickarticle\">“이 감정들은 사소하지 않다” 비백인 여성의 문학하기</a></div>\\n<div data-officename=\"YTN\"><a href=\"https://news.naver.com/main/read.naver?mode=LSD&mid=shm&sid1=100&oid=052&aid=0001648215\" class=\"issue\" data-clk=\"quickarticle\">[속보] 北, 오늘 \\'함정 간 핫라인\\' 국제상선공통망 호출도 응답</a></div>\\n<div data-officename=\"헬스조선\"><a href=\"https://news.naver.com/main/read.naver?mode=LSD&mid=shm&sid1=103&oid=346&aid=0000044774\" class=\"issue\" data-clk=\"quickarticle\">\\'걷는 방법\\'만 바꿔도 성기능 향상된다</a></div>\\n<div data-officename=\"세계일보\"><a href=\"https://news.naver.com/main/read.naver?mode=LSD&mid=shm&sid1=103&oid=022&aid=0003625166\" class=\"issue\" data-clk=\"quickarticle\">오징어 게임, 기생충, 킹덤… 해외에서 더 열광하는 이유는 [데스크픽]</a></div>\\n<div data-officename=\"동아사이언스\"><a href=\"https://news.naver.com/main/read.naver?mode=LSD&mid=shm&sid1=105&oid=584&aid=0000016186\" class=\"issue\" data-clk=\"quickarticle\">올해 노벨생리의학상, 온도와 압력 느끼는 인간의 체감 비밀 밝힌 과학자들 수상(종합)</a></div>\\n<div data-officename=\"국민일보\"><a href=\"https://news.naver.com/main/read.naver?mode=LSD&mid=shm&sid1=102&oid=005&aid=0001474552\" class=\"issue\" data-clk=\"quickarticle\">뜯어보니 곳곳에 핵심 단서… 녹취파일 갈수록 파괴력</a></div>\\n<div data-officename=\"뉴스타파\"><a href=\"https://news.naver.com/main/read.naver?mode=LSD&mid=shm&sid1=102&oid=607&aid=0000000902\" class=\"issue\" data-clk=\"quickarticle\">비자금 의혹의 주인공들...전경환과 박연차</a></div>\\n<div data-officename=\"한경비즈니스\"><a href=\"https://news.naver.com/main/read.naver?mode=LSD&mid=shm&sid1=101&oid=050&aid=0000058662\" class=\"issue\" data-clk=\"quickarticle\">‘취임 1년’ 정의선號…위기 뚫고 새 중흥기 맞이</a></div>\\n<div data-officename=\"한국경제\"><a href=\"https://news.naver.com/main/read.naver?mode=LSD&mid=shm&sid1=101&oid=015&aid=0004611958\" class=\"issue\" data-clk=\"quickarticle\">국민지원금 다 썼더니 날아든 희소식…10만원 또 나온다</a></div>\\n<div data-officename=\"코리아중앙데일리\"><a href=\"https://news.naver.com/main/read.naver?mode=LSD&mid=shm&sid1=100&oid=640&aid=0000016781\" class=\"issue\" data-clk=\"quickarticle\">Hotlines with North Korea are working again</a></div>\\n<div data-officename=\"여성신문\"><a href=\"https://news.naver.com/main/read.naver?mode=LSD&mid=shm&sid1=104&oid=310&aid=0000090997\" class=\"issue\" data-clk=\"quickarticle\">페북·인스타그램·왓츠앱 6시간 \\'먹통\\'</a></div>\\n<div data-officename=\"코리아헤럴드\"><a href=\"https://news.naver.com/main/read.naver?mode=LSD&mid=shm&sid1=104&oid=044&aid=0000231151\" class=\"issue\" data-clk=\"quickarticle\">[Feature] AI job interviews are booming, but doubts linger</a></div>\\n<div data-officename=\"더팩트\"><a href=\"https://news.naver.com/main/read.naver?mode=LSD&mid=shm&sid1=102&oid=629&aid=0000108969\" class=\"issue\" data-clk=\"quickarticle\">임종헌, 자신에 3억 손배 청구한 \\'물의야기 법관\\' 만난다</a></div>\\n<div data-officename=\"동아일보\"><a href=\"https://news.naver.com/main/read.naver?mode=LSD&mid=shm&sid1=100&oid=020&aid=0003385177\" class=\"issue\" data-clk=\"quickarticle\">檢 “유동규, 성남시민에 수천억 손해”… 이재명 “대장동 개발이익 5503억 환수”</a></div>\\n<div data-officename=\"데일리안\"><a href=\"https://news.naver.com/main/read.naver?mode=LSD&mid=shm&sid1=100&oid=119&aid=0002534941\" class=\"issue\" data-clk=\"quickarticle\">[데일리안 여론조사] 후보 적합도 이재명 29.1%, 윤석열 25.1%, 홍준표 15.1%…\\'부동층\\' 44.9%</a></div>\\n<div data-officename=\"TV조선\"><a href=\"https://news.naver.com/main/read.naver?mode=LSD&mid=shm&sid1=100&oid=448&aid=0000340631\" class=\"issue\" data-clk=\"quickarticle\">이재명, 유동규 구속에 \"관리책임 제게\"…野 \"정치경제공동체\"</a></div>\\n<div data-officename=\"시사저널\"><a href=\"https://news.naver.com/main/read.naver?mode=LSD&mid=shm&sid1=102&oid=586&aid=0000029599\" class=\"issue\" data-clk=\"quickarticle\">박영수, 친인척 김만배 돈 수수 의혹에 \"전혀 몰랐던 일\"</a></div>\\n<div data-officename=\"서울경제\"><a href=\"https://news.naver.com/main/read.naver?mode=LSD&mid=shm&sid1=104&oid=011&aid=0003969081\" class=\"issue\" data-clk=\"quickarticle\">\"10월 역사적 자산폭락 온다\"···부자 되려면 \\'이걸 사라\\'</a></div>\\n<div data-officename=\"주간경향\"><a href=\"https://news.naver.com/main/read.naver?mode=LSD&mid=shm&sid1=101&oid=033&aid=0000043133\" class=\"issue\" data-clk=\"quickarticle\">[IT칼럼]유토피아와 디스토피아를 결정하는 것</a></div>\\n<div data-officename=\"MBC\"><a href=\"https://news.naver.com/main/read.naver?mode=LSD&mid=shm&sid1=102&oid=214&aid=0001151861\" class=\"issue\" data-clk=\"quickarticle\">수사 칼끝은 김만배로‥윗선 개입 밝혀낼까</a></div>\\n<div data-officename=\"주간조선\"><a href=\"https://news.naver.com/main/read.naver?mode=LSD&mid=shm&sid1=101&oid=053&aid=0000029756\" class=\"issue\" data-clk=\"quickarticle\">‘인플레이션 해결사’ 폴 볼커, 달러를 소생시키다</a></div>\\n<div data-officename=\"KBS\"><a href=\"https://news.naver.com/main/read.naver?mode=LSD&mid=shm&sid1=102&oid=056&aid=0011131333\" class=\"issue\" data-clk=\"quickarticle\">오늘부터 청소년 접종 사전 예약…“미접종자 불이익 없는 분위기 만들어야”</a></div>\\n<div data-officename=\"전자신문\"><a href=\"https://news.naver.com/main/read.naver?mode=LSD&mid=shm&sid1=105&oid=030&aid=0002973171\" class=\"issue\" data-clk=\"quickarticle\">세종텔레콤 “5G특화망 토털 솔루션 제공”...6개 전문기업과 협력</a></div>\\n<div data-officename=\"헤럴드경제\"><a href=\"https://news.naver.com/main/read.naver?mode=LSD&mid=shm&sid1=101&oid=016&aid=0001894975\" class=\"issue\" data-clk=\"quickarticle\">[속보] 코스피, 장중 3000선 붕괴</a></div>\\n<div data-officename=\"월간산\"><a href=\"https://news.naver.com/main/read.naver?mode=LSD&mid=shm&sid1=103&oid=094&aid=0000009426\" class=\"issue\" data-clk=\"quickarticle\">설악 35km 걷고, 이제 대간 완주까지 단 한 걸음!</a></div>\\n<div data-officename=\"부산일보\"><a href=\"https://news.naver.com/main/read.naver?mode=LSD&mid=shm&sid1=101&oid=082&aid=0001121837\" class=\"issue\" data-clk=\"quickarticle\">[속보] 인스타그램·페이스북 세계적 오류 현상 확인</a></div>\\n<div data-officename=\"오마이뉴스\"><a href=\"https://news.naver.com/main/read.naver?mode=LSD&mid=shm&sid1=102&oid=047&aid=0002328356\" class=\"issue\" data-clk=\"quickarticle\">대장동 스캔들, 근본 질문이 빠졌다 [목수정의 바스티유 광장]</a></div>\\n<div data-officename=\"경향신문\"><a href=\"https://news.naver.com/main/read.naver?mode=LSD&mid=shm&sid1=101&oid=032&aid=0003101681\" class=\"issue\" data-clk=\"quickarticle\">[속보]코스피, 6개월 만에 장중 3000선 붕괴</a></div>\\n<div data-officename=\"비즈니스워치\"><a href=\"https://news.naver.com/main/read.naver?mode=LSD&mid=shm&sid1=101&oid=648&aid=0000004051\" class=\"issue\" data-clk=\"quickarticle\">\\'꿈의 2차전지\\' 전고체 배터리…해뜰날 다가온다</a></div>\\n<div data-officename=\"채널A\"><a href=\"https://news.naver.com/main/read.naver?mode=LSD&mid=shm&sid1=102&oid=449&aid=0000215774\" class=\"issue\" data-clk=\"quickarticle\">오늘부터 16~17세 첫 접종·고령층 부스터샷 예약</a></div>\\n<div data-officename=\"아이뉴스24\"><a href=\"https://news.naver.com/main/read.naver?mode=LSD&mid=shm&sid1=101&oid=031&aid=0000627020\" class=\"issue\" data-clk=\"quickarticle\">[효성의 불편한 동행] ① 日 전범기업 제품 17년째 \\'판매 대행\\'</a></div>\\n<div data-officename=\"이데일리\"><a href=\"https://news.naver.com/main/read.naver?mode=LSD&mid=shm&sid1=101&oid=018&aid=0005051808\" class=\"issue\" data-clk=\"quickarticle\">김 총리 “청소년 예방접종 예약 시작…학부모 걱정 덜어드릴 것”(상보)</a></div>\\n<div data-officename=\"아시아경제\"><a href=\"https://news.naver.com/main/read.naver?mode=LSD&mid=shm&sid1=100&oid=277&aid=0004978141\" class=\"issue\" data-clk=\"quickarticle\">현역장교 윤석열 캠프 무더기 참여… \"軍 형법 위반\"</a></div>\\n<div data-officename=\"연합뉴스TV\"><a href=\"https://news.naver.com/main/read.naver?mode=LSD&mid=shm&sid1=101&oid=422&aid=0000507527\" class=\"issue\" data-clk=\"quickarticle\">어젯밤 9시까지 1,515명…하루 1,700명대 예상</a></div>\\n<div data-officename=\"문화일보\"><a href=\"https://news.naver.com/main/read.naver?mode=LSD&mid=shm&sid1=100&oid=021&aid=0002487543\" class=\"issue\" data-clk=\"quickarticle\">“軍 급식 김치에 식칼 개구리 나와도… 군납 또 계약”</a></div>\\n<div data-officename=\"디지털타임스\"><a href=\"https://news.naver.com/main/read.naver?mode=LSD&mid=shm&sid1=100&oid=029&aid=0002699272\" class=\"issue\" data-clk=\"quickarticle\">윤석열의 희한한 확신…\"약탈정권 마수 뻗쳐 위장당원 엄청 가입\"</a></div>\\n<div data-officename=\"코메디닷컴\"><a href=\"https://news.naver.com/main/read.naver?mode=LSD&mid=shm&sid1=103&oid=296&aid=0000052083\" class=\"issue\" data-clk=\"quickarticle\">나이 들면 혈압 높아지는 이유.. 위험도 ‘1순위’는?</a></div>\\n<div data-officename=\"지디넷코리아\"><a href=\"https://news.naver.com/main/read.naver?mode=LSD&mid=shm&sid1=105&oid=092&aid=0002235182\" class=\"issue\" data-clk=\"quickarticle\">페이스북 먹통 사태…\\'오징어 게임\\' 패러디 빛났다</a></div>\\n<div data-officename=\"머니S\"><a href=\"https://news.naver.com/main/read.naver?mode=LSD&mid=shm&sid1=101&oid=417&aid=0000740285\" class=\"issue\" data-clk=\"quickarticle\">\"아차, 터치 실수\"… 간편송금으로 잘못 보낸 돈, 5년 동안 130억원</a></div>\\n<div data-officename=\"프레시안\"><a href=\"https://news.naver.com/main/read.naver?mode=LSD&mid=shm&sid1=102&oid=002&aid=0002212781\" class=\"issue\" data-clk=\"quickarticle\">\\'노동후진국\\' 한국에서 ILO 사무총장에 도전한 강경화 전 장관에게</a></div>\\n<div data-officename=\"중앙일보\"><a href=\"https://news.naver.com/main/read.naver?mode=LSD&mid=shm&sid1=100&oid=025&aid=0003139938\" class=\"issue\" data-clk=\"quickarticle\">갈비 사먹고 車과태료 내고…윤미향 후원금 1억 이렇게 썼다</a></div>\\n<div data-officename=\"노컷뉴스\"><a href=\"https://news.naver.com/main/read.naver?mode=LSD&mid=shm&sid1=102&oid=079&aid=0003559051\" class=\"issue\" data-clk=\"quickarticle\">[단독]\\'재조사 하라\\' 터져나오는데 침묵하는 국민대…TK출신 재단 영향?</a></div>\\n<div data-officename=\"블로터\"><a href=\"https://news.naver.com/main/read.naver?mode=LSD&mid=shm&sid1=105&oid=293&aid=0000036501\" class=\"issue\" data-clk=\"quickarticle\">국감 앞두고 임혜숙 장관이 여민수·한성숙 대표 만난 사연은?</a></div>\\n<div data-officename=\"강원일보\"><a href=\"https://news.naver.com/main/read.naver?mode=LSD&mid=shm&sid1=100&oid=087&aid=0000862787\" class=\"issue\" data-clk=\"quickarticle\">[속보]김총리, 백신패스 논란에 \"미접종자 차별이나 소외 없도록 해야”</a></div>\\n<div data-officename=\"SBS\"><a href=\"https://news.naver.com/main/read.naver?mode=LSD&mid=shm&sid1=102&oid=055&aid=0000925095\" class=\"issue\" data-clk=\"quickarticle\">오늘부터 16~17세 접종 예약…\"기저질환 있으면 맞아야\"</a></div>\\n<div data-officename=\"조선일보\"><a href=\"https://news.naver.com/main/read.naver?mode=LSD&mid=shm&sid1=100&oid=023&aid=0003644249\" class=\"issue\" data-clk=\"quickarticle\">유동규 “사람 없는 곳서 보자”… 정영학 녹취 나온 노래방서 무슨 일이</a></div> </div> </div> <div class=\"direct_area\"> <a href=\"http://news.naver.com/\" class=\"link_news\" data-clk=\"newshome\">네이버뉴스</a>\\n<a href=\"http://entertain.naver.com/home\" class=\"link_direct\" data-clk=\"entertainment\">연예</a>\\n<a href=\"http://sports.news.naver.com/\" class=\"link_direct\" data-clk=\"sports\">스포츠</a>\\n<a href=\"http://news.naver.com/main/main.nhn?mode=LSD&mid=shm&sid1=101\" class=\"link_direct\" data-clk=\"economy\">경제</a> </div> </div>        <div id=\"NM_NEWSSTAND_TITLE\" class=\"group_title\" data-clk-prefix=\"nsd\"> <a href=\"http://newsstand.naver.com/\" class=\"link_newsstand\" data-clk=\"title\" target=\"_blank\">뉴스스탠드</a> <div id=\"NM_NEWSSTAND_data_buttons\" class=\"sort_area\">  <a href=\"#\" role=\"button\" data-type=\"my\" data-clk=\"my\" class=\"btn_sort\">구독한 언론사</a> <a href=\"#\" role=\"button\" data-type=\"all\" data-clk=\"all\" class=\"btn_sort sort_on\">전체언론사</a>  </div> <div id=\"NM_NEWSSTAND_view_buttons\" class=\"set_area\">  <a href=\"#\" role=\"button\" data-type=\"list\" data-clk=\"articleview\" class=\"btn_set\"> <i class=\"ico_list\"><span class=\"blind\">리스트형</span></i></a> <a href=\"#\" role=\"button\" data-type=\"thumb\" data-clk=\"pressview\" class=\"btn_set set_on\"> <i class=\"ico_tile\"><span class=\"blind\">썸네일형</span></i></a>  <a href=\"http://newsstand.naver.com/config.html\" class=\"btn_set\" data-clk=\"set\" target=\"_blank\"> <i class=\"ico_set\"><span class=\"blind\">설정</span></i></a> </div> </div> <div id=\"NM_NEWSSTAND_VIEW_CONTAINER\" style=\"position:relative\"> <div id=\"NM_NEWSSTAND_DEFAULT_LIST\" class=\"group_news\" style=\"display:none\" data-clk-prefix=\"nsd_all\"> <a href=\"#\" role=\"button\" class=\"pm_btn_prev_l _NM_NEWSSTAND_LIST_prev_btn\" data-clk-custom=\"prev\"><i class=\"ico_btn\"><span class=\"blind\">이전</span></i></a> <a href=\"#\" role=\"button\" class=\"pm_btn_next_l _NM_NEWSSTAND_LIST_next_btn\" data-clk-custom=\"next\"><i class=\"ico_btn\"><span class=\"blind\">다음</span></i></a> <div class=\"list_view\"> <div class=\"option_area\"> <div class=\"list_option_wrap\"> <ul class=\"list_option\"> <li class=\"option_item\" data-cateid=\"ct2\"><a href=\"#\" class=\"option\" data-clk=\"daei\">종합/경제</a></li> <li class=\"option_item\" data-cateid=\"ct3\"><a href=\"#\" class=\"option\" data-clk=\"dtvcom\">방송/통신</a></li> <li class=\"option_item\" data-cateid=\"ct4\"><a href=\"#\" class=\"option\" data-clk=\"dit\">IT</a></li> <li class=\"option_item\" data-cateid=\"ct5\"><a href=\"#\" class=\"option\" data-clk=\"deng\">영자지</a></li> <li class=\"option_item\" data-cateid=\"ct6\"><a href=\"#\" class=\"option\" data-clk=\"dsporent\">스포츠/연예</a></li> <li class=\"option_item\" data-cateid=\"ct7\"><a href=\"#\" class=\"option\" data-clk=\"dmagtec\">매거진/전문지</a></li> <li class=\"option_item\" data-cateid=\"ct8\"><a href=\"#\" class=\"option\" data-clk=\"dloc\">지역</a></li> </ul> </div> </div> <div class=\"_NM_NEWSSTAND_ARTICLE_CONTAINER\" data-clk-sub=\"*a\"></div> </div> <div class=\"ly_popup NM_NEWSSTAND_POPUP NM_NEWSSTAND_invalid\" style=\"display:none\" data-clk-sub=\"*a\"> <a href=\"#\" role=\"button\" class=\"btn_close NM_NEWSSTAND_POPUP_CLOSE\"><i class=\"ico_close\"></i><span class=\"blind\">닫기</span></a> <p class=\"popup_msg\">해당 언론사 사정으로 접근이 제한됩니다.</p> <div class=\"popup_btn\"> <a href=\"#\" role=\"button\" class=\"btn_confirm NM_NEWSSTAND_POPUP_CLOSE\">확인</a> </div> </div> <div class=\"ly_popup NM_NEWSSTAND_POPUP NM_NEWSSTAND_undescribe_confirm\" style=\"display:none\" data-clk-sub=\"*a\"> <a href=\"#\" role=\"button\" class=\"btn_close NM_NEWSSTAND_POPUP_CLOSE\" data-clk=\"usclose\"><i class=\"ico_close\"></i><span class=\"blind\">닫기</span></a> <p class=\"popup_msg\"><strong class=\"NM_NEWSSTAND_POPUP_PNAME\"></strong>을(를)<br>구독해지 하시겠습니까?</p> <div class=\"popup_btn\"> <a href=\"#\" role=\"button\" class=\"btn_confirm NM_NEWSSTAND_POPUP_CONFIRM\" data-clk=\"usdone\">확인</a> <a href=\"#\" role=\"button\" class=\"btn_confirm NM_NEWSSTAND_POPUP_CLOSE\" data-clk=\"uscancel\">취소</a> </div> </div> <div class=\"ly_toast NM_NEWSSTAND_TOAST\" style=\"display:none\"> <p class=\"toast_msg\">구독한 언론사에 추가되었습니다.</p> </div> </div>   <div id=\"NM_NEWSSTAND_DEFAULT_THUMB\" class=\"group_news\" style=\"display:block\" data-clk-prefix=\"nsd_all\"> <a href=\"#\" role=\"button\" class=\"pm_btn_prev_l _NM_UI_PAGE_PREV\" data-clk-custom=\"prev\"><i class=\"ico_btn\"><span class=\"blind\">이전</span></i></a> <a href=\"#\" role=\"button\" class=\"pm_btn_next_l _NM_UI_PAGE_NEXT\" data-clk-custom=\"next\"><i class=\"ico_btn\"><span class=\"blind\">다음</span></i></a> <div class=\"_NM_UI_PAGE_CONTAINER\" style=\"height:100%;overflow:hidden\" data-clk-sub=\"*p\">   <div style=\"width: 750px; float: left;\">\\n<div class=\"tile_view\">\\n<div class=\"frame_area\">\\n<i class=\"line to_right1\"></i>\\n<i class=\"line to_right2\"></i>\\n<i class=\"line to_right3\"></i>\\n<i class=\"line to_bottom1\"></i>\\n<i class=\"line to_bottom2\"></i>\\n<i class=\"line to_bottom3\"></i>\\n<i class=\"line to_bottom4\"></i>\\n<i class=\"line to_bottom5\"></i>\\n</div>\\n<div class=\"thumb_area\">\\n<div\\nclass=\"thumb_box _NM_NEWSSTAND_THUMB _NM_NEWSSTAND_THUMB_press_valid\"\\ndata-pid=\"016\"\\n>\\n<a href=\"#\" class=\"thumb\">\\n<img\\nsrc=\"https://s.pstatic.net/static/newsstand/2020/logo/light/0604/016.png\"\\nheight=\"20\"\\nalt=\"헤럴드경제\"\\nclass=\"news_logo\"\\n/>\\n<span class=\"thumb_dim\"></span\\n></a>\\n<div class=\"popup_wrap\">\\n<a\\nhref=\"#\"\\nrole=\"button\"\\nclass=\"btn_popup _NM_NEWSSTAND_THUMB_subscribe_press\"\\ndata-pid=\"016\"\\ndata-clk=\"sub\"\\n>구독</a\\n>\\n<a\\nhref=\"#\"\\nrole=\"button\"\\nclass=\"btn_popup _NM_NEWSSTAND_THUMB_unsubscribe_press\"\\ndata-pid=\"016\"\\ndata-clk=\"unsub\"\\n>해지</a\\n>\\n<a\\nhref=\"http://newsstand.naver.com/?list=&pcode=016\"\\ntarget=\"_blank\"\\nclass=\"btn_popup\"\\ndata-clk=\"logo\"\\ndata-pid=\"016\"\\n>기사보기</a\\n>\\n</div>\\n</div>\\n<div\\nclass=\"thumb_box _NM_NEWSSTAND_THUMB _NM_NEWSSTAND_THUMB_press_valid\"\\ndata-pid=\"326\"\\n>\\n<a href=\"#\" class=\"thumb\">\\n<img\\nsrc=\"https://s.pstatic.net/static/newsstand/2020/logo/light/0604/326.png\"\\nheight=\"20\"\\nalt=\"KBS World\"\\nclass=\"news_logo\"\\n/>\\n<span class=\"thumb_dim\"></span\\n></a>\\n<div class=\"popup_wrap\">\\n<a\\nhref=\"#\"\\nrole=\"button\"\\nclass=\"btn_popup _NM_NEWSSTAND_THUMB_subscribe_press\"\\ndata-pid=\"326\"\\ndata-clk=\"sub\"\\n>구독</a\\n>\\n<a\\nhref=\"#\"\\nrole=\"button\"\\nclass=\"btn_popup _NM_NEWSSTAND_THUMB_unsubscribe_press\"\\ndata-pid=\"326\"\\ndata-clk=\"unsub\"\\n>해지</a\\n>\\n<a\\nhref=\"http://newsstand.naver.com/?list=&pcode=326\"\\ntarget=\"_blank\"\\nclass=\"btn_popup\"\\ndata-clk=\"logo\"\\ndata-pid=\"326\"\\n>기사보기</a\\n>\\n</div>\\n</div>\\n<div\\nclass=\"thumb_box _NM_NEWSSTAND_THUMB _NM_NEWSSTAND_THUMB_press_valid\"\\ndata-pid=\"022\"\\n>\\n<a href=\"#\" class=\"thumb\">\\n<img\\nsrc=\"https://s.pstatic.net/static/newsstand/2020/logo/light/0604/022.png\"\\nheight=\"20\"\\nalt=\"세계일보\"\\nclass=\"news_logo\"\\n/>\\n<span class=\"thumb_dim\"></span\\n></a>\\n<div class=\"popup_wrap\">\\n<a\\nhref=\"#\"\\nrole=\"button\"\\nclass=\"btn_popup _NM_NEWSSTAND_THUMB_subscribe_press\"\\ndata-pid=\"022\"\\ndata-clk=\"sub\"\\n>구독</a\\n>\\n<a\\nhref=\"#\"\\nrole=\"button\"\\nclass=\"btn_popup _NM_NEWSSTAND_THUMB_unsubscribe_press\"\\ndata-pid=\"022\"\\ndata-clk=\"unsub\"\\n>해지</a\\n>\\n<a\\nhref=\"http://newsstand.naver.com/?list=&pcode=022\"\\ntarget=\"_blank\"\\nclass=\"btn_popup\"\\ndata-clk=\"logo\"\\ndata-pid=\"022\"\\n>기사보기</a\\n>\\n</div>\\n</div>\\n<div\\nclass=\"thumb_box _NM_NEWSSTAND_THUMB _NM_NEWSSTAND_THUMB_press_valid\"\\ndata-pid=\"076\"\\n>\\n<a href=\"#\" class=\"thumb\">\\n<img\\nsrc=\"https://s.pstatic.net/static/newsstand/2020/logo/light/0604/076.png\"\\nheight=\"20\"\\nalt=\"스포츠조선\"\\nclass=\"news_logo\"\\n/>\\n<span class=\"thumb_dim\"></span\\n></a>\\n<div class=\"popup_wrap\">\\n<a\\nhref=\"#\"\\nrole=\"button\"\\nclass=\"btn_popup _NM_NEWSSTAND_THUMB_subscribe_press\"\\ndata-pid=\"076\"\\ndata-clk=\"sub\"\\n>구독</a\\n>\\n<a\\nhref=\"#\"\\nrole=\"button\"\\nclass=\"btn_popup _NM_NEWSSTAND_THUMB_unsubscribe_press\"\\ndata-pid=\"076\"\\ndata-clk=\"unsub\"\\n>해지</a\\n>\\n<a\\nhref=\"http://newsstand.naver.com/?list=&pcode=076\"\\ntarget=\"_blank\"\\nclass=\"btn_popup\"\\ndata-clk=\"logo\"\\ndata-pid=\"076\"\\n>기사보기</a\\n>\\n</div>\\n</div>\\n<div\\nclass=\"thumb_box _NM_NEWSSTAND_THUMB _NM_NEWSSTAND_THUMB_press_valid\"\\ndata-pid=\"028\"\\n>\\n<a href=\"#\" class=\"thumb\">\\n<img\\nsrc=\"https://s.pstatic.net/static/newsstand/2020/logo/light/0604/028.png\"\\nheight=\"20\"\\nalt=\"한겨레\"\\nclass=\"news_logo\"\\n/>\\n<span class=\"thumb_dim\"></span\\n></a>\\n<div class=\"popup_wrap\">\\n<a\\nhref=\"#\"\\nrole=\"button\"\\nclass=\"btn_popup _NM_NEWSSTAND_THUMB_subscribe_press\"\\ndata-pid=\"028\"\\ndata-clk=\"sub\"\\n>구독</a\\n>\\n<a\\nhref=\"#\"\\nrole=\"button\"\\nclass=\"btn_popup _NM_NEWSSTAND_THUMB_unsubscribe_press\"\\ndata-pid=\"028\"\\ndata-clk=\"unsub\"\\n>해지</a\\n>\\n<a\\nhref=\"http://newsstand.naver.com/?list=&pcode=028\"\\ntarget=\"_blank\"\\nclass=\"btn_popup\"\\ndata-clk=\"logo\"\\ndata-pid=\"028\"\\n>기사보기</a\\n>\\n</div>\\n</div>\\n<div\\nclass=\"thumb_box _NM_NEWSSTAND_THUMB _NM_NEWSSTAND_THUMB_press_valid\"\\ndata-pid=\"021\"\\n>\\n<a href=\"#\" class=\"thumb\">\\n<img\\nsrc=\"https://s.pstatic.net/static/newsstand/2020/logo/light/0604/021.png\"\\nheight=\"20\"\\nalt=\"문화일보\"\\nclass=\"news_logo\"\\n/>\\n<span class=\"thumb_dim\"></span\\n></a>\\n<div class=\"popup_wrap\">\\n<a\\nhref=\"#\"\\nrole=\"button\"\\nclass=\"btn_popup _NM_NEWSSTAND_THUMB_subscribe_press\"\\ndata-pid=\"021\"\\ndata-clk=\"sub\"\\n>구독</a\\n>\\n<a\\nhref=\"#\"\\nrole=\"button\"\\nclass=\"btn_popup _NM_NEWSSTAND_THUMB_unsubscribe_press\"\\ndata-pid=\"021\"\\ndata-clk=\"unsub\"\\n>해지</a\\n>\\n<a\\nhref=\"http://newsstand.naver.com/?list=&pcode=021\"\\ntarget=\"_blank\"\\nclass=\"btn_popup\"\\ndata-clk=\"logo\"\\ndata-pid=\"021\"\\n>기사보기</a\\n>\\n</div>\\n</div>\\n<div\\nclass=\"thumb_box _NM_NEWSSTAND_THUMB _NM_NEWSSTAND_THUMB_press_valid\"\\ndata-pid=\"030\"\\n>\\n<a href=\"#\" class=\"thumb\">\\n<img\\nsrc=\"https://s.pstatic.net/static/newsstand/2020/logo/light/0604/030.png\"\\nheight=\"20\"\\nalt=\"전자신문\"\\nclass=\"news_logo\"\\n/>\\n<span class=\"thumb_dim\"></span\\n></a>\\n<div class=\"popup_wrap\">\\n<a\\nhref=\"#\"\\nrole=\"button\"\\nclass=\"btn_popup _NM_NEWSSTAND_THUMB_subscribe_press\"\\ndata-pid=\"030\"\\ndata-clk=\"sub\"\\n>구독</a\\n>\\n<a\\nhref=\"#\"\\nrole=\"button\"\\nclass=\"btn_popup _NM_NEWSSTAND_THUMB_unsubscribe_press\"\\ndata-pid=\"030\"\\ndata-clk=\"unsub\"\\n>해지</a\\n>\\n<a\\nhref=\"http://newsstand.naver.com/?list=&pcode=030\"\\ntarget=\"_blank\"\\nclass=\"btn_popup\"\\ndata-clk=\"logo\"\\ndata-pid=\"030\"\\n>기사보기</a\\n>\\n</div>\\n</div>\\n<div\\nclass=\"thumb_box _NM_NEWSSTAND_THUMB _NM_NEWSSTAND_THUMB_press_valid\"\\ndata-pid=\"314\"\\n>\\n<a href=\"#\" class=\"thumb\">\\n<img\\nsrc=\"https://s.pstatic.net/static/newsstand/2020/logo/light/0604/314.png\"\\nheight=\"20\"\\nalt=\"스포츠동아\"\\nclass=\"news_logo\"\\n/>\\n<span class=\"thumb_dim\"></span\\n></a>\\n<div class=\"popup_wrap\">\\n<a\\nhref=\"#\"\\nrole=\"button\"\\nclass=\"btn_popup _NM_NEWSSTAND_THUMB_subscribe_press\"\\ndata-pid=\"314\"\\ndata-clk=\"sub\"\\n>구독</a\\n>\\n<a\\nhref=\"#\"\\nrole=\"button\"\\nclass=\"btn_popup _NM_NEWSSTAND_THUMB_unsubscribe_press\"\\ndata-pid=\"314\"\\ndata-clk=\"unsub\"\\n>해지</a\\n>\\n<a\\nhref=\"http://newsstand.naver.com/?list=&pcode=314\"\\ntarget=\"_blank\"\\nclass=\"btn_popup\"\\ndata-clk=\"logo\"\\ndata-pid=\"314\"\\n>기사보기</a\\n>\\n</div>\\n</div>\\n<div\\nclass=\"thumb_box _NM_NEWSSTAND_THUMB _NM_NEWSSTAND_THUMB_press_valid\"\\ndata-pid=\"081\"\\n>\\n<a href=\"#\" class=\"thumb\">\\n<img\\nsrc=\"https://s.pstatic.net/static/newsstand/2020/logo/light/0604/081.png\"\\nheight=\"20\"\\nalt=\"서울신문\"\\nclass=\"news_logo\"\\n/>\\n<span class=\"thumb_dim\"></span\\n></a>\\n<div class=\"popup_wrap\">\\n<a\\nhref=\"#\"\\nrole=\"button\"\\nclass=\"btn_popup _NM_NEWSSTAND_THUMB_subscribe_press\"\\ndata-pid=\"081\"\\ndata-clk=\"sub\"\\n>구독</a\\n>\\n<a\\nhref=\"#\"\\nrole=\"button\"\\nclass=\"btn_popup _NM_NEWSSTAND_THUMB_unsubscribe_press\"\\ndata-pid=\"081\"\\ndata-clk=\"unsub\"\\n>해지</a\\n>\\n<a\\nhref=\"http://newsstand.naver.com/?list=&pcode=081\"\\ntarget=\"_blank\"\\nclass=\"btn_popup\"\\ndata-clk=\"logo\"\\ndata-pid=\"081\"\\n>기사보기</a\\n>\\n</div>\\n</div>\\n<div\\nclass=\"thumb_box _NM_NEWSSTAND_THUMB _NM_NEWSSTAND_THUMB_press_valid\"\\ndata-pid=\"904\"\\n>\\n<a href=\"#\" class=\"thumb\">\\n<img\\nsrc=\"https://s.pstatic.net/static/newsstand/2020/logo/light/0604/904.png\"\\nheight=\"20\"\\nalt=\"JTBC\"\\nclass=\"news_logo\"\\n/>\\n<span class=\"thumb_dim\"></span\\n></a>\\n<div class=\"popup_wrap\">\\n<a\\nhref=\"#\"\\nrole=\"button\"\\nclass=\"btn_popup _NM_NEWSSTAND_THUMB_subscribe_press\"\\ndata-pid=\"904\"\\ndata-clk=\"sub\"\\n>구독</a\\n>\\n<a\\nhref=\"#\"\\nrole=\"button\"\\nclass=\"btn_popup _NM_NEWSSTAND_THUMB_unsubscribe_press\"\\ndata-pid=\"904\"\\ndata-clk=\"unsub\"\\n>해지</a\\n>\\n<a\\nhref=\"http://newsstand.naver.com/?list=&pcode=904\"\\ntarget=\"_blank\"\\nclass=\"btn_popup\"\\ndata-clk=\"logo\"\\ndata-pid=\"904\"\\n>기사보기</a\\n>\\n</div>\\n</div>\\n<div\\nclass=\"thumb_box _NM_NEWSSTAND_THUMB _NM_NEWSSTAND_THUMB_press_valid\"\\ndata-pid=\"055\"\\n>\\n<a href=\"#\" class=\"thumb\">\\n<img\\nsrc=\"https://s.pstatic.net/static/newsstand/2020/logo/light/0604/055.png\"\\nheight=\"20\"\\nalt=\"SBS\"\\nclass=\"news_logo\"\\n/>\\n<span class=\"thumb_dim\"></span\\n></a>\\n<div class=\"popup_wrap\">\\n<a\\nhref=\"#\"\\nrole=\"button\"\\nclass=\"btn_popup _NM_NEWSSTAND_THUMB_subscribe_press\"\\ndata-pid=\"055\"\\ndata-clk=\"sub\"\\n>구독</a\\n>\\n<a\\nhref=\"#\"\\nrole=\"button\"\\nclass=\"btn_popup _NM_NEWSSTAND_THUMB_unsubscribe_press\"\\ndata-pid=\"055\"\\ndata-clk=\"unsub\"\\n>해지</a\\n>\\n<a\\nhref=\"http://newsstand.naver.com/?list=&pcode=055\"\\ntarget=\"_blank\"\\nclass=\"btn_popup\"\\ndata-clk=\"logo\"\\ndata-pid=\"055\"\\n>기사보기</a\\n>\\n</div>\\n</div>\\n<div\\nclass=\"thumb_box _NM_NEWSSTAND_THUMB _NM_NEWSSTAND_THUMB_press_valid\"\\ndata-pid=\"215\"\\n>\\n<a href=\"#\" class=\"thumb\">\\n<img\\nsrc=\"https://s.pstatic.net/static/newsstand/2020/logo/light/0604/215.png\"\\nheight=\"20\"\\nalt=\"한국경제TV\"\\nclass=\"news_logo\"\\n/>\\n<span class=\"thumb_dim\"></span\\n></a>\\n<div class=\"popup_wrap\">\\n<a\\nhref=\"#\"\\nrole=\"button\"\\nclass=\"btn_popup _NM_NEWSSTAND_THUMB_subscribe_press\"\\ndata-pid=\"215\"\\ndata-clk=\"sub\"\\n>구독</a\\n>\\n<a\\nhref=\"#\"\\nrole=\"button\"\\nclass=\"btn_popup _NM_NEWSSTAND_THUMB_unsubscribe_press\"\\ndata-pid=\"215\"\\ndata-clk=\"unsub\"\\n>해지</a\\n>\\n<a\\nhref=\"http://newsstand.naver.com/?list=&pcode=215\"\\ntarget=\"_blank\"\\nclass=\"btn_popup\"\\ndata-clk=\"logo\"\\ndata-pid=\"215\"\\n>기사보기</a\\n>\\n</div>\\n</div>\\n<div\\nclass=\"thumb_box _NM_NEWSSTAND_THUMB _NM_NEWSSTAND_THUMB_press_valid\"\\ndata-pid=\"015\"\\n>\\n<a href=\"#\" class=\"thumb\">\\n<img\\nsrc=\"https://s.pstatic.net/static/newsstand/2020/logo/light/0604/015.png\"\\nheight=\"20\"\\nalt=\"한국경제\"\\nclass=\"news_logo\"\\n/>\\n<span class=\"thumb_dim\"></span\\n></a>\\n<div class=\"popup_wrap\">\\n<a\\nhref=\"#\"\\nrole=\"button\"\\nclass=\"btn_popup _NM_NEWSSTAND_THUMB_subscribe_press\"\\ndata-pid=\"015\"\\ndata-clk=\"sub\"\\n>구독</a\\n>\\n<a\\nhref=\"#\"\\nrole=\"button\"\\nclass=\"btn_popup _NM_NEWSSTAND_THUMB_unsubscribe_press\"\\ndata-pid=\"015\"\\ndata-clk=\"unsub\"\\n>해지</a\\n>\\n<a\\nhref=\"http://newsstand.naver.com/?list=&pcode=015\"\\ntarget=\"_blank\"\\nclass=\"btn_popup\"\\ndata-clk=\"logo\"\\ndata-pid=\"015\"\\n>기사보기</a\\n>\\n</div>\\n</div>\\n<div\\nclass=\"thumb_box _NM_NEWSSTAND_THUMB _NM_NEWSSTAND_THUMB_press_valid\"\\ndata-pid=\"079\"\\n>\\n<a href=\"#\" class=\"thumb\">\\n<img\\nsrc=\"https://s.pstatic.net/static/newsstand/2020/logo/light/0604/079.png\"\\nheight=\"20\"\\nalt=\"노컷뉴스\"\\nclass=\"news_logo\"\\n/>\\n<span class=\"thumb_dim\"></span\\n></a>\\n<div class=\"popup_wrap\">\\n<a\\nhref=\"#\"\\nrole=\"button\"\\nclass=\"btn_popup _NM_NEWSSTAND_THUMB_subscribe_press\"\\ndata-pid=\"079\"\\ndata-clk=\"sub\"\\n>구독</a\\n>\\n<a\\nhref=\"#\"\\nrole=\"button\"\\nclass=\"btn_popup _NM_NEWSSTAND_THUMB_unsubscribe_press\"\\ndata-pid=\"079\"\\ndata-clk=\"unsub\"\\n>해지</a\\n>\\n<a\\nhref=\"http://newsstand.naver.com/?list=&pcode=079\"\\ntarget=\"_blank\"\\nclass=\"btn_popup\"\\ndata-clk=\"logo\"\\ndata-pid=\"079\"\\n>기사보기</a\\n>\\n</div>\\n</div>\\n<div\\nclass=\"thumb_box _NM_NEWSSTAND_THUMB _NM_NEWSSTAND_THUMB_press_valid\"\\ndata-pid=\"073\"\\n>\\n<a href=\"#\" class=\"thumb\">\\n<img\\nsrc=\"https://s.pstatic.net/static/newsstand/up/2020/0708/nsd94830278.png\"\\nheight=\"20\"\\nalt=\"스포츠서울\"\\nclass=\"news_logo\"\\n/>\\n<span class=\"thumb_dim\"></span\\n></a>\\n<div class=\"popup_wrap\">\\n<a\\nhref=\"#\"\\nrole=\"button\"\\nclass=\"btn_popup _NM_NEWSSTAND_THUMB_subscribe_press\"\\ndata-pid=\"073\"\\ndata-clk=\"sub\"\\n>구독</a\\n>\\n<a\\nhref=\"#\"\\nrole=\"button\"\\nclass=\"btn_popup _NM_NEWSSTAND_THUMB_unsubscribe_press\"\\ndata-pid=\"073\"\\ndata-clk=\"unsub\"\\n>해지</a\\n>\\n<a\\nhref=\"http://newsstand.naver.com/?list=&pcode=073\"\\ntarget=\"_blank\"\\nclass=\"btn_popup\"\\ndata-clk=\"logo\"\\ndata-pid=\"073\"\\n>기사보기</a\\n>\\n</div>\\n</div>\\n<div\\nclass=\"thumb_box _NM_NEWSSTAND_THUMB _NM_NEWSSTAND_THUMB_press_valid\"\\ndata-pid=\"332\"\\n>\\n<a href=\"#\" class=\"thumb\">\\n<img\\nsrc=\"https://s.pstatic.net/static/newsstand/2020/logo/light/0604/332.png\"\\nheight=\"20\"\\nalt=\"국제신문\"\\nclass=\"news_logo\"\\n/>\\n<span class=\"thumb_dim\"></span\\n></a>\\n<div class=\"popup_wrap\">\\n<a\\nhref=\"#\"\\nrole=\"button\"\\nclass=\"btn_popup _NM_NEWSSTAND_THUMB_subscribe_press\"\\ndata-pid=\"332\"\\ndata-clk=\"sub\"\\n>구독</a\\n>\\n<a\\nhref=\"#\"\\nrole=\"button\"\\nclass=\"btn_popup _NM_NEWSSTAND_THUMB_unsubscribe_press\"\\ndata-pid=\"332\"\\ndata-clk=\"unsub\"\\n>해지</a\\n>\\n<a\\nhref=\"http://newsstand.naver.com/?list=&pcode=332\"\\ntarget=\"_blank\"\\nclass=\"btn_popup\"\\ndata-clk=\"logo\"\\ndata-pid=\"332\"\\n>기사보기</a\\n>\\n</div>\\n</div>\\n<div\\nclass=\"thumb_box _NM_NEWSSTAND_THUMB _NM_NEWSSTAND_THUMB_press_valid\"\\ndata-pid=\"333\"\\n>\\n<a href=\"#\" class=\"thumb\">\\n<img\\nsrc=\"https://s.pstatic.net/static/newsstand/2020/logo/light/0604/333.png\"\\nheight=\"20\"\\nalt=\"경남신문\"\\nclass=\"news_logo\"\\n/>\\n<span class=\"thumb_dim\"></span\\n></a>\\n<div class=\"popup_wrap\">\\n<a\\nhref=\"#\"\\nrole=\"button\"\\nclass=\"btn_popup _NM_NEWSSTAND_THUMB_subscribe_press\"\\ndata-pid=\"333\"\\ndata-clk=\"sub\"\\n>구독</a\\n>\\n<a\\nhref=\"#\"\\nrole=\"button\"\\nclass=\"btn_popup _NM_NEWSSTAND_THUMB_unsubscribe_press\"\\ndata-pid=\"333\"\\ndata-clk=\"unsub\"\\n>해지</a\\n>\\n<a\\nhref=\"http://newsstand.naver.com/?list=&pcode=333\"\\ntarget=\"_blank\"\\nclass=\"btn_popup\"\\ndata-clk=\"logo\"\\ndata-pid=\"333\"\\n>기사보기</a\\n>\\n</div>\\n</div>\\n<div\\nclass=\"thumb_box _NM_NEWSSTAND_THUMB _NM_NEWSSTAND_THUMB_press_valid\"\\ndata-pid=\"821\"\\n>\\n<a href=\"#\" class=\"thumb\">\\n<img\\nsrc=\"https://s.pstatic.net/static/newsstand/2020/logo/light/0604/821.png\"\\nheight=\"20\"\\nalt=\"경남도민일보\"\\nclass=\"news_logo\"\\n/>\\n<span class=\"thumb_dim\"></span\\n></a>\\n<div class=\"popup_wrap\">\\n<a\\nhref=\"#\"\\nrole=\"button\"\\nclass=\"btn_popup _NM_NEWSSTAND_THUMB_subscribe_press\"\\ndata-pid=\"821\"\\ndata-clk=\"sub\"\\n>구독</a\\n>\\n<a\\nhref=\"#\"\\nrole=\"button\"\\nclass=\"btn_popup _NM_NEWSSTAND_THUMB_unsubscribe_press\"\\ndata-pid=\"821\"\\ndata-clk=\"unsub\"\\n>해지</a\\n>\\n<a\\nhref=\"http://newsstand.naver.com/?list=&pcode=821\"\\ntarget=\"_blank\"\\nclass=\"btn_popup\"\\ndata-clk=\"logo\"\\ndata-pid=\"821\"\\n>기사보기</a\\n>\\n</div>\\n</div>\\n<div\\nclass=\"thumb_box _NM_NEWSSTAND_THUMB _NM_NEWSSTAND_THUMB_press_valid\"\\ndata-pid=\"144\"\\n>\\n<a href=\"#\" class=\"thumb\">\\n<img\\nsrc=\"https://s.pstatic.net/static/newsstand/2020/logo/light/0604/144.png\"\\nheight=\"20\"\\nalt=\"스포츠경향\"\\nclass=\"news_logo\"\\n/>\\n<span class=\"thumb_dim\"></span\\n></a>\\n<div class=\"popup_wrap\">\\n<a\\nhref=\"#\"\\nrole=\"button\"\\nclass=\"btn_popup _NM_NEWSSTAND_THUMB_subscribe_press\"\\ndata-pid=\"144\"\\ndata-clk=\"sub\"\\n>구독</a\\n>\\n<a\\nhref=\"#\"\\nrole=\"button\"\\nclass=\"btn_popup _NM_NEWSSTAND_THUMB_unsubscribe_press\"\\ndata-pid=\"144\"\\ndata-clk=\"unsub\"\\n>해지</a\\n>\\n<a\\nhref=\"http://newsstand.naver.com/?list=&pcode=144\"\\ntarget=\"_blank\"\\nclass=\"btn_popup\"\\ndata-clk=\"logo\"\\ndata-pid=\"144\"\\n>기사보기</a\\n>\\n</div>\\n</div>\\n<div\\nclass=\"thumb_box _NM_NEWSSTAND_THUMB _NM_NEWSSTAND_THUMB_press_valid\"\\ndata-pid=\"802\"\\n>\\n<a href=\"#\" class=\"thumb\">\\n<img\\nsrc=\"https://s.pstatic.net/static/newsstand/2020/logo/light/0604/802.png\"\\nheight=\"20\"\\nalt=\"스포츠Q\"\\nclass=\"news_logo\"\\n/>\\n<span class=\"thumb_dim\"></span\\n></a>\\n<div class=\"popup_wrap\">\\n<a\\nhref=\"#\"\\nrole=\"button\"\\nclass=\"btn_popup _NM_NEWSSTAND_THUMB_subscribe_press\"\\ndata-pid=\"802\"\\ndata-clk=\"sub\"\\n>구독</a\\n>\\n<a\\nhref=\"#\"\\nrole=\"button\"\\nclass=\"btn_popup _NM_NEWSSTAND_THUMB_unsubscribe_press\"\\ndata-pid=\"802\"\\ndata-clk=\"unsub\"\\n>해지</a\\n>\\n<a\\nhref=\"http://newsstand.naver.com/?list=&pcode=802\"\\ntarget=\"_blank\"\\nclass=\"btn_popup\"\\ndata-clk=\"logo\"\\ndata-pid=\"802\"\\n>기사보기</a\\n>\\n</div>\\n</div>\\n<div\\nclass=\"thumb_box _NM_NEWSSTAND_THUMB _NM_NEWSSTAND_THUMB_press_valid\"\\ndata-pid=\"916\"\\n>\\n<a href=\"#\" class=\"thumb\">\\n<img\\nsrc=\"https://s.pstatic.net/static/newsstand/up/2021/0420/nsd105139164.png\"\\nheight=\"20\"\\nalt=\"머니투데이방송\"\\nclass=\"news_logo\"\\n/>\\n<span class=\"thumb_dim\"></span\\n></a>\\n<div class=\"popup_wrap\">\\n<a\\nhref=\"#\"\\nrole=\"button\"\\nclass=\"btn_popup _NM_NEWSSTAND_THUMB_subscribe_press\"\\ndata-pid=\"916\"\\ndata-clk=\"sub\"\\n>구독</a\\n>\\n<a\\nhref=\"#\"\\nrole=\"button\"\\nclass=\"btn_popup _NM_NEWSSTAND_THUMB_unsubscribe_press\"\\ndata-pid=\"916\"\\ndata-clk=\"unsub\"\\n>해지</a\\n>\\n<a\\nhref=\"http://newsstand.naver.com/?list=&pcode=916\"\\ntarget=\"_blank\"\\nclass=\"btn_popup\"\\ndata-clk=\"logo\"\\ndata-pid=\"916\"\\n>기사보기</a\\n>\\n</div>\\n</div>\\n<div\\nclass=\"thumb_box _NM_NEWSSTAND_THUMB _NM_NEWSSTAND_THUMB_press_valid\"\\ndata-pid=\"945\"\\n>\\n<a href=\"#\" class=\"thumb\">\\n<img\\nsrc=\"https://s.pstatic.net/static/newsstand/up/2020/0922/nsd152336602.png\"\\nheight=\"20\"\\nalt=\"YTN사이언스\"\\nclass=\"news_logo\"\\n/>\\n<span class=\"thumb_dim\"></span\\n></a>\\n<div class=\"popup_wrap\">\\n<a\\nhref=\"#\"\\nrole=\"button\"\\nclass=\"btn_popup _NM_NEWSSTAND_THUMB_subscribe_press\"\\ndata-pid=\"945\"\\ndata-clk=\"sub\"\\n>구독</a\\n>\\n<a\\nhref=\"#\"\\nrole=\"button\"\\nclass=\"btn_popup _NM_NEWSSTAND_THUMB_unsubscribe_press\"\\ndata-pid=\"945\"\\ndata-clk=\"unsub\"\\n>해지</a\\n>\\n<a\\nhref=\"http://newsstand.naver.com/?list=&pcode=945\"\\ntarget=\"_blank\"\\nclass=\"btn_popup\"\\ndata-clk=\"logo\"\\ndata-pid=\"945\"\\n>기사보기</a\\n>\\n</div>\\n</div>\\n<div\\nclass=\"thumb_box _NM_NEWSSTAND_THUMB _NM_NEWSSTAND_THUMB_press_valid\"\\ndata-pid=\"979\"\\n>\\n<a href=\"#\" class=\"thumb\">\\n<img\\nsrc=\"https://s.pstatic.net/static/newsstand/2020/logo/light/0604/979.png\"\\nheight=\"20\"\\nalt=\"약사공론\"\\nclass=\"news_logo\"\\n/>\\n<span class=\"thumb_dim\"></span\\n></a>\\n<div class=\"popup_wrap\">\\n<a\\nhref=\"#\"\\nrole=\"button\"\\nclass=\"btn_popup _NM_NEWSSTAND_THUMB_subscribe_press\"\\ndata-pid=\"979\"\\ndata-clk=\"sub\"\\n>구독</a\\n>\\n<a\\nhref=\"#\"\\nrole=\"button\"\\nclass=\"btn_popup _NM_NEWSSTAND_THUMB_unsubscribe_press\"\\ndata-pid=\"979\"\\ndata-clk=\"unsub\"\\n>해지</a\\n>\\n<a\\nhref=\"http://newsstand.naver.com/?list=&pcode=979\"\\ntarget=\"_blank\"\\nclass=\"btn_popup\"\\ndata-clk=\"logo\"\\ndata-pid=\"979\"\\n>기사보기</a\\n>\\n</div>\\n</div>\\n<div\\nclass=\"thumb_box _NM_NEWSSTAND_THUMB _NM_NEWSSTAND_THUMB_press_valid\"\\ndata-pid=\"944\"\\n>\\n<a href=\"#\" class=\"thumb\">\\n<img\\nsrc=\"https://s.pstatic.net/static/newsstand/2020/logo/light/0604/944.png\"\\nheight=\"20\"\\nalt=\"나우뉴스\"\\nclass=\"news_logo\"\\n/>\\n<span class=\"thumb_dim\"></span\\n></a>\\n<div class=\"popup_wrap\">\\n<a\\nhref=\"#\"\\nrole=\"button\"\\nclass=\"btn_popup _NM_NEWSSTAND_THUMB_subscribe_press\"\\ndata-pid=\"944\"\\ndata-clk=\"sub\"\\n>구독</a\\n>\\n<a\\nhref=\"#\"\\nrole=\"button\"\\nclass=\"btn_popup _NM_NEWSSTAND_THUMB_unsubscribe_press\"\\ndata-pid=\"944\"\\ndata-clk=\"unsub\"\\n>해지</a\\n>\\n<a\\nhref=\"http://newsstand.naver.com/?list=&pcode=944\"\\ntarget=\"_blank\"\\nclass=\"btn_popup\"\\ndata-clk=\"logo\"\\ndata-pid=\"944\"\\n>기사보기</a\\n>\\n</div>\\n</div>\\n</div>\\n</div>\\n</div>\\n  </div> <div class=\"ly_popup NM_NEWSSTAND_POPUP NM_NEWSSTAND_invalid\" style=\"display:none\"> <a href=\"#\" role=\"button\" class=\"btn_close NM_NEWSSTAND_POPUP_CLOSE\"><i class=\"ico_close\"></i><span class=\"blind\">닫기</span></a> <p class=\"popup_msg\">해당 언론사 사정으로 접근이 제한됩니다.</p> <div class=\"popup_btn\"> <a href=\"#\" role=\"button\" class=\"btn_confirm NM_NEWSSTAND_POPUP_CLOSE\">확인</a> </div> </div> <div class=\"ly_popup NM_NEWSSTAND_POPUP NM_NEWSSTAND_undescribe_confirm\" style=\"display:none\" data-clk-sub=\"*a\"> <a href=\"#\" role=\"button\" class=\"btn_close NM_NEWSSTAND_POPUP_CLOSE\" data-clk=\"usclose\"><i class=\"ico_close\"></i><span class=\"blind\">닫기</span></a> <p class=\"popup_msg\"><strong class=\"NM_NEWSSTAND_POPUP_PNAME\"></strong>을(를)<br/>구독해지 하시겠습니까?</p> <div class=\"popup_btn\"> <a href=\"#\" role=\"button\" class=\"btn_confirm NM_NEWSSTAND_POPUP_CONFIRM\" data-clk=\"usdone\">확인</a> <a href=\"#\" role=\"button\" class=\"btn_confirm NM_NEWSSTAND_POPUP_CLOSE\" data-clk=\"uscancel\">취소</a> </div> </div> <div class=\"ly_toast NM_NEWSSTAND_TOAST\" style=\"display:none\"> <p class=\"toast_msg\">구독한 언론사에 추가되었습니다.</p> </div> </div> <div id=\"NM_NEWSSTAND_MY_LIST\" class=\"group_news\" style=\"display:none\" data-clk-prefix=\"nsd_myn\"> <a href=\"#\" role=\"button\" class=\"pm_btn_prev_l _NM_NEWSSTAND_LIST_prev_btn\" data-clk-custom=\"prev\"><i class=\"ico_btn\"></i><span class=\"blind\">이전</span></a> <a href=\"#\" role=\"button\" class=\"pm_btn_next_l _NM_NEWSSTAND_LIST_next_btn\" data-clk-custom=\"next\"><i class=\"ico_btn\"></i><span class=\"blind\">다음</span><span class=\"blind\">다음</span></a> <div class=\"list_view\"> <div class=\"option_area\"> <div class=\"list_option_wrap\"> <ul class=\"list_option _NM_NEWSSTAND_MY_presslist\"> <!-- nvpaperlist:empty --> </ul> </div> </div> <div class=\"_NM_NEWSSTAND_ARTICLE_CONTAINER\" data-clk-sub=\"*a\">  </div> </div> <div class=\"ly_popup NM_NEWSSTAND_POPUP NM_NEWSSTAND_invalid\" style=\"display:none\"> <a href=\"#\" role=\"button\" class=\"btn_close NM_NEWSSTAND_POPUP_CLOSE\"><i class=\"ico_close\"></i><span class=\"blind\">닫기</span></a> <p class=\"popup_msg\">해당 언론사 사정으로 접근이 일시 제한됩니다.</p> <div class=\"popup_btn\"> <a href=\"#\" role=\"button\" class=\"btn_confirm NM_NEWSSTAND_POPUP_CLOSE\">확인</a> </div> </div> <div class=\"ly_popup NM_NEWSSTAND_POPUP NM_NEWSSTAND_undescribe_confirm\" style=\"display:none\" data-clk-sub=\"*a\"> <a href=\"#\" role=\"button\" class=\"btn_close NM_NEWSSTAND_POPUP_CLOSE\" data-clk=\"usclose\"><i class=\"ico_close\"></i><span class=\"blind\">닫기</span></a> <p class=\"popup_msg\"><strong class=\"NM_NEWSSTAND_POPUP_PNAME\"></strong>을(를)<br>구독해지 하시겠습니까?</p> <div class=\"popup_btn\"> <a href=\"#\" role=\"button\" class=\"btn_confirm NM_NEWSSTAND_POPUP_CONFIRM\" data-clk=\"usdone\">확인</a> <a href=\"#\" role=\"button\" class=\"btn_confirm NM_NEWSSTAND_POPUP_CLOSE\" data-clk=\"uscancel\">취소</a> </div> </div> </div> <div id=\"NM_NEWSSTAND_MY_THUMB\" class=\"group_news\" style=\"display:none\" data-clk-prefix=\"nsd_myn\"> <a href=\"#\" role=\"button\" class=\"pm_btn_prev_l _NM_UI_PAGE_PREV\" data-clk-custom=\"prev\"><i class=\"ico_btn\"><span class=\"blind\">이전</span></i></a> <a href=\"#\" role=\"button\" class=\"pm_btn_next_l _NM_UI_PAGE_NEXT\" data-clk-custom=\"next\"><i class=\"ico_btn\"><span class=\"blind\">다음</span></i></a> <div class=\"_NM_UI_PAGE_CONTAINER\" data-clk-sub=\"*p\"></div> <div class=\"ly_popup NM_NEWSSTAND_POPUP NM_NEWSSTAND_invalid\" style=\"display:none\"> <a href=\"#\" role=\"button\" class=\"btn_close NM_NEWSSTAND_POPUP_CLOSE\"><i class=\"ico_close\"></i><span class=\"blind\">닫기</span></a> <p class=\"popup_msg\">해당 언론사 사정으로 접근이 제한됩니다.</p> <div class=\"popup_btn\"> <a href=\"#\" role=\"button\" class=\"btn_confirm NM_NEWSSTAND_POPUP_CLOSE\">확인</a> </div> </div> <div class=\"ly_popup NM_NEWSSTAND_POPUP NM_NEWSSTAND_undescribe_confirm\" style=\"display:none\" data-clk-sub=\"*a\"> <a href=\"#\" role=\"button\" class=\"btn_close NM_NEWSSTAND_POPUP_CLOSE\" data-clk=\"usclose\"><i class=\"ico_close\"></i><span class=\"blind\">닫기</span></a> <p class=\"popup_msg\"><strong class=\"NM_NEWSSTAND_POPUP_PNAME\"></strong>을(를)<br>구독해지 하시겠습니까?</p> <div class=\"popup_btn\"> <a href=\"#\" role=\"button\" class=\"btn_confirm NM_NEWSSTAND_POPUP_CONFIRM\" data-clk=\"usdone\">확인</a> <a href=\"#\" role=\"button\" class=\"btn_confirm NM_NEWSSTAND_POPUP_CLOSE\" data-clk=\"uscancel\">취소</a> </div> </div> </div> <div id=\"NM_NEWSSTAND_MY_EMPTY\" class=\"group_news\" style=\"display:none\"> <div class=\"error_view\"> <div class=\"error_area\"> <strong class=\"error_msg\">구독한 언론사가 없습니다.</strong> <p class=\"dsc_msg\">언론사 구독 설정에서 관심있는 언론사를 구독하시면<br>언론사가 직접 편집한 뉴스들을 네이버 홈에서 바로 보실 수 있습니다.</p> <a href=\"http://newsstand.naver.com/config.html\" class=\"link_redirect\" target=\"_blank\">언론사 구독 설정하기</a> </div> </div> </div> </div> </div> <!-- EMPTY --> <div id=\"NM_THEMECAST_CONTENTS_CONTAINER\"> <div id=\"themecast\" class=\"sc_themecast id_finance\" data-fixed=\"FINANCE\">\\n\\t<h2 class=\"blind\">주제별 캐스트</h2>\\n\\t<div class=\"theme_head\">\\n\\t\\t<div class=\"group_title\">\\n\\t<div class=\"title_area\">\\n\\t\\t<strong class=\"title\">오늘 읽을만한 글</strong><span class=\"dsc\">주제별로 분류된 다양한 글 모음</span>\\n\\t</div>\\n\\t<div class=\"info_area\">\\n\\t\\t\\n\\t\\t\\t<span class=\"info\"><strong class=\"new\">1,714</strong> 개의 글</span>\\n\\t\\t\\n\\t\\t<a id=\"NM_THEME_EDIT_SET\" href=\"#\" role=\"button\" class=\"btn_set\" data-clk=\"tca.like\">관심주제 설정</a>\\n\\t</div>\\n</div>\\n<div class=\"theme_fix_wrap\">\\n\\t<div id=\"NM_THEME_CATE_GROUPS\" class=\"group_category\" data-demo-key=\"default\">\\n\\t\\t<div class=\"main_category\">\\n\\t\\t\\t<a href=\"#\" role=\"button\" class=\"pm_btn_prev NM_THEME_PREV\" data-clk=\"tct.prev\" style=\"display: none;\">\\n\\t\\t\\t\\t<i class=\"ico_btn\"><span class=\"blind\">이전</span></i>\\n\\t\\t\\t</a>\\n\\t\\t\\t<a href=\"#\" role=\"button\" class=\"pm_btn_next NM_THEME_NEXT\" data-clk=\"tct.next\" style=\"display: none;\">\\n\\t\\t\\t\\t<i class=\"ico_btn\"><span class=\"blind\">다음</span></i>\\n\\t\\t\\t</a>\\n\\t\\t\\t<div id=\"NM_THEME_CATE_FLICK\" class=\"_NM_UI_PAGE_CONTAINER\" style=\"height: 49px; overflow: hidden;\">\\n\\t\\t\\t\\t\\n\\t\\t\\t\\t\\t<div style=\"width: 750px;\">\\n\\t\\t\\t\\t\\t\\t<ul class=\"list_category\" role=\"tablist\">\\n\\t\\t\\t\\t\\t\\t\\t\\n\\t\\t\\t\\t\\t\\t\\t\\t<li class=\"category_item\" role=\"presentation\">\\n\\t\\t\\t\\t\\t\\t\\t\\t\\t\\n\\t\\t\\t\\t\\t\\t\\t\\t\\t\\n\\t\\t\\t\\t\\t\\t\\t\\t\\t<a href=\"#\" role=\"tab\" class=\"_NM_THEME_CATE tab id_enter\"\\n\\t\\t\\t\\t\\t\\t\\t\\t\\t   aria-selected=\"false\"\\n\\t\\t\\t\\t\\t\\t\\t\\t\\t   data-clk=\"tct.tvc\" data-panel-code=\"ENTER\">엔터</a>\\n\\t\\t\\t\\t\\t\\t\\t\\t</li>\\n\\t\\t\\t\\t\\t\\t\\t\\n\\t\\t\\t\\t\\t\\t\\t\\t<li class=\"category_item\" role=\"presentation\">\\n\\t\\t\\t\\t\\t\\t\\t\\t\\t\\n\\t\\t\\t\\t\\t\\t\\t\\t\\t\\n\\t\\t\\t\\t\\t\\t\\t\\t\\t<a href=\"#\" role=\"tab\" class=\"_NM_THEME_CATE tab id_sports\"\\n\\t\\t\\t\\t\\t\\t\\t\\t\\t   aria-selected=\"false\"\\n\\t\\t\\t\\t\\t\\t\\t\\t\\t   data-clk=\"tct.spo\" data-panel-code=\"SPORTS\">스포츠</a>\\n\\t\\t\\t\\t\\t\\t\\t\\t</li>\\n\\t\\t\\t\\t\\t\\t\\t\\n\\t\\t\\t\\t\\t\\t\\t\\t<li class=\"category_item\" role=\"presentation\">\\n\\t\\t\\t\\t\\t\\t\\t\\t\\t\\n\\t\\t\\t\\t\\t\\t\\t\\t\\t\\n\\t\\t\\t\\t\\t\\t\\t\\t\\t<a href=\"#\" role=\"tab\" class=\"_NM_THEME_CATE tab id_cargame\"\\n\\t\\t\\t\\t\\t\\t\\t\\t\\t   aria-selected=\"false\"\\n\\t\\t\\t\\t\\t\\t\\t\\t\\t   data-clk=\"tct.aut\" data-panel-code=\"CARGAME\">자동차</a>\\n\\t\\t\\t\\t\\t\\t\\t\\t</li>\\n\\t\\t\\t\\t\\t\\t\\t\\n\\t\\t\\t\\t\\t\\t\\t\\t<li class=\"category_item\" role=\"presentation\">\\n\\t\\t\\t\\t\\t\\t\\t\\t\\t\\n\\t\\t\\t\\t\\t\\t\\t\\t\\t\\n\\t\\t\\t\\t\\t\\t\\t\\t\\t<a href=\"#\" role=\"tab\" class=\"_NM_THEME_CATE tab id_bboom\"\\n\\t\\t\\t\\t\\t\\t\\t\\t\\t   aria-selected=\"false\"\\n\\t\\t\\t\\t\\t\\t\\t\\t\\t   data-clk=\"tct.web\" data-panel-code=\"BBOOM\">웹툰</a>\\n\\t\\t\\t\\t\\t\\t\\t\\t</li>\\n\\t\\t\\t\\t\\t\\t\\t\\n\\t\\t\\t\\t\\t\\t\\t\\t<li class=\"category_item\" role=\"presentation\">\\n\\t\\t\\t\\t\\t\\t\\t\\t\\t\\n\\t\\t\\t\\t\\t\\t\\t\\t\\t\\n\\t\\t\\t\\t\\t\\t\\t\\t\\t<a href=\"#\" role=\"tab\" class=\"_NM_THEME_CATE tab id_finance\"\\n\\t\\t\\t\\t\\t\\t\\t\\t\\t   aria-selected=\"true\"\\n\\t\\t\\t\\t\\t\\t\\t\\t\\t   data-clk=\"tct.fin\" data-panel-code=\"FINANCE\">경제M</a>\\n\\t\\t\\t\\t\\t\\t\\t\\t</li>\\n\\t\\t\\t\\t\\t\\t\\t\\n\\t\\t\\t\\t\\t\\t\\t\\t<li class=\"category_item\" role=\"presentation\">\\n\\t\\t\\t\\t\\t\\t\\t\\t\\t\\n\\t\\t\\t\\t\\t\\t\\t\\t\\t\\n\\t\\t\\t\\t\\t\\t\\t\\t\\t<a href=\"#\" role=\"tab\" class=\"_NM_THEME_CATE tab id_living\"\\n\\t\\t\\t\\t\\t\\t\\t\\t\\t   aria-selected=\"false\"\\n\\t\\t\\t\\t\\t\\t\\t\\t\\t   data-clk=\"tct.fod\" data-panel-code=\"LIVING\">레시피</a>\\n\\t\\t\\t\\t\\t\\t\\t\\t</li>\\n\\t\\t\\t\\t\\t\\t\\t\\n\\t\\t\\t\\t\\t\\t\\t\\t<li class=\"category_item\" role=\"presentation\">\\n\\t\\t\\t\\t\\t\\t\\t\\t\\t\\n\\t\\t\\t\\t\\t\\t\\t\\t\\t\\n\\t\\t\\t\\t\\t\\t\\t\\t\\t<a href=\"#\" role=\"tab\" class=\"_NM_THEME_CATE tab id_gameapp\"\\n\\t\\t\\t\\t\\t\\t\\t\\t\\t   aria-selected=\"false\"\\n\\t\\t\\t\\t\\t\\t\\t\\t\\t   data-clk=\"tct.gam\" data-panel-code=\"GAMEAPP\">게임</a>\\n\\t\\t\\t\\t\\t\\t\\t\\t</li>\\n\\t\\t\\t\\t\\t\\t\\t\\n\\t\\t\\t\\t\\t\\t\\t\\t<li class=\"category_item\" role=\"presentation\">\\n\\t\\t\\t\\t\\t\\t\\t\\t\\t\\n\\t\\t\\t\\t\\t\\t\\t\\t\\t\\n\\t\\t\\t\\t\\t\\t\\t\\t\\t<a href=\"#\" role=\"tab\" class=\"_NM_THEME_CATE tab id_movie\"\\n\\t\\t\\t\\t\\t\\t\\t\\t\\t   aria-selected=\"false\"\\n\\t\\t\\t\\t\\t\\t\\t\\t\\t   data-clk=\"tct.mov\" data-panel-code=\"MOVIE\">영화</a>\\n\\t\\t\\t\\t\\t\\t\\t\\t</li>\\n\\t\\t\\t\\t\\t\\t\\t\\n\\t\\t\\t\\t\\t\\t</ul>\\n\\t\\t\\t\\t\\t</div>\\n\\t\\t\\t\\t\\n\\t\\t\\t\\t\\t<div style=\"width: 750px;\">\\n\\t\\t\\t\\t\\t\\t<ul class=\"list_category\" role=\"tablist\">\\n\\t\\t\\t\\t\\t\\t\\t\\n\\t\\t\\t\\t\\t\\t\\t\\t<li class=\"category_item\" role=\"presentation\">\\n\\t\\t\\t\\t\\t\\t\\t\\t\\t\\n\\t\\t\\t\\t\\t\\t\\t\\t\\t\\n\\t\\t\\t\\t\\t\\t\\t\\t\\t<a href=\"#\" role=\"tab\" class=\"_NM_THEME_CATE tab id_job\"\\n\\t\\t\\t\\t\\t\\t\\t\\t\\t   aria-selected=\"false\"\\n\\t\\t\\t\\t\\t\\t\\t\\t\\t   data-clk=\"tct.job\" data-panel-code=\"JOB\">JOB&amp;</a>\\n\\t\\t\\t\\t\\t\\t\\t\\t</li>\\n\\t\\t\\t\\t\\t\\t\\t\\n\\t\\t\\t\\t\\t\\t\\t\\t<li class=\"category_item\" role=\"presentation\">\\n\\t\\t\\t\\t\\t\\t\\t\\t\\t\\n\\t\\t\\t\\t\\t\\t\\t\\t\\t\\n\\t\\t\\t\\t\\t\\t\\t\\t\\t<a href=\"#\" role=\"tab\" class=\"_NM_THEME_CATE tab id_ittech\"\\n\\t\\t\\t\\t\\t\\t\\t\\t\\t   aria-selected=\"false\"\\n\\t\\t\\t\\t\\t\\t\\t\\t\\t   data-clk=\"tct.tec\" data-panel-code=\"ITTECH\">테크</a>\\n\\t\\t\\t\\t\\t\\t\\t\\t</li>\\n\\t\\t\\t\\t\\t\\t\\t\\n\\t\\t\\t\\t\\t\\t\\t\\t<li class=\"category_item\" role=\"presentation\">\\n\\t\\t\\t\\t\\t\\t\\t\\t\\t\\n\\t\\t\\t\\t\\t\\t\\t\\t\\t\\n\\t\\t\\t\\t\\t\\t\\t\\t\\t<a href=\"#\" role=\"tab\" class=\"_NM_THEME_CATE tab id_travel\"\\n\\t\\t\\t\\t\\t\\t\\t\\t\\t   aria-selected=\"false\"\\n\\t\\t\\t\\t\\t\\t\\t\\t\\t   data-clk=\"tct.tra\" data-panel-code=\"TRAVEL\">여행+</a>\\n\\t\\t\\t\\t\\t\\t\\t\\t</li>\\n\\t\\t\\t\\t\\t\\t\\t\\n\\t\\t\\t\\t\\t\\t\\t\\t<li class=\"category_item\" role=\"presentation\">\\n\\t\\t\\t\\t\\t\\t\\t\\t\\t\\n\\t\\t\\t\\t\\t\\t\\t\\t\\t\\n\\t\\t\\t\\t\\t\\t\\t\\t\\t<a href=\"#\" role=\"tab\" class=\"_NM_THEME_CATE tab id_science\"\\n\\t\\t\\t\\t\\t\\t\\t\\t\\t   aria-selected=\"false\"\\n\\t\\t\\t\\t\\t\\t\\t\\t\\t   data-clk=\"tct.sci\" data-panel-code=\"SCIENCE\">과학</a>\\n\\t\\t\\t\\t\\t\\t\\t\\t</li>\\n\\t\\t\\t\\t\\t\\t\\t\\n\\t\\t\\t\\t\\t\\t\\t\\t<li class=\"category_item\" role=\"presentation\">\\n\\t\\t\\t\\t\\t\\t\\t\\t\\t\\n\\t\\t\\t\\t\\t\\t\\t\\t\\t\\n\\t\\t\\t\\t\\t\\t\\t\\t\\t<a href=\"#\" role=\"tab\" class=\"_NM_THEME_CATE tab id_livinghome\"\\n\\t\\t\\t\\t\\t\\t\\t\\t\\t   aria-selected=\"false\"\\n\\t\\t\\t\\t\\t\\t\\t\\t\\t   data-clk=\"tct.lif\" data-panel-code=\"LIVINGHOME\">리빙</a>\\n\\t\\t\\t\\t\\t\\t\\t\\t</li>\\n\\t\\t\\t\\t\\t\\t\\t\\n\\t\\t\\t\\t\\t\\t\\t\\t<li class=\"category_item\" role=\"presentation\">\\n\\t\\t\\t\\t\\t\\t\\t\\t\\t\\n\\t\\t\\t\\t\\t\\t\\t\\t\\t\\n\\t\\t\\t\\t\\t\\t\\t\\t\\t<a href=\"#\" role=\"tab\" class=\"_NM_THEME_CATE tab id_health\"\\n\\t\\t\\t\\t\\t\\t\\t\\t\\t   aria-selected=\"false\"\\n\\t\\t\\t\\t\\t\\t\\t\\t\\t   data-clk=\"tct.hea\" data-panel-code=\"HEALTH\">건강</a>\\n\\t\\t\\t\\t\\t\\t\\t\\t</li>\\n\\t\\t\\t\\t\\t\\t\\t\\n\\t\\t\\t\\t\\t\\t\\t\\t<li class=\"category_item\" role=\"presentation\">\\n\\t\\t\\t\\t\\t\\t\\t\\t\\t\\n\\t\\t\\t\\t\\t\\t\\t\\t\\t\\n\\t\\t\\t\\t\\t\\t\\t\\t\\t<a href=\"#\" role=\"tab\" class=\"_NM_THEME_CATE tab id_business\"\\n\\t\\t\\t\\t\\t\\t\\t\\t\\t   aria-selected=\"false\"\\n\\t\\t\\t\\t\\t\\t\\t\\t\\t   data-clk=\"tct.bsn\" data-panel-code=\"BUSINESS\">비즈니스</a>\\n\\t\\t\\t\\t\\t\\t\\t\\t</li>\\n\\t\\t\\t\\t\\t\\t\\t\\n\\t\\t\\t\\t\\t\\t\\t\\t<li class=\"category_item\" role=\"presentation\">\\n\\t\\t\\t\\t\\t\\t\\t\\t\\t\\n\\t\\t\\t\\t\\t\\t\\t\\t\\t\\n\\t\\t\\t\\t\\t\\t\\t\\t\\t<a href=\"#\" role=\"tab\" class=\"_NM_THEME_CATE tab id_wedding\"\\n\\t\\t\\t\\t\\t\\t\\t\\t\\t   aria-selected=\"false\"\\n\\t\\t\\t\\t\\t\\t\\t\\t\\t   data-clk=\"tct.wed\" data-panel-code=\"WEDDING\">연애·결혼</a>\\n\\t\\t\\t\\t\\t\\t\\t\\t</li>\\n\\t\\t\\t\\t\\t\\t\\t\\n\\t\\t\\t\\t\\t\\t</ul>\\n\\t\\t\\t\\t\\t</div>\\n\\t\\t\\t\\t\\n\\t\\t\\t\\t\\t<div style=\"width: 750px;\">\\n\\t\\t\\t\\t\\t\\t<ul class=\"list_category\" role=\"tablist\">\\n\\t\\t\\t\\t\\t\\t\\t\\n\\t\\t\\t\\t\\t\\t\\t\\t<li class=\"category_item\" role=\"presentation\">\\n\\t\\t\\t\\t\\t\\t\\t\\t\\t\\n\\t\\t\\t\\t\\t\\t\\t\\t\\t\\n\\t\\t\\t\\t\\t\\t\\t\\t\\t<a href=\"#\" role=\"tab\" class=\"_NM_THEME_CATE tab id_culture\"\\n\\t\\t\\t\\t\\t\\t\\t\\t\\t   aria-selected=\"false\"\\n\\t\\t\\t\\t\\t\\t\\t\\t\\t   data-clk=\"tct.bok\" data-panel-code=\"CULTURE\">책방</a>\\n\\t\\t\\t\\t\\t\\t\\t\\t</li>\\n\\t\\t\\t\\t\\t\\t\\t\\n\\t\\t\\t\\t\\t\\t\\t\\t<li class=\"category_item\" role=\"presentation\">\\n\\t\\t\\t\\t\\t\\t\\t\\t\\t\\n\\t\\t\\t\\t\\t\\t\\t\\t\\t\\n\\t\\t\\t\\t\\t\\t\\t\\t\\t<a href=\"#\" role=\"tab\" class=\"_NM_THEME_CATE tab id_momkids\"\\n\\t\\t\\t\\t\\t\\t\\t\\t\\t   aria-selected=\"false\"\\n\\t\\t\\t\\t\\t\\t\\t\\t\\t   data-clk=\"tct.mom\" data-panel-code=\"MOMKIDS\">부모i</a>\\n\\t\\t\\t\\t\\t\\t\\t\\t</li>\\n\\t\\t\\t\\t\\t\\t\\t\\n\\t\\t\\t\\t\\t\\t\\t\\t<li class=\"category_item\" role=\"presentation\">\\n\\t\\t\\t\\t\\t\\t\\t\\t\\t\\n\\t\\t\\t\\t\\t\\t\\t\\t\\t\\n\\t\\t\\t\\t\\t\\t\\t\\t\\t<a href=\"#\" role=\"tab\" class=\"_NM_THEME_CATE tab id_law\"\\n\\t\\t\\t\\t\\t\\t\\t\\t\\t   aria-selected=\"false\"\\n\\t\\t\\t\\t\\t\\t\\t\\t\\t   data-clk=\"tct.law\" data-panel-code=\"LAW\">법률</a>\\n\\t\\t\\t\\t\\t\\t\\t\\t</li>\\n\\t\\t\\t\\t\\t\\t\\t\\n\\t\\t\\t\\t\\t\\t\\t\\t<li class=\"category_item\" role=\"presentation\">\\n\\t\\t\\t\\t\\t\\t\\t\\t\\t\\n\\t\\t\\t\\t\\t\\t\\t\\t\\t\\n\\t\\t\\t\\t\\t\\t\\t\\t\\t<a href=\"#\" role=\"tab\" class=\"_NM_THEME_CATE tab id_beauty\"\\n\\t\\t\\t\\t\\t\\t\\t\\t\\t   aria-selected=\"false\"\\n\\t\\t\\t\\t\\t\\t\\t\\t\\t   data-clk=\"tct.bty\" data-panel-code=\"BEAUTY\">패션뷰티</a>\\n\\t\\t\\t\\t\\t\\t\\t\\t</li>\\n\\t\\t\\t\\t\\t\\t\\t\\n\\t\\t\\t\\t\\t\\t\\t\\t<li class=\"category_item\" role=\"presentation\">\\n\\t\\t\\t\\t\\t\\t\\t\\t\\t\\n\\t\\t\\t\\t\\t\\t\\t\\t\\t\\n\\t\\t\\t\\t\\t\\t\\t\\t\\t<a href=\"#\" role=\"tab\" class=\"_NM_THEME_CATE tab id_animal\"\\n\\t\\t\\t\\t\\t\\t\\t\\t\\t   aria-selected=\"false\"\\n\\t\\t\\t\\t\\t\\t\\t\\t\\t   data-clk=\"tct.ani\" data-panel-code=\"ANIMAL\">동물공감</a>\\n\\t\\t\\t\\t\\t\\t\\t\\t</li>\\n\\t\\t\\t\\t\\t\\t\\t\\n\\t\\t\\t\\t\\t\\t\\t\\t<li class=\"category_item\" role=\"presentation\">\\n\\t\\t\\t\\t\\t\\t\\t\\t\\t\\n\\t\\t\\t\\t\\t\\t\\t\\t\\t\\n\\t\\t\\t\\t\\t\\t\\t\\t\\t<a href=\"#\" role=\"tab\" class=\"_NM_THEME_CATE tab id_design\"\\n\\t\\t\\t\\t\\t\\t\\t\\t\\t   aria-selected=\"false\"\\n\\t\\t\\t\\t\\t\\t\\t\\t\\t   data-clk=\"tct.des\" data-panel-code=\"DESIGN\">디자인</a>\\n\\t\\t\\t\\t\\t\\t\\t\\t</li>\\n\\t\\t\\t\\t\\t\\t\\t\\n\\t\\t\\t\\t\\t\\t\\t\\t<li class=\"category_item\" role=\"presentation\">\\n\\t\\t\\t\\t\\t\\t\\t\\t\\t\\n\\t\\t\\t\\t\\t\\t\\t\\t\\t\\n\\t\\t\\t\\t\\t\\t\\t\\t\\t<a href=\"#\" role=\"tab\" class=\"_NM_THEME_CATE tab id_china\"\\n\\t\\t\\t\\t\\t\\t\\t\\t\\t   aria-selected=\"false\"\\n\\t\\t\\t\\t\\t\\t\\t\\t\\t   data-clk=\"tct.chn\" data-panel-code=\"CHINA\">중국</a>\\n\\t\\t\\t\\t\\t\\t\\t\\t</li>\\n\\t\\t\\t\\t\\t\\t\\t\\n\\t\\t\\t\\t\\t\\t\\t\\t<li class=\"category_item\" role=\"presentation\">\\n\\t\\t\\t\\t\\t\\t\\t\\t\\t\\n\\t\\t\\t\\t\\t\\t\\t\\t\\t\\n\\t\\t\\t\\t\\t\\t\\t\\t\\t<a href=\"#\" role=\"tab\" class=\"_NM_THEME_CATE tab id_farm\"\\n\\t\\t\\t\\t\\t\\t\\t\\t\\t   aria-selected=\"false\"\\n\\t\\t\\t\\t\\t\\t\\t\\t\\t   data-clk=\"tct.far\" data-panel-code=\"FARM\">FARM</a>\\n\\t\\t\\t\\t\\t\\t\\t\\t</li>\\n\\t\\t\\t\\t\\t\\t\\t\\n\\t\\t\\t\\t\\t\\t</ul>\\n\\t\\t\\t\\t\\t</div>\\n\\t\\t\\t\\t\\n\\t\\t\\t\\t\\t<div style=\"width: 750px;\">\\n\\t\\t\\t\\t\\t\\t<ul class=\"list_category\" role=\"tablist\">\\n\\t\\t\\t\\t\\t\\t\\t\\n\\t\\t\\t\\t\\t\\t\\t\\t<li class=\"category_item\" role=\"presentation\">\\n\\t\\t\\t\\t\\t\\t\\t\\t\\t\\n\\t\\t\\t\\t\\t\\t\\t\\t\\t\\n\\t\\t\\t\\t\\t\\t\\t\\t\\t<a href=\"#\" role=\"tab\" class=\"_NM_THEME_CATE tab id_show\"\\n\\t\\t\\t\\t\\t\\t\\t\\t\\t   aria-selected=\"false\"\\n\\t\\t\\t\\t\\t\\t\\t\\t\\t   data-clk=\"tct.sow\" data-panel-code=\"SHOW\">공연전시</a>\\n\\t\\t\\t\\t\\t\\t\\t\\t</li>\\n\\t\\t\\t\\t\\t\\t\\t\\n\\t\\t\\t\\t\\t\\t\\t\\t<li class=\"category_item\" role=\"presentation\">\\n\\t\\t\\t\\t\\t\\t\\t\\t\\t\\n\\t\\t\\t\\t\\t\\t\\t\\t\\t\\n\\t\\t\\t\\t\\t\\t\\t\\t\\t<a href=\"#\" role=\"tab\" class=\"_NM_THEME_CATE tab id_with\"\\n\\t\\t\\t\\t\\t\\t\\t\\t\\t   aria-selected=\"false\"\\n\\t\\t\\t\\t\\t\\t\\t\\t\\t   data-clk=\"tct.pub\" data-panel-code=\"WITH\">함께N</a>\\n\\t\\t\\t\\t\\t\\t\\t\\t</li>\\n\\t\\t\\t\\t\\t\\t\\t\\n\\t\\t\\t\\t\\t\\t</ul>\\n\\t\\t\\t\\t\\t</div>\\n\\t\\t\\t\\t\\n\\t\\t\\t</div>\\n\\t\\t</div>\\n\\t</div>\\n</div>\\n\\n\\t</div>\\n\\t<div class=\"theme_cont\" data-panel-code=\"FINANCE\">\\n\\t\\t\\n<div class=\"group_theme\" data-block-id=\"\" data-block-code=\"PC-THEME-FINANCE-MOBILE-RANKING-DEFAULT-0\" data-block-type=\"MATERIALS\" data-template-code=\"MOBILE-RANKING-LIST\"\\n\\n\\t data-da=\"container\"\\n\\t data-index=\"\"\\n     data-page=\"1\"\\n\\t >\\n\\n\\t<div class=\"list_theme_wrap\">\\n\\t\\t<ul class=\"list_theme\">\\n\\t\\t\\t\\n\\t\\t\\t\\t<li class=\"theme_item\" data-gdid=\"CAS_85e15b81-228b-11ec-9095-8f14388c97ca\" data-da-position=\"true\">\\n\\t\\t\\t\\t\\t<a href=\"https://blog.naver.com/realty_go/222523162107\" class=\"theme_thumb\" data-clk=\"tcc_fin.list1cont1\" target=\"_blank\">\\n\\t\\t\\t\\t\\t\\t<img src=\"https://s.pstatic.net/dthumb.phinf/?src&#x3D;%22https%3A%2F%2Fs.pstatic.net%2Fstatic%2Fwww%2Fmobile%2Fedit%2F20211001_1095%2Fupload_1633074185342dUgwP.jpg%22&amp;type&#x3D;nf340_228\" data-src=\"https://s.pstatic.net/dthumb.phinf/?src&#x3D;%22https%3A%2F%2Fs.pstatic.net%2Fstatic%2Fwww%2Fmobile%2Fedit%2F20211001_1095%2Fupload_1633074185342dUgwP.jpg%22&amp;type&#x3D;nf340_228\" alt=\"반년 새 2배 폭등도…삼성 업고 활활 타오르는 고덕 집값\" width=\"170\" height=\"114\">\\n\\t\\t\\t\\t\\t\\t<span class=\"thumb_bd\"></span>\\n\\t\\t\\t\\t\\t</a>\\n\\t\\t\\t\\t\\t<a href=\"https://blog.naver.com/realty_go/222523162107\" class=\"theme_info\" data-clk=\"tcc_fin.list1cont1\" target=\"_blank\">\\n\\t\\t\\t\\t\\t\\t<em class=\"theme_category\"> 경제M</em>\\n\\t\\t\\t\\t\\t\\t<strong class=\"title elss\">반년 새 2배 폭등도…삼성 업고 활활 타오르는 고덕 집값</strong>\\n\\t\\t\\t\\t\\t\\t<p class=\"desc\">[수도권 대표 주거지역 집중분석] ⑩ 경기 평택 고덕국제신도시 [땅집고] 경기도 평택시 고덕면에 조성 중인 고덕신도시는 2기 신도시 중 서울에서 멀리 떨어져 있다는 점에서 그동안 다소 주목도가 낮았다. 고덕신도시는 총 1340만㎡(약 405만4000평)에 주택 5만7000여 가구가 들어선다. 신도시 개발 직전인 2016년만 해도 평택시 미분양 주택은 500</p>\\n\\t\\t\\t\\t\\t\\t<div class=\"source_box\">\\n\\t\\t\\t\\t\\t\\t\\t<span class=\"date\">3일 전</span>\\n\\t\\t\\t\\t\\t\\t\\t<span class=\"source\"><span class=\"source_inner\">땅집고</span></span>\\n\\t\\t\\t\\t\\t\\t</div>\\n\\t\\t\\t\\t\\t</a>\\n\\t\\t\\t\\t</li>\\n\\t\\t\\t\\n\\t\\t\\t\\t<li class=\"theme_item\" data-gdid=\"CAS_f998f4ce-2258-11ec-8168-bb507c65dfd0\" data-da-position=\"true\">\\n\\t\\t\\t\\t\\t<a href=\"https://blog.naver.com/daishin_blog/222522018767\" class=\"theme_thumb\" data-clk=\"tcc_fin.list1cont2\" target=\"_blank\">\\n\\t\\t\\t\\t\\t\\t<img src=\"https://s.pstatic.net/dthumb.phinf/?src&#x3D;%22https%3A%2F%2Fs.pstatic.net%2Fstatic%2Fwww%2Fmobile%2Fedit%2F20211001_1095%2Fupload_1633052697438lrQMK.jpg%22&amp;type&#x3D;nf340_228\" data-src=\"https://s.pstatic.net/dthumb.phinf/?src&#x3D;%22https%3A%2F%2Fs.pstatic.net%2Fstatic%2Fwww%2Fmobile%2Fedit%2F20211001_1095%2Fupload_1633052697438lrQMK.jpg%22&amp;type&#x3D;nf340_228\" alt=\"‘거래절벽’에도 집 잘 파는 5가지 원칙\" width=\"170\" height=\"114\">\\n\\t\\t\\t\\t\\t\\t<span class=\"thumb_bd\"></span>\\n\\t\\t\\t\\t\\t</a>\\n\\t\\t\\t\\t\\t<a href=\"https://blog.naver.com/daishin_blog/222522018767\" class=\"theme_info\" data-clk=\"tcc_fin.list1cont2\" target=\"_blank\">\\n\\t\\t\\t\\t\\t\\t<em class=\"theme_category\"> 경제M</em>\\n\\t\\t\\t\\t\\t\\t<strong class=\"title elss\">‘거래절벽’에도 집 잘 파는 5가지 원칙</strong>\\n\\t\\t\\t\\t\\t\\t<p class=\"desc\">최근 주택 시장의 ‘거래절벽’이 이어지는 반면 집값은 고공행진을 하고 있습니다. ‘거래절벽’은 집값이 더 오를 것이라는 기대감에 매도인들은 매물을 거둬들이며 &#x27;매물잠김&#x27; 현상이 나타나고, 정부의 금리 인상과 대출 규제 등으로 인해 매수 심리는 위축되면서 이상 현상을 말하는데요. 그럼에도 실수요자들은 갈아타기를 위해 집을 내놓거나 분양받은 아파트에 ...</p>\\n\\t\\t\\t\\t\\t\\t<div class=\"source_box\">\\n\\t\\t\\t\\t\\t\\t\\t<span class=\"date\">4일 전</span>\\n\\t\\t\\t\\t\\t\\t\\t<span class=\"source\"><span class=\"source_inner\">대신증권</span></span>\\n\\t\\t\\t\\t\\t\\t</div>\\n\\t\\t\\t\\t\\t</a>\\n\\t\\t\\t\\t</li>\\n\\t\\t\\t\\n\\t\\t\\t\\t<li class=\"theme_item\" data-gdid=\"CAS_af2bc3b8-2258-11ec-9095-7d7948cce227\" data-da-position=\"true\">\\n\\t\\t\\t\\t\\t<a href=\"https://post.naver.com/viewer/postView.naver?volumeNo&#x3D;32473750&amp;memberNo&#x3D;20092661\" class=\"theme_thumb\" data-clk=\"tcc_fin.list1cont3\" target=\"_blank\">\\n\\t\\t\\t\\t\\t\\t<img src=\"https://s.pstatic.net/dthumb.phinf/?src&#x3D;%22https%3A%2F%2Fs.pstatic.net%2Fstatic%2Fwww%2Fmobile%2Fedit%2F20211001_1095%2Fupload_1633070671669MvOzb.jpg%22&amp;type&#x3D;nf340_228\" data-src=\"https://s.pstatic.net/dthumb.phinf/?src&#x3D;%22https%3A%2F%2Fs.pstatic.net%2Fstatic%2Fwww%2Fmobile%2Fedit%2F20211001_1095%2Fupload_1633070671669MvOzb.jpg%22&amp;type&#x3D;nf340_228\" alt=\"전국 4,316가구 청약 접수… 경기 분양 릴레이 이어진다\" width=\"170\" height=\"114\">\\n\\t\\t\\t\\t\\t\\t<span class=\"thumb_bd\"></span>\\n\\t\\t\\t\\t\\t</a>\\n\\t\\t\\t\\t\\t<a href=\"https://post.naver.com/viewer/postView.naver?volumeNo&#x3D;32473750&amp;memberNo&#x3D;20092661\" class=\"theme_info\" data-clk=\"tcc_fin.list1cont3\" target=\"_blank\">\\n\\t\\t\\t\\t\\t\\t<em class=\"theme_category\"> 경제M</em>\\n\\t\\t\\t\\t\\t\\t<strong class=\"title elss\">전국 4,316가구 청약 접수… 경기 분양 릴레이 이어진다</strong>\\n\\t\\t\\t\\t\\t\\t<p class=\"desc\">이번 주에는 서울 로또 분양 단지로 주목받았던 ‘e편한세상 강일 어반브릿지’에 많은 청약자가 몰렸습니다. 일반분양 389가구 모집에 13만1,447건이 청약에 접수해 평균 337.91대 1의 높은 경쟁률을 기록했습니다. 서울에서 보기 드문 추첨제 물량 배정과 분양가 상한제 적용 등이 수요자 관심을 끌었다는 분석입니다. 다음 주는 경기지</p>\\n\\t\\t\\t\\t\\t\\t<div class=\"source_box\">\\n\\t\\t\\t\\t\\t\\t\\t<span class=\"date\">3일 전</span>\\n\\t\\t\\t\\t\\t\\t\\t<span class=\"source\"><span class=\"source_inner\">부동산은 리얼투데이</span></span>\\n\\t\\t\\t\\t\\t\\t</div>\\n\\t\\t\\t\\t\\t</a>\\n\\t\\t\\t\\t</li>\\n\\t\\t\\t\\n\\t\\t\\t\\t<li class=\"theme_item\" data-gdid=\"CAS_a34dbcee-2258-11ec-b0f0-6fda7f9c8b82\" data-da-position=\"true\">\\n\\t\\t\\t\\t\\t<a href=\"https://post.naver.com/viewer/postView.naver?volumeNo&#x3D;32471490&amp;memberNo&#x3D;25386652\" class=\"theme_thumb\" data-clk=\"tcc_fin.list1cont4\" target=\"_blank\">\\n\\t\\t\\t\\t\\t\\t<img src=\"https://s.pstatic.net/dthumb.phinf/?src&#x3D;%22https%3A%2F%2Fs.pstatic.net%2Fstatic%2Fwww%2Fmobile%2Fedit%2F20211001_1095%2Fupload_1633070567194wDo3D.jpg%22&amp;type&#x3D;nf340_228\" data-src=\"https://s.pstatic.net/dthumb.phinf/?src&#x3D;%22https%3A%2F%2Fs.pstatic.net%2Fstatic%2Fwww%2Fmobile%2Fedit%2F20211001_1095%2Fupload_1633070567194wDo3D.jpg%22&amp;type&#x3D;nf340_228\" alt=\"10월 분양시장 개장, 역세권 단지들 눈에 띄네\" width=\"170\" height=\"114\">\\n\\t\\t\\t\\t\\t\\t<span class=\"thumb_bd\"></span>\\n\\t\\t\\t\\t\\t</a>\\n\\t\\t\\t\\t\\t<a href=\"https://post.naver.com/viewer/postView.naver?volumeNo&#x3D;32471490&amp;memberNo&#x3D;25386652\" class=\"theme_info\" data-clk=\"tcc_fin.list1cont4\" target=\"_blank\">\\n\\t\\t\\t\\t\\t\\t<em class=\"theme_category\"> 경제M</em>\\n\\t\\t\\t\\t\\t\\t<strong class=\"title elss\">10월 분양시장 개장, 역세권 단지들 눈에 띄네</strong>\\n\\t\\t\\t\\t\\t\\t<p class=\"desc\">단촐하게 문을 연 10월 분양시장, 흥행 이끌 단지는?10월 분양시장의 문이 열렸습니다. 이른 추석 연휴도 끝나고 본격적으로 분양물량이 쏟아질 것이라 기대했던 것과 달리 기대 만큼 분양물량이 나오지 않고 있습니다. 조사 결과 상당수 건설사들이 10월 중순경 일정으로 진행 중이라는 답변이 많아 중순 이후로 분양이 집중될 전망입니다. 부동산인포(www.</p>\\n\\t\\t\\t\\t\\t\\t<div class=\"source_box\">\\n\\t\\t\\t\\t\\t\\t\\t<span class=\"date\">3일 전</span>\\n\\t\\t\\t\\t\\t\\t\\t<span class=\"source\"><span class=\"source_inner\">RealCast</span></span>\\n\\t\\t\\t\\t\\t\\t</div>\\n\\t\\t\\t\\t\\t</a>\\n\\t\\t\\t\\t</li>\\n\\t\\t\\t\\n\\t\\t</ul>\\n\\t</div>\\n</div>\\n<div class=\"group_theme\" data-block-id=\"\" data-block-code=\"PC-THEME-FINANCE-MOBILE-RANKING-DEFAULT-1\" data-block-type=\"MATERIALS\" data-template-code=\"MOBILE-RANKING-LIST\"\\n\\n\\t data-da=\"container\"\\n\\t data-index=\"\"\\n     data-page=\"1\"\\n\\t >\\n\\n\\t<div class=\"list_theme_wrap\">\\n\\t\\t<ul class=\"list_theme\">\\n\\t\\t\\t\\n\\t\\t\\t\\t<li class=\"theme_item\" data-gdid=\"CAS_5830d93f-1f4a-11ec-95e6-5f4551c97a7b\" data-da-position=\"true\">\\n\\t\\t\\t\\t\\t<a href=\"https://post.naver.com/viewer/postView.naver?volumeNo&#x3D;32196430&amp;memberNo&#x3D;6309856\" class=\"theme_thumb\" data-clk=\"tcc_fin.list2cont1\" target=\"_blank\">\\n\\t\\t\\t\\t\\t\\t<img src=\"https://s.pstatic.net/dthumb.phinf/?src&#x3D;%22https%3A%2F%2Fs.pstatic.net%2Fstatic%2Fwww%2Fmobile%2Fedit%2F20210927_1095%2Fupload_1632716492028lZN5C.jpg%22&amp;type&#x3D;nf340_228\" data-src=\"https://s.pstatic.net/dthumb.phinf/?src&#x3D;%22https%3A%2F%2Fs.pstatic.net%2Fstatic%2Fwww%2Fmobile%2Fedit%2F20210927_1095%2Fupload_1632716492028lZN5C.jpg%22&amp;type&#x3D;nf340_228\" alt=\"슈퍼카 수십대 굴리는 30대 CEO가 하는 일\" width=\"170\" height=\"114\">\\n\\t\\t\\t\\t\\t\\t<span class=\"thumb_bd\"></span>\\n\\t\\t\\t\\t\\t</a>\\n\\t\\t\\t\\t\\t<a href=\"https://post.naver.com/viewer/postView.naver?volumeNo&#x3D;32196430&amp;memberNo&#x3D;6309856\" class=\"theme_info\" data-clk=\"tcc_fin.list2cont1\" target=\"_blank\">\\n\\t\\t\\t\\t\\t\\t<em class=\"theme_category\"> 경제M</em>\\n\\t\\t\\t\\t\\t\\t<strong class=\"title elss\">슈퍼카 수십대 굴리는 30대 CEO가 하는 일</strong>\\n\\t\\t\\t\\t\\t\\t<p class=\"desc\">수퍼카도 목돈 없이 &#x27;구독&#x27;하는 서비스 아우디, 벤츠, 페라리, 롤스로이스, 맥라렌, 캐딜락… 중고차 구독 서비스 ‘트라이브(trive)’에선 이 모든 드림카를 최소 6개월 단위로 바꿔가며 ‘구독’할 수 있습니다. 마치 넷플릭스 이용료를 결제하듯 매월 이용료를 내고 자동차를 이용할 수 있</p>\\n\\t\\t\\t\\t\\t\\t<div class=\"source_box\">\\n\\t\\t\\t\\t\\t\\t\\t<span class=\"date\">1개월 전</span>\\n\\t\\t\\t\\t\\t\\t\\t<span class=\"source\"><span class=\"source_inner\">콘텐츠 컴퍼니</span></span>\\n\\t\\t\\t\\t\\t\\t</div>\\n\\t\\t\\t\\t\\t</a>\\n\\t\\t\\t\\t</li>\\n\\t\\t\\t\\n\\t\\t\\t\\t<li class=\"theme_item\" data-gdid=\"CAS_a2d0ad4b-20ef-11ec-89e6-8d89c9659f86\" data-da-position=\"true\">\\n\\t\\t\\t\\t\\t<a href=\"https://blog.naver.com/sangsangin_fin/222519530308\" class=\"theme_thumb\" data-clk=\"tcc_fin.list2cont2\" target=\"_blank\">\\n\\t\\t\\t\\t\\t\\t<img src=\"https://s.pstatic.net/dthumb.phinf/?src&#x3D;%22https%3A%2F%2Fs.pstatic.net%2Fstatic%2Fwww%2Fmobile%2Fedit%2F20210929_1095%2Fupload_1632897489605pfgxT.jpg%22&amp;type&#x3D;nf340_228\" data-src=\"https://s.pstatic.net/dthumb.phinf/?src&#x3D;%22https%3A%2F%2Fs.pstatic.net%2Fstatic%2Fwww%2Fmobile%2Fedit%2F20210929_1095%2Fupload_1632897489605pfgxT.jpg%22&amp;type&#x3D;nf340_228\" alt=\"요즘 부자들은 집 대신 OO통장을 물려준다?\" width=\"170\" height=\"114\">\\n\\t\\t\\t\\t\\t\\t<span class=\"thumb_bd\"></span>\\n\\t\\t\\t\\t\\t</a>\\n\\t\\t\\t\\t\\t<a href=\"https://blog.naver.com/sangsangin_fin/222519530308\" class=\"theme_info\" data-clk=\"tcc_fin.list2cont2\" target=\"_blank\">\\n\\t\\t\\t\\t\\t\\t<em class=\"theme_category\"> 경제M</em>\\n\\t\\t\\t\\t\\t\\t<strong class=\"title elss\">요즘 부자들은 집 대신 OO통장을 물려준다?</strong>\\n\\t\\t\\t\\t\\t\\t<p class=\"desc\">집값이 오르고 있는 이유는 무엇일까요? 저금리와 풍부한 유동성, 지속적인 소득 증가와 가구 분화로 주택 수요가 급격하게 늘어난 것이 원인이라고 할 수 있는데요. 여기에 주택 공급에 대한 불안 심리 때문에 주택 매수가 이어지면서 집값 상승이 지속되고 있습니다. 이런 상황에서 정부는 2025년까지 전국 80만 가구, 서울 30만 가구 이상을 추가로 공급하는 내</p>\\n\\t\\t\\t\\t\\t\\t<div class=\"source_box\">\\n\\t\\t\\t\\t\\t\\t\\t<span class=\"date\">5일 전</span>\\n\\t\\t\\t\\t\\t\\t\\t<span class=\"source\"><span class=\"source_inner\">상상인저축은행</span></span>\\n\\t\\t\\t\\t\\t\\t</div>\\n\\t\\t\\t\\t\\t</a>\\n\\t\\t\\t\\t</li>\\n\\t\\t\\t\\n\\t\\t\\t\\t<li class=\"theme_item\" data-gdid=\"CAS_a2d0ad4c-20ef-11ec-89e6-dbdfe839f484\" data-da-position=\"true\">\\n\\t\\t\\t\\t\\t<a href=\"https://blog.naver.com/realty_go/222520729522\" class=\"theme_thumb\" data-clk=\"tcc_fin.list2cont3\" target=\"_blank\">\\n\\t\\t\\t\\t\\t\\t<img src=\"https://s.pstatic.net/dthumb.phinf/?src&#x3D;%22https%3A%2F%2Fs.pstatic.net%2Fstatic%2Fwww%2Fmobile%2Fedit%2F20210929_1095%2Fupload_1632897431222MqzeN.jpg%22&amp;type&#x3D;nf340_228\" data-src=\"https://s.pstatic.net/dthumb.phinf/?src&#x3D;%22https%3A%2F%2Fs.pstatic.net%2Fstatic%2Fwww%2Fmobile%2Fedit%2F20210929_1095%2Fupload_1632897431222MqzeN.jpg%22&amp;type&#x3D;nf340_228\" alt=\"&quot;이젠 강원도다&quot;…대형 건설사들이 영동에 손 뻗는 이유\" width=\"170\" height=\"114\">\\n\\t\\t\\t\\t\\t\\t<span class=\"thumb_bd\"></span>\\n\\t\\t\\t\\t\\t</a>\\n\\t\\t\\t\\t\\t<a href=\"https://blog.naver.com/realty_go/222520729522\" class=\"theme_info\" data-clk=\"tcc_fin.list2cont3\" target=\"_blank\">\\n\\t\\t\\t\\t\\t\\t<em class=\"theme_category\"> 경제M</em>\\n\\t\\t\\t\\t\\t\\t<strong class=\"title elss\">\"이젠 강원도다\"…대형 건설사들이 영동에 손 뻗는 이유</strong>\\n\\t\\t\\t\\t\\t\\t<p class=\"desc\">[땅집고] 국내 ‘빅 5’ 건설사로 꼽히는 GS건설이 오는 10월 강원 동해시에 ‘동해 자이’ 아파트를 분양한다. 동해시에 최초로 들어서는 ‘자이’ 브랜드 아파트다. GS건설 관계자는 “동해·속초 등 영동 지역에서 대형 건설사 브랜드 아파트가 워낙 드문 데다, 동해시 최초로 주차장을 모두 지하에 배치하는 공원형 아파트이기도 해 현지는 물론 외지인 관심이 높</p>\\n\\t\\t\\t\\t\\t\\t<div class=\"source_box\">\\n\\t\\t\\t\\t\\t\\t\\t<span class=\"date\">5일 전</span>\\n\\t\\t\\t\\t\\t\\t\\t<span class=\"source\"><span class=\"source_inner\">땅집고</span></span>\\n\\t\\t\\t\\t\\t\\t</div>\\n\\t\\t\\t\\t\\t</a>\\n\\t\\t\\t\\t</li>\\n\\t\\t\\t\\n\\t\\t\\t\\t<li class=\"theme_item\" data-gdid=\"CAS_5830d940-1f4a-11ec-95e6-2d898c923b5a\" data-da-position=\"true\">\\n\\t\\t\\t\\t\\t<a href=\"https://blog.naver.com/bagus8/222505065223\" class=\"theme_thumb\" data-clk=\"tcc_fin.list2cont4\" target=\"_blank\">\\n\\t\\t\\t\\t\\t\\t<img src=\"https://s.pstatic.net/dthumb.phinf/?src&#x3D;%22https%3A%2F%2Fs.pstatic.net%2Fstatic%2Fwww%2Fmobile%2Fedit%2F20210927_1095%2Fupload_1632716505868LSdP0.jpg%22&amp;type&#x3D;nf340_228\" data-src=\"https://s.pstatic.net/dthumb.phinf/?src&#x3D;%22https%3A%2F%2Fs.pstatic.net%2Fstatic%2Fwww%2Fmobile%2Fedit%2F20210927_1095%2Fupload_1632716505868LSdP0.jpg%22&amp;type&#x3D;nf340_228\" alt=\"친구는 모두 은퇴한 나이, 망할 뻔 했던 LG맨을 사장님 만든 아이디어\" width=\"170\" height=\"114\">\\n\\t\\t\\t\\t\\t\\t<span class=\"thumb_bd\"></span>\\n\\t\\t\\t\\t\\t</a>\\n\\t\\t\\t\\t\\t<a href=\"https://blog.naver.com/bagus8/222505065223\" class=\"theme_info\" data-clk=\"tcc_fin.list2cont4\" target=\"_blank\">\\n\\t\\t\\t\\t\\t\\t<em class=\"theme_category\"> 경제M</em>\\n\\t\\t\\t\\t\\t\\t<strong class=\"title elss\">친구는 모두 은퇴한 나이, 망할 뻔 했던 LG맨을 사장님 만든 아이디어</strong>\\n\\t\\t\\t\\t\\t\\t<p class=\"desc\">LG맨의 구리 생활용품 개발 노트 들여다 보기 수세미를 ‘세균의 온상’이라고 한다. 매일 쓰는 물건인데 습기로 인해 인체에 해로운 균에 가장 취약한 물건이기 때문이다. 씨유순(CUSOON)은 항균력이 뛰어난 &#x27;구리&#x27;를 이용한 생활용품을 만드는 회사다. 구리로 못 만드는 게 없다. &#x27;구리 장인&#x27; 선우 한갑수(67) 대표가 의 제품 개발노트를 엿봤다. ...</p>\\n\\t\\t\\t\\t\\t\\t<div class=\"source_box\">\\n\\t\\t\\t\\t\\t\\t\\t<span class=\"date\">2주일 전</span>\\n\\t\\t\\t\\t\\t\\t\\t<span class=\"source\"><span class=\"source_inner\">경제 하티스트</span></span>\\n\\t\\t\\t\\t\\t\\t</div>\\n\\t\\t\\t\\t\\t</a>\\n\\t\\t\\t\\t</li>\\n\\t\\t\\t\\n\\t\\t</ul>\\n\\t</div>\\n</div>\\n<div class=\"group_theme\" data-block-id=\"\" data-block-code=\"PC-THEME-FINANCE-MOBILE-RANKING-DEFAULT-2\" data-block-type=\"MATERIALS\" data-template-code=\"MOBILE-RANKING-LIST\"\\n\\n\\t data-da=\"container\"\\n\\t data-index=\"\"\\n     data-page=\"2\"\\n\\t style=\"display:none\">\\n\\n\\t<div class=\"list_theme_wrap\">\\n\\t\\t<ul class=\"list_theme\">\\n\\t\\t\\t\\n\\t\\t\\t\\t<li class=\"theme_item\" data-gdid=\"CAS_10cddadc-1517-11ec-8406-f54bfb213b24\" data-da-position=\"true\">\\n\\t\\t\\t\\t\\t<a href=\"https://post.naver.com/viewer/postView.naver?volumeNo&#x3D;32445632&amp;memberNo&#x3D;30473277\" class=\"theme_thumb\" data-clk=\"tcc_fin.list3cont1\" target=\"_blank\">\\n\\t\\t\\t\\t\\t\\t<img  data-src=\"https://s.pstatic.net/dthumb.phinf/?src&#x3D;%22https%3A%2F%2Fs.pstatic.net%2Fstatic%2Fwww%2Fmobile%2Fedit%2F20210928_1095%2Fupload_1632807248765gBfmw.jpg%22&amp;type&#x3D;nf340_228\" alt=\"외국인, 기관 순매수 Top5는?\" width=\"170\" height=\"114\">\\n\\t\\t\\t\\t\\t\\t<span class=\"thumb_bd\"></span>\\n\\t\\t\\t\\t\\t</a>\\n\\t\\t\\t\\t\\t<a href=\"https://post.naver.com/viewer/postView.naver?volumeNo&#x3D;32445632&amp;memberNo&#x3D;30473277\" class=\"theme_info\" data-clk=\"tcc_fin.list3cont1\" target=\"_blank\">\\n\\t\\t\\t\\t\\t\\t<em class=\"theme_category\"> 경제M</em>\\n\\t\\t\\t\\t\\t\\t<strong class=\"title elss\">외국인, 기관 순매수 Top5는?</strong>\\n\\t\\t\\t\\t\\t\\t<p class=\"desc\">*본 포스팅은 9월 13일부터 9월 24일까지 키움증권 HTS 영웅문4, 화면번호 [0795]에서 집계한외국인, 기관 순매수 상위 종목을 정리한 것으로 종목에 대한 추천이 아님을 밝힙니다.※키움증권 준법감시인 심사필 제 2021-03122호(2021.09.28 ~ 2022.09.27) 동영상  버튼을 누르면 현재 화면에서 재생됩니다. 강병욱의 SSUL ㅣ </p>\\n\\t\\t\\t\\t\\t\\t<div class=\"source_box\">\\n\\t\\t\\t\\t\\t\\t\\t<span class=\"date\">6일 전</span>\\n\\t\\t\\t\\t\\t\\t\\t<span class=\"source\"><span class=\"source_inner\">키움증권</span></span>\\n\\t\\t\\t\\t\\t\\t</div>\\n\\t\\t\\t\\t\\t</a>\\n\\t\\t\\t\\t</li>\\n\\t\\t\\t\\n\\t\\t\\t\\t<li class=\"theme_item\" data-gdid=\"CAS_10cddade-1517-11ec-8406-47c246de33a2\" data-da-position=\"true\">\\n\\t\\t\\t\\t\\t<a href=\"https://post.naver.com/viewer/postView.naver?volumeNo&#x3D;32450274&amp;memberNo&#x3D;28991414\" class=\"theme_thumb\" data-clk=\"tcc_fin.list3cont2\" target=\"_blank\">\\n\\t\\t\\t\\t\\t\\t<img  data-src=\"https://s.pstatic.net/dthumb.phinf/?src&#x3D;%22https%3A%2F%2Fs.pstatic.net%2Fstatic%2Fwww%2Fmobile%2Fedit%2F20210928_1095%2Fupload_1632807354839SIEbV.jpg%22&amp;type&#x3D;nf340_228\" alt=\"연금펀드 주간  수익률 TOP10\" width=\"170\" height=\"114\">\\n\\t\\t\\t\\t\\t\\t<span class=\"thumb_bd\"></span>\\n\\t\\t\\t\\t\\t</a>\\n\\t\\t\\t\\t\\t<a href=\"https://post.naver.com/viewer/postView.naver?volumeNo&#x3D;32450274&amp;memberNo&#x3D;28991414\" class=\"theme_info\" data-clk=\"tcc_fin.list3cont2\" target=\"_blank\">\\n\\t\\t\\t\\t\\t\\t<em class=\"theme_category\"> 경제M</em>\\n\\t\\t\\t\\t\\t\\t<strong class=\"title elss\">연금펀드 주간  수익률 TOP10</strong>\\n\\t\\t\\t\\t\\t\\t<p class=\"desc\">•투자자는 집합투자증권에 대하여 당사로부터 충분한 설명을 받을 권리가 있으며, 투자전 (간이)투자설명서 및 집합투자규약을 반드시 읽어보시기 바랍니다. •집합투자증권은 예금자보호법에 따라 예금보험공사가 보호하지 않습니다. •집합투자증권은 자산가격 변동, 환율 변동, 신용등급 하락 등에 따라 투자원금의 손실(0~</p>\\n\\t\\t\\t\\t\\t\\t<div class=\"source_box\">\\n\\t\\t\\t\\t\\t\\t\\t<span class=\"date\">6일 전</span>\\n\\t\\t\\t\\t\\t\\t\\t<span class=\"source\"><span class=\"source_inner\">한국포스증권</span></span>\\n\\t\\t\\t\\t\\t\\t</div>\\n\\t\\t\\t\\t\\t</a>\\n\\t\\t\\t\\t</li>\\n\\t\\t\\t\\n\\t\\t\\t\\t<li class=\"theme_item\" data-gdid=\"CAS_7b9e7aca-200d-11ec-89e6-4b61269d0d7f\" data-da-position=\"true\">\\n\\t\\t\\t\\t\\t<a href=\"https://post.naver.com/viewer/postView.naver?volumeNo&#x3D;32441376&amp;memberNo&#x3D;34429994\" class=\"theme_thumb\" data-clk=\"tcc_fin.list3cont3\" target=\"_blank\">\\n\\t\\t\\t\\t\\t\\t<img  data-src=\"https://s.pstatic.net/dthumb.phinf/?src&#x3D;%22https%3A%2F%2Fs.pstatic.net%2Fstatic%2Fwww%2Fmobile%2Fedit%2F20210927_1095%2Fupload_1632727730425PhLKN.jpg%22&amp;type&#x3D;nf340_228\" alt=\"&quot;매일이 공포&quot;…사진만 봐도 섬뜩한 &#x27;광주판 피사의 사탑&#x27;\" width=\"170\" height=\"114\">\\n\\t\\t\\t\\t\\t\\t<span class=\"thumb_bd\"></span>\\n\\t\\t\\t\\t\\t</a>\\n\\t\\t\\t\\t\\t<a href=\"https://post.naver.com/viewer/postView.naver?volumeNo&#x3D;32441376&amp;memberNo&#x3D;34429994\" class=\"theme_info\" data-clk=\"tcc_fin.list3cont3\" target=\"_blank\">\\n\\t\\t\\t\\t\\t\\t<em class=\"theme_category\"> 경제M</em>\\n\\t\\t\\t\\t\\t\\t<strong class=\"title elss\">\"매일이 공포\"…사진만 봐도 섬뜩한 \\'광주판 피사의 사탑\\'</strong>\\n\\t\\t\\t\\t\\t\\t<p class=\"desc\">빌라가 기울어져 집에서 몸만 빠져나왔는데, 두 달이 지나도록 돌아가지 못하고 있습니다.경기 광주시 오포읍 신현리의 한 다세대주택(빌라)가 앞 건물 공사로 지반이 침하하며 기울어져 대피한 주민들이 두달째 임시 거처에서 생활하고 있다. 주민들은 지난 7월 건물 붕괴 우려로 몸만 빠져나온 이후 지인의 집이나 호텔 등을 전전하고 있지만 지반 침하를 </p>\\n\\t\\t\\t\\t\\t\\t<div class=\"source_box\">\\n\\t\\t\\t\\t\\t\\t\\t<span class=\"date\">1주일 전</span>\\n\\t\\t\\t\\t\\t\\t\\t<span class=\"source\"><span class=\"source_inner\">땅집고</span></span>\\n\\t\\t\\t\\t\\t\\t</div>\\n\\t\\t\\t\\t\\t</a>\\n\\t\\t\\t\\t</li>\\n\\t\\t\\t\\n\\t\\t\\t\\t<li class=\"theme_item\" data-gdid=\"CAS_307927ca-1f4a-11ec-88ef-a5e85b22c7a1\" data-da-position=\"true\">\\n\\t\\t\\t\\t\\t<a href=\"https://blog.naver.com/dcampdev/222513929993\" class=\"theme_thumb\" data-clk=\"tcc_fin.list3cont4\" target=\"_blank\">\\n\\t\\t\\t\\t\\t\\t<img  data-src=\"https://s.pstatic.net/dthumb.phinf/?src&#x3D;%22https%3A%2F%2Fs.pstatic.net%2Fstatic%2Fwww%2Fmobile%2Fedit%2F20210927_1095%2Fupload_1632716453747T3p6g.jpg%22&amp;type&#x3D;nf340_228\" alt=\"어느 직장인의 복지 혜택 &quot;이 정도면 어떤 수준인가요?&quot;\" width=\"170\" height=\"114\">\\n\\t\\t\\t\\t\\t\\t<span class=\"thumb_bd\"></span>\\n\\t\\t\\t\\t\\t</a>\\n\\t\\t\\t\\t\\t<a href=\"https://blog.naver.com/dcampdev/222513929993\" class=\"theme_info\" data-clk=\"tcc_fin.list3cont4\" target=\"_blank\">\\n\\t\\t\\t\\t\\t\\t<em class=\"theme_category\"> 경제M</em>\\n\\t\\t\\t\\t\\t\\t<strong class=\"title elss\">어느 직장인의 복지 혜택 \"이 정도면 어떤 수준인가요?\"</strong>\\n\\t\\t\\t\\t\\t\\t<p class=\"desc\">성과를 극대화하는 보상의 방법 다음 중 자동차 판매 대리점 지점장이 내릴 수 있는 최선의 선택은 무엇일까. 정답은 ‘파격적인 인센티브’ 지급이다. ‘둘 다 돈 많이 주니까 좋은 거 아니야?’라고 반문할 수 있지만 기본급과 인센티브는 ‘현금성 보상’이라는 공통점을 제외하면 추산 근거와 작동 방식이 아예 다르다. 주머니 사정이 넉넉치 않은 스타트업 일수록 안 </p>\\n\\t\\t\\t\\t\\t\\t<div class=\"source_box\">\\n\\t\\t\\t\\t\\t\\t\\t<span class=\"date\">1주일 전</span>\\n\\t\\t\\t\\t\\t\\t\\t<span class=\"source\"><span class=\"source_inner\">디캠프</span></span>\\n\\t\\t\\t\\t\\t\\t</div>\\n\\t\\t\\t\\t\\t</a>\\n\\t\\t\\t\\t</li>\\n\\t\\t\\t\\n\\t\\t\\t\\t<li class=\"theme_item\" data-gdid=\"CAS_7b9e7ac9-200d-11ec-89e6-07a431d485ab\" data-da-position=\"true\">\\n\\t\\t\\t\\t\\t<a href=\"https://post.naver.com/viewer/postView.naver?volumeNo&#x3D;32447071&amp;memberNo&#x3D;46178467\" class=\"theme_thumb\" data-clk=\"tcc_fin.list3cont5\" target=\"_blank\">\\n\\t\\t\\t\\t\\t\\t<img  data-src=\"https://s.pstatic.net/dthumb.phinf/?src&#x3D;%22https%3A%2F%2Fs.pstatic.net%2Fstatic%2Fwww%2Fmobile%2Fedit%2F20210928_1095%2Fupload_1632800302864kYat2.jpg%22&amp;type&#x3D;nf340_228\" alt=\"물가가 왜 이래?\" width=\"170\" height=\"114\">\\n\\t\\t\\t\\t\\t\\t<span class=\"thumb_bd\"></span>\\n\\t\\t\\t\\t\\t</a>\\n\\t\\t\\t\\t\\t<a href=\"https://post.naver.com/viewer/postView.naver?volumeNo&#x3D;32447071&amp;memberNo&#x3D;46178467\" class=\"theme_info\" data-clk=\"tcc_fin.list3cont5\" target=\"_blank\">\\n\\t\\t\\t\\t\\t\\t<em class=\"theme_category\"> 경제M</em>\\n\\t\\t\\t\\t\\t\\t<strong class=\"title elss\">물가가 왜 이래?</strong>\\n\\t\\t\\t\\t\\t\\t<p class=\"desc\">#1 물가가 왜 이래?글, 정인무슨 일이 있었냐면요 지난해부터 물가 상승 이야기가 꾸준히 나오고 있죠. 대파와 계란값이 폭등했던 올해 봄, 머니레터에서도 식료품 물가가 치솟는 ‘애그플레이션’을 다루기도 했어요. 그런데 이번에는 식료품 물가를 포함한 소비자물가는 물론, 회사에서 상품을 생산할 때 드는 비용인 생산자물가도 걱정할 만한 수준</p>\\n\\t\\t\\t\\t\\t\\t<div class=\"source_box\">\\n\\t\\t\\t\\t\\t\\t\\t<span class=\"date\">6일 전</span>\\n\\t\\t\\t\\t\\t\\t\\t<span class=\"source\"><span class=\"source_inner\">UPPITY 어피티</span></span>\\n\\t\\t\\t\\t\\t\\t</div>\\n\\t\\t\\t\\t\\t</a>\\n\\t\\t\\t\\t</li>\\n\\t\\t\\t\\n\\t\\t</ul>\\n\\t</div>\\n</div>\\n<div class=\"group_theme\" data-block-id=\"\" data-block-code=\"PC-THEME-FINANCE-MOBILE-RANKING-DEFAULT-3\" data-block-type=\"MATERIALS\" data-template-code=\"MOBILE-RANKING-LIST\"\\n\\n\\t data-da=\"container\"\\n\\t data-index=\"\"\\n     data-page=\"2\"\\n\\t style=\"display:none\">\\n\\n\\t<div class=\"list_theme_wrap\">\\n\\t\\t<ul class=\"list_theme\">\\n\\t\\t\\t\\n\\t\\t\\t\\t<li class=\"theme_item\" data-gdid=\"CAS_307927c9-1f4a-11ec-88ef-f55195bb6a63\" data-da-position=\"true\">\\n\\t\\t\\t\\t\\t<a href=\"https://blog.naver.com/bagus8/222513907183\" class=\"theme_thumb\" data-clk=\"tcc_fin.list4cont1\" target=\"_blank\">\\n\\t\\t\\t\\t\\t\\t<img  data-src=\"https://s.pstatic.net/dthumb.phinf/?src&#x3D;%22https%3A%2F%2Fs.pstatic.net%2Fstatic%2Fwww%2Fmobile%2Fedit%2F20210927_1095%2Fupload_1632716433790Xy3CR.jpg%22&amp;type&#x3D;nf340_228\" alt=\"&#x27;그 사업 안된다&#x27; 말리러 갔다가 건져 온 40억원 아이디어\" width=\"170\" height=\"114\">\\n\\t\\t\\t\\t\\t\\t<span class=\"thumb_bd\"></span>\\n\\t\\t\\t\\t\\t</a>\\n\\t\\t\\t\\t\\t<a href=\"https://blog.naver.com/bagus8/222513907183\" class=\"theme_info\" data-clk=\"tcc_fin.list4cont1\" target=\"_blank\">\\n\\t\\t\\t\\t\\t\\t<em class=\"theme_category\"> 경제M</em>\\n\\t\\t\\t\\t\\t\\t<strong class=\"title elss\">\\'그 사업 안된다\\' 말리러 갔다가 건져 온 40억원 아이디어</strong>\\n\\t\\t\\t\\t\\t\\t<p class=\"desc\">3D 스캐너·프린터로 세상에 하나 뿐인 맞춤 안경 만드는 브리즘 큰 성공을 맛봤다가 실패하면 다시 일어서기 더 어렵다. 안경 사업에 뛰어들어 연 100억원 매출을 달성했다가, 실패 후 3D 스캐닝과 프린팅 기술을 활용한 맞춤형 안경으로 재기한 콥틱의 박형진 대표를 만났다. ◇3D프린터와 스캐닝 장비로 맞춤형 안경 제작 얼굴 측정부터 안경테 완성까지 약 10</p>\\n\\t\\t\\t\\t\\t\\t<div class=\"source_box\">\\n\\t\\t\\t\\t\\t\\t\\t<span class=\"date\">1주일 전</span>\\n\\t\\t\\t\\t\\t\\t\\t<span class=\"source\"><span class=\"source_inner\">경제 하티스트</span></span>\\n\\t\\t\\t\\t\\t\\t</div>\\n\\t\\t\\t\\t\\t</a>\\n\\t\\t\\t\\t</li>\\n\\t\\t\\t\\n\\t\\t\\t\\t<li class=\"theme_item\" data-gdid=\"CAS_e2ffeedd-1f49-11ec-95e6-5db645aefe89\" data-da-position=\"true\">\\n\\t\\t\\t\\t\\t<a href=\"https://blog.naver.com/fss2009/222518152503\" class=\"theme_thumb\" data-clk=\"tcc_fin.list4cont2\" target=\"_blank\">\\n\\t\\t\\t\\t\\t\\t<img  data-src=\"https://s.pstatic.net/dthumb.phinf/?src&#x3D;%22https%3A%2F%2Fs.pstatic.net%2Fstatic%2Fwww%2Fmobile%2Fedit%2F20210927_1095%2Fupload_1632716300593LIKcQ.jpg%22&amp;type&#x3D;nf340_228\" alt=\"주식거래 중에 갑자기 어플이 오류라면?!\" width=\"170\" height=\"114\">\\n\\t\\t\\t\\t\\t\\t<span class=\"thumb_bd\"></span>\\n\\t\\t\\t\\t\\t</a>\\n\\t\\t\\t\\t\\t<a href=\"https://blog.naver.com/fss2009/222518152503\" class=\"theme_info\" data-clk=\"tcc_fin.list4cont2\" target=\"_blank\">\\n\\t\\t\\t\\t\\t\\t<em class=\"theme_category\"> 경제M</em>\\n\\t\\t\\t\\t\\t\\t<strong class=\"title elss\">주식거래 중에 갑자기 어플이 오류라면?!</strong>\\n\\t\\t\\t\\t\\t\\t<p class=\"desc\">안녕하세요. 금융감독원 대학생 기자단 강민구입니다! 요즘 주위를 살펴보면, 주식 열풍이 피부로 와닿을 만큼 많은 분들이 주식 투자를 하고 계신데요, 간편하게 MTS나 HTS를 이용하는 경우도 많은 것 같습니다. 여기서 MTS란 Mobile Trading System을, HTS란 Home Trading Systemd을 의미하는데, 덕분에 모바일이나 집에서 간</p>\\n\\t\\t\\t\\t\\t\\t<div class=\"source_box\">\\n\\t\\t\\t\\t\\t\\t\\t<span class=\"date\">1주일 전</span>\\n\\t\\t\\t\\t\\t\\t\\t<span class=\"source\"><span class=\"source_inner\">금 조사역</span></span>\\n\\t\\t\\t\\t\\t\\t</div>\\n\\t\\t\\t\\t\\t</a>\\n\\t\\t\\t\\t</li>\\n\\t\\t\\t\\n\\t\\t\\t\\t<li class=\"theme_item\" data-gdid=\"CAS_e2ffeedc-1f49-11ec-95e6-332c8f7ccc3e\" data-da-position=\"true\">\\n\\t\\t\\t\\t\\t<a href=\"https://post.naver.com/viewer/postView.naver?volumeNo&#x3D;32439836&amp;memberNo&#x3D;4846060\" class=\"theme_thumb\" data-clk=\"tcc_fin.list4cont3\" target=\"_blank\">\\n\\t\\t\\t\\t\\t\\t<img  data-src=\"https://s.pstatic.net/dthumb.phinf/?src&#x3D;%22https%3A%2F%2Fs.pstatic.net%2Fstatic%2Fwww%2Fmobile%2Fedit%2F20210927_1095%2Fupload_16327276483756nIeu.jpg%22&amp;type&#x3D;nf340_228\" alt=\"20대 꿈을 향한 도전 D-730, 재취업 위한 생활비 마련은?\" width=\"170\" height=\"114\">\\n\\t\\t\\t\\t\\t\\t<span class=\"thumb_bd\"></span>\\n\\t\\t\\t\\t\\t</a>\\n\\t\\t\\t\\t\\t<a href=\"https://post.naver.com/viewer/postView.naver?volumeNo&#x3D;32439836&amp;memberNo&#x3D;4846060\" class=\"theme_info\" data-clk=\"tcc_fin.list4cont3\" target=\"_blank\">\\n\\t\\t\\t\\t\\t\\t<em class=\"theme_category\"> 경제M</em>\\n\\t\\t\\t\\t\\t\\t<strong class=\"title elss\">20대 꿈을 향한 도전 D-730, 재취업 위한 생활비 마련은?</strong>\\n\\t\\t\\t\\t\\t\\t<p class=\"desc\">(본 포스트는 금융감독원 금융자문서비스 상담사례를 바탕으로 재구성되었습니다.)A씨(27세) / 미혼 월 수입 230만원 / 상여 및 성과금 500만원 월 저축액 160만원(청약저축 포함) 재무목표: 1년 후 직업이전과 주거자금 마련하고 싶은 일을 찾았는데... 재취업 기간동안 버틸 자금이 필요해요!Question.</p>\\n\\t\\t\\t\\t\\t\\t<div class=\"source_box\">\\n\\t\\t\\t\\t\\t\\t\\t<span class=\"date\">1주일 전</span>\\n\\t\\t\\t\\t\\t\\t\\t<span class=\"source\"><span class=\"source_inner\">한국FP협회</span></span>\\n\\t\\t\\t\\t\\t\\t</div>\\n\\t\\t\\t\\t\\t</a>\\n\\t\\t\\t\\t</li>\\n\\t\\t\\t\\n\\t\\t\\t\\t<li class=\"theme_item\" data-gdid=\"CAS_e2ffeede-1f49-11ec-95e6-2b1af08e6378\" data-da-position=\"true\">\\n\\t\\t\\t\\t\\t<a href=\"https://post.naver.com/viewer/postView.naver?volumeNo&#x3D;32244702&amp;memberNo&#x3D;25128306\" class=\"theme_thumb\" data-clk=\"tcc_fin.list4cont4\" target=\"_blank\">\\n\\t\\t\\t\\t\\t\\t<img  data-src=\"https://s.pstatic.net/dthumb.phinf/?src&#x3D;%22https%3A%2F%2Fs.pstatic.net%2Fstatic%2Fwww%2Fmobile%2Fedit%2F20210927_1095%2Fupload_1632716333466W8nS3.jpg%22&amp;type&#x3D;nf340_228\" alt=\"이병철 부행장, “50+ 시니어 신춘문예 공모전을 통한 퇴직연금 가입자 문화 재발견”\" width=\"170\" height=\"114\">\\n\\t\\t\\t\\t\\t\\t<span class=\"thumb_bd\"></span>\\n\\t\\t\\t\\t\\t</a>\\n\\t\\t\\t\\t\\t<a href=\"https://post.naver.com/viewer/postView.naver?volumeNo&#x3D;32244702&amp;memberNo&#x3D;25128306\" class=\"theme_info\" data-clk=\"tcc_fin.list4cont4\" target=\"_blank\">\\n\\t\\t\\t\\t\\t\\t<em class=\"theme_category\"> 경제M</em>\\n\\t\\t\\t\\t\\t\\t<strong class=\"title elss\">이병철 부행장, “50+ 시니어 신춘문예 공모전을 통한 퇴직연금 가입자 문화 재발견”</strong>\\n\\t\\t\\t\\t\\t\\t<p class=\"desc\">신한은행과 ‘브라보 마이 라이프’가 공동으로 개최한 ‘50+ 시니어 신춘문예 공모전’이 예상을 뛰어넘는 350편의 지원작이 몰린 가운데 성황리에 종료되었다. 힘든 코로나 시국에 시니어들에게 조금이나마 힘이 되도록 용기와 꿈을 실현할 기회를 제공하자는 취지로 진행된 이번 공모전은 재능과 창의력 넘치는 작품이 다수 발견되어 액티브 시니어의 능력을 다시 한번 확</p>\\n\\t\\t\\t\\t\\t\\t<div class=\"source_box\">\\n\\t\\t\\t\\t\\t\\t\\t<span class=\"date\">1주일 전</span>\\n\\t\\t\\t\\t\\t\\t\\t<span class=\"source\"><span class=\"source_inner\">브라보마이라이프</span></span>\\n\\t\\t\\t\\t\\t\\t</div>\\n\\t\\t\\t\\t\\t</a>\\n\\t\\t\\t\\t</li>\\n\\t\\t\\t\\n\\t\\t\\t\\t<li class=\"theme_item\" data-gdid=\"CAS_5b035cf7-1f59-11ec-88ef-3bf0b08115e0\" data-da-position=\"true\">\\n\\t\\t\\t\\t\\t<a href=\"https://blog.naver.com/cardifkorea/222515647955\" class=\"theme_thumb\" data-clk=\"tcc_fin.list4cont5\" target=\"_blank\">\\n\\t\\t\\t\\t\\t\\t<img  data-src=\"https://s.pstatic.net/dthumb.phinf/?src&#x3D;%22https%3A%2F%2Fs.pstatic.net%2Fstatic%2Fwww%2Fmobile%2Fedit%2F20210927_1095%2Fupload_1632723518916xNIsS.jpg%22&amp;type&#x3D;nf340_228\" alt=\"내 자산을 굴리는 달러 투자 방법은? (feat. 환테크)\" width=\"170\" height=\"114\">\\n\\t\\t\\t\\t\\t\\t<span class=\"thumb_bd\"></span>\\n\\t\\t\\t\\t\\t</a>\\n\\t\\t\\t\\t\\t<a href=\"https://blog.naver.com/cardifkorea/222515647955\" class=\"theme_info\" data-clk=\"tcc_fin.list4cont5\" target=\"_blank\">\\n\\t\\t\\t\\t\\t\\t<em class=\"theme_category\"> 경제M</em>\\n\\t\\t\\t\\t\\t\\t<strong class=\"title elss\">내 자산을 굴리는 달러 투자 방법은? (feat. 환테크)</strong>\\n\\t\\t\\t\\t\\t\\t<p class=\"desc\">&lt;체계적인 자산 키우기&gt; ‘미친 물가’ 인플레이션 시대, 내 자산을 굴리는 달러 투자 방법은? (feat. 환테크) 최근 9월 17일, 기획재정부는 경제동향 9월 호를 통해 “최근 견조한 수출 호조세가 지속하는 가운데, 코로나 재확산에도 고용이 개선 흐름을 이어갔다.”면서도 “내수 관련 불확실성이 지속되며 대외적으로 주요국 백신 접종 확대에 따른 글로벌 회</p>\\n\\t\\t\\t\\t\\t\\t<div class=\"source_box\">\\n\\t\\t\\t\\t\\t\\t\\t<span class=\"date\">1주일 전</span>\\n\\t\\t\\t\\t\\t\\t\\t<span class=\"source\"><span class=\"source_inner\">BNP파리바 카디프생명</span></span>\\n\\t\\t\\t\\t\\t\\t</div>\\n\\t\\t\\t\\t\\t</a>\\n\\t\\t\\t\\t</li>\\n\\t\\t\\t\\n\\t\\t</ul>\\n\\t</div>\\n</div>\\n\\n\\n\\n\\n\\t<div class=\"btn_more_wrap\">\\n\\t\\t<button type=\"button\" class=\"btn_more\" data-clk-custom=\"tcc_fin.more\" data-next-page=\"2\"><i class=\"ico_more\"></i>새로운 글 더보기</button>\\n\\t</div>\\n\\n\\n\\t</div>\\n</div>\\n </div> </div> <div id=\"NM_INT_RIGHT\" class=\"column_right\"> <div class=\"column_fix_wrap\"> <div id=\"da_brand\"></div> \\n\\n\\n\\n\\n<div id=\"account\" class=\"sc_login\">\\n<h2 class=\"blind\">Sign in</h2>\\n<p class=\"login_msg\">Connect with people</p>\\n<a href=\"https://nid.naver.com/nidlogin.login?mode=form&url=https%3A%2F%2Fwww.naver.com\" class=\"link_login\" data-clk=\"log_off.login\"><i class=\"ico_naver\"><span class=\"blind\">NAVER</span></i>Sign in</a>\\n<div class=\"sub_area\">\\n<div class=\"look_box\">\\n<a href=\"https://nid.naver.com/user/help.nhn?todo=idinquiry\" class=\"link_look\" data-clk=\"log_off.searchid\">Forgot Username</a>\\n<a href=\"https://nid.naver.com/nidreminder.form\" class=\"link_look\" data-clk=\"log_off.searchpass\">Password</a>\\n</div>\\n<a href=\"https://nid.naver.com/nidregister.form?url=https%3A%2F%2Fwww.naver.com\" class=\"link_join\" data-clk=\"log_off.registration\">Sign up</a>\\n</div>\\n</div>\\n\\n\\n\\n <div id=\"timesquare\" class=\"sc_timesquare\"> <h2 class=\"blind\">타임스퀘어</h2> <div class=\"card_wrap\">\\n<div class=\"card_nav\">\\n<a href=\"#\" role=\"button\" class=\"btn_nav btn_prev\" data-clk=\"squ.pre\"><span class=\"blind\">이전</span></a>\\n<a href=\"#\" role=\"button\" class=\"btn_nav btn_next\" data-clk=\"squ.next\"><span class=\"blind\">다음</span></a>\\n</div>\\n<div id=\"NM_TS_ROLLING_WRAP\" style=\"height: 100%;\">\\n<div>\\n<a href=\"https://news.naver.com/main/home.nhn\" class=\"card_news\" data-clk=\"squ.line2\"><i class=\"news_badge type_flash\">신문1면</i><span class=\"news\">언론사 헤드라인 보기</span></a>\\n</div>\\n<div>\\n<a href=\"https://search.naver.com/search.naver?sm=top_hty&amp;fbm=0&amp;ie=utf8&amp;query=%EC%BD%94%EB%A1%9C%EB%82%9819\" class=\"card_news\" data-clk=\"squ.line3\"><i class=\"news_badge\">이슈</i><span class=\"news\">코로나바이러스감염증-19 현황</span></a>\\n</div>\\n<div>\\n<a href=\"https://finance.naver.com/sise/sise_index.nhn?code=KOSPI\" class=\"card_stock \" data-clk=\"squ.kospi\">\\n<strong class=\"stock_title\">증시</strong>\\n<div class=\"stock_box\">\\n<em class=\"name\">코스피</em>\\n<strong class=\"current\">2,987.69</strong>\\n<span class=\"rate rate_down\">31.49 -1.04%</span>\\n</div>\\n</a>\\n</div>\\n<div>\\n<a href=\"https://finance.naver.com/sise/sise_index.nhn?code=KOSDAQ\" class=\"card_stock \" data-clk=\"squ.kosdaq\">\\n<strong class=\"stock_title\">증시</strong>\\n<div class=\"stock_box\">\\n<em class=\"name\">코스닥</em>\\n<strong class=\"current\">968.72</strong>\\n<span class=\"rate rate_down\">14.48 -1.47%</span>\\n</div>\\n</a>\\n</div>\\n<div>\\n<a href=\"https://finance.naver.com/marketindex/exchangeDetail.nhn?marketindexCd=FX_USDKRW\" class=\"card_stock type_exchange\" data-clk=\"squ.usd\">\\n<strong class=\"stock_title\">환율</strong>\\n<div class=\"stock_box\">\\n<em class=\"name\">USD</em>\\n<strong class=\"current\">1,184.60</strong>\\n<span class=\"rate rate_down\">2.40 -0.20%</span>\\n</div>\\n</a>\\n</div>\\n</div>\\n</div> <!-- EMPTY --> </div>  <div id=\"veta_branding\"> <iframe id=\"da_iframe_rolling\" name=\"da_iframe_rolling\" data-iframe-src=\"https://siape.veta.naver.com/fxshow?su=SU10601&amp;nrefreshx=0\" data-veta-preview=\"main_rolling\" title=\"광고\" width=\"350\" height=\"200\" marginheight=\"0\" marginwidth=\"0\" scrolling=\"no\" frameborder=\"0\"></iframe> <span class=\"veta_bd_t\"></span> <span class=\"veta_bd_b\"></span> <span class=\"veta_bd_l\"></span> <span class=\"veta_bd_r\"></span> </div>   <div id=\"shopcast\" class=\"sc_shopcast\"> <iframe id=\"shopcast_iframe\" data-iframe-src=\"https://castbox.shopping.naver.com/shoppingboxnew/main.nhn\" title=\"쇼핑캐스트\" width=\"350\" height=\"1539\" marginheight=\"0\" marginwidth=\"0\" scrolling=\"no\" frameborder=\"0\"></iframe> </div> </div> </div> <a id=\"NM_scroll_top_btn\" href=\"#wrap\" class=\"content_top\"><span class=\"blind\">TOP</span></a> <button id=\"NM_darkmode_btn\" type=\"button\" role=\"button\" class=\"btn_theme\" aria-pressed=\"false\"  > <span class=\"blind\">라이트 모드로 보기</span> </button> </div> <div id=\"footer\" role=\"contentinfo\"> <div class=\"footer_inner\"> <div class=\"banner_area\"> <div class=\"da_box_wrap\">    <div id=\"da_public_left\"> <iframe id=\"da_iframe_bottom_left\" data-iframe-src=\"https://siape.veta.naver.com/fxshow?su=SU10641&amp;nrefreshx=0\" title=\"광고\" width=\"350\" height=\"86\" scrolling=\"no\" frameborder=\"0\"></iframe> </div> <div id=\"da_public_right\"> <iframe id=\"da_iframe_bottom_right\" data-iframe-src=\"https://siape.veta.naver.com/fxshow?su=SU10642&amp;nrefreshx=0\" title=\"광고\" width=\"350\" height=\"86\" scrolling=\"no\" frameborder=\"0\"></iframe> </div> <div id=\"veta_time2\"> <iframe id=\"da_iframe_below\" name=\"da_iframe_below\" data-iframe-src=\"https://siape.veta.naver.com/fxshow?su=SU10640&amp;nrefreshx=0\" data-veta-preview=\"main_below\" width=\"350\" height=\"86\" scrolling=\"no\" frameborder=\"0\" title=\"광고\"> </iframe> </div> </div> </div> <div class=\"notice_area\" data-clk-prefix=\"ntc\"> <div class=\"notice_box\"> <h3 class=\"title\"><a href=\"https://www.naver.com/NOTICE\">공지사항</a> </h3> <a href=\"https://www.naver.com/NOTICE/read/1100001014/10000000000030672076\" class=\"notice_msg\" data-clk=\"notice\" >네이버 &lsquo;개인정보 처리방침&rsquo; 변경에 대한 안내 말씀드립니다.</a> </div> <a href=\"more.html\" class=\"link_all\" data-clk=\"svcmap\">서비스 전체보기</a> </div> <div class=\"aside_area\"> <div class=\"partner_box_wrap\"> <div class=\"partner_box\" data-clk-prefix=\"crt\"> <h3 class=\"title\">Creators</h3> <a href=\"https://www.navercorp.com/service/creators\" class=\"link_partner\" data-clk=\"creator\">크리에이터</a> <a href=\"https://www.navercorp.com/service/business\" class=\"link_partner\" data-clk=\"smbusiness\">스몰비즈니스</a> </div> <div class=\"partner_box\" data-clk-prefix=\"crt\"> <h3 class=\"title\">Partners</h3> <a href=\"https://campaign.naver.com/smefullcare/online/\" class=\"link_partner\" data-clk=\"sme\">SME 풀케어 시스템</a> <a href=\"https://business.naver.com/service.html\" class=\"link_partner\" data-clk=\"service\">비즈니스 · 광고</a> <a href=\"https://sell.storefarm.naver.com/#/home/about\" class=\"link_partner\" data-clk=\"store\">스토어 개설</a> <a href=\"https://smartplace.naver.com\" class=\"link_partner\" data-clk=\"place\">지역업체 등록</a> <a href=\"https://expert.naver.com/expert/introduction?tab=guide#join\" class=\"link_partner\" data-clk=\"expert\">엑스퍼트 등록</a> </div> <div class=\"partner_box\" data-clk-prefix=\"crt\"> <h3 class=\"title\">Developers</h3> <a href=\"https://developers.naver.com\" class=\"link_partner\" data-clk=\"center\">네이버 개발자 센터</a> <a href=\"https://developers.naver.com/docs/common/openapiguide/#/apilist.md\" class=\"link_partner\" data-clk=\"openapi\">오픈 API</a> <a href=\"https://naver.github.io\" class=\"link_partner\" data-clk=\"opensource\">오픈소스</a> <a href=\"https://d2.naver.com\" class=\"link_partner\" data-clk=\"d2\">네이버 D2</a> <a href=\"http://d2startup.com\" class=\"link_partner\" data-clk=\"naverD2SF\">네이버 D2SF</a> <a href=\"https://www.naverlabs.com\" class=\"link_partner\" data-clk=\"labs\">네이버 랩스</a> </div> </div> <div class=\"service_box_wrap\"> <div class=\"service_box\" data-clk-prefix=\"wbd\"> <a href=\"http://whale.naver.com/\" class=\"service_logo\" data-clk=\"bt\"> <img src=\"data:image/png;base64,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\" alt=\"웨일\" width=\"48\" height=\"48\"> </a> <div class=\"service_info\"> <strong class=\"title\">웨일 브라우저</strong> <a href=\"http://whale.naver.com/\" class=\"dsc\" data-clk=\"bt\">다운받기</a> </div> </div> <div class=\"service_box\" data-clk-prefix=\"prj\"> <a href=\"https://search.naver.com/search.naver?where=nexearch&sm=top_hty&fbm=1&ie=utf8&query=%ED%94%84%EB%A1%9C%EC%A0%9D%ED%8A%B8%EA%BD%83\" class=\"service_logo\" data-clk=\"link\"> <img src=\"data:image/png;base64,iVBORw0KGgoAAAANSUhEUgAAAF4AAABkCAMAAAA47XeXAAAAgVBMVEUAAADN5PdGm99Gm99Gm99Gm99Gm95Gm99Gm99Gm99Gm99Gm99Gm99Gm99Gm99Gm99Gm99Gm99Gm99Gm99Gm99Gm99Gm99Gmt9Gm99Gm99Gm99Gm95Gm99Gm99Gm95Gm99Hm99Gm99Gm9/////3+/5cp+LO5PfR5/fO5fdcp+P7/f/zv5GhAAAAInRSTlMA/v7vH9u5qJNgGwb6l8a9uqF9WFUyLxYMCtbVmLCwe4OCj8gzEgAAA0NJREFUaN7NmmFz4iAQhkkwMTHGWrWtWvWuq8mF+/8/8Ey2nb0OhSwQZnw+MHQ7pbjAy2s2gsuiLPJMLpcyy4tyISZltnmHbxw3MzEVr/MUNNL5q5iCt2ccXCN9fhPB7CQYkTsRRlWDlboSAexzGCHfC28OKxhldfDOzBMwePLNTw0sauHFFphshQcLCUwkaQRfXYBPSkrEUBdv3jezcXXhw1ciUhc+fCUidQlH7qzqEk5d2dQlnHxvU5dwVgdXdSGclaiGyamt6hLO1qIu4ZASzcFE092SBprk1jagulvXAAw/qb5N7m176xQYmOPoLymYaK/X65/PNhlagE6LGUhfRM8FjNzuf/73//bHmInzoJEpjMyeWpp9RzGz/PT6+QvMNO2Q+67PPeYZY5h7jDVg5OM+/BGikd13JfDAj/Ad1WLMyEyUwKPT00ypN1GKAljQJtFiFgqRe86eYhbWIvPPPR5d+9pKiIgUwKNJdHXBvW9jyRye1EWLWYfnJcd141Byspizz7gbUyWDuqiW0v15D9g3ZgF86JwyKUgUHJaATUmS5rsEdkkTZLjZS8Alw+skFr8Nl6H6uosShaKOp3Zo+/jgFTDe+wcSfv0yFGfQaLX7tDO0reXOPRuMCG4Q11Y3IiYblWgzS7R+h31qdRtlGB7zikeUckz+AB3a8FuMqD7Cd2nhUHLOEIkLubQIkEuLxIdwEwUy3HyXxsbgPMJcGuGox+TSIugxuTQ+KHIaAS5N92eIIuMT5tJoPfHy5q9yKoXLelLuKRri0mjMQdhwTPw6Sv8pzKXhFyhNilEwkSCXRrnAnaPnJdyl0UrqXircpeHVglnv+62K4NJo3lFcGmWd79KO7OQoXAE8XNO6tIQGxj7fpfHTwk8RubQLWEGvgTNGKzj01fixunCMCCYcvSSlaFwUyKVx86J3bczpUR3zimq1LqdosAUbJF54ar+uk5Gju436mPTk8ZAXFdO93HRYTesUVgf3B+y0XdxLfdVputmfKp/iBtNjyl3c0kzUwtJIWewIPvAL9LOyWLsV9WAps3VRzh6hJBm3oOqsRKfHLGYzS/GP+iLBuBKdqkd+iWPkFZTHf4Em4us/uhI5qss/6zK5u8+AXpwAAAAASUVORK5CYII=\" alt=\"꽃\" width=\"47\" height=\"50\"> </a> <div class=\"service_info\"> <strong class=\"title\">프로젝트 꽃</strong> <a href=\"https://search.naver.com/search.naver?where=nexearch&sm=top_hty&fbm=1&ie=utf8&query=%ED%94%84%EB%A1%9C%EC%A0%9D%ED%8A%B8%EA%BD%83\" class=\"dsc\" data-clk=\"link\">바로가기</a> </div> </div> </div> </div> <div class=\"corp_area\" data-clk-prefix=\"plc\"> <h3 class=\"blind\">네이버 정책 및 약관</h3> <ul class=\"list_corp\"> <li class=\"corp_item\"><a href=\"https://www.navercorp.com\" data-clk=\"intronhn\">회사소개</a></li> <li class=\"corp_item\"><a href=\"https://recruit.navercorp.com/naver/recruitMain\" data-clk=\"recruit\">인재채용</a></li> <li class=\"corp_item\"><a href=\"https://www.navercorp.com/naver/proposalGuide\" data-clk=\"contact\">제휴제안</a></li> <li class=\"corp_item\"><a href=\"/policy/service.html\" data-clk=\"service\">이용약관</a></li> <li class=\"corp_item\"><a href=\"/policy/privacy.html\" data-clk=\"privacy\"><strong>개인정보처리방침</strong></a></li> <li class=\"corp_item\"><a href=\"/policy/youthpolicy.html\" data-clk=\"youth\">청소년보호정책</a></li> <li class=\"corp_item\"><a href=\"/policy/spamcheck.html\" data-clk=\"policy\">네이버 정책</a></li> <li class=\"corp_item\"><a href=\"https://help.naver.com/\" data-clk=\"helpcenter\">고객센터</a></li> </ul> <address class=\"addr\"><a href=\"https://www.navercorp.com\" target=\"_blank\" data-clk=\"nhn\">ⓒ NAVER Corp.</a></address> </div> </div> </div> </div> <div id=\"adscript\" style=\"display:none\"></div> </body> </html>\\n'"
      ]
     },
     "execution_count": 7,
     "metadata": {},
     "output_type": "execute_result"
    }
   ],
   "source": [
    "import requests\n",
    "resp = requests.get('http://naver.com')\n",
    "resp.text"
   ]
  },
  {
   "cell_type": "code",
   "execution_count": 8,
   "id": "d200a962",
   "metadata": {},
   "outputs": [],
   "source": [
    "import math\n"
   ]
  },
  {
   "cell_type": "code",
   "execution_count": 9,
   "id": "cffb15f6",
   "metadata": {},
   "outputs": [
    {
     "data": {
      "text/plain": [
       "3.141592653589793"
      ]
     },
     "execution_count": 9,
     "metadata": {},
     "output_type": "execute_result"
    }
   ],
   "source": [
    "math.pi"
   ]
  },
  {
   "cell_type": "code",
   "execution_count": 15,
   "id": "2c532b54",
   "metadata": {},
   "outputs": [
    {
     "data": {
      "text/plain": [
       "6.123233995736766e-17"
      ]
     },
     "execution_count": 15,
     "metadata": {},
     "output_type": "execute_result"
    }
   ],
   "source": [
    "math.cos(math.pi/2)"
   ]
  },
  {
   "cell_type": "markdown",
   "id": "08b525f8",
   "metadata": {},
   "source": [
    "#### from import\n",
    " - 해당 모듈에서 특정한 타입만 import"
   ]
  },
  {
   "cell_type": "code",
   "execution_count": 18,
   "id": "9b7406b2",
   "metadata": {},
   "outputs": [],
   "source": [
    "# from math import pi\n",
    "# from math import cos"
   ]
  },
  {
   "cell_type": "code",
   "execution_count": 17,
   "id": "2323783c",
   "metadata": {},
   "outputs": [
    {
     "data": {
      "text/plain": [
       "3.141592653589793"
      ]
     },
     "execution_count": 17,
     "metadata": {},
     "output_type": "execute_result"
    }
   ],
   "source": [
    "pi"
   ]
  },
  {
   "cell_type": "markdown",
   "id": "7354e893",
   "metadata": {},
   "source": [
    "#### \\*import\n",
    " - 해당 모듈내에 정의된 모든 것을 import"
   ]
  },
  {
   "cell_type": "markdown",
   "id": "c3787bab",
   "metadata": {},
   "source": [
    "####  as\n",
    " - import 시, alias 지정가능"
   ]
  },
  {
   "cell_type": "markdown",
   "id": "d3a42568",
   "metadata": {},
   "source": [
    " #### Class inheritance (상속)\n",
    "  - 기존에 정의해둔 클래스의 기능을 그대로 물려받을 수 있다.\n",
    "  - 코드 재사용 가능\n",
    "  - 의미적으로 is-a 관계를 갖는다"
   ]
  },
  {
   "cell_type": "code",
   "execution_count": 11,
   "id": "9fe1183b",
   "metadata": {},
   "outputs": [],
   "source": [
    "class Person:\n",
    "    def __init__(self, name, age):\n",
    "        self.name = name\n",
    "        self.age = age\n",
    "        \n",
    "    def eat(self,food):\n",
    "        print('{}은 {}를 먹습니다'. format(self.name, food))\n",
    "    \n",
    "    def sleep(self, minute):\n",
    "        print('{}은 {}분 동안 잡니다.'. format(self.name, minute))\n",
    "    \n",
    "    def work(self, minute):\n",
    "        print('{}은 {}분 동안 일합니다'. format(self.name, minute))\n",
    "\n",
    "# 상속 받으려면 아래처럼 하면 됨\n",
    "class Student(Person):\n",
    "    def __init__(self, name, age):\n",
    "        self.name = name\n",
    "        self.age = age\n",
    "\n",
    "class Employee(Person):\n",
    "    def __init__(self, name, age):\n",
    "        self.name = name\n",
    "        self.age = age"
   ]
  },
  {
   "cell_type": "code",
   "execution_count": 10,
   "id": "0d2c5e5d",
   "metadata": {},
   "outputs": [
    {
     "name": "stdout",
     "output_type": "stream",
     "text": [
      "Bob은 BBQ를 먹습니다\n",
      "Bob은 30분 동안 잡니다.\n",
      "Bob은 60분 동안 일합니다\n"
     ]
    }
   ],
   "source": [
    "bob = Person('Bob', 25)\n",
    "bob.eat('BBQ')\n",
    "bob.sleep(30)\n",
    "bob.work(60)"
   ]
  },
  {
   "cell_type": "code",
   "execution_count": 13,
   "id": "f40231d9",
   "metadata": {},
   "outputs": [],
   "source": [
    "mike = Student('mike',30)"
   ]
  },
  {
   "cell_type": "markdown",
   "id": "cda570b2",
   "metadata": {},
   "source": [
    "#### method override\n",
    " - 부모 클래스의 method를 재정의 한다."
   ]
  },
  {
   "cell_type": "code",
   "execution_count": 14,
   "id": "41bb1a29",
   "metadata": {},
   "outputs": [],
   "source": [
    "class Person:\n",
    "    def __init__(self, name, age):\n",
    "        self.name = name\n",
    "        self.age = age\n",
    "        \n",
    "    def eat(self,food):\n",
    "        print('{}은 {}를 먹습니다'. format(self.name, food))\n",
    "    \n",
    "    def sleep(self, minute):\n",
    "        print('{}은 {}분 동안 잡니다.'. format(self.name, minute))\n",
    "    \n",
    "    def work(self, minute):\n",
    "        print('{}은 {}분 동안 일합니다'. format(self.name, minute))\n",
    "\n",
    "# 상속 받으려면 아래처럼 하면 됨\n",
    "class Student(Person):\n",
    "    def __init__(self, name, age):\n",
    "        self.name = name\n",
    "        self.age = age\n",
    "        \n",
    "    def work(self,minute):\n",
    "        print('{}은 {}분 동안 공부합니다'. format(self.name, minute))\n",
    "\n",
    "class Employee(Person):\n",
    "    def __init__(self, name, age):\n",
    "        self.name = name\n",
    "        self.age = age"
   ]
  },
  {
   "cell_type": "code",
   "execution_count": 15,
   "id": "983168e3",
   "metadata": {},
   "outputs": [],
   "source": [
    "mike = Student('mike',30)"
   ]
  },
  {
   "cell_type": "code",
   "execution_count": 16,
   "id": "b5981052",
   "metadata": {},
   "outputs": [
    {
     "name": "stdout",
     "output_type": "stream",
     "text": [
      "mike은 30분 동안 공부합니다\n"
     ]
    }
   ],
   "source": [
    "mike.work(30)"
   ]
  },
  {
   "cell_type": "markdown",
   "id": "d0ae78ab",
   "metadata": {},
   "source": [
    "####  super\n",
    "- 하위 클래스에서 부모클래스의 method를 호출할 때 사용"
   ]
  },
  {
   "cell_type": "code",
   "execution_count": 18,
   "id": "9a94f2cc",
   "metadata": {},
   "outputs": [],
   "source": [
    "class Person:\n",
    "    def __init__(self, name, age):\n",
    "        self.name = name\n",
    "        self.age = age\n",
    "        \n",
    "    def eat(self,food):\n",
    "        print('{}은 {}를 먹습니다'. format(self.name, food))\n",
    "    \n",
    "    def sleep(self, minute):\n",
    "        print('{}은 {}분 동안 잡니다.'. format(self.name, minute))\n",
    "    \n",
    "    def work(self, minute):\n",
    "        print('{}은 {}분 동안 일할 준비를 합니다'. format(self.name, minute))\n",
    "\n",
    "# 상속 받으려면 아래처럼 하면 됨\n",
    "class Student(Person):\n",
    "    def __init__(self, name, age):\n",
    "        self.name = name\n",
    "        self.age = age\n",
    "        \n",
    "    def work(self,minute):\n",
    "        super().work(minute)\n",
    "        print('{}은 {}분 동안 공부합니다'. format(self.name, minute))\n",
    "\n",
    "class Employee(Person):\n",
    "    def __init__(self, name, age):\n",
    "        self.name = name\n",
    "        self.age = age"
   ]
  },
  {
   "cell_type": "code",
   "execution_count": 21,
   "id": "1bea3069",
   "metadata": {},
   "outputs": [
    {
     "name": "stdout",
     "output_type": "stream",
     "text": [
      "mike은 30분 동안 일할 준비를 합니다\n",
      "mike은 30분 동안 공부합니다\n"
     ]
    }
   ],
   "source": [
    "# super 로 불러왔기 떄문에 두 줄을 출력함\n",
    "mike = Student('mike',30)\n",
    "mike.work(30)"
   ]
  },
  {
   "cell_type": "markdown",
   "id": "02afb29e",
   "metadata": {},
   "source": [
    "####  special method\n",
    "- __로 시작 __로 끝나는 특수 함수\n",
    "- 해당 메서드를 구현하면, 커스텀 객체에 여러가지 파이썬 내장 함수나 연산자를 적용 가능\n",
    "- 오버라이딩 가능한 함수 목록은 아래 링크에서 참조"
   ]
  },
  {
   "cell_type": "code",
   "execution_count": 51,
   "id": "e3eb33ba",
   "metadata": {},
   "outputs": [
    {
     "name": "stdout",
     "output_type": "stream",
     "text": [
      "(3, 4)\n",
      "(5, 2)\n",
      "(3, 4)\n",
      "(8, 6)\n",
      "(11, 10)\n",
      "(-5, -2)\n",
      "(9, 12)\n",
      "25\n",
      "29\n",
      "100\n",
      "2\n"
     ]
    }
   ],
   "source": [
    "# Point\n",
    "# 2차원 좌표평명 각 점 (x,y)\n",
    "# 연산\n",
    "# 두 점의 덧셈, 뺄셈 (1,2) + (3,4) = (5,6)\n",
    "# 한 점 과 숫자의 곱셈 (1,2) * 3 = (3,6)\n",
    "# 원점에서 점까지의 거리\n",
    "# x, y값 가져오기\n",
    "# 출력하기\n",
    "\n",
    "class Point:\n",
    "    def __init__(self, x,y ):\n",
    "        self.x = x\n",
    "        self.y = y\n",
    "        \n",
    "    def print_pt(self):\n",
    "        print('({}, {})'.format(self.x , self.y))\n",
    "        \n",
    "    #print_pt 함수를 special method로 변환\n",
    "    # print 함수로 class 를 출력할 수 있도록 변환\n",
    "    def __str__ (self):\n",
    "        return '({}, {})'.format(self.x, self.y)\n",
    "    \n",
    "    def add(self,pt):\n",
    "        new_x = self.x + pt.x\n",
    "        new_y = self.y + pt.y\n",
    "        return Point(new_x, new_y)\n",
    "    \n",
    "    #add 함수를 special method로 변환\n",
    "    #파이썬 내장함수인 add를 사용할 수 있게끔 함 class 를 출력할 수 있도록 변환\n",
    "    def __add__(self, pt):\n",
    "        new_x = self.x + pt.x\n",
    "        new_y = self.y + pt.y\n",
    "        return Point(new_x, new_y)\n",
    "    \n",
    "    def __sub__(self, pt):\n",
    "        new_x = self.x - pt.x\n",
    "        new_y = self.y - pt.y\n",
    "        return Point(new_x, new_y)\n",
    "    \n",
    "    def multiply(self, factor):\n",
    "        return Point(self.x*factor, self.y*factor)\n",
    "    \n",
    "    def __mul__(self, factor):\n",
    "        return Point(self.x*factor, self.y*factor)\n",
    "    \n",
    "    def length(self):\n",
    "        return (self.x**2 + self.y**2)\n",
    "    \n",
    "    def __len__(self):\n",
    "        return (self.x**2 + self.y**2)\n",
    "    \n",
    "    def get_x(self):\n",
    "        return self.x\n",
    "    def get_y(self):\n",
    "        return self.y\n",
    "    \n",
    "    def __getitem__(self,index):\n",
    "        if index == 0:\n",
    "            return self.x\n",
    "        elif index==1:\n",
    "            return self.y\n",
    "        else:\n",
    "            print('error')\n",
    "                \n",
    "        \n",
    "p1 = Point(3,4)\n",
    "p2 = Point(5,2)\n",
    "p3 = p1.add(p2)\n",
    "p4 = p1.multiply(3)\n",
    "p1_length = p1.length()\n",
    "p2_length = p2.length()\n",
    "len(p3)\n",
    "\n",
    "p1.print_pt()\n",
    "p2.print_pt()\n",
    "\n",
    "print(p1)\n",
    "print(p3)\n",
    "print(p1+p3)\n",
    "print(p1-p3)\n",
    "print(p4)\n",
    "print(p1_length)\n",
    "print(p2_length)\n",
    "print(len(p3))\n",
    "print(p2[1])"
   ]
  },
  {
   "cell_type": "markdown",
   "id": "edfac2e8",
   "metadata": {},
   "source": [
    "####  연습문제\n",
    "- 복소수 클래스 정의\n",
    "- 덧셈, 뺄셈, 곱셈 연산자 지원\n",
    "- 길이 (복소수의 크기) 지원\n",
    "- 복소수 출력 \n",
    "- 비교연산 ==, != 지원\n",
    "- =, <=, < , > 연산 지원\n",
    "- 절대값 지원\n"
   ]
  },
  {
   "cell_type": "code",
   "execution_count": 102,
   "id": "aec8b7f4",
   "metadata": {},
   "outputs": [],
   "source": [
    "class Complex:\n",
    "    def __init__(self,x,y):\n",
    "        # 실수부는 x\n",
    "        self.x = x\n",
    "        # 허수부는 y\n",
    "        self.y = y\n",
    "        \n",
    "        \n",
    "    # 첫번째 답안은 Not special Method\n",
    "    def print_cp(self):\n",
    "        if self.x !=0:\n",
    "            if self.y >0:\n",
    "                print('{}+{}i'.format(self.x,self.y))\n",
    "            else:\n",
    "                print('{}{}i'.format(self.x,self.y))\n",
    "        else:\n",
    "            if self.y >0:\n",
    "                print('{}i'.format(self.y))\n",
    "            else:\n",
    "                print('{}i'.format(self.y))\n",
    "\n",
    "    \n",
    "    def add(self,p2):\n",
    "        new_x = self.x + p2.x\n",
    "        new_y = self.y + p2.y\n",
    "        return Complex(new_x, new_y)\n",
    "    \n",
    "    def sub(self,p2):\n",
    "        new_x = self.x - p2.x\n",
    "        new_y = self.y - p2.y\n",
    "        return Complex(new_x, new_y)\n",
    "    \n",
    "    # 복소수 x 복소수\n",
    "    # 복소수 x 정수  둘다 구현해줘야함\n",
    "    \n",
    "    def mul(self,p2):\n",
    "        new_x = self.x*p2.x - self.y*p2.y\n",
    "        new_y = self.x*p2.y + p2.y*self.y\n",
    "        return Complex(new_x, new_y)\n",
    "    \n",
    "    def length(self):\n",
    "        return self.x**2 - (self.y * (-self.y))"
   ]
  },
  {
   "cell_type": "code",
   "execution_count": 90,
   "id": "de771bb3",
   "metadata": {},
   "outputs": [
    {
     "name": "stdout",
     "output_type": "stream",
     "text": [
      "2+5i\n",
      "2-4i\n",
      "4+1i\n",
      "9i\n",
      "3+7i\n",
      "29\n"
     ]
    }
   ],
   "source": [
    "cp1 = Complex(2,5)\n",
    "cp2 = Complex(2,-4)\n",
    "cp1.print_cp()\n",
    "cp2.print_cp()\n",
    "\n",
    "cp3 = cp1.add(cp2)\n",
    "cp3.print_cp()\n",
    "\n",
    "cp4 = cp1.sub(cp2)\n",
    "cp4.print_cp()\n",
    "\n",
    "cp5 = cp1.mul(cp3)\n",
    "cp5.print_cp()\n",
    "\n",
    "cp1_length = cp1.length()\n",
    "print(cp1_length)"
   ]
  },
  {
   "cell_type": "code",
   "execution_count": 108,
   "id": "f61dbf01",
   "metadata": {},
   "outputs": [],
   "source": [
    "import math\n",
    "class Complex2:\n",
    "    def __init__(self,x,y):\n",
    "        # 실수부는 x\n",
    "        self.x = x\n",
    "        # 허수부는 y\n",
    "        self.y = y\n",
    "        \n",
    "        \n",
    "    # 두번째 답은은 special Method\n",
    "    # special method는 return 값을 가져야함\n",
    "    def __str__(self):\n",
    "        if self.x !=0:\n",
    "            if self.y >0:\n",
    "                return('{}+{}i'.format(self.x,self.y))\n",
    "            else:\n",
    "                return('{}{}i'.format(self.x,self.y))\n",
    "        else:\n",
    "            if self.y >0:\n",
    "                return('{}i'.format(self.y))\n",
    "            else:\n",
    "                return('{}i'.format(z,self.y))\n",
    "\n",
    "    \n",
    "    def __add__(self,p2):\n",
    "        new_x = self.x + p2.x\n",
    "        new_y = self.y + p2.y\n",
    "        return Complex2(new_x, new_y)\n",
    "    \n",
    "    def __sub__(self,p2):\n",
    "        new_x = self.x - p2.x\n",
    "        new_y = self.y - p2.y\n",
    "        return Complex2(new_x, new_y)\n",
    "    \n",
    "    def __mul__(self,p2):\n",
    "        new_x = self.x*p2.x - self.y*p2.y\n",
    "        new_y = self.x*p2.y + p2.y*self.y\n",
    "        return Complex2(new_x, new_y)\n",
    "    \n",
    "    def __len__(self):\n",
    "        return self.x**2 - (self.y * (-self.y))\n",
    "    \n",
    "    # spcial method (비교)\n",
    "    def __eq__(self, p2):\n",
    "        return self.x == p2.x and self.y == p2.y\n",
    "    \n",
    "    # Not equal special method\n",
    "    def __ne__(self, p2):\n",
    "        return not( self.x == p2.x and self.y == p2.y)\n",
    "    \n",
    "    # absolute value\n",
    "    def __abs__(self):\n",
    "        return math.sqrt(self.real**2 + self.img**2)\n",
    "        "
   ]
  },
  {
   "cell_type": "code",
   "execution_count": 107,
   "id": "e79517e4",
   "metadata": {},
   "outputs": [
    {
     "name": "stdout",
     "output_type": "stream",
     "text": [
      "2+5i\n",
      "2-4i\n",
      "4+1i\n",
      "2+5i\n",
      "24-28i\n",
      "17\n"
     ]
    }
   ],
   "source": [
    "cp1 = Complex2(2,5)\n",
    "cp2 = Complex2(2,-4)\n",
    "print(cp1)\n",
    "print(cp2)\n",
    "\n",
    "cp3 = cp1+cp2\n",
    "print(cp3)\n",
    "\n",
    "cp4 = cp3 - cp2\n",
    "print(cp4)\n",
    "\n",
    "cp5 = cp4*cp2\n",
    "print(cp5)\n",
    "\n",
    "print(len(cp3))"
   ]
  },
  {
   "cell_type": "code",
   "execution_count": null,
   "id": "eb0fec48",
   "metadata": {},
   "outputs": [],
   "source": []
  }
 ],
 "metadata": {
  "kernelspec": {
   "display_name": "Python 3",
   "language": "python",
   "name": "python3"
  },
  "language_info": {
   "codemirror_mode": {
    "name": "ipython",
    "version": 3
   },
   "file_extension": ".py",
   "mimetype": "text/x-python",
   "name": "python",
   "nbconvert_exporter": "python",
   "pygments_lexer": "ipython3",
   "version": "3.8.8"
  }
 },
 "nbformat": 4,
 "nbformat_minor": 5
}
